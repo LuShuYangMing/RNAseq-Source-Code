{
 "cells": [
  {
   "cell_type": "markdown",
   "metadata": {},
   "source": [
    "# Prepare for differential gene analysis"
   ]
  },
  {
   "cell_type": "markdown",
   "metadata": {},
   "source": [
    "### 1.Input the feature count results"
   ]
  },
  {
   "cell_type": "code",
   "execution_count": 1,
   "metadata": {
    "collapsed": false
   },
   "outputs": [],
   "source": [
    "ALLdata <- \"/data2/luj/TB-SD_NS/01.cleandata/featureCount_output.final//count.txt\"\n",
    "# Import gene counts table\n",
    "# - skip first row (general command info)\n",
    "# - make row names the gene identifiers\n",
    "ALLdata <- read.table(ALLdata, header = TRUE, row.names =1, sep=\"\\t\" ,check.names = F)\n",
    "\n",
    "colnames(ALLdata) <- basename(colnames(ALLdata))\n",
    "colnames(ALLdata) <- gsub(\"Aligned.sortedByCoord.out.bam\", \"\", colnames(ALLdata), fixed = T)\n",
    "# Remove length/char columns\n",
    "countdata <- ALLdata[ ,c(-1:-5)]"
   ]
  },
  {
   "cell_type": "code",
   "execution_count": 2,
   "metadata": {
    "collapsed": false
   },
   "outputs": [],
   "source": [
    "### Read the RPKM table\n",
    "RPKM <- \"/data2/luj/TB-SD_NS/01.cleandata/featureCount_output.final//count2tpm.txt\"\n",
    "RPKM_data <- read.table(RPKM, header = TRUE, row.names =1, sep=\"\\t\" ,check.names = F)\n",
    "colnames(RPKM_data) <- basename(colnames(RPKM_data))\n",
    "colnames(RPKM_data) <- gsub(\"Aligned.sortedByCoord.out.bam\", \"\", colnames(RPKM_data), fixed = T)\n",
    "# Remove length/char columns\n",
    "rpkmdata <- RPKM_data[ ,c(-1:-5)]"
   ]
  },
  {
   "cell_type": "markdown",
   "metadata": {},
   "source": [
    "### 2.Input the patients' information"
   ]
  },
  {
   "cell_type": "code",
   "execution_count": 3,
   "metadata": {
    "collapsed": false
   },
   "outputs": [],
   "source": [
    "# Import metadata file\n",
    "# - make row names the matching sampleID's from the countdata\n",
    "metadata <- \"/data2/luj/TB-SD_NS/01.cleandata/TB-SD-CA-info.txt\"\n",
    "metadata <- read.delim(metadata, row.names = 1)\n",
    "\n",
    "# Add sampleID's to the mapping file\n",
    "metadata$sampleid <- row.names(metadata)\n",
    "\n",
    "# Reorder sampleID's to match featureCounts column order. \n",
    "metadata <- na.omit(metadata[match(colnames(countdata), metadata$sampleid),])\n",
    "\n",
    "countdata <- countdata[,metadata$sampleid]"
   ]
  },
  {
   "cell_type": "markdown",
   "metadata": {},
   "source": [
    "# Differential gene expression analysis"
   ]
  },
  {
   "cell_type": "code",
   "execution_count": 4,
   "metadata": {
    "collapsed": false
   },
   "outputs": [
    {
     "name": "stderr",
     "output_type": "stream",
     "text": [
      "Loading required package: BiocGenerics\n",
      "Loading required package: parallel\n",
      "\n",
      "Attaching package: ‘BiocGenerics’\n",
      "\n",
      "The following objects are masked from ‘package:parallel’:\n",
      "\n",
      "    clusterApply, clusterApplyLB, clusterCall, clusterEvalQ,\n",
      "    clusterExport, clusterMap, parApply, parCapply, parLapply,\n",
      "    parLapplyLB, parRapply, parSapply, parSapplyLB\n",
      "\n",
      "The following objects are masked from ‘package:stats’:\n",
      "\n",
      "    IQR, mad, sd, var, xtabs\n",
      "\n",
      "The following objects are masked from ‘package:base’:\n",
      "\n",
      "    anyDuplicated, append, as.data.frame, cbind, colMeans, colnames,\n",
      "    colSums, do.call, duplicated, eval, evalq, Filter, Find, get, grep,\n",
      "    grepl, intersect, is.unsorted, lapply, lengths, Map, mapply, match,\n",
      "    mget, order, paste, pmax, pmax.int, pmin, pmin.int, Position, rank,\n",
      "    rbind, Reduce, rowMeans, rownames, rowSums, sapply, setdiff, sort,\n",
      "    table, tapply, union, unique, unsplit, which, which.max, which.min\n",
      "\n",
      "snapshotDate(): 2017-10-27\n"
     ]
    },
    {
     "data": {
      "text/plain": [
       "AnnotationHub with 4 records\n",
       "# snapshotDate(): 2017-10-27 \n",
       "# $dataprovider: Ensembl\n",
       "# $species: Homo sapiens\n",
       "# $rdataclass: EnsDb\n",
       "# additional mcols(): taxonomyid, genome, description,\n",
       "#   coordinate_1_based, maintainer, rdatadateadded, preparerclass, tags,\n",
       "#   rdatapath, sourceurl, sourcetype \n",
       "# retrieve records with, e.g., 'object[[\"AH53211\"]]' \n",
       "\n",
       "            title                            \n",
       "  AH53211 | Ensembl 87 EnsDb for Homo Sapiens\n",
       "  AH53715 | Ensembl 88 EnsDb for Homo Sapiens\n",
       "  AH56681 | Ensembl 89 EnsDb for Homo Sapiens\n",
       "  AH57757 | Ensembl 90 EnsDb for Homo Sapiens"
      ]
     },
     "metadata": {},
     "output_type": "display_data"
    },
    {
     "name": "stderr",
     "output_type": "stream",
     "text": [
      "require(“ensembldb”)\n",
      "loading from cache '/home/luj//.AnnotationHub/64495'\n"
     ]
    }
   ],
   "source": [
    "## Load gene Anotation information from Database\n",
    "library(AnnotationHub)\n",
    "hub <- AnnotationHub()\n",
    "query(hub, c(\"EnsDb\", \"Homo sapiens\"))\n",
    "ensdb <- hub[[\"AH57757\"]]"
   ]
  },
  {
   "cell_type": "markdown",
   "metadata": {},
   "source": [
    "## 1. Make DESeq2 object from counts and patients' information"
   ]
  },
  {
   "cell_type": "code",
   "execution_count": 5,
   "metadata": {
    "collapsed": false,
    "scrolled": true
   },
   "outputs": [
    {
     "name": "stderr",
     "output_type": "stream",
     "text": [
      "it appears that the last variable in the design formula, 'Group',\n",
      "  has a factor level, 'Control', which is not the reference level. we recommend\n",
      "  to use factor(...,levels=...) or relevel() to set this as the reference level\n",
      "  before proceeding. for more information, please see the 'Note on factor levels'\n",
      "  in vignette('DESeq2').\n"
     ]
    }
   ],
   "source": [
    "suppressMessages(library(DESeq2))\n",
    "suppressMessages(library(edgeR))\n",
    "# using counts per million (CPM) for filtering out genes in at least one sample above minCounts (default).\n",
    "# CPM matrix\n",
    "# N samples > minCounts\n",
    "minCounts <- 0.5\n",
    "NminSamples <- 2\n",
    "x <- countdata[ which( apply( cpm(DGEList(counts = countdata)), 1,function(y) sum(y>=minCounts)) >= NminSamples ) , ] \n",
    "\n",
    "# - countData : count dataframe\n",
    "# - colData : sample metadata in the dataframe with row names as sampleID's\n",
    "# - design : The design of the comparisons to use. \n",
    "#            Use (~) before the name of the column variable to compare\n",
    "metadata$Group <- factor(metadata$Group , levels = c(\"Cancer\",\"TB\",\"SD\",\"Control\"))\n",
    "ddsMat <- DESeqDataSetFromMatrix(countData = x,\n",
    "                                 colData = metadata,\n",
    "                                 design = ~Group)\n",
    "ddss <- estimateSizeFactors(ddsMat)"
   ]
  },
  {
   "cell_type": "code",
   "execution_count": 6,
   "metadata": {
    "collapsed": false
   },
   "outputs": [],
   "source": [
    "# Convert all samples to rlog\n",
    "ddsMat_rlog <- rlog(ddss, blind = FALSE)"
   ]
  },
  {
   "cell_type": "code",
   "execution_count": 7,
   "metadata": {
    "collapsed": false
   },
   "outputs": [
    {
     "name": "stderr",
     "output_type": "stream",
     "text": [
      "estimating size factors\n",
      "estimating dispersions\n",
      "gene-wise dispersion estimates\n",
      "mean-dispersion relationship\n",
      "final dispersion estimates\n",
      "fitting model and testing\n"
     ]
    }
   ],
   "source": [
    "# Find differential expressed genes\n",
    "ddsMats <- DESeq(ddsMat)"
   ]
  },
  {
   "cell_type": "markdown",
   "metadata": {},
   "source": [
    "## 2.Comparsion Analysis"
   ]
  },
  {
   "cell_type": "code",
   "execution_count": 8,
   "metadata": {
    "collapsed": true
   },
   "outputs": [],
   "source": [
    "Compare_results <- function(Disease1,Disease2,pAdjustMethod =\"fdr\",alpha=0.01,ensdb = ensdb){\n",
    "    ## Get results from testing with FDR adjust pvalues\n",
    "    results <- results(ddsMats,contrast=c(\"Group\",Disease1,Disease2),pAdjustMethod = pAdjustMethod ,alpha = alpha)\n",
    "    # Add gene full name\n",
    "    results$description <- mapIds(x = ensdb,\n",
    "                                  keys = row.names(results),\n",
    "                                  column = \"DESCRIPTION\",\n",
    "                                  keytype = \"GENEID\",\n",
    "                                  multiVals = \"first\")\n",
    "    \n",
    "    # Add ENTREZ ID\n",
    "    results$entrez <- mapIds(x = ensdb,\n",
    "                             keys = row.names(results),\n",
    "                             column = \"ENTREZID\",\n",
    "                             keytype = \"GENEID\",\n",
    "                             multiVals = \"first\")\n",
    "    # Add GENENAME\n",
    "    results$genename<- mapIds(x = ensdb,\n",
    "                              keys = row.names(results),\n",
    "                              column = \"GENENAME\",\n",
    "                              keytype = \"GENEID\",\n",
    "                              multiVals = \"first\")\n",
    "    # Add GENEBIOTYPE\n",
    "    results$type<- mapIds(x = ensdb,\n",
    "                          keys = row.names(results),\n",
    "                          column = \"GENEBIOTYPE\",\n",
    "                          keytype = \"GENEID\",\n",
    "                          multiVals = \"first\")\n",
    "    return(results)\n",
    "}"
   ]
  },
  {
   "cell_type": "code",
   "execution_count": 9,
   "metadata": {
    "collapsed": true
   },
   "outputs": [],
   "source": [
    "mapid <- function(enrichment){\n",
    "    IDs <- function(x){unname(mapIds(x = ensdb,keys =unlist(strsplit(x,\"/\")),\n",
    "                column = \"GENENAME\",keytype = \"ENTREZID\",multiVals = \"first\"))}\n",
    "    data <- as.data.frame(enrichment)\n",
    "    new_col <- lapply(data$geneID,function(x){paste(IDs(x),collapse = \"/\")})\n",
    "    data$GENENAME <- unlist(new_col)\n",
    "    return(data)\n",
    "}\n",
    "GSEA_mapid <- function(enrichment){\n",
    "    IDs <- function(x){unname(mapIds(x = ensdb,keys =unlist(strsplit(x,\"/\")),\n",
    "                column = \"GENENAME\",keytype = \"ENTREZID\",multiVals = \"first\"))}\n",
    "    data <- as.data.frame(enrichment)\n",
    "    new_col <- lapply(data$core_enrichment,function(x){paste(IDs(x),collapse = \"/\")})\n",
    "    data$GENENAME <- unlist(new_col)\n",
    "    return(data)\n",
    "}"
   ]
  },
  {
   "cell_type": "markdown",
   "metadata": {},
   "source": [
    "### 1.Comparsion between Cancer and Normal patients"
   ]
  },
  {
   "cell_type": "code",
   "execution_count": 10,
   "metadata": {
    "collapsed": false
   },
   "outputs": [],
   "source": [
    "C_N_results <- Compare_results(\"Cancer\",\"Control\",pAdjustMethod =\"fdr\",alpha=0.01,ensdb = ensdb)\n",
    "C_N_results <- C_N_results[order(C_N_results$log2FoldChange,decreasing = T),]\n",
    "C_N_results <- subset(C_N_results, is.na(padj) == FALSE)"
   ]
  },
  {
   "cell_type": "code",
   "execution_count": 11,
   "metadata": {
    "collapsed": true
   },
   "outputs": [],
   "source": [
    "write.table(C_N_results,\"Cancer-Control_full.xls\",sep = \"\\t\",quote = F)"
   ]
  },
  {
   "cell_type": "code",
   "execution_count": 12,
   "metadata": {
    "collapsed": true
   },
   "outputs": [],
   "source": [
    "C_N_results <- subset(C_N_results,type==\"protein_coding\")"
   ]
  },
  {
   "cell_type": "code",
   "execution_count": 13,
   "metadata": {
    "collapsed": false
   },
   "outputs": [],
   "source": [
    "###################################################\n",
    "## Due to the heterogeneity, we set the higher pvalue to find the more differetial genes\n",
    "## find the significant differential gene\n",
    "C_N_results_sig <- subset(C_N_results, padj<0.1 &abs(log2FoldChange)>1)\n",
    "C_N_results_sig <- C_N_results_sig[order(C_N_results_sig$log2FoldChange,decreasing = T),]"
   ]
  },
  {
   "cell_type": "code",
   "execution_count": 14,
   "metadata": {
    "collapsed": true
   },
   "outputs": [],
   "source": [
    "write.table(C_N_results_sig,\"Cancer-Control.xls\",sep = \"\\t\",quote = F)"
   ]
  },
  {
   "cell_type": "code",
   "execution_count": 15,
   "metadata": {
    "collapsed": false
   },
   "outputs": [
    {
     "name": "stderr",
     "output_type": "stream",
     "text": [
      "Loading required package: clusterProfiler\n",
      "Loading required package: DOSE\n",
      "\n",
      "DOSE v3.4.0  For help: https://guangchuangyu.github.io/DOSE\n",
      "\n",
      "If you use DOSE in published research, please cite:\n",
      "Guangchuang Yu, Li-Gen Wang, Guang-Rong Yan, Qing-Yu He. DOSE: an R/Bioconductor package for Disease Ontology Semantic and Enrichment analysis. Bioinformatics 2015, 31(4):608-609\n",
      "\n",
      "clusterProfiler v3.6.0  For help: https://guangchuangyu.github.io/clusterProfiler\n",
      "\n",
      "If you use clusterProfiler in published research, please cite:\n",
      "Guangchuang Yu., Li-Gen Wang, Yanyan Han, Qing-Yu He. clusterProfiler: an R package for comparing biological themes among gene clusters. OMICS: A Journal of Integrative Biology. 2012, 16(5):284-287.\n",
      "Loading required package: org.Hs.eg.db\n",
      "\n"
     ]
    }
   ],
   "source": [
    "require(clusterProfiler)\n",
    "require(DOSE)\n",
    "require(org.Hs.eg.db)"
   ]
  },
  {
   "cell_type": "code",
   "execution_count": 16,
   "metadata": {
    "collapsed": false
   },
   "outputs": [],
   "source": [
    "C_N_results_sig_gsea <- subset(C_N_results_sig, is.na(entrez) == FALSE)\n",
    "#actually use full gene\n",
    "#results_sig_gsea <- subset(results, is.na(entrez) == FALSE)\n",
    "\n",
    "# Create a matrix of gene log2 fold changes\n",
    "C_N_gene_matrix_gsea <- C_N_results_sig_gsea$log2FoldChange\n",
    "\n",
    "# Add the entrezID's as names for each logFC entry\n",
    "names(C_N_gene_matrix_gsea) <- C_N_results_sig_gsea$entrez\n",
    "\n",
    "# View the format of the gene matrix\n",
    "##- Names = ENTREZ ID\n",
    "##- Values = Log2 Fold changes\n",
    "#head(C_N_gene_matrix_gsea)"
   ]
  },
  {
   "cell_type": "code",
   "execution_count": 17,
   "metadata": {
    "collapsed": false
   },
   "outputs": [],
   "source": [
    "C_N_BP <- enrichGO(gene = names(C_N_gene_matrix_gsea),\n",
    "                 OrgDb         = org.Hs.eg.db,\n",
    "                 keyType       = 'ENTREZID',\n",
    "                 ont           = \"BP\",\n",
    "                 pAdjustMethod = \"BH\",\n",
    "                 qvalueCutoff  = 0.1)\n",
    "C_N_CC <- enrichGO(gene = names(C_N_gene_matrix_gsea),\n",
    "                 OrgDb         = org.Hs.eg.db,\n",
    "                 keyType       = 'ENTREZID',\n",
    "                 ont           = \"CC\",\n",
    "                 pAdjustMethod = \"BH\",\n",
    "                 qvalueCutoff  = 0.1)\n",
    "C_N_MF <- enrichGO(gene = names(C_N_gene_matrix_gsea),\n",
    "                 OrgDb         = org.Hs.eg.db,\n",
    "                 keyType       = 'ENTREZID',\n",
    "                 ont           = \"MF\",\n",
    "                 pAdjustMethod = \"BH\",\n",
    "                 qvalueCutoff  = 0.1)"
   ]
  },
  {
   "cell_type": "code",
   "execution_count": 18,
   "metadata": {
    "collapsed": false
   },
   "outputs": [],
   "source": [
    "library(ggplot2)\n",
    "library(stringr)\n",
    "C_N_BP_plot <- C_N_BP[order(C_N_BP$pvalue),]\n",
    "p <- ggplot(C_N_BP_plot[1:15,],aes(x=reorder(paste(ID,Description),-pvalue),y=-log10(pvalue)))+\n",
    "  geom_bar(stat = \"identity\",position = \"dodge\",width = 0.7,fill=\"black\")+coord_flip()+\n",
    "  scale_x_discrete(labels=function(x) str_wrap(x, width=40))+\n",
    "  ylab(\"-log10(P-value)\")+xlab(\"Pathway\")+\n",
    "  theme(panel.grid.major =element_blank(), \n",
    "        panel.grid.minor = element_blank(),\n",
    "        panel.background = element_blank(),\n",
    "        axis.title = element_text(size = rel(1)),\n",
    "        plot.title = element_text(size = rel(3),face = \"bold\",hjust = 0.3),\n",
    "        axis.line.x = element_line(),\n",
    "       axis.ticks.y=element_blank())+\n",
    "      scale_y_continuous(limits = c(0,20),expand = c(0, 0),position = \"top\")+\n",
    "  guides(fill=F)"
   ]
  },
  {
   "cell_type": "code",
   "execution_count": 19,
   "metadata": {
    "collapsed": false
   },
   "outputs": [],
   "source": [
    "write.table(mapid(C_N_BP),\"Cancer-Control_BP.xls\",sep = \"\\t\",quote = F,row.names = F)\n",
    "write.table(mapid(C_N_MF),\"Cancer-Control_MF.xls\",sep = \"\\t\",quote = F,row.names = F)\n",
    "write.table(mapid(C_N_CC),\"Cancer-Control_CC.xls\",sep = \"\\t\",quote = F,row.names = F)"
   ]
  },
  {
   "cell_type": "code",
   "execution_count": 20,
   "metadata": {
    "collapsed": true
   },
   "outputs": [],
   "source": [
    "C_N_KEGG <- enrichKEGG(gene = names(C_N_gene_matrix_gsea),\n",
    "                       organism     = 'hsa',\n",
    "                       pAdjustMethod = \"BH\",\n",
    "                       pvalueCutoff = 0.5,\n",
    "                       qvalueCutoff  = 1, use_internal_data=F)"
   ]
  },
  {
   "cell_type": "code",
   "execution_count": 21,
   "metadata": {
    "collapsed": true
   },
   "outputs": [],
   "source": [
    "write.table(mapid(C_N_KEGG),\"Cancer-Control_KEGG.xls\",sep = \"\\t\",quote = F,row.names = F)"
   ]
  },
  {
   "cell_type": "code",
   "execution_count": 22,
   "metadata": {
    "collapsed": false
   },
   "outputs": [
    {
     "data": {
      "text/html": [
       "<strong>png:</strong> 2"
      ],
      "text/latex": [
       "\\textbf{png:} 2"
      ],
      "text/markdown": [
       "**png:** 2"
      ],
      "text/plain": [
       "png \n",
       "  2 "
      ]
     },
     "metadata": {},
     "output_type": "display_data"
    }
   ],
   "source": [
    "pdf(\"C_N_KEGG.pdf\",height=10,width=10)\n",
    "dotplot(C_N_KEGG,showCategory = 25,font.size=12)\n",
    "dev.off()"
   ]
  },
  {
   "cell_type": "code",
   "execution_count": 23,
   "metadata": {
    "collapsed": false
   },
   "outputs": [
    {
     "name": "stderr",
     "output_type": "stream",
     "text": [
      "ReactomePA v1.22.0  For help: https://guangchuangyu.github.io/ReactomePA\n",
      "\n",
      "If you use ReactomePA in published research, please cite:\n",
      "Guangchuang Yu, Qing-Yu He. ReactomePA: an R/Bioconductor package for reactome pathway analysis and visualization. Molecular BioSystems 2016, 12(2):477-479\n"
     ]
    }
   ],
   "source": [
    "library(ReactomePA)\n",
    "C_N_reactome <- enrichPathway(gene=names(C_N_gene_matrix_gsea),qvalueCutoff=0.05, organism = \"human\")"
   ]
  },
  {
   "cell_type": "code",
   "execution_count": 24,
   "metadata": {
    "collapsed": false
   },
   "outputs": [
    {
     "data": {
      "text/html": [
       "<strong>png:</strong> 2"
      ],
      "text/latex": [
       "\\textbf{png:} 2"
      ],
      "text/markdown": [
       "**png:** 2"
      ],
      "text/plain": [
       "png \n",
       "  2 "
      ]
     },
     "metadata": {},
     "output_type": "display_data"
    }
   ],
   "source": [
    "pdf(\"C_N_reactome_pathway.pdf\",height=10,width=10)\n",
    "dotplot(C_N_reactome,font.size=8,showCategory = 25)\n",
    "dev.off()"
   ]
  },
  {
   "cell_type": "code",
   "execution_count": 25,
   "metadata": {
    "collapsed": true
   },
   "outputs": [],
   "source": [
    "write.table(mapid(C_N_reactome),\"Cancer-Control_Reactome.xls\",sep = \"\\t\",quote = F,row.names = F)"
   ]
  },
  {
   "cell_type": "code",
   "execution_count": 26,
   "metadata": {
    "collapsed": false
   },
   "outputs": [],
   "source": [
    "# Gather first number significant genes and make matrix\n",
    "library(pheatmap)\n",
    "names <- row.names(C_N_results_sig)\n",
    "\n",
    "mat <- rpkmdata[names,orders]\n",
    "\n",
    "# Choose which column variables you want to annotate the columns by.\n",
    "annotation_col = data.frame(\n",
    "  Group = as.character(metadata[metadata$Group==\"Cancer\"|metadata$Group==\"Control\",]$Group), \n",
    "  row.names = as.character(metadata[metadata$Group==\"Cancer\"|metadata$Group==\"Control\",]$sampleid)\n",
    ")\n",
    "\n",
    "# Specify colors you want to annotate the columns by.\n",
    "ann_colors = list(\n",
    "  Group = c(Control = \"lightblue\",Cancer=\"pink\")\n",
    ")\n",
    "\n",
    "# Make Heatmap with pheatmap function.\n",
    "## See more in documentation for customization\n",
    "pheatmap(mat = mat, \n",
    "         color = colorRampPalette(c(\"blue\",\"white\",\"red\"))(255), \n",
    "         #color = colorRampPalette(rev(c(\"#D73027\", \"#FC8D59\", \"#FEE090\", \"#FFFFBF\", \n",
    "         #\"#E0F3F8\", \"#91BFDB\", \"#4575B4\")))(75),\n",
    "         scale = \"row\", # Scale genes to Z-score (how many standard deviations)\n",
    "         annotation_col = annotation_col, # Add multiple annotations to the samples\n",
    "         annotation_colors = ann_colors,# Change the default colors of the annotations\n",
    "         #fontsize = 6.5, # Make fonts smaller\n",
    "         #cellwidth = 55, # Make the cells wider\n",
    "         #cluster_cols=F,\n",
    "         show_rownames=F,height=15,fontsize = 15,filename=\"cancer.pdf\",\n",
    "         width=15)"
   ]
  },
  {
   "cell_type": "markdown",
   "metadata": {},
   "source": [
    "### 2.Comparsion between Tuberculosis and Normal patients"
   ]
  },
  {
   "cell_type": "code",
   "execution_count": 27,
   "metadata": {
    "collapsed": false
   },
   "outputs": [],
   "source": [
    "## Get results from testing with FDR adjust pvalues\n",
    "T_N_results <- Compare_results(\"TB\",\"Control\",pAdjustMethod =\"fdr\",alpha=0.01,ensdb = ensdb)\n",
    "T_N_results <- T_N_results[order(T_N_results$log2FoldChange,decreasing = TRUE),]\n",
    "T_N_results <- subset(T_N_results, is.na(padj) == FALSE)\n",
    "#head(T_N_results)"
   ]
  },
  {
   "cell_type": "code",
   "execution_count": 28,
   "metadata": {
    "collapsed": true
   },
   "outputs": [],
   "source": [
    "write.table(T_N_results,\"TB-Control_full.xls\",sep = \"\\t\",quote = F)"
   ]
  },
  {
   "cell_type": "code",
   "execution_count": 29,
   "metadata": {
    "collapsed": true
   },
   "outputs": [],
   "source": [
    "T_N_results <- subset(T_N_results,type==\"protein_coding\")"
   ]
  },
  {
   "cell_type": "code",
   "execution_count": 30,
   "metadata": {
    "collapsed": false
   },
   "outputs": [],
   "source": [
    "# find the significant differential gene\n",
    "###################################################\n",
    "## Due to the heterogeneity, we set the higher pvalue to find the more differetial genes\n",
    "T_N_results_sig <- subset(T_N_results, padj < 0.1 &abs(log2FoldChange)>1)\n",
    "T_N_results_sig <- T_N_results_sig[order(T_N_results_sig$log2FoldChange,decreasing = T),]\n",
    "#head(T_N_results_sig)\n",
    "#dim(T_N_results_sig)"
   ]
  },
  {
   "cell_type": "code",
   "execution_count": 31,
   "metadata": {
    "collapsed": true
   },
   "outputs": [],
   "source": [
    "write.table(as.data.frame(T_N_results_sig),\"TB-Control.xls\",sep = \"\\t\",quote = F)"
   ]
  },
  {
   "cell_type": "code",
   "execution_count": 32,
   "metadata": {
    "collapsed": false
   },
   "outputs": [],
   "source": [
    "T_N_results_sig_gsea <- subset(T_N_results_sig, is.na(entrez) == FALSE)\n",
    "#actually use full gene\n",
    "#results_sig_gsea <- subset(results, is.na(entrez) == FALSE)\n",
    "\n",
    "# Create a matrix of gene log2 fold changes\n",
    "T_N_gene_matrix_gsea <- T_N_results_sig_gsea$log2FoldChange\n",
    "\n",
    "# Add the entrezID's as names for each logFC entry\n",
    "names(T_N_gene_matrix_gsea) <- T_N_results_sig_gsea$entrez\n",
    "\n",
    "# View the format of the gene matrix\n",
    "##- Names = ENTREZ ID\n",
    "##- Values = Log2 Fold changes\n",
    "#head(T_N_gene_matrix_gsea)"
   ]
  },
  {
   "cell_type": "code",
   "execution_count": 33,
   "metadata": {
    "collapsed": false
   },
   "outputs": [],
   "source": [
    "T_N_BP <- enrichGO(gene = names(T_N_gene_matrix_gsea),\n",
    "                 OrgDb         = org.Hs.eg.db,\n",
    "                 keyType       = 'ENTREZID',\n",
    "                 ont           = \"BP\",\n",
    "                 pAdjustMethod = \"BH\",\n",
    "                 qvalueCutoff  = 0.1)\n",
    "T_N_CC <- enrichGO(gene = names(T_N_gene_matrix_gsea),\n",
    "                 OrgDb         = org.Hs.eg.db,\n",
    "                 keyType       = 'ENTREZID',\n",
    "                 ont           = \"CC\",\n",
    "                 pAdjustMethod = \"BH\",\n",
    "                 qvalueCutoff  = 0.1)\n",
    "T_N_MF <- enrichGO(gene = names(T_N_gene_matrix_gsea),\n",
    "                 OrgDb         = org.Hs.eg.db,\n",
    "                 keyType       = 'ENTREZID',\n",
    "                 ont           = \"MF\",\n",
    "                 pAdjustMethod = \"BH\",\n",
    "                 qvalueCutoff  = 0.1)"
   ]
  },
  {
   "cell_type": "code",
   "execution_count": 34,
   "metadata": {
    "collapsed": false
   },
   "outputs": [
    {
     "data": {
      "text/html": [
       "<strong>png:</strong> 2"
      ],
      "text/latex": [
       "\\textbf{png:} 2"
      ],
      "text/markdown": [
       "**png:** 2"
      ],
      "text/plain": [
       "png \n",
       "  2 "
      ]
     },
     "metadata": {},
     "output_type": "display_data"
    }
   ],
   "source": [
    "capitalize_all <- Vectorize(function(x) {\n",
    "  x <- str_wrap(x, width=40)\n",
    "  s <- strsplit(x, \" \")[[1]]\n",
    "  paste(toupper(substring(s, 1,1)), substring(s, 2), sep=\"\", collapse=\" \")\n",
    "})\n",
    "T_N_BP_plot <- T_N_BP[order(T_N_BP$pvalue),]\n",
    "T_N_BP_plot <- T_N_BP_plot[c(\"GO:0001501\",\"GO:0048705\",\"GO:0051216\",\"GO:0060348\",\"GO:0001503\",\"GO:0002063\",\n",
    "                            \"GO:0001958\",\"GO:0036075\",\"GO:0060346\",\"GO:0060350\",\"GO:0002062\",\"GO:0060349\",\n",
    "                             \"GO:0048706\",\"GO:0061430\"),]\n",
    "pdf(\"T_N_BP_plot.pdf\")\n",
    "ggplot(T_N_BP_plot,aes(x=reorder(Description,-pvalue),y=-log10(pvalue)))+\n",
    "  geom_bar(stat = \"identity\",position = \"dodge\",width = 0.7,fill=\"#F97164\")+coord_flip()+\n",
    "  ylab(\"-log10(P-value)\")+xlab(\"\")+scale_x_discrete(element_blank(), labels=capitalize_all) +\n",
    "  theme(panel.grid.major =element_blank(), \n",
    "        panel.grid.minor = element_blank(),\n",
    "        panel.background = element_blank(),\n",
    "        axis.title = element_text(size = rel(1.1)),\n",
    "        plot.title = element_text(size = rel(3),face = \"bold\",hjust = 0.3),\n",
    "        axis.line = element_line(),axis.text.y=element_text(size=10,hjust=0,margin = margin(r = -200),face = \"bold\"),\n",
    "       axis.ticks.y=element_blank())+\n",
    "      scale_y_continuous(limits = c(0,15),expand = c(0, 0),position = \"top\")+\n",
    "  guides(fill=F)\n",
    "dev.off()"
   ]
  },
  {
   "cell_type": "code",
   "execution_count": 35,
   "metadata": {
    "collapsed": true
   },
   "outputs": [],
   "source": [
    "write.table(mapid(T_N_BP),\"TB-Control_BP.xls\",sep = \"\\t\",quote = F,row.names = F)\n",
    "write.table(mapid(T_N_MF),\"TB-Control_MF.xls\",sep = \"\\t\",quote = F,row.names = F)\n",
    "write.table(mapid(T_N_CC),\"TB-Control_CC.xls\",sep = \"\\t\",quote = F,row.names = F)"
   ]
  },
  {
   "cell_type": "code",
   "execution_count": 36,
   "metadata": {
    "collapsed": true
   },
   "outputs": [],
   "source": [
    "T_N_KEGG <- enrichKEGG(gene = names(T_N_gene_matrix_gsea),\n",
    "                       organism     = 'hsa',\n",
    "                       pAdjustMethod = \"BH\",\n",
    "                       pvalueCutoff = 0.5,\n",
    "                       qvalueCutoff  = 1, use_internal_data=F)"
   ]
  },
  {
   "cell_type": "code",
   "execution_count": 37,
   "metadata": {
    "collapsed": true
   },
   "outputs": [],
   "source": [
    "write.table(mapid(T_N_KEGG),\"TB-Control_KEGG.xls\",sep = \"\\t\",quote = F,row.names = F)"
   ]
  },
  {
   "cell_type": "code",
   "execution_count": 38,
   "metadata": {
    "collapsed": false
   },
   "outputs": [
    {
     "data": {
      "text/html": [
       "<strong>png:</strong> 2"
      ],
      "text/latex": [
       "\\textbf{png:} 2"
      ],
      "text/markdown": [
       "**png:** 2"
      ],
      "text/plain": [
       "png \n",
       "  2 "
      ]
     },
     "metadata": {},
     "output_type": "display_data"
    }
   ],
   "source": [
    "pdf(\"T_N_KEGG.pdf\",height=10,width=10)\n",
    "dotplot(T_N_KEGG,showCategory=25,font.size=12)\n",
    "dev.off()"
   ]
  },
  {
   "cell_type": "code",
   "execution_count": 39,
   "metadata": {
    "collapsed": false
   },
   "outputs": [],
   "source": [
    "library(ReactomePA)\n",
    "T_N_reactome <- enrichPathway(gene=names(T_N_gene_matrix_gsea),qvalueCutoff=0.01, organism = \"human\")"
   ]
  },
  {
   "cell_type": "code",
   "execution_count": 40,
   "metadata": {
    "collapsed": false
   },
   "outputs": [
    {
     "data": {
      "text/html": [
       "<strong>png:</strong> 2"
      ],
      "text/latex": [
       "\\textbf{png:} 2"
      ],
      "text/markdown": [
       "**png:** 2"
      ],
      "text/plain": [
       "png \n",
       "  2 "
      ]
     },
     "metadata": {},
     "output_type": "display_data"
    }
   ],
   "source": [
    "pdf(\"T_N_reactome_pathway.pdf\",height=10,width=10)\n",
    "dotplot(T_N_reactome,showCategory=25,font.size=12)\n",
    "dev.off()"
   ]
  },
  {
   "cell_type": "code",
   "execution_count": 41,
   "metadata": {
    "collapsed": false
   },
   "outputs": [],
   "source": [
    "write.table(mapid(T_N_reactome),\"TB-Control_Reactome.xls\",sep = \"\\t\",quote = F,row.names = F)"
   ]
  },
  {
   "cell_type": "code",
   "execution_count": 42,
   "metadata": {
    "collapsed": false
   },
   "outputs": [],
   "source": [
    "# Gather first number significant genes and make matrix\n",
    "library(pheatmap)\n",
    "T_N_hp <- unique(unlist(strsplit(mapid(T_N_reactome)[1:5,\"GENENAME\"],\"/\")))\n",
    "mat <- rpkmdata[unname(mapIds(x = ensdb,keys =T_N_hp,\n",
    "                column = \"GENEID\",keytype = \"GENENAME\",multiVals = \"first\")),orders]\n",
    "row.names(mat) <- T_N_hp\n",
    "# Choose which column variables you want to annotate the columns by.\n",
    "annotation_col = data.frame(\n",
    "  Group = as.character(metadata$Group), \n",
    "  row.names = as.character(metadata$sampleid)\n",
    ")\n",
    "\n",
    "# Specify colors you want to annotate the columns by.\n",
    "ann_colors = list(\n",
    "  Group = c(Control = \"lightblue\",TB=\"darkgreen\")\n",
    ")\n",
    "\n",
    "# Make Heatmap with pheatmap function.\n",
    "## See more in documentation for customization\n",
    "pheatmap(mat = mat, \n",
    "         color = colorRampPalette(c(\"blue\",\"white\",\"red\"))(255), \n",
    "         #color = colorRampPalette(rev(c(\"#D73027\", \"#FC8D59\", \"#FEE090\", \"#FFFFBF\", \n",
    "         #\"#E0F3F8\", \"#91BFDB\", \"#4575B4\")))(75),\n",
    "         scale = \"row\", # Scale genes to Z-score (how many standard deviations)\n",
    "         annotation_col = annotation_col, # Add multiple annotations to the samples\n",
    "         annotation_colors = ann_colors,# Change the default colors of the annotations\n",
    "         #fontsize = 6.5, # Make fonts smaller\n",
    "         #cellwidth = 55, # Make the cells wider\n",
    "         #cluster_cols=F,\n",
    "         cluster_cols=dendextend::rotate(hclust(dist(cor(mat))),c(1:10)),\n",
    "         #show_rownames=F,\n",
    "         height=15,fontsize = 10,filename=\"TB-ECM.pdf\",\n",
    "         width=15)"
   ]
  },
  {
   "cell_type": "code",
   "execution_count": 43,
   "metadata": {
    "collapsed": false
   },
   "outputs": [],
   "source": [
    "# Gather first number significant genes and make matrix\n",
    "library(pheatmap)\n",
    "names <- row.names(T_N_results_sig)\n",
    "\n",
    "mat <- rpkmdata[names,orders]\n",
    "\n",
    "# Choose which column variables you want to annotate the columns by.\n",
    "annotation_col = data.frame(\n",
    "  Group = as.character(metadata$Group), \n",
    "  row.names = as.character(metadata$sampleid)\n",
    ")\n",
    "\n",
    "# Specify colors you want to annotate the columns by.\n",
    "ann_colors = list(\n",
    "  Group = c(Control = \"lightblue\",TB=\"darkgreen\")\n",
    ")\n",
    "\n",
    "# Make Heatmap with pheatmap function.\n",
    "## See more in documentation for customization\n",
    "pheatmap(mat = mat, \n",
    "         color = colorRampPalette(c(\"blue\",\"white\",\"red\"))(255), \n",
    "         #color = colorRampPalette(rev(c(\"#D73027\", \"#FC8D59\", \"#FEE090\", \"#FFFFBF\", \n",
    "         #\"#E0F3F8\", \"#91BFDB\", \"#4575B4\")))(75),\n",
    "         scale = \"row\", # Scale genes to Z-score (how many standard deviations)\n",
    "         annotation_col = annotation_col, # Add multiple annotations to the samples\n",
    "         annotation_colors = ann_colors,# Change the default colors of the annotations\n",
    "         #fontsize = 6.5, # Make fonts smaller\n",
    "         #cellwidth = 55, # Make the cells wider\n",
    "         #cluster_cols=F,\n",
    "         cluster_cols=dendextend::rotate(hclust(dist(cor(mat))),c(1:10)),\n",
    "         show_rownames=F,height=15,fontsize = 15,filename=\"TB.pdf\",\n",
    "         width=15)"
   ]
  },
  {
   "cell_type": "markdown",
   "metadata": {},
   "source": [
    "### 3.Comparsion between Normal and Sarcoidosis"
   ]
  },
  {
   "cell_type": "code",
   "execution_count": 44,
   "metadata": {
    "collapsed": false
   },
   "outputs": [],
   "source": [
    "S_N_results <- Compare_results(\"SD\",\"Control\",pAdjustMethod =\"fdr\",alpha=0.01,ensdb = ensdb)\n",
    "S_N_results <- S_N_results[order(S_N_results$log2FoldChange,decreasing = T),]\n",
    "S_N_results <- subset(S_N_results, is.na(padj) == FALSE)\n",
    "#head(S_N_results)"
   ]
  },
  {
   "cell_type": "code",
   "execution_count": 45,
   "metadata": {
    "collapsed": true
   },
   "outputs": [],
   "source": [
    "write.table(S_N_results,\"SD-Control_full.xls\",sep = \"\\t\",quote = F)"
   ]
  },
  {
   "cell_type": "code",
   "execution_count": 46,
   "metadata": {
    "collapsed": true
   },
   "outputs": [],
   "source": [
    "S_N_results <- subset(S_N_results,type==\"protein_coding\")"
   ]
  },
  {
   "cell_type": "code",
   "execution_count": 47,
   "metadata": {
    "collapsed": false
   },
   "outputs": [],
   "source": [
    "## find the significant differential gene\n",
    "###################################################\n",
    "## Due to the heterogeneity, we set the higher fdr to find the more differetial genes\n",
    "S_N_results_sig <- subset(S_N_results, padj<0.1 &abs(log2FoldChange)>1)\n",
    "S_N_results_sig <- S_N_results_sig[order(S_N_results_sig$log2FoldChange,decreasing = T),]\n",
    "#head(S_N_results_sig)\n",
    "#dim(S_N_results_sig)"
   ]
  },
  {
   "cell_type": "code",
   "execution_count": 48,
   "metadata": {
    "collapsed": true
   },
   "outputs": [],
   "source": [
    "write.table(S_N_results_sig,\"SD-Control.xls\",sep = \"\\t\",quote = F)"
   ]
  },
  {
   "cell_type": "code",
   "execution_count": 49,
   "metadata": {
    "collapsed": false
   },
   "outputs": [
    {
     "data": {
      "text/html": [
       "<dl class=dl-horizontal>\n",
       "\t<dt>9407</dt>\n",
       "\t\t<dd>19.8647120128355</dd>\n",
       "\t<dt>23581</dt>\n",
       "\t\t<dd>19.7719088792287</dd>\n",
       "\t<dt>63950</dt>\n",
       "\t\t<dd>18.5144201401542</dd>\n",
       "\t<dt>79802</dt>\n",
       "\t\t<dd>9.51876551041616</dd>\n",
       "\t<dt>190</dt>\n",
       "\t\t<dd>9.22437016815052</dd>\n",
       "\t<dt>6318</dt>\n",
       "\t\t<dd>9.22147587754822</dd>\n",
       "</dl>\n"
      ],
      "text/latex": [
       "\\begin{description*}\n",
       "\\item[9407] 19.8647120128355\n",
       "\\item[23581] 19.7719088792287\n",
       "\\item[63950] 18.5144201401542\n",
       "\\item[79802] 9.51876551041616\n",
       "\\item[190] 9.22437016815052\n",
       "\\item[6318] 9.22147587754822\n",
       "\\end{description*}\n"
      ],
      "text/markdown": [
       "9407\n",
       ":   19.864712012835523581\n",
       ":   19.771908879228763950\n",
       ":   18.514420140154279802\n",
       ":   9.51876551041616190\n",
       ":   9.224370168150526318\n",
       ":   9.22147587754822\n",
       "\n"
      ],
      "text/plain": [
       "     9407     23581     63950     79802       190      6318 \n",
       "19.864712 19.771909 18.514420  9.518766  9.224370  9.221476 "
      ]
     },
     "metadata": {},
     "output_type": "display_data"
    }
   ],
   "source": [
    "# for ordered GSEA\n",
    "# Remove any genes that do not have any entrez identifiers\n",
    "S_N_results_sig_gsea <- subset(S_N_results_sig, is.na(entrez) == FALSE)\n",
    "#actually use full gene\n",
    "#results_sig_gsea <- subset(results, is.na(entrez) == FALSE)\n",
    "\n",
    "# Create a matrix of gene log2 fold changes\n",
    "S_N_gene_matrix_gsea <- S_N_results_sig_gsea$log2FoldChange\n",
    "\n",
    "# Add the entrezID's as names for each logFC entry\n",
    "names(S_N_gene_matrix_gsea) <- S_N_results_sig_gsea$entrez\n",
    "\n",
    "# View the format of the gene matrix\n",
    "##- Names = ENTREZ ID\n",
    "##- Values = Log2 Fold changes\n",
    "head(S_N_gene_matrix_gsea)"
   ]
  },
  {
   "cell_type": "code",
   "execution_count": 50,
   "metadata": {
    "collapsed": true
   },
   "outputs": [],
   "source": [
    "S_N_BP <- enrichGO(gene = names(S_N_gene_matrix_gsea),\n",
    "                 OrgDb         = org.Hs.eg.db,\n",
    "                 keyType       = 'ENTREZID',\n",
    "                 ont           = \"BP\",\n",
    "                 pAdjustMethod = \"BH\",\n",
    "                 qvalueCutoff  = 0.1)\n",
    "S_N_CC <- enrichGO(gene = names(S_N_gene_matrix_gsea),\n",
    "                 OrgDb         = org.Hs.eg.db,\n",
    "                 keyType       = 'ENTREZID',\n",
    "                 ont           = \"CC\",\n",
    "                 pAdjustMethod = \"BH\",\n",
    "                 qvalueCutoff  = 0.1)\n",
    "S_N_MF <- enrichGO(gene = names(S_N_gene_matrix_gsea),\n",
    "                 OrgDb         = org.Hs.eg.db,\n",
    "                 keyType       = 'ENTREZID',\n",
    "                 ont           = \"MF\",\n",
    "                 pAdjustMethod = \"BH\",\n",
    "                 qvalueCutoff  = 0.1)"
   ]
  },
  {
   "cell_type": "code",
   "execution_count": 51,
   "metadata": {
    "collapsed": true
   },
   "outputs": [],
   "source": [
    "write.table(mapid(S_N_BP),\"SD-Control_BP.xls\",sep = \"\\t\",quote = F,row.names = F)\n",
    "write.table(mapid(S_N_MF),\"SD-Control_MF.xls\",sep = \"\\t\",quote = F,row.names = F)\n",
    "write.table(mapid(S_N_CC),\"SD-Control_CC.xls\",sep = \"\\t\",quote = F,row.names = F)"
   ]
  },
  {
   "cell_type": "code",
   "execution_count": 52,
   "metadata": {
    "collapsed": true
   },
   "outputs": [],
   "source": [
    "S_N_KEGG <- enrichKEGG(gene = names(S_N_gene_matrix_gsea),\n",
    "                       organism     = 'hsa',\n",
    "                       pAdjustMethod = \"BH\",\n",
    "                       pvalueCutoff = 1,\n",
    "                       qvalueCutoff  = 1, use_internal_data=F)"
   ]
  },
  {
   "cell_type": "code",
   "execution_count": 53,
   "metadata": {
    "collapsed": true
   },
   "outputs": [],
   "source": [
    "write.table(mapid(S_N_KEGG),\"SD-Control_KEGG.xls\",sep = \"\\t\",quote = F,row.names = F)"
   ]
  },
  {
   "cell_type": "code",
   "execution_count": 54,
   "metadata": {
    "collapsed": true
   },
   "outputs": [],
   "source": [
    "S_N_reactome <- enrichPathway(gene=names(S_N_gene_matrix_gsea),qvalueCutoff=1, organism = \"human\")"
   ]
  },
  {
   "cell_type": "code",
   "execution_count": 55,
   "metadata": {
    "collapsed": false
   },
   "outputs": [
    {
     "data": {
      "text/html": [
       "<strong>png:</strong> 2"
      ],
      "text/latex": [
       "\\textbf{png:} 2"
      ],
      "text/markdown": [
       "**png:** 2"
      ],
      "text/plain": [
       "png \n",
       "  2 "
      ]
     },
     "metadata": {},
     "output_type": "display_data"
    }
   ],
   "source": [
    "pdf(\"S_N_reactome_pathway.pdf\",height=10,width=10)\n",
    "dotplot(S_N_reactome,showCategory=25,font.size=12)\n",
    "dev.off()"
   ]
  },
  {
   "cell_type": "code",
   "execution_count": 56,
   "metadata": {
    "collapsed": true
   },
   "outputs": [],
   "source": [
    "write.table(mapid(S_N_reactome),\"SD-Control_reactome.xls\",sep = \"\\t\",quote = F,row.names = F)"
   ]
  },
  {
   "cell_type": "code",
   "execution_count": 57,
   "metadata": {
    "collapsed": false
   },
   "outputs": [],
   "source": [
    "# Gather first number significant genes and make matrix\n",
    "library(pheatmap)\n",
    "names <- row.names(S_N_results_sig)\n",
    "\n",
    "mat <- rpkmdata[names,orders]\n",
    "\n",
    "# Choose which column variables you want to annotate the columns by.\n",
    "annotation_col = data.frame(\n",
    "  Group = as.character(metadata$Group), \n",
    "  row.names = as.character(metadata$sampleid)\n",
    ")\n",
    "\n",
    "# Specify colors you want to annotate the columns by.\n",
    "ann_colors = list(\n",
    "  Group = c(Control = \"lightblue\", SD=\"purple\")\n",
    ")\n",
    "\n",
    "# Make Heatmap with pheatmap function.\n",
    "## See more in documentation for customization\n",
    "pheatmap(mat = mat, \n",
    "         color = colorRampPalette(c(\"blue\",\"white\",\"red\"))(255), \n",
    "         #color = colorRampPalette(rev(c(\"#D73027\", \"#FC8D59\", \"#FEE090\", \"#FFFFBF\", \n",
    "         #\"#E0F3F8\", \"#91BFDB\", \"#4575B4\")))(75),\n",
    "         scale = \"row\", # Scale genes to Z-score (how many standard deviations)\n",
    "         annotation_col = annotation_col, # Add multiple annotations to the samples\n",
    "         annotation_colors = ann_colors,# Change the default colors of the annotations\n",
    "         #fontsize = 6.5, # Make fonts smaller\n",
    "         #cellwidth = 55, # Make the cells wider\n",
    "         #cluster_cols=F,\n",
    "         show_rownames=F,height=15,fontsize = 15,filename=\"SD.pdf\",\n",
    "         width=15)"
   ]
  },
  {
   "cell_type": "code",
   "execution_count": 58,
   "metadata": {
    "collapsed": true
   },
   "outputs": [],
   "source": [
    "ECM_gene <- as.character(read.table(\"/data2/luj/GSEA/homo/REACTOME_EXTRACELLULAR_MATRIX_ORGANIZATION.gmt\",stringsAsFactors = F)[1,c(-1,-2)])"
   ]
  },
  {
   "cell_type": "code",
   "execution_count": 59,
   "metadata": {
    "collapsed": false
   },
   "outputs": [],
   "source": [
    "T_group <- rbind(metadata[metadata$Group==\"Control\",],metadata[metadata$Group==\"SD\",],metadata[metadata$Group==\"TB\",])"
   ]
  },
  {
   "cell_type": "code",
   "execution_count": 60,
   "metadata": {
    "collapsed": false
   },
   "outputs": [],
   "source": [
    "T_group[,1] <- as.character(T_group[,1])\n",
    "T_expr <- rpkmdata[,T_group$sampleid]\n",
    "T_expr <-T_expr[apply(T_expr,1,sum)>0.5,]\n",
    "T_expr$genename<- mapIds(x = ensdb,\n",
    "                              keys = row.names(T_expr),\n",
    "                              column = \"GENENAME\",\n",
    "                              keytype = \"GENEID\",\n",
    "                              multiVals = \"first\")\n",
    "T_expr <- T_expr[!duplicated(T_expr$genename),]\n",
    "row.names(T_expr) <- T_expr$genename\n",
    "T_rpkm <-  T_expr[,colnames(T_expr)!=\"genename\"]\n",
    "T_rpkm <- T_rpkm[,row.names(T_group)]"
   ]
  },
  {
   "cell_type": "code",
   "execution_count": 61,
   "metadata": {
    "collapsed": false
   },
   "outputs": [],
   "source": [
    "T_N_result_ECM <- subset(T_N_results, is.na(entrez) == FALSE&genename%in%ECM_gene)\n",
    "S_N_result_ECM <- subset(S_N_results, is.na(entrez) == FALSE&genename%in%ECM_gene)"
   ]
  },
  {
   "cell_type": "code",
   "execution_count": 62,
   "metadata": {
    "collapsed": false
   },
   "outputs": [],
   "source": [
    "ECM_name<-c(intersect(subset(T_N_result_ECM,log2FoldChange>0)$genename,subset(S_N_result_ECM,log2FoldChange>0)$genename),\n",
    "intersect(subset(T_N_result_ECM,log2FoldChange<0)$genename,subset(S_N_result_ECM,log2FoldChange<0)$genename))"
   ]
  },
  {
   "cell_type": "code",
   "execution_count": 63,
   "metadata": {
    "collapsed": true
   },
   "outputs": [],
   "source": [
    "mat <- T_rpkm"
   ]
  },
  {
   "cell_type": "code",
   "execution_count": 64,
   "metadata": {
    "collapsed": false
   },
   "outputs": [],
   "source": [
    "mat <- na.omit(T_rpkm[ECM_gene,order])\n",
    "# Choose which column variables you want to annotate the columns by.\n",
    "annotation_col = data.frame(\n",
    "  Group = as.character(metadata$Group), \n",
    "  row.names = as.character(metadata$sampleid)\n",
    ")\n",
    "\n",
    "# Specify colors you want to annotate the columns by.\n",
    "ann_colors = list(\n",
    "  Group = c(Control = \"lightblue\",TB=\"darkgreen\",SD=\"pink\")\n",
    ")\n",
    "\n",
    "# Make Heatmap with pheatmap function.\n",
    "## See more in documentation for customization\n",
    "pheatmap(mat = mat,\n",
    "         color = colorRampPalette(c(\"blue\",\"white\",\"red\"))(255), \n",
    "         #color = colorRampPalette(rev(c(\"#D73027\", \"#FC8D59\", \"#FEE090\", \"#FFFFBF\", \n",
    "         #\"#E0F3F8\", \"#91BFDB\", \"#4575B4\")))(75),\n",
    "         scale = \"row\", # Scale genes to Z-score (how many standard deviations)\n",
    "         annotation_col = annotation_col, # Add multiple annotations to the samples\n",
    "         annotation_colors = ann_colors,# Change the default colors of the annotations\n",
    "         fontsize = 12, # Make fonts smaller\n",
    "         cellwidth = 20, # Make the cells wider\n",
    "         cellheight = 10,\n",
    "         cluster_rows=hclust(dist(cor(t(mat)),method = \"minkowski\")),\n",
    "         cluster_cols=dendextend::rotate(hclust(dist(t(mat))),rev(c(1:15))),\n",
    "         #show_rownames=F,\n",
    "         height=15,filename=\"TBSDECM.pdf\",\n",
    "         width=15)"
   ]
  },
  {
   "cell_type": "markdown",
   "metadata": {},
   "source": [
    "### 4.Comparsion between Tuberculosis and Cancer patients"
   ]
  },
  {
   "cell_type": "code",
   "execution_count": 65,
   "metadata": {
    "collapsed": false
   },
   "outputs": [],
   "source": [
    "C_T_results <- Compare_results(\"Cancer\",\"TB\",pAdjustMethod =\"fdr\",alpha=0.01,ensdb = ensdb)\n",
    "C_T_results <- C_T_results[order(C_T_results$log2FoldChange,decreasing = TRUE),]\n",
    "#head(C_T_results)"
   ]
  },
  {
   "cell_type": "code",
   "execution_count": 66,
   "metadata": {
    "collapsed": true
   },
   "outputs": [],
   "source": [
    "write.table(C_T_results,\"Cancer-TB_full.xls\",sep = \"\\t\",quote = F)"
   ]
  },
  {
   "cell_type": "code",
   "execution_count": 67,
   "metadata": {
    "collapsed": false
   },
   "outputs": [],
   "source": [
    "## find the significant differential gene\n",
    "###################################################\n",
    "## Due to the heterogeneity, we set the higher fdr to find the more differetial genes\n",
    "C_T_results_sig <- subset(C_T_results, padj<0.1 &abs(log2FoldChange)>1)\n",
    "C_T_results_sig <- C_T_results_sig[order(C_T_results_sig$log2FoldChange,decreasing = TRUE),]\n",
    "#head(C_T_results_sig)\n",
    "#dim(C_T_results_sig)"
   ]
  },
  {
   "cell_type": "code",
   "execution_count": 68,
   "metadata": {
    "collapsed": true
   },
   "outputs": [],
   "source": [
    "write.table(C_T_results_sig,\"Cancer-TB.xls\",sep = \"\\t\",quote = F)"
   ]
  },
  {
   "cell_type": "code",
   "execution_count": 69,
   "metadata": {
    "collapsed": false
   },
   "outputs": [
    {
     "data": {
      "text/html": [
       "<dl class=dl-horizontal>\n",
       "\t<dt>4102</dt>\n",
       "\t\t<dd>11.2851907391558</dd>\n",
       "\t<dt>28234</dt>\n",
       "\t\t<dd>9.71765569224823</dd>\n",
       "\t<dt>8581</dt>\n",
       "\t\t<dd>9.24152120452644</dd>\n",
       "\t<dt>652995</dt>\n",
       "\t\t<dd>9.17583298171837</dd>\n",
       "\t<dt>84985</dt>\n",
       "\t\t<dd>9.16342426713881</dd>\n",
       "\t<dt>653220</dt>\n",
       "\t\t<dd>9.13676325109623</dd>\n",
       "</dl>\n"
      ],
      "text/latex": [
       "\\begin{description*}\n",
       "\\item[4102] 11.2851907391558\n",
       "\\item[28234] 9.71765569224823\n",
       "\\item[8581] 9.24152120452644\n",
       "\\item[652995] 9.17583298171837\n",
       "\\item[84985] 9.16342426713881\n",
       "\\item[653220] 9.13676325109623\n",
       "\\end{description*}\n"
      ],
      "text/markdown": [
       "4102\n",
       ":   11.285190739155828234\n",
       ":   9.717655692248238581\n",
       ":   9.24152120452644652995\n",
       ":   9.1758329817183784985\n",
       ":   9.16342426713881653220\n",
       ":   9.13676325109623\n",
       "\n"
      ],
      "text/plain": [
       "     4102     28234      8581    652995     84985    653220 \n",
       "11.285191  9.717656  9.241521  9.175833  9.163424  9.136763 "
      ]
     },
     "metadata": {},
     "output_type": "display_data"
    }
   ],
   "source": [
    "# for ordered GSEA\n",
    "# Remove any genes that do not have any entrez identifiers\n",
    "C_T_results_sig_gsea <- subset(C_T_results_sig, is.na(entrez) == FALSE)\n",
    "#actually use full gene\n",
    "#results_sig_gsea <- subset(results, is.na(entrez) == FALSE)\n",
    "\n",
    "# Create a matrix of gene log2 fold changes\n",
    "C_T_gene_matrix_gsea <- C_T_results_sig_gsea$log2FoldChange\n",
    "\n",
    "# Add the entrezID's as names for each logFC entry\n",
    "names(C_T_gene_matrix_gsea) <- C_T_results_sig_gsea$entrez\n",
    "\n",
    "# View the format of the gene matrix\n",
    "##- Names = ENTREZ ID\n",
    "##- Values = Log2 Fold changes\n",
    "head(C_T_gene_matrix_gsea)"
   ]
  },
  {
   "cell_type": "code",
   "execution_count": 70,
   "metadata": {
    "collapsed": true
   },
   "outputs": [],
   "source": [
    "C_T_BP <- enrichGO(gene = names(C_T_gene_matrix_gsea),\n",
    "                 OrgDb         = org.Hs.eg.db,\n",
    "                 keyType       = 'ENTREZID',\n",
    "                 ont           = \"BP\",\n",
    "                 pAdjustMethod = \"BH\",\n",
    "                 qvalueCutoff  = 0.1)\n",
    "C_T_CC <- enrichGO(gene = names(C_T_gene_matrix_gsea),\n",
    "                 OrgDb         = org.Hs.eg.db,\n",
    "                 keyType       = 'ENTREZID',\n",
    "                 ont           = \"CC\",\n",
    "                 pAdjustMethod = \"BH\",\n",
    "                 qvalueCutoff  = 0.1)\n",
    "C_T_MF <- enrichGO(gene = names(C_T_gene_matrix_gsea),\n",
    "                 OrgDb         = org.Hs.eg.db,\n",
    "                 keyType       = 'ENTREZID',\n",
    "                 ont           = \"MF\",\n",
    "                 pAdjustMethod = \"BH\",\n",
    "                 qvalueCutoff  = 0.1)"
   ]
  },
  {
   "cell_type": "code",
   "execution_count": 71,
   "metadata": {
    "collapsed": true
   },
   "outputs": [],
   "source": [
    "write.table(mapid(C_T_BP),\"Cancer-TB_BP.xls\",sep = \"\\t\",quote = F,row.names = F)\n",
    "write.table(mapid(C_T_MF),\"Cancer-TB_MF.xls\",sep = \"\\t\",quote = F,row.names = F)\n",
    "write.table(mapid(C_T_CC),\"Cancer-TB_CC.xls\",sep = \"\\t\",quote = F,row.names = F)"
   ]
  },
  {
   "cell_type": "code",
   "execution_count": 72,
   "metadata": {
    "collapsed": true
   },
   "outputs": [],
   "source": [
    "C_T_KEGG <- enrichKEGG(gene = names(C_T_gene_matrix_gsea),\n",
    "                       organism     = 'hsa',\n",
    "                       pAdjustMethod = \"BH\",\n",
    "                       pvalueCutoff = 0.5,\n",
    "                       qvalueCutoff  = 1, use_internal_data=F)"
   ]
  },
  {
   "cell_type": "code",
   "execution_count": 73,
   "metadata": {
    "collapsed": true
   },
   "outputs": [],
   "source": [
    "write.table(mapid(C_T_KEGG),\"Cancer-TB_KEGG.xls\",sep = \"\\t\",quote = F,row.names = F)"
   ]
  },
  {
   "cell_type": "code",
   "execution_count": 74,
   "metadata": {
    "collapsed": true
   },
   "outputs": [],
   "source": [
    "C_T_ALL <- subset(C_T_results, is.na(entrez) == FALSE)\n",
    "C_T_All <- C_T_ALL$log2FoldChange\n",
    "names(C_T_All) <- C_T_ALL$entrez\n",
    "C_T_GSEA <- gseKEGG(geneList = C_T_All,\n",
    "               organism     = 'hsa',\n",
    "               nPerm        = 5000,\n",
    "               minGSSize    = 10,\n",
    "               pvalueCutoff = 0.5,\n",
    "               verbose      = FALSE)"
   ]
  },
  {
   "cell_type": "code",
   "execution_count": 75,
   "metadata": {
    "collapsed": true
   },
   "outputs": [],
   "source": [
    "write.table(GSEA_mapid(C_T_GSEA),\"Cancer-TB_GSEA.xls\",sep='\\t',row.names=F)"
   ]
  },
  {
   "cell_type": "markdown",
   "metadata": {},
   "source": [
    "### 5.Comparsion between Sarcoidosis and Tuberculosis patients"
   ]
  },
  {
   "cell_type": "code",
   "execution_count": 76,
   "metadata": {
    "collapsed": false
   },
   "outputs": [],
   "source": [
    "S_T_results <- Compare_results(\"SD\",\"TB\",pAdjustMethod =\"fdr\",alpha=0.01,ensdb = ensdb)\n",
    "S_T_results <- S_T_results[order(S_T_results$log2FoldChange,decreasing = TRUE),]\n",
    "#head(S_T_results)"
   ]
  },
  {
   "cell_type": "code",
   "execution_count": 77,
   "metadata": {
    "collapsed": true
   },
   "outputs": [],
   "source": [
    "write.table(S_T_results,\"SD-TB_full.xls\",sep = \"\\t\",quote = F)"
   ]
  },
  {
   "cell_type": "code",
   "execution_count": 78,
   "metadata": {
    "collapsed": false
   },
   "outputs": [],
   "source": [
    "## find the significant differential gene\n",
    "###################################################\n",
    "## Due to the heterogeneity, we set the higher fdr to find the more differetial genes\n",
    "S_T_results_sig <- subset(S_T_results, padj<0.1 &abs(log2FoldChange)>1)\n",
    "S_T_results_sig <- S_T_results_sig[order(S_T_results_sig$log2FoldChange,decreasing = TRUE),]\n",
    "#head(S_T_results_sig)\n",
    "#dim(S_T_results_sig)"
   ]
  },
  {
   "cell_type": "code",
   "execution_count": 79,
   "metadata": {
    "collapsed": true
   },
   "outputs": [],
   "source": [
    "write.table(S_T_results_sig,\"SD-TB.xls\",sep = \"\\t\",quote = F)"
   ]
  },
  {
   "cell_type": "code",
   "execution_count": 80,
   "metadata": {
    "collapsed": false
   },
   "outputs": [
    {
     "data": {
      "text/html": [
       "<dl class=dl-horizontal>\n",
       "\t<dt>101409253</dt>\n",
       "\t\t<dd>28.1473369204261</dd>\n",
       "\t<dt>101927136</dt>\n",
       "\t\t<dd>12.4477415831276</dd>\n",
       "\t<dt>2267</dt>\n",
       "\t\t<dd>11.7864004496969</dd>\n",
       "\t<dt>7503</dt>\n",
       "\t\t<dd>10.2453337725199</dd>\n",
       "\t<dt>4586</dt>\n",
       "\t\t<dd>9.62247500347789</dd>\n",
       "\t<dt>5126</dt>\n",
       "\t\t<dd>9.33718183809489</dd>\n",
       "</dl>\n"
      ],
      "text/latex": [
       "\\begin{description*}\n",
       "\\item[101409253] 28.1473369204261\n",
       "\\item[101927136] 12.4477415831276\n",
       "\\item[2267] 11.7864004496969\n",
       "\\item[7503] 10.2453337725199\n",
       "\\item[4586] 9.62247500347789\n",
       "\\item[5126] 9.33718183809489\n",
       "\\end{description*}\n"
      ],
      "text/markdown": [
       "101409253\n",
       ":   28.1473369204261101927136\n",
       ":   12.44774158312762267\n",
       ":   11.78640044969697503\n",
       ":   10.24533377251994586\n",
       ":   9.622475003477895126\n",
       ":   9.33718183809489\n",
       "\n"
      ],
      "text/plain": [
       "101409253 101927136      2267      7503      4586      5126 \n",
       "28.147337 12.447742 11.786400 10.245334  9.622475  9.337182 "
      ]
     },
     "metadata": {},
     "output_type": "display_data"
    }
   ],
   "source": [
    "# for ordered GSEA\n",
    "# Remove any genes that do not have any entrez identifiers\n",
    "S_T_results_sig_gsea <- subset(S_T_results_sig, is.na(entrez) == FALSE)\n",
    "#actually use full gene\n",
    "#results_sig_gsea <- subset(results, is.na(entrez) == FALSE)\n",
    "\n",
    "# Create a matrix of gene log2 fold changes\n",
    "S_T_gene_matrix_gsea <- S_T_results_sig_gsea$log2FoldChange\n",
    "\n",
    "# Add the entrezID's as names for each logFC entry\n",
    "names(S_T_gene_matrix_gsea) <- S_T_results_sig_gsea$entrez\n",
    "\n",
    "# View the format of the gene matrix\n",
    "##- Names = ENTREZ ID\n",
    "##- Values = Log2 Fold changes\n",
    "head(S_T_gene_matrix_gsea)"
   ]
  },
  {
   "cell_type": "code",
   "execution_count": 81,
   "metadata": {
    "collapsed": true
   },
   "outputs": [],
   "source": [
    "S_T_BP <- enrichGO(gene = names(S_T_gene_matrix_gsea),\n",
    "                 OrgDb         = org.Hs.eg.db,\n",
    "                 keyType       = 'ENTREZID',\n",
    "                 ont           = \"BP\",\n",
    "                 pAdjustMethod = \"BH\",\n",
    "                 qvalueCutoff  = 0.1)\n",
    "S_T_CC <- enrichGO(gene = names(S_T_gene_matrix_gsea),\n",
    "                 OrgDb         = org.Hs.eg.db,\n",
    "                 keyType       = 'ENTREZID',\n",
    "                 ont           = \"CC\",\n",
    "                 pAdjustMethod = \"BH\",\n",
    "                 qvalueCutoff  = 0.1)\n",
    "S_T_MF <- enrichGO(gene = names(S_T_gene_matrix_gsea),\n",
    "                 OrgDb         = org.Hs.eg.db,\n",
    "                 keyType       = 'ENTREZID',\n",
    "                 ont           = \"MF\",\n",
    "                 pAdjustMethod = \"BH\",\n",
    "                 qvalueCutoff  = 0.1)"
   ]
  },
  {
   "cell_type": "code",
   "execution_count": 82,
   "metadata": {
    "collapsed": true
   },
   "outputs": [],
   "source": [
    "write.table(mapid(S_T_BP),\"SD-TB_BP.xls\",sep = \"\\t\",quote = F,row.names = F)\n",
    "write.table(mapid(S_T_MF),\"SD-TB_MF.xls\",sep = \"\\t\",quote = F,row.names = F)\n",
    "write.table(mapid(S_T_CC),\"SD-TB_CC.xls\",sep = \"\\t\",quote = F,row.names = F)"
   ]
  },
  {
   "cell_type": "code",
   "execution_count": 83,
   "metadata": {
    "collapsed": true
   },
   "outputs": [],
   "source": [
    "S_T_KEGG <- enrichKEGG(gene = names(S_T_gene_matrix_gsea),\n",
    "                       organism     = 'hsa',\n",
    "                       pAdjustMethod = \"BH\",\n",
    "                       pvalueCutoff = 0.5,\n",
    "                       qvalueCutoff  = 1, use_internal_data=F)"
   ]
  },
  {
   "cell_type": "code",
   "execution_count": 84,
   "metadata": {
    "collapsed": true
   },
   "outputs": [],
   "source": [
    "write.table(mapid(S_T_KEGG),\"SD-TB_KEGG.xls\",sep = \"\\t\",quote = F,row.names = F)"
   ]
  },
  {
   "cell_type": "code",
   "execution_count": 85,
   "metadata": {
    "collapsed": true
   },
   "outputs": [],
   "source": [
    "S_T_reactome <- enrichPathway(gene=names(S_T_gene_matrix_gsea),qvalueCutoff=0.05, organism = \"human\")"
   ]
  },
  {
   "cell_type": "markdown",
   "metadata": {},
   "source": [
    "### 5.Comparsion between Sarcoidosis and Tuberculosis patients"
   ]
  },
  {
   "cell_type": "code",
   "execution_count": 86,
   "metadata": {
    "collapsed": false
   },
   "outputs": [],
   "source": [
    "S_C_results <- Compare_results(\"SD\",\"Cancer\",pAdjustMethod =\"fdr\",alpha=0.01,ensdb = ensdb)\n",
    "S_C_results <- S_C_results[order(S_C_results$log2FoldChange,decreasing = TRUE),]\n",
    "#head(S_C_results)"
   ]
  },
  {
   "cell_type": "code",
   "execution_count": 87,
   "metadata": {
    "collapsed": false
   },
   "outputs": [],
   "source": [
    "## find the significant differential gene\n",
    "###################################################\n",
    "## Due to the heterogeneity, we set the higher fdr to find the more differetial genes\n",
    "S_C_results_sig <- subset(S_C_results, padj<0.1 &abs(log2FoldChange)>1)\n",
    "S_C_results_sig <- S_C_results_sig[order(S_C_results_sig$log2FoldChange,decreasing = TRUE),]\n",
    "#head(S_C_results_sig)\n",
    "#dim(S_C_results_sig)"
   ]
  },
  {
   "cell_type": "markdown",
   "metadata": {},
   "source": [
    "## 3. TB/Normal & Cancer/Normal  Analysis"
   ]
  },
  {
   "cell_type": "code",
   "execution_count": 88,
   "metadata": {
    "collapsed": true
   },
   "outputs": [],
   "source": [
    "annotation <- function(DEGs){\n",
    "    ALL_intersect_genes <- data.frame(ENTREZID=DEGs)\n",
    "    ALL_intersect_genes$description <- mapIds(x = ensdb,\n",
    "                                              keys = DEGs,\n",
    "                                              column = \"DESCRIPTION\",\n",
    "                                              keytype = \"ENTREZID\",\n",
    "                                              multiVals = \"first\")\n",
    "    ALL_intersect_genes$genename<- mapIds(x = ensdb,\n",
    "                                          keys = DEGs,\n",
    "                                          column = \"GENENAME\",\n",
    "                                          keytype = \"ENTREZID\",\n",
    "                                          multiVals = \"first\")\n",
    "    return(ALL_intersect_genes)\n",
    "}"
   ]
  },
  {
   "cell_type": "markdown",
   "metadata": {},
   "source": [
    "### 1. TB/Normal & Cancer/Normal Common Genes"
   ]
  },
  {
   "cell_type": "markdown",
   "metadata": {},
   "source": [
    "#### 1. TB/Normal & Cancer/Normal significant gene all up regulated"
   ]
  },
  {
   "cell_type": "code",
   "execution_count": 89,
   "metadata": {
    "collapsed": false
   },
   "outputs": [],
   "source": [
    "T_C_intersect_up <- intersect(names(C_N_gene_matrix_gsea)[C_N_gene_matrix_gsea>0],\n",
    "                              names(T_N_gene_matrix_gsea)[T_N_gene_matrix_gsea>0])\n",
    "T_C_intersect_up <- annotation(T_C_intersect_up)"
   ]
  },
  {
   "cell_type": "code",
   "execution_count": 90,
   "metadata": {
    "collapsed": false
   },
   "outputs": [
    {
     "data": {
      "text/html": [
       "<table>\n",
       "<caption>A data.frame: 6 × 3</caption>\n",
       "<thead>\n",
       "\t<tr><th scope=col>ENTREZID</th><th scope=col>description</th><th scope=col>genename</th></tr>\n",
       "\t<tr><th scope=col>&lt;fct&gt;</th><th scope=col>&lt;chr&gt;</th><th scope=col>&lt;chr&gt;</th></tr>\n",
       "</thead>\n",
       "<tbody>\n",
       "\t<tr><td>23581 </td><td>caspase 14 [Source:HGNC Symbol;Acc:HGNC:1502]                              </td><td>CASP14   </td></tr>\n",
       "\t<tr><td>63950 </td><td>DMRT like family A2 [Source:HGNC Symbol;Acc:HGNC:13908]                    </td><td>DMRTA2   </td></tr>\n",
       "\t<tr><td>9407  </td><td>transmembrane protease, serine 11D [Source:HGNC Symbol;Acc:HGNC:24059]     </td><td>TMPRSS11D</td></tr>\n",
       "\t<tr><td>27201 </td><td>G protein-coupled receptor 78 [Source:HGNC Symbol;Acc:HGNC:4528]           </td><td>GPR78    </td></tr>\n",
       "\t<tr><td>116379</td><td>interleukin 22 receptor subunit alpha 2 [Source:HGNC Symbol;Acc:HGNC:14901]</td><td>IL22RA2  </td></tr>\n",
       "\t<tr><td>5307  </td><td>paired like homeodomain 1 [Source:HGNC Symbol;Acc:HGNC:9004]               </td><td>PITX1    </td></tr>\n",
       "</tbody>\n",
       "</table>\n"
      ],
      "text/latex": [
       "A data.frame: 6 × 3\n",
       "\\begin{tabular}{r|lll}\n",
       " ENTREZID & description & genename\\\\\n",
       " <fct> & <chr> & <chr>\\\\\n",
       "\\hline\n",
       "\t 23581  & caspase 14 {[}Source:HGNC Symbol;Acc:HGNC:1502{]}                               & CASP14   \\\\\n",
       "\t 63950  & DMRT like family A2 {[}Source:HGNC Symbol;Acc:HGNC:13908{]}                     & DMRTA2   \\\\\n",
       "\t 9407   & transmembrane protease, serine 11D {[}Source:HGNC Symbol;Acc:HGNC:24059{]}      & TMPRSS11D\\\\\n",
       "\t 27201  & G protein-coupled receptor 78 {[}Source:HGNC Symbol;Acc:HGNC:4528{]}            & GPR78    \\\\\n",
       "\t 116379 & interleukin 22 receptor subunit alpha 2 {[}Source:HGNC Symbol;Acc:HGNC:14901{]} & IL22RA2  \\\\\n",
       "\t 5307   & paired like homeodomain 1 {[}Source:HGNC Symbol;Acc:HGNC:9004{]}                & PITX1    \\\\\n",
       "\\end{tabular}\n"
      ],
      "text/markdown": [
       "\n",
       "A data.frame: 6 × 3\n",
       "\n",
       "| ENTREZID &lt;fct&gt; | description &lt;chr&gt; | genename &lt;chr&gt; |\n",
       "|---|---|---|\n",
       "| 23581  | caspase 14 [Source:HGNC Symbol;Acc:HGNC:1502]                               | CASP14    |\n",
       "| 63950  | DMRT like family A2 [Source:HGNC Symbol;Acc:HGNC:13908]                     | DMRTA2    |\n",
       "| 9407   | transmembrane protease, serine 11D [Source:HGNC Symbol;Acc:HGNC:24059]      | TMPRSS11D |\n",
       "| 27201  | G protein-coupled receptor 78 [Source:HGNC Symbol;Acc:HGNC:4528]            | GPR78     |\n",
       "| 116379 | interleukin 22 receptor subunit alpha 2 [Source:HGNC Symbol;Acc:HGNC:14901] | IL22RA2   |\n",
       "| 5307   | paired like homeodomain 1 [Source:HGNC Symbol;Acc:HGNC:9004]                | PITX1     |\n",
       "\n"
      ],
      "text/plain": [
       "  ENTREZID\n",
       "1 23581   \n",
       "2 63950   \n",
       "3 9407    \n",
       "4 27201   \n",
       "5 116379  \n",
       "6 5307    \n",
       "  description                                                                \n",
       "1 caspase 14 [Source:HGNC Symbol;Acc:HGNC:1502]                              \n",
       "2 DMRT like family A2 [Source:HGNC Symbol;Acc:HGNC:13908]                    \n",
       "3 transmembrane protease, serine 11D [Source:HGNC Symbol;Acc:HGNC:24059]     \n",
       "4 G protein-coupled receptor 78 [Source:HGNC Symbol;Acc:HGNC:4528]           \n",
       "5 interleukin 22 receptor subunit alpha 2 [Source:HGNC Symbol;Acc:HGNC:14901]\n",
       "6 paired like homeodomain 1 [Source:HGNC Symbol;Acc:HGNC:9004]               \n",
       "  genename \n",
       "1 CASP14   \n",
       "2 DMRTA2   \n",
       "3 TMPRSS11D\n",
       "4 GPR78    \n",
       "5 IL22RA2  \n",
       "6 PITX1    "
      ]
     },
     "metadata": {},
     "output_type": "display_data"
    },
    {
     "data": {
      "text/html": [
       "<ol class=list-inline>\n",
       "\t<li>205</li>\n",
       "\t<li>3</li>\n",
       "</ol>\n"
      ],
      "text/latex": [
       "\\begin{enumerate*}\n",
       "\\item 205\n",
       "\\item 3\n",
       "\\end{enumerate*}\n"
      ],
      "text/markdown": [
       "1. 205\n",
       "2. 3\n",
       "\n",
       "\n"
      ],
      "text/plain": [
       "[1] 205   3"
      ]
     },
     "metadata": {},
     "output_type": "display_data"
    }
   ],
   "source": [
    "head(T_C_intersect_up)\n",
    "dim(T_C_intersect_up)"
   ]
  },
  {
   "cell_type": "code",
   "execution_count": 91,
   "metadata": {
    "collapsed": false
   },
   "outputs": [],
   "source": [
    "write.table(T_C_intersect_up,\"TB_Cancer_up.xls\",sep = \"\\t\",quote = F)"
   ]
  },
  {
   "cell_type": "code",
   "execution_count": 92,
   "metadata": {
    "collapsed": false,
    "scrolled": true
   },
   "outputs": [],
   "source": [
    "T_C_up_BP <- enrichGO(gene = T_C_intersect_up$ENTREZID,\n",
    "                 OrgDb         = org.Hs.eg.db,\n",
    "                 keyType       = 'ENTREZID',\n",
    "                 ont           = \"BP\",\n",
    "                 pAdjustMethod = \"BH\",\n",
    "                 qvalueCutoff  = 0.1)\n",
    "T_C_up_CC <- enrichGO(gene = T_C_intersect_up$ENTREZID,\n",
    "                 OrgDb         = org.Hs.eg.db,\n",
    "                 keyType       = 'ENTREZID',\n",
    "                 ont           = \"CC\",\n",
    "                 pAdjustMethod = \"BH\",\n",
    "                 qvalueCutoff  = 0.1)\n",
    "T_C_up_MF <- enrichGO(gene = T_C_intersect_up$ENTREZID,\n",
    "                 OrgDb         = org.Hs.eg.db,\n",
    "                 keyType       = 'ENTREZID',\n",
    "                 ont           = \"MF\",\n",
    "                 pAdjustMethod = \"BH\",\n",
    "                 qvalueCutoff  = 0.1)"
   ]
  },
  {
   "cell_type": "code",
   "execution_count": 93,
   "metadata": {
    "collapsed": false
   },
   "outputs": [],
   "source": [
    "T_C_up_KEGG <- enrichKEGG(gene = T_C_intersect_up$ENTREZID,\n",
    "                       organism     = 'hsa',\n",
    "                       pAdjustMethod = \"BH\",\n",
    "                       pvalueCutoff = 0.5,\n",
    "                       qvalueCutoff  = 1, use_internal_data=F)"
   ]
  },
  {
   "cell_type": "code",
   "execution_count": 94,
   "metadata": {
    "collapsed": true
   },
   "outputs": [],
   "source": [
    "write.table(mapid(T_C_up_KEGG),\"T_C_up_KEGG.xls\",sep = \"\\t\",quote = F,row.names = F)"
   ]
  },
  {
   "cell_type": "code",
   "execution_count": 95,
   "metadata": {
    "collapsed": true
   },
   "outputs": [],
   "source": [
    "T_C_up_reactome <- enrichPathway(gene=T_C_intersect_up$ENTREZID,qvalueCutoff=0.05, organism = \"human\")"
   ]
  },
  {
   "cell_type": "code",
   "execution_count": 96,
   "metadata": {
    "collapsed": true
   },
   "outputs": [],
   "source": [
    "write.table(mapid(T_C_up_reactome),\"T_C_up_reactome.xls\",sep = \"\\t\",quote = F,row.names = F)"
   ]
  },
  {
   "cell_type": "code",
   "execution_count": 97,
   "metadata": {
    "collapsed": false
   },
   "outputs": [
    {
     "data": {
      "text/html": [
       "<strong>png:</strong> 2"
      ],
      "text/latex": [
       "\\textbf{png:} 2"
      ],
      "text/markdown": [
       "**png:** 2"
      ],
      "text/plain": [
       "png \n",
       "  2 "
      ]
     },
     "metadata": {},
     "output_type": "display_data"
    }
   ],
   "source": [
    "pdf(\"T_C_up_reactome.pdf\",height=10,width=10)\n",
    "dotplot(T_C_up_reactome,showCategory=25,font.size=12)\n",
    "dev.off()"
   ]
  },
  {
   "cell_type": "markdown",
   "metadata": {},
   "source": [
    "#### 2. TB/Normal & Cancer/Normal significant gene all down regulated"
   ]
  },
  {
   "cell_type": "code",
   "execution_count": 98,
   "metadata": {
    "collapsed": true
   },
   "outputs": [],
   "source": [
    "T_C_intersect_down <- intersect(names(C_N_gene_matrix_gsea)[C_N_gene_matrix_gsea<=0],\n",
    "                              names(T_N_gene_matrix_gsea)[T_N_gene_matrix_gsea<=0])\n",
    "T_C_intersect_down <- annotation(T_C_intersect_down)"
   ]
  },
  {
   "cell_type": "code",
   "execution_count": 99,
   "metadata": {
    "collapsed": false
   },
   "outputs": [
    {
     "data": {
      "text/html": [
       "<table>\n",
       "<caption>A data.frame: 6 × 3</caption>\n",
       "<thead>\n",
       "\t<tr><th scope=col>ENTREZID</th><th scope=col>description</th><th scope=col>genename</th></tr>\n",
       "\t<tr><th scope=col>&lt;fct&gt;</th><th scope=col>&lt;chr&gt;</th><th scope=col>&lt;chr&gt;</th></tr>\n",
       "</thead>\n",
       "<tbody>\n",
       "\t<tr><td>120379</td><td>PIH1 domain containing 2 [Source:HGNC Symbol;Acc:HGNC:25210]                      </td><td>PIH1D2</td></tr>\n",
       "\t<tr><td>10908 </td><td>patatin like phospholipase domain containing 6 [Source:HGNC Symbol;Acc:HGNC:16268]</td><td>PNPLA6</td></tr>\n",
       "\t<tr><td>9185  </td><td>RALBP1 associated Eps domain containing 2 [Source:HGNC Symbol;Acc:HGNC:9963]      </td><td>REPS2 </td></tr>\n",
       "\t<tr><td>54986 </td><td>unc-51 like kinase 4 [Source:HGNC Symbol;Acc:HGNC:15784]                          </td><td>ULK4  </td></tr>\n",
       "\t<tr><td>896   </td><td>cyclin D3 [Source:HGNC Symbol;Acc:HGNC:1585]                                      </td><td>CCND3 </td></tr>\n",
       "\t<tr><td>631   </td><td>beaded filament structural protein 1 [Source:HGNC Symbol;Acc:HGNC:1040]           </td><td>BFSP1 </td></tr>\n",
       "</tbody>\n",
       "</table>\n"
      ],
      "text/latex": [
       "A data.frame: 6 × 3\n",
       "\\begin{tabular}{r|lll}\n",
       " ENTREZID & description & genename\\\\\n",
       " <fct> & <chr> & <chr>\\\\\n",
       "\\hline\n",
       "\t 120379 & PIH1 domain containing 2 {[}Source:HGNC Symbol;Acc:HGNC:25210{]}                       & PIH1D2\\\\\n",
       "\t 10908  & patatin like phospholipase domain containing 6 {[}Source:HGNC Symbol;Acc:HGNC:16268{]} & PNPLA6\\\\\n",
       "\t 9185   & RALBP1 associated Eps domain containing 2 {[}Source:HGNC Symbol;Acc:HGNC:9963{]}       & REPS2 \\\\\n",
       "\t 54986  & unc-51 like kinase 4 {[}Source:HGNC Symbol;Acc:HGNC:15784{]}                           & ULK4  \\\\\n",
       "\t 896    & cyclin D3 {[}Source:HGNC Symbol;Acc:HGNC:1585{]}                                       & CCND3 \\\\\n",
       "\t 631    & beaded filament structural protein 1 {[}Source:HGNC Symbol;Acc:HGNC:1040{]}            & BFSP1 \\\\\n",
       "\\end{tabular}\n"
      ],
      "text/markdown": [
       "\n",
       "A data.frame: 6 × 3\n",
       "\n",
       "| ENTREZID &lt;fct&gt; | description &lt;chr&gt; | genename &lt;chr&gt; |\n",
       "|---|---|---|\n",
       "| 120379 | PIH1 domain containing 2 [Source:HGNC Symbol;Acc:HGNC:25210]                       | PIH1D2 |\n",
       "| 10908  | patatin like phospholipase domain containing 6 [Source:HGNC Symbol;Acc:HGNC:16268] | PNPLA6 |\n",
       "| 9185   | RALBP1 associated Eps domain containing 2 [Source:HGNC Symbol;Acc:HGNC:9963]       | REPS2  |\n",
       "| 54986  | unc-51 like kinase 4 [Source:HGNC Symbol;Acc:HGNC:15784]                           | ULK4   |\n",
       "| 896    | cyclin D3 [Source:HGNC Symbol;Acc:HGNC:1585]                                       | CCND3  |\n",
       "| 631    | beaded filament structural protein 1 [Source:HGNC Symbol;Acc:HGNC:1040]            | BFSP1  |\n",
       "\n"
      ],
      "text/plain": [
       "  ENTREZID\n",
       "1 120379  \n",
       "2 10908   \n",
       "3 9185    \n",
       "4 54986   \n",
       "5 896     \n",
       "6 631     \n",
       "  description                                                                       \n",
       "1 PIH1 domain containing 2 [Source:HGNC Symbol;Acc:HGNC:25210]                      \n",
       "2 patatin like phospholipase domain containing 6 [Source:HGNC Symbol;Acc:HGNC:16268]\n",
       "3 RALBP1 associated Eps domain containing 2 [Source:HGNC Symbol;Acc:HGNC:9963]      \n",
       "4 unc-51 like kinase 4 [Source:HGNC Symbol;Acc:HGNC:15784]                          \n",
       "5 cyclin D3 [Source:HGNC Symbol;Acc:HGNC:1585]                                      \n",
       "6 beaded filament structural protein 1 [Source:HGNC Symbol;Acc:HGNC:1040]           \n",
       "  genename\n",
       "1 PIH1D2  \n",
       "2 PNPLA6  \n",
       "3 REPS2   \n",
       "4 ULK4    \n",
       "5 CCND3   \n",
       "6 BFSP1   "
      ]
     },
     "metadata": {},
     "output_type": "display_data"
    },
    {
     "data": {
      "text/html": [
       "<ol class=list-inline>\n",
       "\t<li>126</li>\n",
       "\t<li>3</li>\n",
       "</ol>\n"
      ],
      "text/latex": [
       "\\begin{enumerate*}\n",
       "\\item 126\n",
       "\\item 3\n",
       "\\end{enumerate*}\n"
      ],
      "text/markdown": [
       "1. 126\n",
       "2. 3\n",
       "\n",
       "\n"
      ],
      "text/plain": [
       "[1] 126   3"
      ]
     },
     "metadata": {},
     "output_type": "display_data"
    }
   ],
   "source": [
    "head(T_C_intersect_down)\n",
    "dim(T_C_intersect_down)"
   ]
  },
  {
   "cell_type": "code",
   "execution_count": 100,
   "metadata": {
    "collapsed": true
   },
   "outputs": [],
   "source": [
    "write.table(mapid(T_C_intersect_down),\"TB_Cancer_down.xls\",sep = \"\\t\",quote = F)"
   ]
  },
  {
   "cell_type": "code",
   "execution_count": 101,
   "metadata": {
    "collapsed": true
   },
   "outputs": [],
   "source": [
    "T_C_down_BP <- enrichGO(gene = T_C_intersect_down$ENTREZID,\n",
    "                 OrgDb         = org.Hs.eg.db,\n",
    "                 keyType       = 'ENTREZID',\n",
    "                 ont           = \"BP\",\n",
    "                 pAdjustMethod = \"BH\",\n",
    "                 qvalueCutoff  = 0.1)\n",
    "T_C_down_CC <- enrichGO(gene = T_C_intersect_down$ENTREZID,\n",
    "                 OrgDb         = org.Hs.eg.db,\n",
    "                 keyType       = 'ENTREZID',\n",
    "                 ont           = \"CC\",\n",
    "                 pAdjustMethod = \"BH\",\n",
    "                 qvalueCutoff  = 0.1)\n",
    "T_C_down_MF <- enrichGO(gene = T_C_intersect_down$ENTREZID,\n",
    "                 OrgDb         = org.Hs.eg.db,\n",
    "                 keyType       = 'ENTREZID',\n",
    "                 ont           = \"MF\",\n",
    "                 pAdjustMethod = \"BH\",\n",
    "                 qvalueCutoff  = 0.1)"
   ]
  },
  {
   "cell_type": "code",
   "execution_count": 102,
   "metadata": {
    "collapsed": false
   },
   "outputs": [],
   "source": [
    "T_C_down_KEGG <- enrichKEGG(gene = T_C_intersect_down$ENTREZID,\n",
    "                       organism     = 'hsa',\n",
    "                       pAdjustMethod = \"BH\",\n",
    "                       pvalueCutoff = 0.5,\n",
    "                       qvalueCutoff  = 1, use_internal_data=F)"
   ]
  },
  {
   "cell_type": "code",
   "execution_count": 103,
   "metadata": {
    "collapsed": true
   },
   "outputs": [],
   "source": [
    "write.table(mapid(T_C_down_KEGG),\"T_C_down_KEGG.xls\",sep = \"\\t\",quote = F,row.names = F)"
   ]
  },
  {
   "cell_type": "code",
   "execution_count": 104,
   "metadata": {
    "collapsed": true
   },
   "outputs": [],
   "source": [
    "T_C_down_reactome <- enrichPathway(gene=T_C_intersect_down$ENTREZID,qvalueCutoff=0.05, organism = \"human\")"
   ]
  },
  {
   "cell_type": "markdown",
   "metadata": {},
   "source": [
    "#### 3. TB/Normal & Cancer/Normal significant gene all"
   ]
  },
  {
   "cell_type": "code",
   "execution_count": 105,
   "metadata": {
    "collapsed": false
   },
   "outputs": [],
   "source": [
    "# Gather first number significant genes and make matrix\n",
    "library(pheatmap)\n",
    "T_C <- as.character(rbind(T_C_intersect_down,T_C_intersect_up)$genename)\n",
    "mat <- rpkmdata[row.names(T_N_results_sig[T_N_results_sig$genename%in%T_C,]),orders]\n",
    "row.names(mat) <- T_C\n",
    "# Choose which column variables you want to annotate the columns by.\n",
    "annotation_col = data.frame(\n",
    "  Group = as.character(metadata$Group), \n",
    "  row.names = as.character(metadata$sampleid)\n",
    ")\n",
    "\n",
    "# Specify colors you want to annotate the columns by.\n",
    "ann_colors = list(\n",
    "  Group = c(Control = \"lightblue\",TB=\"darkgreen\",Cancer=\"pink\")\n",
    ")\n",
    "\n",
    "# Make Heatmap with pheatmap function.\n",
    "## See more in documentation for customization\n",
    "p <- pheatmap(mat = mat, \n",
    "         color = colorRampPalette(c(\"blue\",\"white\",\"red\"))(255), \n",
    "         #color = colorRampPalette(rev(c(\"#D73027\", \"#FC8D59\", \"#FEE090\", \"#FFFFBF\", \n",
    "         #\"#E0F3F8\", \"#91BFDB\", \"#4575B4\")))(75),\n",
    "         scale = \"row\", # Scale genes to Z-score (how many standard deviations)\n",
    "         annotation_col = annotation_col, # Add multiple annotations to the samples\n",
    "         annotation_colors = ann_colors,# Change the default colors of the annotations\n",
    "         #fontsize = 6.5, # Make fonts smaller\n",
    "         #cellwidth = 55, # Make the cells wider\n",
    "         #cluster_cols=F,\n",
    "         height=15,fontsize = 5,filename=\"TB&Cancer.pdf\",\n",
    "         width=15)"
   ]
  },
  {
   "cell_type": "code",
   "execution_count": 106,
   "metadata": {
    "collapsed": false
   },
   "outputs": [],
   "source": [
    "write.table(mat[p$tree_row[[\"order\"]],p$tree_col[[\"order\"]]],\"TB_Cancer_up&down.xls\",sep = \"\\t\",quote = F)"
   ]
  },
  {
   "cell_type": "code",
   "execution_count": 107,
   "metadata": {
    "collapsed": true
   },
   "outputs": [],
   "source": [
    "T_C_intersect_updown <- intersect(names(C_N_gene_matrix_gsea),names(T_N_gene_matrix_gsea))\n",
    "T_C_intersect_updown <- annotation(T_C_intersect_updown)"
   ]
  },
  {
   "cell_type": "code",
   "execution_count": 108,
   "metadata": {
    "collapsed": false
   },
   "outputs": [],
   "source": [
    "T_C_updown_BP <- enrichGO(gene = T_C_intersect_updown$ENTREZID,\n",
    "                 OrgDb         = org.Hs.eg.db,\n",
    "                 keyType       = 'ENTREZID',\n",
    "                 ont           = \"BP\",\n",
    "                 pAdjustMethod = \"BH\",\n",
    "                 qvalueCutoff  = 0.1)\n",
    "T_C_updown_CC <- enrichGO(gene = T_C_intersect_updown$ENTREZID,\n",
    "                 OrgDb         = org.Hs.eg.db,\n",
    "                 keyType       = 'ENTREZID',\n",
    "                 ont           = \"CC\",\n",
    "                 pAdjustMethod = \"BH\",\n",
    "                 qvalueCutoff  = 0.1)\n",
    "T_C_updown_MF <- enrichGO(gene = T_C_intersect_updown$ENTREZID,\n",
    "                 OrgDb         = org.Hs.eg.db,\n",
    "                 keyType       = 'ENTREZID',\n",
    "                 ont           = \"MF\",\n",
    "                 pAdjustMethod = \"BH\",\n",
    "                 qvalueCutoff  = 0.1)"
   ]
  },
  {
   "cell_type": "code",
   "execution_count": 109,
   "metadata": {
    "collapsed": true
   },
   "outputs": [],
   "source": [
    "T_C_updown_KEGG <- enrichKEGG(gene = T_C_intersect_updown$ENTREZID,\n",
    "                       organism     = 'hsa',\n",
    "                       pAdjustMethod = \"BH\",\n",
    "                       pvalueCutoff = 0.5,\n",
    "                       qvalueCutoff  = 1, use_internal_data=F)"
   ]
  },
  {
   "cell_type": "code",
   "execution_count": 110,
   "metadata": {
    "collapsed": false
   },
   "outputs": [
    {
     "data": {
      "text/html": [
       "<strong>png:</strong> 2"
      ],
      "text/latex": [
       "\\textbf{png:} 2"
      ],
      "text/markdown": [
       "**png:** 2"
      ],
      "text/plain": [
       "png \n",
       "  2 "
      ]
     },
     "metadata": {},
     "output_type": "display_data"
    }
   ],
   "source": [
    "pdf(\"T_C_updown_KEGG.pdf\",height=10,width=10)\n",
    "dotplot(T_C_updown_KEGG,showCategory=25,font.size=12)\n",
    "dev.off()"
   ]
  },
  {
   "cell_type": "code",
   "execution_count": 111,
   "metadata": {
    "collapsed": true
   },
   "outputs": [],
   "source": [
    "write.table(mapid(T_C_updown_KEGG),\"T_C_updown_KEGG.xls\",sep = \"\\t\",quote = F,row.names = F)"
   ]
  },
  {
   "cell_type": "code",
   "execution_count": 112,
   "metadata": {
    "collapsed": true
   },
   "outputs": [],
   "source": [
    "T_C_updown_reactome <- enrichPathway(gene=T_C_intersect_updown$ENTREZID,qvalueCutoff=0.05, organism = \"human\")"
   ]
  },
  {
   "cell_type": "code",
   "execution_count": 113,
   "metadata": {
    "collapsed": true
   },
   "outputs": [],
   "source": [
    "write.table(mapid(T_C_updown_reactome),\"T_C_updown_reactome.xls\",sep = \"\\t\",quote = F,row.names = F)"
   ]
  },
  {
   "cell_type": "code",
   "execution_count": 114,
   "metadata": {
    "collapsed": false
   },
   "outputs": [
    {
     "data": {
      "text/html": [
       "<strong>png:</strong> 2"
      ],
      "text/latex": [
       "\\textbf{png:} 2"
      ],
      "text/markdown": [
       "**png:** 2"
      ],
      "text/plain": [
       "png \n",
       "  2 "
      ]
     },
     "metadata": {},
     "output_type": "display_data"
    }
   ],
   "source": [
    "pdf(\"T_C_updown_reactome.pdf\",height=10,width=10)\n",
    "dotplot(T_C_updown_reactome,showCategory=25,font.size=12)\n",
    "dev.off()"
   ]
  },
  {
   "cell_type": "markdown",
   "metadata": {},
   "source": [
    "#### 4. TB/Normal & SD/Normal significant gene all up regulated"
   ]
  },
  {
   "cell_type": "code",
   "execution_count": 115,
   "metadata": {
    "collapsed": true
   },
   "outputs": [],
   "source": [
    "T_S_intersect_up <- intersect(names(S_N_gene_matrix_gsea)[S_N_gene_matrix_gsea>0],\n",
    "                              names(T_N_gene_matrix_gsea)[T_N_gene_matrix_gsea>0])\n",
    "T_S_intersect_up <- annotation(T_S_intersect_up)"
   ]
  },
  {
   "cell_type": "code",
   "execution_count": 116,
   "metadata": {
    "collapsed": false
   },
   "outputs": [
    {
     "data": {
      "text/html": [
       "<table>\n",
       "<caption>A data.frame: 6 × 3</caption>\n",
       "<thead>\n",
       "\t<tr><th scope=col>ENTREZID</th><th scope=col>description</th><th scope=col>genename</th></tr>\n",
       "\t<tr><th scope=col>&lt;fct&gt;</th><th scope=col>&lt;chr&gt;</th><th scope=col>&lt;chr&gt;</th></tr>\n",
       "</thead>\n",
       "<tbody>\n",
       "\t<tr><td>9407  </td><td>transmembrane protease, serine 11D [Source:HGNC Symbol;Acc:HGNC:24059]        </td><td>TMPRSS11D</td></tr>\n",
       "\t<tr><td>23581 </td><td>caspase 14 [Source:HGNC Symbol;Acc:HGNC:1502]                                 </td><td>CASP14   </td></tr>\n",
       "\t<tr><td>63950 </td><td>DMRT like family A2 [Source:HGNC Symbol;Acc:HGNC:13908]                       </td><td>DMRTA2   </td></tr>\n",
       "\t<tr><td>4321  </td><td>matrix metallopeptidase 12 [Source:HGNC Symbol;Acc:HGNC:7158]                 </td><td>MMP12    </td></tr>\n",
       "\t<tr><td>260436</td><td>follicular dendritic cell secreted protein [Source:HGNC Symbol;Acc:HGNC:19215]</td><td>FDCSP    </td></tr>\n",
       "\t<tr><td>116379</td><td>interleukin 22 receptor subunit alpha 2 [Source:HGNC Symbol;Acc:HGNC:14901]   </td><td>IL22RA2  </td></tr>\n",
       "</tbody>\n",
       "</table>\n"
      ],
      "text/latex": [
       "A data.frame: 6 × 3\n",
       "\\begin{tabular}{r|lll}\n",
       " ENTREZID & description & genename\\\\\n",
       " <fct> & <chr> & <chr>\\\\\n",
       "\\hline\n",
       "\t 9407   & transmembrane protease, serine 11D {[}Source:HGNC Symbol;Acc:HGNC:24059{]}         & TMPRSS11D\\\\\n",
       "\t 23581  & caspase 14 {[}Source:HGNC Symbol;Acc:HGNC:1502{]}                                  & CASP14   \\\\\n",
       "\t 63950  & DMRT like family A2 {[}Source:HGNC Symbol;Acc:HGNC:13908{]}                        & DMRTA2   \\\\\n",
       "\t 4321   & matrix metallopeptidase 12 {[}Source:HGNC Symbol;Acc:HGNC:7158{]}                  & MMP12    \\\\\n",
       "\t 260436 & follicular dendritic cell secreted protein {[}Source:HGNC Symbol;Acc:HGNC:19215{]} & FDCSP    \\\\\n",
       "\t 116379 & interleukin 22 receptor subunit alpha 2 {[}Source:HGNC Symbol;Acc:HGNC:14901{]}    & IL22RA2  \\\\\n",
       "\\end{tabular}\n"
      ],
      "text/markdown": [
       "\n",
       "A data.frame: 6 × 3\n",
       "\n",
       "| ENTREZID &lt;fct&gt; | description &lt;chr&gt; | genename &lt;chr&gt; |\n",
       "|---|---|---|\n",
       "| 9407   | transmembrane protease, serine 11D [Source:HGNC Symbol;Acc:HGNC:24059]         | TMPRSS11D |\n",
       "| 23581  | caspase 14 [Source:HGNC Symbol;Acc:HGNC:1502]                                  | CASP14    |\n",
       "| 63950  | DMRT like family A2 [Source:HGNC Symbol;Acc:HGNC:13908]                        | DMRTA2    |\n",
       "| 4321   | matrix metallopeptidase 12 [Source:HGNC Symbol;Acc:HGNC:7158]                  | MMP12     |\n",
       "| 260436 | follicular dendritic cell secreted protein [Source:HGNC Symbol;Acc:HGNC:19215] | FDCSP     |\n",
       "| 116379 | interleukin 22 receptor subunit alpha 2 [Source:HGNC Symbol;Acc:HGNC:14901]    | IL22RA2   |\n",
       "\n"
      ],
      "text/plain": [
       "  ENTREZID\n",
       "1 9407    \n",
       "2 23581   \n",
       "3 63950   \n",
       "4 4321    \n",
       "5 260436  \n",
       "6 116379  \n",
       "  description                                                                   \n",
       "1 transmembrane protease, serine 11D [Source:HGNC Symbol;Acc:HGNC:24059]        \n",
       "2 caspase 14 [Source:HGNC Symbol;Acc:HGNC:1502]                                 \n",
       "3 DMRT like family A2 [Source:HGNC Symbol;Acc:HGNC:13908]                       \n",
       "4 matrix metallopeptidase 12 [Source:HGNC Symbol;Acc:HGNC:7158]                 \n",
       "5 follicular dendritic cell secreted protein [Source:HGNC Symbol;Acc:HGNC:19215]\n",
       "6 interleukin 22 receptor subunit alpha 2 [Source:HGNC Symbol;Acc:HGNC:14901]   \n",
       "  genename \n",
       "1 TMPRSS11D\n",
       "2 CASP14   \n",
       "3 DMRTA2   \n",
       "4 MMP12    \n",
       "5 FDCSP    \n",
       "6 IL22RA2  "
      ]
     },
     "metadata": {},
     "output_type": "display_data"
    },
    {
     "data": {
      "text/html": [
       "<ol class=list-inline>\n",
       "\t<li>191</li>\n",
       "\t<li>3</li>\n",
       "</ol>\n"
      ],
      "text/latex": [
       "\\begin{enumerate*}\n",
       "\\item 191\n",
       "\\item 3\n",
       "\\end{enumerate*}\n"
      ],
      "text/markdown": [
       "1. 191\n",
       "2. 3\n",
       "\n",
       "\n"
      ],
      "text/plain": [
       "[1] 191   3"
      ]
     },
     "metadata": {},
     "output_type": "display_data"
    }
   ],
   "source": [
    "head(T_S_intersect_up)\n",
    "dim(T_S_intersect_up)"
   ]
  },
  {
   "cell_type": "code",
   "execution_count": 117,
   "metadata": {
    "collapsed": true
   },
   "outputs": [],
   "source": [
    "write.table(T_S_intersect_up,\"TB_SD_up.xls\",sep = \"\\t\",quote = F)"
   ]
  },
  {
   "cell_type": "code",
   "execution_count": 118,
   "metadata": {
    "collapsed": true
   },
   "outputs": [],
   "source": [
    "T_S_up_BP <- enrichGO(gene = T_S_intersect_up$ENTREZID,\n",
    "                 OrgDb         = org.Hs.eg.db,\n",
    "                 keyType       = 'ENTREZID',\n",
    "                 ont           = \"BP\",\n",
    "                 pAdjustMethod = \"BH\",\n",
    "                 qvalueCutoff  = 0.1)\n",
    "T_S_up_CC <- enrichGO(gene = T_S_intersect_up$ENTREZID,\n",
    "                 OrgDb         = org.Hs.eg.db,\n",
    "                 keyType       = 'ENTREZID',\n",
    "                 ont           = \"CC\",\n",
    "                 pAdjustMethod = \"BH\",\n",
    "                 qvalueCutoff  = 0.1)\n",
    "T_S_up_MF <- enrichGO(gene = T_S_intersect_up$ENTREZID,\n",
    "                 OrgDb         = org.Hs.eg.db,\n",
    "                 keyType       = 'ENTREZID',\n",
    "                 ont           = \"MF\",\n",
    "                 pAdjustMethod = \"BH\",\n",
    "                 qvalueCutoff  = 0.1)"
   ]
  },
  {
   "cell_type": "code",
   "execution_count": 119,
   "metadata": {
    "collapsed": true
   },
   "outputs": [],
   "source": [
    "T_S_up_KEGG <- enrichKEGG(gene = T_S_intersect_up$ENTREZID,\n",
    "                       organism     = 'hsa',\n",
    "                       pAdjustMethod = \"BH\",\n",
    "                       pvalueCutoff = 0.5,\n",
    "                       qvalueCutoff  = 1, use_internal_data=F)"
   ]
  },
  {
   "cell_type": "code",
   "execution_count": 120,
   "metadata": {
    "collapsed": true
   },
   "outputs": [],
   "source": [
    "write.table(mapid(T_S_up_KEGG),\"T_S_up_KEGG.xls\",sep = \"\\t\",quote = F,row.names = F)"
   ]
  },
  {
   "cell_type": "code",
   "execution_count": 121,
   "metadata": {
    "collapsed": true
   },
   "outputs": [],
   "source": [
    "T_S_up_reactome <- enrichPathway(gene=T_S_intersect_up$ENTREZID,qvalueCutoff=0.05, organism = \"human\")"
   ]
  },
  {
   "cell_type": "code",
   "execution_count": 122,
   "metadata": {
    "collapsed": true
   },
   "outputs": [],
   "source": [
    "write.table(mapid(T_S_up_reactome),\"T_S_up_reactome.xls\",sep = \"\\t\",quote = F,row.names = F)"
   ]
  },
  {
   "cell_type": "code",
   "execution_count": 123,
   "metadata": {
    "collapsed": false
   },
   "outputs": [
    {
     "data": {
      "text/html": [
       "<strong>png:</strong> 2"
      ],
      "text/latex": [
       "\\textbf{png:} 2"
      ],
      "text/markdown": [
       "**png:** 2"
      ],
      "text/plain": [
       "png \n",
       "  2 "
      ]
     },
     "metadata": {},
     "output_type": "display_data"
    }
   ],
   "source": [
    "pdf(\"T_S_up_reactome.pdf\",height=10,width=10)\n",
    "dotplot(T_S_up_reactome,showCategory=25,font.size=12)\n",
    "dev.off()"
   ]
  },
  {
   "cell_type": "markdown",
   "metadata": {},
   "source": [
    "#### 5. TB/Normal & SD/Normal significant gene all down regulated"
   ]
  },
  {
   "cell_type": "code",
   "execution_count": 124,
   "metadata": {
    "collapsed": true
   },
   "outputs": [],
   "source": [
    "T_S_intersect_down <- intersect(names(S_N_gene_matrix_gsea)[S_N_gene_matrix_gsea<=0],\n",
    "                              names(T_N_gene_matrix_gsea)[T_N_gene_matrix_gsea<=0])\n",
    "T_S_intersect_down <- annotation(T_S_intersect_down)"
   ]
  },
  {
   "cell_type": "code",
   "execution_count": 125,
   "metadata": {
    "collapsed": true
   },
   "outputs": [],
   "source": [
    "write.table(T_S_intersect_down,\"TB_SD_down.xls\",sep = \"\\t\",quote = F)"
   ]
  },
  {
   "cell_type": "markdown",
   "metadata": {},
   "source": [
    "#### 6. TB/Normal & SD/Normal significant gene all"
   ]
  },
  {
   "cell_type": "code",
   "execution_count": 126,
   "metadata": {
    "collapsed": false
   },
   "outputs": [],
   "source": [
    "# Gather first number significant genes and make matrix\n",
    "library(pheatmap)\n",
    "T_S <- as.character(rbind(T_S_intersect_down,T_S_intersect_up)$genename)\n",
    "\n",
    "mat <- rpkmdata[row.names(T_N_results_sig[T_N_results_sig$genename%in%T_S,]),orders]\n",
    "row.names(mat) <- T_S\n",
    "# Choose which column variables you want to annotate the columns by.\n",
    "annotation_col = data.frame(\n",
    "  Group = as.character(metadata$Group), \n",
    "  row.names = as.character(metadata$sampleid)\n",
    ")\n",
    "\n",
    "# Specify colors you want to annotate the columns by.\n",
    "ann_colors = list(\n",
    "  Group = c(Control = \"lightblue\",TB=\"darkgreen\",SD=\"purple\")\n",
    ")\n",
    "\n",
    "# Make Heatmap with pheatmap function.\n",
    "## See more in documentation for customization\n",
    "p <- pheatmap(mat = mat, \n",
    "         color = colorRampPalette(c(\"blue\",\"white\",\"red\"))(255), \n",
    "         #color = colorRampPalette(rev(c(\"#D73027\", \"#FC8D59\", \"#FEE090\", \"#FFFFBF\", \n",
    "         #\"#E0F3F8\", \"#91BFDB\", \"#4575B4\")))(75),\n",
    "         scale = \"row\", # Scale genes to Z-score (how many standard deviations)\n",
    "         annotation_col = annotation_col, # Add multiple annotations to the samples\n",
    "         annotation_colors = ann_colors,# Change the default colors of the annotations\n",
    "         #fontsize = 6.5, # Make fonts smaller\n",
    "         #cellwidth = 55, # Make the cells wider\n",
    "         #cluster_cols=F,\n",
    "         height=15,fontsize = 5,filename=\"TB&SD.pdf\",\n",
    "         width=15)"
   ]
  },
  {
   "cell_type": "code",
   "execution_count": 127,
   "metadata": {
    "collapsed": true
   },
   "outputs": [],
   "source": [
    "T_S_intersect_updown <- intersect(names(S_N_gene_matrix_gsea),\n",
    "                              names(T_N_gene_matrix_gsea))\n",
    "T_S_intersect_updown <- annotation(T_S_intersect_updown)"
   ]
  },
  {
   "cell_type": "code",
   "execution_count": 128,
   "metadata": {
    "collapsed": true
   },
   "outputs": [],
   "source": [
    "T_S_updown_KEGG <- enrichKEGG(gene = T_S_intersect_updown$ENTREZID,\n",
    "                       organism     = 'hsa',\n",
    "                       pAdjustMethod = \"BH\",\n",
    "                       pvalueCutoff = 0.5,\n",
    "                       qvalueCutoff  = 1, use_internal_data=F)"
   ]
  },
  {
   "cell_type": "code",
   "execution_count": 129,
   "metadata": {
    "collapsed": false
   },
   "outputs": [
    {
     "data": {
      "text/html": [
       "<strong>png:</strong> 2"
      ],
      "text/latex": [
       "\\textbf{png:} 2"
      ],
      "text/markdown": [
       "**png:** 2"
      ],
      "text/plain": [
       "png \n",
       "  2 "
      ]
     },
     "metadata": {},
     "output_type": "display_data"
    }
   ],
   "source": [
    "pdf(\"T_S_updown_KEGG.pdf\",height=10,width=10)\n",
    "dotplot(T_S_updown_KEGG,showCategory=25,font.size=12)\n",
    "dev.off()"
   ]
  },
  {
   "cell_type": "code",
   "execution_count": 130,
   "metadata": {
    "collapsed": true
   },
   "outputs": [],
   "source": [
    "write.table(mapid(T_S_updown_KEGG),\"T_S_updown_KEGG.xls\",sep = \"\\t\",quote = F,row.names = F)"
   ]
  },
  {
   "cell_type": "code",
   "execution_count": 131,
   "metadata": {
    "collapsed": true
   },
   "outputs": [],
   "source": [
    "T_S_updown_reactome <- enrichPathway(gene=T_S_intersect_updown$ENTREZID,qvalueCutoff=0.05, organism = \"human\")"
   ]
  },
  {
   "cell_type": "code",
   "execution_count": 132,
   "metadata": {
    "collapsed": true
   },
   "outputs": [],
   "source": [
    "write.table(mapid(T_S_updown_reactome),\"T_S_updown_reactome.xls\",sep = \"\\t\",quote = F,row.names = F)"
   ]
  },
  {
   "cell_type": "code",
   "execution_count": 133,
   "metadata": {
    "collapsed": false
   },
   "outputs": [
    {
     "data": {
      "text/html": [
       "<strong>png:</strong> 2"
      ],
      "text/latex": [
       "\\textbf{png:} 2"
      ],
      "text/markdown": [
       "**png:** 2"
      ],
      "text/plain": [
       "png \n",
       "  2 "
      ]
     },
     "metadata": {},
     "output_type": "display_data"
    }
   ],
   "source": [
    "pdf(\"T_S_updown_reactome.pdf\",height=10,width=10)\n",
    "dotplot(T_S_updown_reactome,showCategory=25,font.size=12)\n",
    "dev.off()"
   ]
  },
  {
   "cell_type": "markdown",
   "metadata": {},
   "source": [
    "#### 3. TB/Normal & Cancer/Normal significant different genes"
   ]
  },
  {
   "cell_type": "code",
   "execution_count": 134,
   "metadata": {
    "collapsed": false
   },
   "outputs": [
    {
     "data": {
      "text/html": [
       "<ol class=list-inline>\n",
       "\t<li>'5502'</li>\n",
       "\t<li>'477'</li>\n",
       "\t<li>'123103'</li>\n",
       "\t<li>'29970'</li>\n",
       "\t<li>'10682'</li>\n",
       "\t<li>'57393'</li>\n",
       "</ol>\n"
      ],
      "text/latex": [
       "\\begin{enumerate*}\n",
       "\\item '5502'\n",
       "\\item '477'\n",
       "\\item '123103'\n",
       "\\item '29970'\n",
       "\\item '10682'\n",
       "\\item '57393'\n",
       "\\end{enumerate*}\n"
      ],
      "text/markdown": [
       "1. '5502'\n",
       "2. '477'\n",
       "3. '123103'\n",
       "4. '29970'\n",
       "5. '10682'\n",
       "6. '57393'\n",
       "\n",
       "\n"
      ],
      "text/plain": [
       "[1] \"5502\"   \"477\"    \"123103\" \"29970\"  \"10682\"  \"57393\" "
      ]
     },
     "metadata": {},
     "output_type": "display_data"
    }
   ],
   "source": [
    "same <- union(T_C_intersect_down$ENTREZID\n",
    "              ,T_C_intersect_up$ENTREZID)\n",
    "T_C_intersect_diff <- setdiff(intersect(names(T_N_gene_matrix_gsea),names(C_N_gene_matrix_gsea)),same)\n",
    "head(T_C_intersect_diff)\n",
    "#T_C_intersect_diff <- annotation(T_C_intersect_diff)"
   ]
  },
  {
   "cell_type": "code",
   "execution_count": 135,
   "metadata": {
    "collapsed": true
   },
   "outputs": [],
   "source": [
    "#write.table(T_C_intersect_diff,\"TB_Cancer_diff.xls\",sep = \"\\t\",quote = F)"
   ]
  },
  {
   "cell_type": "markdown",
   "metadata": {},
   "source": [
    "### 2. Cancer/Normal DEGs but not in TB/Normal"
   ]
  },
  {
   "cell_type": "code",
   "execution_count": 136,
   "metadata": {
    "collapsed": false
   },
   "outputs": [
    {
     "data": {
      "text/html": [
       "<table>\n",
       "<caption>A data.frame: 6 × 3</caption>\n",
       "<thead>\n",
       "\t<tr><th scope=col>ENTREZID</th><th scope=col>description</th><th scope=col>genename</th></tr>\n",
       "\t<tr><th scope=col>&lt;fct&gt;</th><th scope=col>&lt;chr&gt;</th><th scope=col>&lt;chr&gt;</th></tr>\n",
       "</thead>\n",
       "<tbody>\n",
       "\t<tr><td>8581 </td><td>lymphocyte antigen 6 family member D [Source:HGNC Symbol;Acc:HGNC:13348]                      </td><td>LY6D    </td></tr>\n",
       "\t<tr><td>6318 </td><td>serpin family B member 4 [Source:HGNC Symbol;Acc:HGNC:10570]                                  </td><td>SERPINB4</td></tr>\n",
       "\t<tr><td>1830 </td><td>desmoglein 3 [Source:HGNC Symbol;Acc:HGNC:3050]                                               </td><td>DSG3    </td></tr>\n",
       "\t<tr><td>28234</td><td>solute carrier organic anion transporter family member 1B3 [Source:HGNC Symbol;Acc:HGNC:10961]</td><td>SLCO1B3 </td></tr>\n",
       "\t<tr><td>84985</td><td>family with sequence similarity 83 member A [Source:HGNC Symbol;Acc:HGNC:28210]               </td><td>FAM83A  </td></tr>\n",
       "\t<tr><td>56033</td><td>BARX homeobox 1 [Source:HGNC Symbol;Acc:HGNC:955]                                             </td><td>BARX1   </td></tr>\n",
       "</tbody>\n",
       "</table>\n"
      ],
      "text/latex": [
       "A data.frame: 6 × 3\n",
       "\\begin{tabular}{r|lll}\n",
       " ENTREZID & description & genename\\\\\n",
       " <fct> & <chr> & <chr>\\\\\n",
       "\\hline\n",
       "\t 8581  & lymphocyte antigen 6 family member D {[}Source:HGNC Symbol;Acc:HGNC:13348{]}                       & LY6D    \\\\\n",
       "\t 6318  & serpin family B member 4 {[}Source:HGNC Symbol;Acc:HGNC:10570{]}                                   & SERPINB4\\\\\n",
       "\t 1830  & desmoglein 3 {[}Source:HGNC Symbol;Acc:HGNC:3050{]}                                                & DSG3    \\\\\n",
       "\t 28234 & solute carrier organic anion transporter family member 1B3 {[}Source:HGNC Symbol;Acc:HGNC:10961{]} & SLCO1B3 \\\\\n",
       "\t 84985 & family with sequence similarity 83 member A {[}Source:HGNC Symbol;Acc:HGNC:28210{]}                & FAM83A  \\\\\n",
       "\t 56033 & BARX homeobox 1 {[}Source:HGNC Symbol;Acc:HGNC:955{]}                                              & BARX1   \\\\\n",
       "\\end{tabular}\n"
      ],
      "text/markdown": [
       "\n",
       "A data.frame: 6 × 3\n",
       "\n",
       "| ENTREZID &lt;fct&gt; | description &lt;chr&gt; | genename &lt;chr&gt; |\n",
       "|---|---|---|\n",
       "| 8581  | lymphocyte antigen 6 family member D [Source:HGNC Symbol;Acc:HGNC:13348]                       | LY6D     |\n",
       "| 6318  | serpin family B member 4 [Source:HGNC Symbol;Acc:HGNC:10570]                                   | SERPINB4 |\n",
       "| 1830  | desmoglein 3 [Source:HGNC Symbol;Acc:HGNC:3050]                                                | DSG3     |\n",
       "| 28234 | solute carrier organic anion transporter family member 1B3 [Source:HGNC Symbol;Acc:HGNC:10961] | SLCO1B3  |\n",
       "| 84985 | family with sequence similarity 83 member A [Source:HGNC Symbol;Acc:HGNC:28210]                | FAM83A   |\n",
       "| 56033 | BARX homeobox 1 [Source:HGNC Symbol;Acc:HGNC:955]                                              | BARX1    |\n",
       "\n"
      ],
      "text/plain": [
       "  ENTREZID\n",
       "1 8581    \n",
       "2 6318    \n",
       "3 1830    \n",
       "4 28234   \n",
       "5 84985   \n",
       "6 56033   \n",
       "  description                                                                                   \n",
       "1 lymphocyte antigen 6 family member D [Source:HGNC Symbol;Acc:HGNC:13348]                      \n",
       "2 serpin family B member 4 [Source:HGNC Symbol;Acc:HGNC:10570]                                  \n",
       "3 desmoglein 3 [Source:HGNC Symbol;Acc:HGNC:3050]                                               \n",
       "4 solute carrier organic anion transporter family member 1B3 [Source:HGNC Symbol;Acc:HGNC:10961]\n",
       "5 family with sequence similarity 83 member A [Source:HGNC Symbol;Acc:HGNC:28210]               \n",
       "6 BARX homeobox 1 [Source:HGNC Symbol;Acc:HGNC:955]                                             \n",
       "  genename\n",
       "1 LY6D    \n",
       "2 SERPINB4\n",
       "3 DSG3    \n",
       "4 SLCO1B3 \n",
       "5 FAM83A  \n",
       "6 BARX1   "
      ]
     },
     "metadata": {},
     "output_type": "display_data"
    },
    {
     "data": {
      "text/html": [
       "<ol class=list-inline>\n",
       "\t<li>3185</li>\n",
       "\t<li>3</li>\n",
       "</ol>\n"
      ],
      "text/latex": [
       "\\begin{enumerate*}\n",
       "\\item 3185\n",
       "\\item 3\n",
       "\\end{enumerate*}\n"
      ],
      "text/markdown": [
       "1. 3185\n",
       "2. 3\n",
       "\n",
       "\n"
      ],
      "text/plain": [
       "[1] 3185    3"
      ]
     },
     "metadata": {},
     "output_type": "display_data"
    }
   ],
   "source": [
    "CN_TN_setdiff_genes <- setdiff(names(C_N_gene_matrix_gsea),names(T_N_gene_matrix_gsea))\n",
    "CN_TN_genes <- annotation(CN_TN_setdiff_genes)\n",
    "head(CN_TN_genes)\n",
    "dim(CN_TN_genes)"
   ]
  },
  {
   "cell_type": "markdown",
   "metadata": {},
   "source": [
    "### 3. TB/Normal DEGs but not in Cancer/Normal"
   ]
  },
  {
   "cell_type": "code",
   "execution_count": 137,
   "metadata": {
    "collapsed": true
   },
   "outputs": [],
   "source": [
    "TN_CN_setdiff_genes <- setdiff(names(T_N_gene_matrix_gsea),names(C_N_gene_matrix_gsea))\n",
    "TN_CN_genes <- annotation(TN_CN_setdiff_genes)"
   ]
  },
  {
   "cell_type": "code",
   "execution_count": 138,
   "metadata": {
    "collapsed": false
   },
   "outputs": [
    {
     "data": {
      "text/html": [
       "<table>\n",
       "<caption>A data.frame: 6 × 3</caption>\n",
       "<thead>\n",
       "\t<tr><th scope=col>ENTREZID</th><th scope=col>description</th><th scope=col>genename</th></tr>\n",
       "\t<tr><th scope=col>&lt;fct&gt;</th><th scope=col>&lt;chr&gt;</th><th scope=col>&lt;chr&gt;</th></tr>\n",
       "</thead>\n",
       "<tbody>\n",
       "\t<tr><td>70    </td><td>actin, alpha, cardiac muscle 1 [Source:HGNC Symbol;Acc:HGNC:143]                </td><td>ACTC1</td></tr>\n",
       "\t<tr><td>144453</td><td>bestrophin 3 [Source:HGNC Symbol;Acc:HGNC:17105]                                </td><td>BEST3</td></tr>\n",
       "\t<tr><td>6329  </td><td>sodium voltage-gated channel alpha subunit 4 [Source:HGNC Symbol;Acc:HGNC:10591]</td><td>SCN4A</td></tr>\n",
       "\t<tr><td>80852 </td><td>glutamate receptor interacting protein 2 [Source:HGNC Symbol;Acc:HGNC:23841]    </td><td>GRIP2</td></tr>\n",
       "\t<tr><td>84940 </td><td>coronin 6 [Source:HGNC Symbol;Acc:HGNC:21356]                                   </td><td>CORO6</td></tr>\n",
       "\t<tr><td>176   </td><td>aggrecan [Source:HGNC Symbol;Acc:HGNC:319]                                      </td><td>ACAN </td></tr>\n",
       "</tbody>\n",
       "</table>\n"
      ],
      "text/latex": [
       "A data.frame: 6 × 3\n",
       "\\begin{tabular}{r|lll}\n",
       " ENTREZID & description & genename\\\\\n",
       " <fct> & <chr> & <chr>\\\\\n",
       "\\hline\n",
       "\t 70     & actin, alpha, cardiac muscle 1 {[}Source:HGNC Symbol;Acc:HGNC:143{]}                 & ACTC1\\\\\n",
       "\t 144453 & bestrophin 3 {[}Source:HGNC Symbol;Acc:HGNC:17105{]}                                 & BEST3\\\\\n",
       "\t 6329   & sodium voltage-gated channel alpha subunit 4 {[}Source:HGNC Symbol;Acc:HGNC:10591{]} & SCN4A\\\\\n",
       "\t 80852  & glutamate receptor interacting protein 2 {[}Source:HGNC Symbol;Acc:HGNC:23841{]}     & GRIP2\\\\\n",
       "\t 84940  & coronin 6 {[}Source:HGNC Symbol;Acc:HGNC:21356{]}                                    & CORO6\\\\\n",
       "\t 176    & aggrecan {[}Source:HGNC Symbol;Acc:HGNC:319{]}                                       & ACAN \\\\\n",
       "\\end{tabular}\n"
      ],
      "text/markdown": [
       "\n",
       "A data.frame: 6 × 3\n",
       "\n",
       "| ENTREZID &lt;fct&gt; | description &lt;chr&gt; | genename &lt;chr&gt; |\n",
       "|---|---|---|\n",
       "| 70     | actin, alpha, cardiac muscle 1 [Source:HGNC Symbol;Acc:HGNC:143]                 | ACTC1 |\n",
       "| 144453 | bestrophin 3 [Source:HGNC Symbol;Acc:HGNC:17105]                                 | BEST3 |\n",
       "| 6329   | sodium voltage-gated channel alpha subunit 4 [Source:HGNC Symbol;Acc:HGNC:10591] | SCN4A |\n",
       "| 80852  | glutamate receptor interacting protein 2 [Source:HGNC Symbol;Acc:HGNC:23841]     | GRIP2 |\n",
       "| 84940  | coronin 6 [Source:HGNC Symbol;Acc:HGNC:21356]                                    | CORO6 |\n",
       "| 176    | aggrecan [Source:HGNC Symbol;Acc:HGNC:319]                                       | ACAN  |\n",
       "\n"
      ],
      "text/plain": [
       "  ENTREZID\n",
       "1 70      \n",
       "2 144453  \n",
       "3 6329    \n",
       "4 80852   \n",
       "5 84940   \n",
       "6 176     \n",
       "  description                                                                     \n",
       "1 actin, alpha, cardiac muscle 1 [Source:HGNC Symbol;Acc:HGNC:143]                \n",
       "2 bestrophin 3 [Source:HGNC Symbol;Acc:HGNC:17105]                                \n",
       "3 sodium voltage-gated channel alpha subunit 4 [Source:HGNC Symbol;Acc:HGNC:10591]\n",
       "4 glutamate receptor interacting protein 2 [Source:HGNC Symbol;Acc:HGNC:23841]    \n",
       "5 coronin 6 [Source:HGNC Symbol;Acc:HGNC:21356]                                   \n",
       "6 aggrecan [Source:HGNC Symbol;Acc:HGNC:319]                                      \n",
       "  genename\n",
       "1 ACTC1   \n",
       "2 BEST3   \n",
       "3 SCN4A   \n",
       "4 GRIP2   \n",
       "5 CORO6   \n",
       "6 ACAN    "
      ]
     },
     "metadata": {},
     "output_type": "display_data"
    },
    {
     "data": {
      "text/html": [
       "<ol class=list-inline>\n",
       "\t<li>340</li>\n",
       "\t<li>3</li>\n",
       "</ol>\n"
      ],
      "text/latex": [
       "\\begin{enumerate*}\n",
       "\\item 340\n",
       "\\item 3\n",
       "\\end{enumerate*}\n"
      ],
      "text/markdown": [
       "1. 340\n",
       "2. 3\n",
       "\n",
       "\n"
      ],
      "text/plain": [
       "[1] 340   3"
      ]
     },
     "metadata": {},
     "output_type": "display_data"
    }
   ],
   "source": [
    "head(TN_CN_genes)\n",
    "dim(TN_CN_genes)"
   ]
  },
  {
   "cell_type": "markdown",
   "metadata": {},
   "source": [
    "# Differential genes visualization "
   ]
  },
  {
   "cell_type": "markdown",
   "metadata": {},
   "source": [
    "## 1.Venn diagram show the differential genes between three groups"
   ]
  },
  {
   "cell_type": "code",
   "execution_count": 139,
   "metadata": {
    "collapsed": false
   },
   "outputs": [
    {
     "name": "stderr",
     "output_type": "stream",
     "text": [
      "Loading required package: grid\n",
      "Loading required package: futile.logger\n"
     ]
    },
    {
     "data": {
      "text/html": [
       "<strong>png:</strong> 2"
      ],
      "text/latex": [
       "\\textbf{png:} 2"
      ],
      "text/markdown": [
       "**png:** 2"
      ],
      "text/plain": [
       "png \n",
       "  2 "
      ]
     },
     "metadata": {},
     "output_type": "display_data"
    }
   ],
   "source": [
    "library(VennDiagram)\n",
    "#T<-venn.diagram(list(\"Cancer-Normal\"=names(C_N_gene_matrix_gsea),\n",
    "#                     \"TB-Normal\"=names(T_N_gene_matrix_gsea),\n",
    "#                     \"TB-Cancer\"=names(T_C_gene_matrix_gsea)),\n",
    "#                filename=NULL ,lwd=1,lty=2,col=c('red','green','blue'),fill=c('red','green','blue')\n",
    "#                ,cat.col=c('red','green','blue')\n",
    "#                ,reverse=TRUE)\n",
    "venn <-venn.diagram(list(\"Cancer\"=names(C_N_gene_matrix_gsea),\n",
    "                     \"Tuberculosis\"=names(T_N_gene_matrix_gsea),\n",
    "                \"Sarcoidosis\"=names(S_N_gene_matrix_gsea)),\n",
    "                filename=NULL ,lwd=1,lty=2,col=c('red','green',\"blue\"),fill=c('red','green',\"blue\")\n",
    "                ,cat.col=c('red','green','blue'),cex = 1.5,sub.cex = 20\n",
    "                ,reverse=TRUE,margin = 0.2)\n",
    "pdf(\"venn.pdf\")\n",
    "grid.draw(venn)\n",
    "dev.off()"
   ]
  },
  {
   "cell_type": "code",
   "execution_count": 140,
   "metadata": {
    "collapsed": false
   },
   "outputs": [
    {
     "name": "stderr",
     "output_type": "stream",
     "text": [
      "\n",
      "---------------------\n",
      "Welcome to dendextend version 1.13.2\n",
      "Type citation('dendextend') for how to cite the package.\n",
      "\n",
      "Type browseVignettes(package = 'dendextend') for the package vignette.\n",
      "The github page is: https://github.com/talgalili/dendextend/\n",
      "\n",
      "Suggestions and bug-reports can be submitted at: https://github.com/talgalili/dendextend/issues\n",
      "Or contact: <tal.galili@gmail.com>\n",
      "\n",
      "\tTo suppress this message use:  suppressPackageStartupMessages(library(dendextend))\n",
      "---------------------\n",
      "\n",
      "\n",
      "Attaching package: 'dendextend'\n",
      "\n",
      "The following object is masked from 'package:VennDiagram':\n",
      "\n",
      "    rotate\n",
      "\n",
      "The following object is masked from 'package:stats':\n",
      "\n",
      "    cutree\n",
      "\n"
     ]
    }
   ],
   "source": [
    "#DEG_genes <- c(row.names(C_N_results),rownames(T_N_results),rownames(T_C_results),rownames(S_N_results))\n",
    "# Gather first number significant genes and make matrix\n",
    "library(pheatmap)\n",
    "library(dendextend)\n",
    "genename <- intersect(intersect(names(C_N_gene_matrix_gsea),names(T_N_gene_matrix_gsea)),\n",
    "                          names(S_N_gene_matrix_gsea))\n",
    "genename <- intersect(intersect(names(C_N_gene_matrix_gsea>0),names(T_N_gene_matrix_gsea>0)),\n",
    "                          names(S_N_gene_matrix_gsea>0))\n",
    "#genename <- c(genename,intersect(intersect(names(C_N_gene_matrix_gsea<0),names(T_N_gene_matrix_gsea<0)),\n",
    "#                          names(S_N_gene_matrix_gsea<0)))\n",
    "#genename <- union(union(names(C_N_gene_matrix_gsea),names(T_N_gene_matrix_gsea)),\n",
    "#                          names(S_N_gene_matrix_gsea))\n",
    "name <- unique(names(C_N_results$genename)[as.character(unname(C_N_results$entrez))%in%genename])"
   ]
  },
  {
   "cell_type": "code",
   "execution_count": 141,
   "metadata": {
    "collapsed": false,
    "scrolled": true
   },
   "outputs": [],
   "source": [
    "mat <- na.omit(rpkmdata[name,orders])\n",
    "\n",
    "# Choose which column variables you want to annotate the columns by.\n",
    "annotation_col = data.frame(\n",
    "  Group = as.character(metadata$Group), \n",
    "  row.names = as.character(metadata$sampleid)\n",
    ")\n",
    "\n",
    "# Specify colors you want to annotate the columns by.\n",
    "ann_colors = list(\n",
    "  Group = c(Control = \"lightblue\", Cancer = \"pink\",TB=\"darkgreen\",SD=\"purple\")\n",
    ")\n",
    "mycol <- c(\"#0000FF\", \"#4040FF\", \"#7070FF\", \"#8888FF\", \n",
    "           \"#EEE5EE\", \n",
    "           \"#FF7080\", \"#FF5A5A\", \"#FF4040\", \"#FF0D1D\")\n",
    "# Make Heatmap with pheatmap function.\n",
    "## See more in documentation for customization\n",
    "out <- pheatmap(mat =log2(mat+1), \n",
    "         color = colorRampPalette(mycol)(1000), \n",
    "         scale = \"row\", # Scale genes to Z-score (how many standard deviations)\n",
    "         annotation_col = annotation_col, # Add multiple annotations to the samples\n",
    "         annotation_colors = ann_colors,# Change the default colors of the annotations \n",
    "         border_color =NA,\n",
    "         show_rownames=F,height=15,fontsize = 15,filename=\"all_DEGforECM.pdf\",\n",
    "         width=15)"
   ]
  },
  {
   "cell_type": "code",
   "execution_count": 142,
   "metadata": {
    "collapsed": false
   },
   "outputs": [],
   "source": [
    "write.table(mapIds(x = ensdb,keys =rownames(mat[out$tree_row[[\"order\"]],]),\n",
    "                column = \"GENENAME\",keytype = \"GENEID\",multiVals = \"first\"),\"1.txt\",sep=\"\\t\",row.names=T,quote=F)"
   ]
  },
  {
   "cell_type": "markdown",
   "metadata": {},
   "source": [
    "## 2. PCA analysis"
   ]
  },
  {
   "cell_type": "code",
   "execution_count": 143,
   "metadata": {
    "collapsed": false
   },
   "outputs": [],
   "source": [
    "library(ggplot2)\n",
    "# Plot PCA by column variable\n",
    "pcaData <- plotPCA(ddsMat_rlog, intgroup = c(\"Group\",\"sampleid\"), ntop = 2000,returnData = F) \n",
    "p <- ggplot(pcaData$data, aes(PC1, PC2, fill=Group,labels=Group))+\n",
    "    theme_bw() + # remove default ggplot2 theme\n",
    "    #geom_point(aes(shape=group),size = 5) + # Increase point size\n",
    "    #geom_point(colour=\"black\",size = 4,stroke = 4) + # Increase point size\n",
    "    geom_point(size = 4, alpha = 1, shape = 21, colour = \"black\")+\n",
    "    #scale_x_continuous(limits = c(-200, 200)) + # change limits to fix figure dimensions\n",
    "    scale_shape_manual(values=seq(1,30))+\n",
    "    xlab(pcaData$labels$x)+ylab(pcaData$labels$y)+stat_ellipse(aes(color=Group),type = \"t\", linetype = 2)\n",
    "    #+ggtitle(label = \"Principal Component Analysis (PCA)\", subtitle = \"Top 2000 most variable genes\")"
   ]
  },
  {
   "cell_type": "markdown",
   "metadata": {
    "collapsed": true
   },
   "source": [
    "## WGCNA"
   ]
  },
  {
   "cell_type": "code",
   "execution_count": 144,
   "metadata": {
    "collapsed": false
   },
   "outputs": [
    {
     "name": "stderr",
     "output_type": "stream",
     "text": [
      "Loading required package: dynamicTreeCut\n",
      "Loading required package: fastcluster\n",
      "\n",
      "Attaching package: 'fastcluster'\n",
      "\n",
      "The following object is masked from 'package:stats':\n",
      "\n",
      "    hclust\n",
      "\n",
      "\n",
      "Attaching package: 'WGCNA'\n",
      "\n",
      "The following object is masked from 'package:IRanges':\n",
      "\n",
      "    cor\n",
      "\n",
      "The following object is masked from 'package:S4Vectors':\n",
      "\n",
      "    cor\n",
      "\n",
      "The following object is masked from 'package:stats':\n",
      "\n",
      "    cor\n",
      "\n"
     ]
    }
   ],
   "source": [
    "DEG_genes <- unique(c(row.names(C_N_results_sig),row.names(T_N_results_sig),row.names(S_N_results_sig)))\n",
    "library(WGCNA)\n",
    "#RNASeq_matrix <- rpkmdata[,orders]\n",
    "RNASeq_matrix <- rpkmdata[ which( apply( rpkmdata, 1,function(y) sum(y>=minCounts)) >= 10 ) ,orders] \n",
    "\n",
    "\n",
    "WGCNA_matrix <-  t(RNASeq_matrix)"
   ]
  },
  {
   "cell_type": "code",
   "execution_count": 145,
   "metadata": {
    "collapsed": false
   },
   "outputs": [],
   "source": [
    "newdata <- metadata\n",
    "sampleNames = row.names(WGCNA_matrix)\n",
    "traitRows = match(sampleNames, newdata[sampleNames,]$sampleid)  \n",
    "#rownames(datTraits) = datTraits[traitRows, 1]\n",
    "datTraits <- newdata[sampleNames,]\n",
    "rownames(datTraits) = datTraits[traitRows, \"sampleid\"]"
   ]
  },
  {
   "cell_type": "code",
   "execution_count": 146,
   "metadata": {
    "collapsed": false
   },
   "outputs": [],
   "source": [
    "#datTraits$Groups <- as.factor(ifelse(datTraits$Group!=\"Control\",\"Disease\",\"Control\"))\n",
    "datTraits$Groups <- as.factor(datTraits$Group)"
   ]
  },
  {
   "cell_type": "markdown",
   "metadata": {},
   "source": [
    "##### option1: use one-step method construction"
   ]
  },
  {
   "cell_type": "code",
   "execution_count": 147,
   "metadata": {
    "collapsed": false
   },
   "outputs": [
    {
     "name": "stdout",
     "output_type": "stream",
     "text": [
      "Allowing multi-threading with up to 96 threads.\n",
      "pickSoftThreshold: will use block size 2148.\n",
      " pickSoftThreshold: calculating connectivity for given powers...\n",
      "   ..working on genes 1 through 2148 of 20828\n",
      "   ..working on genes 2149 through 4296 of 20828\n",
      "   ..working on genes 4297 through 6444 of 20828\n",
      "   ..working on genes 6445 through 8592 of 20828\n",
      "   ..working on genes 8593 through 10740 of 20828\n",
      "   ..working on genes 10741 through 12888 of 20828\n",
      "   ..working on genes 12889 through 15036 of 20828\n",
      "   ..working on genes 15037 through 17184 of 20828\n",
      "   ..working on genes 17185 through 19332 of 20828\n",
      "   ..working on genes 19333 through 20828 of 20828\n",
      "   Power SFT.R.sq  slope truncated.R.sq mean.k. median.k. max.k.\n",
      "1      1   0.5550  4.010          0.992  5200.0   5160.00   7250\n",
      "2      2   0.0312  0.347          0.932  2010.0   1910.00   3880\n",
      "3      3   0.3130 -0.858          0.903   984.0    876.00   2550\n",
      "4      4   0.6360 -1.320          0.914   558.0    468.00   1870\n",
      "5      5   0.7930 -1.530          0.937   351.0    282.00   1460\n",
      "6      6   0.8620 -1.620          0.947   237.0    180.00   1170\n",
      "7      7   0.8850 -1.690          0.948   169.0    120.00    978\n",
      "8      8   0.8900 -1.760          0.950   126.0     82.60    840\n",
      "9      9   0.8970 -1.790          0.954    96.5     58.40    731\n",
      "10    10   0.9000 -1.810          0.958    76.1     42.40    643\n",
      "11    12   0.8760 -1.850          0.947    50.2     23.50    512\n",
      "12    14   0.8870 -1.820          0.963    35.3     13.90    418\n",
      "13    16   0.8800 -1.780          0.962    26.0      8.59    349\n",
      "14    18   0.8790 -1.740          0.960    19.9      5.55    295\n",
      "15    20   0.8760 -1.680          0.951    15.7      3.69    253\n"
     ]
    }
   ],
   "source": [
    "allowWGCNAThreads()\n",
    "#disableWGCNAThreads()\n",
    "# Choose a set of soft-thresholding powers\n",
    "powers = c(c(1:10), seq(from = 12, to=20, by=2))\n",
    "# Call the network topology analysis function\n",
    "sft = pickSoftThreshold(WGCNA_matrix, powerVector = powers, verbose = 5)"
   ]
  },
  {
   "cell_type": "code",
   "execution_count": 148,
   "metadata": {
    "collapsed": false
   },
   "outputs": [
    {
     "data": {
      "text/html": [
       "<strong>png:</strong> 2"
      ],
      "text/latex": [
       "\\textbf{png:} 2"
      ],
      "text/markdown": [
       "**png:** 2"
      ],
      "text/plain": [
       "png \n",
       "  2 "
      ]
     },
     "metadata": {},
     "output_type": "display_data"
    }
   ],
   "source": [
    "# Plot the results:\n",
    "par(mfrow = c(2,1));\n",
    "cex1 = 0.9;\n",
    "# Scale-free topology fit index as a function of the soft-thresholding power\n",
    "plot(sft$fitIndices[,1], -sign(sft$fitIndices[,3])*sft$fitIndices[,2],\n",
    "     xlab=\"Soft Threshold (power)\",ylab=\"Scale Free Topology Model Fit,signed R^2\",type=\"n\",\n",
    "     main = paste(\"Scale independence\"));\n",
    "text(sft$fitIndices[,1], -sign(sft$fitIndices[,3])*sft$fitIndices[,2],\n",
    "     labels=powers,cex=cex1,col=\"red\");\n",
    "# this line corresponds to using an R^2 cut-off of h\n",
    "abline(h=0.80,col=\"green\")\n",
    "# Mean connectivity as a function of the soft-thresholding power\n",
    "pdf(\"connectivity.pdf\")\n",
    "plot(sft$fitIndices[,1], sft$fitIndices[,5],\n",
    "     xlab=\"Soft Threshold (power)\",ylab=\"Mean Connectivity\", type=\"n\",\n",
    "     main = paste(\"Mean connectivity\"))\n",
    "text(sft$fitIndices[,1], sft$fitIndices[,5], labels=powers, cex=cex1,col=\"red\")\n",
    "dev.off()"
   ]
  },
  {
   "cell_type": "code",
   "execution_count": 149,
   "metadata": {
    "collapsed": false
   },
   "outputs": [
    {
     "name": "stdout",
     "output_type": "stream",
     "text": [
      " Calculating module eigengenes block-wise from all genes\n",
      "   Flagging genes and samples with too many missing values...\n",
      "    ..step 1\n",
      " ....pre-clustering genes to determine blocks..\n",
      "   Projective K-means:\n",
      "   ..k-means clustering..\n",
      "   ..merging smaller clusters...\n",
      "Block sizes:\n",
      "gBlocks\n",
      "   1    2    3    4    5 \n",
      "4914 4906 4785 3751 2472 \n",
      " ..Working on block 1 .\n",
      "    TOM calculation: adjacency..\n",
      "    ..will use 96 parallel threads.\n",
      "     Fraction of slow calculations: 0.000000\n",
      "    ..connectivity..\n",
      "    ..matrix multiplication (system BLAS)..\n",
      "    ..normalization..\n",
      "    ..done.\n",
      " ....clustering..\n",
      " ....detecting modules..\n",
      " ....calculating module eigengenes..\n",
      " ....checking kME in modules..\n",
      "     ..removing 43 genes from module 1 because their KME is too low.\n",
      "     ..removing 1 genes from module 3 because their KME is too low.\n",
      "     ..removing 2 genes from module 5 because their KME is too low.\n",
      " ..Working on block 2 .\n",
      "    TOM calculation: adjacency..\n",
      "    ..will use 96 parallel threads.\n",
      "     Fraction of slow calculations: 0.000000\n",
      "    ..connectivity..\n",
      "    ..matrix multiplication (system BLAS)..\n",
      "    ..normalization..\n",
      "    ..done.\n",
      " ....clustering..\n",
      " ....detecting modules..\n",
      " ....calculating module eigengenes..\n",
      " ....checking kME in modules..\n",
      "     ..removing 2 genes from module 1 because their KME is too low.\n",
      "     ..removing 6 genes from module 3 because their KME is too low.\n",
      "     ..removing 2 genes from module 4 because their KME is too low.\n",
      "     ..removing 1 genes from module 6 because their KME is too low.\n",
      "     ..removing 7 genes from module 7 because their KME is too low.\n",
      "     ..removing 1 genes from module 9 because their KME is too low.\n",
      " ..Working on block 3 .\n",
      "    TOM calculation: adjacency..\n",
      "    ..will use 96 parallel threads.\n",
      "     Fraction of slow calculations: 0.000000\n",
      "    ..connectivity..\n",
      "    ..matrix multiplication (system BLAS)..\n",
      "    ..normalization..\n",
      "    ..done.\n",
      " ....clustering..\n",
      " ....detecting modules..\n",
      " ....calculating module eigengenes..\n",
      " ....checking kME in modules..\n",
      "     ..removing 4 genes from module 1 because their KME is too low.\n",
      "     ..removing 5 genes from module 2 because their KME is too low.\n",
      " ..Working on block 4 .\n",
      "    TOM calculation: adjacency..\n",
      "    ..will use 96 parallel threads.\n",
      "     Fraction of slow calculations: 0.000000\n",
      "    ..connectivity..\n",
      "    ..matrix multiplication (system BLAS)..\n",
      "    ..normalization..\n",
      "    ..done.\n",
      " ....clustering..\n",
      " ....detecting modules..\n",
      " ....calculating module eigengenes..\n",
      " ....checking kME in modules..\n",
      "     ..removing 15 genes from module 1 because their KME is too low.\n",
      "     ..removing 13 genes from module 2 because their KME is too low.\n",
      "     ..removing 10 genes from module 3 because their KME is too low.\n",
      "     ..removing 1 genes from module 4 because their KME is too low.\n",
      " ..Working on block 5 .\n",
      "    TOM calculation: adjacency..\n",
      "    ..will use 96 parallel threads.\n",
      "     Fraction of slow calculations: 0.000000\n",
      "    ..connectivity..\n",
      "    ..matrix multiplication (system BLAS)..\n",
      "    ..normalization..\n",
      "    ..done.\n",
      " ....clustering..\n",
      " ....detecting modules..\n",
      " ....calculating module eigengenes..\n",
      " ....checking kME in modules..\n",
      "     ..removing 5 genes from module 1 because their KME is too low.\n",
      "     ..removing 20 genes from module 2 because their KME is too low.\n",
      " ..merging modules that are too close..\n",
      "     mergeCloseModules: Merging modules whose distance is less than 0.25\n",
      "       Calculating new MEs...\n"
     ]
    }
   ],
   "source": [
    "net =    blockwiseModules(\n",
    "    WGCNA_matrix,\n",
    "    power = 10,\n",
    "    maxBlockSize = 5000,#deepSplit=4,\n",
    "    TOMType = \"unsigned\", minModuleSize = 100,\n",
    "    reassignThreshold = 0, mergeCutHeight = 0.25,\n",
    "    numericLabels = TRUE, pamRespectsDendro = FALSE,\n",
    "    #saveTOMs = TRUE,\n",
    "    #saveTOMFileBase = \"AS-green-FPKM-TOM\",\n",
    "    verbose = 3\n",
    "  )"
   ]
  },
  {
   "cell_type": "code",
   "execution_count": 150,
   "metadata": {
    "collapsed": false
   },
   "outputs": [
    {
     "data": {
      "text/html": [
       "<strong>png:</strong> 2"
      ],
      "text/latex": [
       "\\textbf{png:} 2"
      ],
      "text/markdown": [
       "**png:** 2"
      ],
      "text/plain": [
       "png \n",
       "  2 "
      ]
     },
     "metadata": {},
     "output_type": "display_data"
    }
   ],
   "source": [
    "# Convert labels to colors for plotting\n",
    "moduleColors = labels2colors(net$colors)\n",
    "\n",
    "# Plot the dendrogram and the module colors underneath\n",
    "#png(\"step4-genes-modules.png\",width = 800,height = 600)\n",
    "pdf(\"WGCNA_cluster.pdf\",width = 10)\n",
    "plotDendroAndColors(net$dendrograms[[1]], moduleColors[net$blockGenes[[1]]],\n",
    "                      \"Module colors\",\n",
    "                      dendroLabels = FALSE, hang = 0.03,\n",
    "                      addGuide = TRUE, guideHang = 0.05)\n",
    "dev.off()\n",
    "## assign all of the gene to their corresponding module\n",
    "## hclust for the genes."
   ]
  },
  {
   "cell_type": "code",
   "execution_count": 151,
   "metadata": {
    "collapsed": false
   },
   "outputs": [],
   "source": [
    "library(stringr)\n",
    "nGenes = ncol(WGCNA_matrix)\n",
    "nSamples = nrow(WGCNA_matrix)\n",
    "datTraits$Groups <- factor(datTraits$Groups,c(\"Control\",\"TB\",\"SD\",\"Cancer\"))\n",
    "design=model.matrix(~0+ datTraits$Groups)\n",
    "colnames(design)=levels(datTraits$Groups)\n",
    "moduleColors <- labels2colors(net$colors)\n",
    "# Recalculate MEs with color labels\n",
    "MEs0 = moduleEigengenes(WGCNA_matrix, moduleColors)$eigengenes\n",
    "MEs = orderMEs(MEs0, greyName = paste(moduleColor.getMEprefix(), \"grey\", sep=\"\")); \n",
    "moduleTraitCor = cor(MEs, design , use = \"p\");\n",
    "moduleTraitPvalue = corPvalueStudent(moduleTraitCor, nSamples)"
   ]
  },
  {
   "cell_type": "code",
   "execution_count": 152,
   "metadata": {
    "collapsed": false
   },
   "outputs": [
    {
     "data": {
      "text/html": [
       "<strong>png:</strong> 2"
      ],
      "text/latex": [
       "\\textbf{png:} 2"
      ],
      "text/markdown": [
       "**png:** 2"
      ],
      "text/plain": [
       "png \n",
       "  2 "
      ]
     },
     "metadata": {},
     "output_type": "display_data"
    }
   ],
   "source": [
    "library(ggplot2)\n",
    "pdf(\"METB.pdf\",height = 4,width =6)\n",
    "MEgenes <- data.frame(label=rep(c(\"NC\",\"TB\",\"AD\",\"SA\"),each=5),value=MEs0$MEgreenyellow)\n",
    "ggplot(MEgenes,aes(y=value,x=factor(label,levels = c(\"NC\",\"TB\",\"AD\",\"SA\"))))+geom_boxplot()+theme_bw()\n",
    "dev.off()"
   ]
  },
  {
   "cell_type": "code",
   "execution_count": 153,
   "metadata": {
    "collapsed": false
   },
   "outputs": [
    {
     "data": {
      "text/html": [
       "<strong>png:</strong> 2"
      ],
      "text/latex": [
       "\\textbf{png:} 2"
      ],
      "text/markdown": [
       "**png:** 2"
      ],
      "text/plain": [
       "png \n",
       "  2 "
      ]
     },
     "metadata": {},
     "output_type": "display_data"
    }
   ],
   "source": [
    "#sizeGrWindow(10,6)\n",
    "# Will display correlations and their p-values\n",
    "library(stringr)\n",
    "textMatrix = paste(signif(moduleTraitCor, 2), \"\\n(\",\n",
    "                   signif(moduleTraitPvalue, 1), \")\", sep = \"\");\n",
    "dim(textMatrix) = dim(moduleTraitCor)\n",
    "par(mar = c(6, 8.5, 3, 3));\n",
    "# Display the correlation values within a heatmap plot\n",
    "pdf(\"labelheatmap.pdf\",width=6,height=8)\n",
    "labeledHeatmap(Matrix = moduleTraitCor[,c(\"Control\",\"TB\",\"SD\",\"Cancer\")],\n",
    "               xLabels = colnames(design),\n",
    "               yLabels = names(MEs),\n",
    "               ySymbols = str_replace(names(MEs),moduleColor.getMEprefix(),\"\"),\n",
    "               colorLabels = FALSE,\n",
    "               colors = blueWhiteRed(50),\n",
    "               textMatrix = textMatrix,\n",
    "               setStdMargins = FALSE,\n",
    "               cex.text = 0.5,\n",
    "               zlim = c(-1,1),\n",
    "               main = paste(\"Module-trait relationships\"))\n",
    "dev.off()"
   ]
  },
  {
   "cell_type": "code",
   "execution_count": 154,
   "metadata": {
    "collapsed": false
   },
   "outputs": [],
   "source": [
    "MSIG.geneSets <- qusage::read.gmt(\"/data2/luj/GSEA/homo/c2.cp.kegg.v6.2.symbols.gmt\")"
   ]
  },
  {
   "cell_type": "code",
   "execution_count": 155,
   "metadata": {
    "collapsed": false
   },
   "outputs": [],
   "source": [
    "## Select module probes\n",
    "probes = colnames(WGCNA_matrix)"
   ]
  },
  {
   "cell_type": "markdown",
   "metadata": {},
   "source": [
    "#### Correlated Matrix"
   ]
  },
  {
   "cell_type": "code",
   "execution_count": 156,
   "metadata": {
    "collapsed": false
   },
   "outputs": [],
   "source": [
    "# names (colors) of the modules\n",
    "modNames = substring(names(MEs), 3)\n",
    "geneModuleMembership = as.data.frame(cor(WGCNA_matrix, MEs, use = \"p\"));\n",
    "\n",
    "MMPvalue = as.data.frame(corPvalueStudent(as.matrix(geneModuleMembership), nSamples));\n",
    "names(geneModuleMembership) = paste(\"MM\", modNames, sep=\"\");\n",
    "names(MMPvalue) = paste(\"p.MM\", modNames, sep=\"\");"
   ]
  },
  {
   "cell_type": "markdown",
   "metadata": {},
   "source": [
    "#### Cancer #pink"
   ]
  },
  {
   "cell_type": "code",
   "execution_count": 157,
   "metadata": {
    "collapsed": false
   },
   "outputs": [
    {
     "data": {
      "text/html": [
       "<strong>png:</strong> 2"
      ],
      "text/latex": [
       "\\textbf{png:} 2"
      ],
      "text/markdown": [
       "**png:** 2"
      ],
      "text/plain": [
       "png \n",
       "  2 "
      ]
     },
     "metadata": {},
     "output_type": "display_data"
    }
   ],
   "source": [
    "CA = as.data.frame(design[,1]);\n",
    "names(CA) = \"Cancer\"\n",
    "geneTraitSignificance = as.data.frame(cor(WGCNA_matrix, CA, use = \"p\"));\n",
    "GSPvalue = as.data.frame(corPvalueStudent(as.matrix(geneTraitSignificance), nSamples));\n",
    "names(geneTraitSignificance) = paste(\"GS.\", names(CA), sep=\"\");\n",
    "names(GSPvalue) = paste(\"p.GS.\", names(CA), sep=\"\")\n",
    "module = \"pink\"\n",
    "column = match(module, modNames);\n",
    "moduleGenes = moduleColors==module;\n",
    "#sizeGrWindow(7, 7);\n",
    "#par(mfrow = c(1,1));\n",
    "pdf(\"CA_verboseScatterplot.pdf\")\n",
    "verboseScatterplot(abs(geneModuleMembership[moduleGenes, column]),\n",
    "                   abs(geneTraitSignificance[moduleGenes, 1]),\n",
    "                   xlab = paste(\"Module Membership in\", module, \"module\"),\n",
    "                   ylab = \"Gene significance for Cancer\",\n",
    "                   main = paste(\"Module membership vs. gene significance\\n\"),\n",
    "                   cex.main = 1.2, cex.lab = 1.2, cex.axis = 1.2, col = module)\n",
    "dev.off()"
   ]
  },
  {
   "cell_type": "code",
   "execution_count": 158,
   "metadata": {
    "collapsed": false
   },
   "outputs": [],
   "source": [
    "findmarker <- function(modProbes,x,y1,y2){\n",
    "    modProbesup <- modProbes[modProbes %in% row.names(subset(x,log2FoldChange>1))]\n",
    "    modProbesdown <- modProbes[modProbes %in% row.names(subset(x,log2FoldChange<1))]\n",
    "    up <- intersect(modProbesup[!modProbesup %in% row.names(subset(y1,log2FoldChange>1))],\n",
    "                    modProbesup[!modProbesup %in% row.names(subset(y2,log2FoldChange>1))])\n",
    "    down <- intersect(modProbesdown[!modProbesdown %in% row.names(subset(y1,log2FoldChange<1))],\n",
    "                      modProbesdown[!modProbesdown %in% row.names(subset(y2,log2FoldChange<1))])\n",
    "    union(up,down)}"
   ]
  },
  {
   "cell_type": "markdown",
   "metadata": {},
   "source": [
    "#### TB #greenyellow"
   ]
  },
  {
   "cell_type": "code",
   "execution_count": 159,
   "metadata": {
    "collapsed": false
   },
   "outputs": [
    {
     "data": {
      "text/html": [
       "<strong>png:</strong> 2"
      ],
      "text/latex": [
       "\\textbf{png:} 2"
      ],
      "text/markdown": [
       "**png:** 2"
      ],
      "text/plain": [
       "png \n",
       "  2 "
      ]
     },
     "metadata": {},
     "output_type": "display_data"
    }
   ],
   "source": [
    "TB = as.data.frame(design[,2]);\n",
    "names(TB) = \"TB\"\n",
    "geneTraitSignificance = as.data.frame(cor(WGCNA_matrix, TB, use = \"p\"));\n",
    "GSPvalue = as.data.frame(corPvalueStudent(as.matrix(geneTraitSignificance), nSamples));\n",
    "names(geneTraitSignificance) = paste(\"GS.\", names(TB), sep=\"\");\n",
    "names(GSPvalue) = paste(\"p.GS.\", names(TB), sep=\"\")\n",
    "module = \"greenyellow\"\n",
    "column = match(module, modNames);\n",
    "moduleGenes = moduleColors==module;\n",
    "#sizeGrWindow(7, 7);\n",
    "#par(mfrow = c(1,1));\n",
    "pdf(\"TB_verboseScatterplot.pdf\")\n",
    "verboseScatterplot(abs(geneModuleMembership[moduleGenes, column]),\n",
    "                   abs(geneTraitSignificance[moduleGenes, 1]),\n",
    "                   xlab = paste(\"Module Membership in\", module, \"module\"),\n",
    "                   ylab = \"Gene significance for TB\",\n",
    "                   main = paste(\"Module membership vs. gene significance\\n\"),\n",
    "                   cex.main = 1.2, cex.lab = 1.2, cex.axis = 1.2, col = module)\n",
    "dev.off()"
   ]
  },
  {
   "cell_type": "code",
   "execution_count": 160,
   "metadata": {
    "collapsed": true
   },
   "outputs": [],
   "source": [
    "TB_modProbes = probes[moduleColors==\"greenyellow\"]"
   ]
  },
  {
   "cell_type": "code",
   "execution_count": 161,
   "metadata": {
    "collapsed": false
   },
   "outputs": [],
   "source": [
    "#TB_marker <-  findmarker(TB_modProbes,T_N_results_sig,C_N_results_sig,S_N_results_sig)\n",
    "TB_marker <- TB_modProbes\n",
    "write.table(select(x = ensdb,keys =TB_marker,\n",
    "                column = c(\"GENENAME\",\"DESCRIPTION\"),keytype = \"GENEID\",multiVals = \"first\"),\"TB_modProbes\",quote=F,col.name=F,sep=\"\\t\")"
   ]
  },
  {
   "cell_type": "markdown",
   "metadata": {},
   "source": [
    "#### SD #turquoise"
   ]
  },
  {
   "cell_type": "code",
   "execution_count": 162,
   "metadata": {
    "collapsed": false
   },
   "outputs": [
    {
     "data": {
      "text/html": [
       "<strong>png:</strong> 2"
      ],
      "text/latex": [
       "\\textbf{png:} 2"
      ],
      "text/markdown": [
       "**png:** 2"
      ],
      "text/plain": [
       "png \n",
       "  2 "
      ]
     },
     "metadata": {},
     "output_type": "display_data"
    }
   ],
   "source": [
    "SD = as.data.frame(design[,3]);\n",
    "names(SD) = \"SD\"\n",
    "geneTraitSignificance = as.data.frame(cor(WGCNA_matrix, SD, use = \"p\"));\n",
    "GSPvalue = as.data.frame(corPvalueStudent(as.matrix(geneTraitSignificance), nSamples));\n",
    "names(geneTraitSignificance) = paste(\"GS.\", names(SD), sep=\"\");\n",
    "names(GSPvalue) = paste(\"p.GS.\", names(SD), sep=\"\")\n",
    "module = \"turquoise\"\n",
    "column = match(module, modNames);\n",
    "moduleGenes = moduleColors==module;\n",
    "#sizeGrWindow(7, 7);\n",
    "#par(mfrow = c(1,1));\n",
    "pdf(\"SD_verboseScatterplot.pdf\")\n",
    "verboseScatterplot(abs(geneModuleMembership[moduleGenes, column]),\n",
    "                   abs(geneTraitSignificance[moduleGenes, 1]),\n",
    "                   xlab = paste(\"Module Membership in\", module, \"module\"),\n",
    "                   ylab = \"Gene significance for SD\",\n",
    "                   main = paste(\"Module membership vs. gene significance\\n\"),\n",
    "                   cex.main = 1.2, cex.lab = 1.2, cex.axis = 1.2, col = module)\n",
    "dev.off()"
   ]
  },
  {
   "cell_type": "code",
   "execution_count": 163,
   "metadata": {
    "collapsed": false
   },
   "outputs": [],
   "source": [
    "SD_modProbes = probes[moduleColors==\"turquoise\"]\n",
    "#SD_modProbes = probes[moduleColors==\"lightgreen\"]\n",
    "#length(SD_modProbes)"
   ]
  },
  {
   "cell_type": "code",
   "execution_count": 164,
   "metadata": {
    "collapsed": false
   },
   "outputs": [],
   "source": [
    "#SD_marker <-  findmarker(SD_modProbes,S_N_results_sig,T_N_results_sig,C_N_results_sig)\n",
    "SD_marker <-  SD_modProbes\n",
    "#write.table(select(x = ensdb,keys =SD_marker,\n",
    "#                column = c(\"GENENAME\",\"DESCRIPTION\"),keytype = c(\"GENEID\"),multiVals = \"first\"),\"SD_modProbes\",quote=F,col.name=F,sep=\"\\t\")"
   ]
  },
  {
   "cell_type": "code",
   "execution_count": 165,
   "metadata": {
    "collapsed": false
   },
   "outputs": [],
   "source": [
    "genes <- c('TM7SF2','C5ORF63','MRPS36','OXA1L','HTATIP2','PDIA3','PYROXD1','PGD','DNAJC10',\n",
    "           'PPOX','HIBADH','MTHFD1','AKR1C3','KDM1B','GSR','AKR1C2','TP53I3','HIF1AN','PIGF',\n",
    "           'CREG1','SRD5A3','SPR','NQO1','KDM5B','KDM5C','AKR1C1','COX15','ALDH6A1','CTBP1',\n",
    "           'CTBP2','PCYOX1L','AIFM2','PCBD1','FA2H','NDUFA10','ALDH3B1','COQ6','DHRS1',\n",
    "           'SCCPDH','PYCR1','ALDH7A1','G6PD','ALOX15B','PRDX6','HSD11B1','TXNRD1','ZADH2',\n",
    "           'JMJD1C','ALDH9A1','SRXN1','ME1','PAM','ALDH18A1','ADHFE1','UGDH','TYW5','EGLN1',\n",
    "           'RSAD1','CHCHD4','ALDH3A2','FMO5','CBR1','ERO1B','PIR','FASN','PNPO','GSTO2','QSOX1',\n",
    "           'HSD17B7','GPD2','CHDH','MTHFD2L','GDI2','PTGR2','DHRS13','MAOA','BCKDHB','DHRS11',\n",
    "           'FDXR','CYP20A1','SOD1','CRYZ','P4HTM','CYB561','ADI1','RDH10','CHML','SDHC','ABCC4',\n",
    "           'DCXR','MGST1','RETSAT','RDH13')\n",
    "name <- mapIds(x = ensdb,keys =genes,\n",
    "                column = \"GENEID\",keytype =\"GENENAME\" ,multiVals = \"first\")\n",
    "mat <- rpkmdata[name,orders]\n",
    "#row.names(mat) <- pathway$Gene[name%in%DEG_genes]\n",
    "mat <- as.matrix(na.omit(mat))\n",
    "#mat <- mat[apply(mat,1,sum)!=0,]\n",
    "# Choose which column variables you want to annotate the columns by.\n",
    "annotation_col = data.frame(\n",
    "  Group = as.character(metadata$Group), \n",
    "  row.names = as.character(metadata$sampleid)\n",
    ")\n",
    "\n",
    "# Specify colors you want to annotate the columns by.\n",
    "ann_colors = list(\n",
    "  Group = c(Control = \"lightblue\", Cancer = \"pink\",TB=\"darkgreen\",SD=\"purple\")\n",
    ")\n",
    "# Make Heatmap with pheatmap function.\n",
    "## See more in documentation for customization\n",
    "library(pheatmap)\n",
    "pheatmap(mat = log2(mat+1), \n",
    "         color = colorRampPalette(c(\"blue\",\"white\",\"red\"))(255), \n",
    "         #color = colorRampPalette(rev(c(\"#D73027\", \"#FC8D59\", \"#FEE090\", \"#FFFFBF\", \n",
    "         #\"#E0F3F8\", \"#91BFDB\", \"#4575B4\")))(75),\n",
    "         scale = \"row\", # Scale genes to Z-score (how many standard deviations)\n",
    "         annotation_col = annotation_col, # Add multiple annotations to the samples\n",
    "         annotation_colors = ann_colors,# Change the default colors of the annotations\n",
    "         #fontsize = 6.5, # Make fonts smaller\n",
    "         #cellwidth = 55, # Make the cells wider\n",
    "         cluster_cols=F,\n",
    "         #cluster_rows=hclust(dist(cor(t(mat)),method = \"manhattan\")),\n",
    "         #cluster_rows=F,\n",
    "         show_rownames=F,\n",
    "         height=15,fontsize = 4,filename=\"ECM.pdf\",\n",
    "         width=15)"
   ]
  },
  {
   "cell_type": "markdown",
   "metadata": {},
   "source": [
    "#### Control #green"
   ]
  },
  {
   "cell_type": "code",
   "execution_count": 166,
   "metadata": {
    "collapsed": false
   },
   "outputs": [
    {
     "data": {
      "text/html": [
       "<strong>png:</strong> 2"
      ],
      "text/latex": [
       "\\textbf{png:} 2"
      ],
      "text/markdown": [
       "**png:** 2"
      ],
      "text/plain": [
       "png \n",
       "  2 "
      ]
     },
     "metadata": {},
     "output_type": "display_data"
    }
   ],
   "source": [
    "Control = as.data.frame(design[,4]);\n",
    "names(Control) = \"Control\"\n",
    "geneTraitSignificance = as.data.frame(cor(WGCNA_matrix, Control, use = \"p\"));\n",
    "GSPvalue = as.data.frame(corPvalueStudent(as.matrix(geneTraitSignificance), nSamples));\n",
    "names(geneTraitSignificance) = paste(\"GS.\", names(Control), sep=\"\");\n",
    "names(GSPvalue) = paste(\"p.GS.\", names(Control), sep=\"\")\n",
    "module = \"green\"\n",
    "column = match(module, modNames);\n",
    "moduleGenes = moduleColors==module;\n",
    "#sizeGrWindow(7, 7);\n",
    "#par(mfrow = c(1,1));\n",
    "pdf(\"NM_verboseScatterplot.pdf\")\n",
    "verboseScatterplot(abs(geneModuleMembership[moduleGenes, column]),\n",
    "                   abs(geneTraitSignificance[moduleGenes, 1]),\n",
    "                   xlab = paste(\"Module Membership in\", module, \"module\"),\n",
    "                   ylab = \"Gene significance for Control\",\n",
    "                   main = paste(\"Module membership vs. gene significance\\n\"),\n",
    "                   cex.main = 1.2, cex.lab = 1.2, cex.axis = 1.2, col = module)\n",
    "dev.off()"
   ]
  },
  {
   "cell_type": "code",
   "execution_count": 167,
   "metadata": {
    "collapsed": true
   },
   "outputs": [],
   "source": [
    "Control_modProbes = probes[moduleColors==\"green\"]"
   ]
  },
  {
   "cell_type": "code",
   "execution_count": 168,
   "metadata": {
    "collapsed": true
   },
   "outputs": [],
   "source": [
    "Control_marker <- intersect(intersect(Control_modProbes[Control_modProbes %in%row.names(S_N_results_sig)],\n",
    "          Control_modProbes[Control_modProbes %in% row.names(T_N_results_sig)]),\n",
    "          Control_modProbes[Control_modProbes %in% row.names(C_N_results_sig)])\n",
    "write.table(select(x = ensdb,keys =Control_marker,\n",
    "                column = c(\"GENENAME\",\"DESCRIPTION\"),keytype = \"GENEID\",multiVals = \"first\"),\"Control_modProbes\",quote=F,col.name=F,sep=\"\\t\")"
   ]
  },
  {
   "cell_type": "code",
   "execution_count": 169,
   "metadata": {
    "collapsed": false
   },
   "outputs": [
    {
     "name": "stdout",
     "output_type": "stream",
     "text": [
      "TOM calculation: adjacency..\n",
      "..will use 96 parallel threads.\n",
      " Fraction of slow calculations: 0.000000\n",
      "..connectivity..\n",
      "..matrix multiplication (system BLAS)..\n",
      "..normalization..\n",
      "..done.\n"
     ]
    },
    {
     "data": {
      "text/html": [
       "<strong>png:</strong> 2"
      ],
      "text/latex": [
       "\\textbf{png:} 2"
      ],
      "text/markdown": [
       "**png:** 2"
      ],
      "text/plain": [
       "png \n",
       "  2 "
      ]
     },
     "metadata": {},
     "output_type": "display_data"
    }
   ],
   "source": [
    "nGenes = ncol(WGCNA_matrix)\n",
    "nSamples = nrow(WGCNA_matrix)\n",
    "geneTree = net$dendrograms[[1]]; \n",
    "dissTOM = 1-TOMsimilarityFromExpr(WGCNA_matrix, power = 9); # 设置power=sft$powerEstimate，最佳beta值，此处是3\n",
    "plotTOM = dissTOM^7; \n",
    "diag(plotTOM) = NA; \n",
    "#TOMplot(plotTOM, geneTree, moduleColors, main = \"Network heatmap plot, all genes\")\n",
    "\n",
    "nSelect = 400\n",
    "# For reproducibility, we set the random seed\n",
    "set.seed(10);\n",
    "select = sample(nGenes, size = nSelect);\n",
    "selectTOM = dissTOM[select, select];\n",
    "# There’s no simple way of restricting a clustering tree to a subset of genes, so we must re-cluster.\n",
    "selectTree = hclust(as.dist(selectTOM), method = \"average\")\n",
    "selectColors = moduleColors[select];\n",
    "# Open a graphical window\n",
    "#sizeGrWindow(9,9)\n",
    "# Taking the dissimilarity to a power, say 10, makes the plot more informative by effectively changing\n",
    "# the color palette; setting the diagonal to NA also improves the clarity of the plot\n",
    "plotDiss = selectTOM^7;\n",
    "diag(plotDiss) = NA;\n",
    "pdf(\"Tomplot.pdf\")\n",
    "TOMplot(plotDiss, selectTree, selectColors, main = \"Network heatmap plot, selected genes\")\n",
    "dev.off()"
   ]
  },
  {
   "cell_type": "markdown",
   "metadata": {},
   "source": [
    "#### 提取hub genes"
   ]
  },
  {
   "cell_type": "code",
   "execution_count": 170,
   "metadata": {
    "collapsed": false
   },
   "outputs": [
    {
     "data": {
      "text/html": [
       "<table>\n",
       "<caption>A data.frame: 6 × 4</caption>\n",
       "<thead>\n",
       "\t<tr><th></th><th scope=col>kTotal</th><th scope=col>kWithin</th><th scope=col>kOut</th><th scope=col>kDiff</th></tr>\n",
       "\t<tr><th></th><th scope=col>&lt;dbl&gt;</th><th scope=col>&lt;dbl&gt;</th><th scope=col>&lt;dbl&gt;</th><th scope=col>&lt;dbl&gt;</th></tr>\n",
       "</thead>\n",
       "<tbody>\n",
       "\t<tr><th scope=row>ENSG00000227232</th><td> 84.14433</td><td> 17.86525</td><td> 66.27908</td><td>-48.41383</td></tr>\n",
       "\t<tr><th scope=row>ENSG00000278267</th><td>187.79158</td><td> 77.98923</td><td>109.80235</td><td>-31.81312</td></tr>\n",
       "\t<tr><th scope=row>ENSG00000268903</th><td>167.36425</td><td>138.06702</td><td> 29.29723</td><td>108.76978</td></tr>\n",
       "\t<tr><th scope=row>ENSG00000269981</th><td>148.45809</td><td>112.77862</td><td> 35.67947</td><td> 77.09916</td></tr>\n",
       "\t<tr><th scope=row>ENSG00000279457</th><td> 77.55630</td><td> 19.56234</td><td> 57.99396</td><td>-38.43162</td></tr>\n",
       "\t<tr><th scope=row>ENSG00000237094</th><td>113.96693</td><td> 20.68110</td><td> 93.28583</td><td>-72.60473</td></tr>\n",
       "</tbody>\n",
       "</table>\n"
      ],
      "text/latex": [
       "A data.frame: 6 × 4\n",
       "\\begin{tabular}{r|llll}\n",
       "  & kTotal & kWithin & kOut & kDiff\\\\\n",
       "  & <dbl> & <dbl> & <dbl> & <dbl>\\\\\n",
       "\\hline\n",
       "\tENSG00000227232 &  84.14433 &  17.86525 &  66.27908 & -48.41383\\\\\n",
       "\tENSG00000278267 & 187.79158 &  77.98923 & 109.80235 & -31.81312\\\\\n",
       "\tENSG00000268903 & 167.36425 & 138.06702 &  29.29723 & 108.76978\\\\\n",
       "\tENSG00000269981 & 148.45809 & 112.77862 &  35.67947 &  77.09916\\\\\n",
       "\tENSG00000279457 &  77.55630 &  19.56234 &  57.99396 & -38.43162\\\\\n",
       "\tENSG00000237094 & 113.96693 &  20.68110 &  93.28583 & -72.60473\\\\\n",
       "\\end{tabular}\n"
      ],
      "text/markdown": [
       "\n",
       "A data.frame: 6 × 4\n",
       "\n",
       "| <!--/--> | kTotal &lt;dbl&gt; | kWithin &lt;dbl&gt; | kOut &lt;dbl&gt; | kDiff &lt;dbl&gt; |\n",
       "|---|---|---|---|---|\n",
       "| ENSG00000227232 |  84.14433 |  17.86525 |  66.27908 | -48.41383 |\n",
       "| ENSG00000278267 | 187.79158 |  77.98923 | 109.80235 | -31.81312 |\n",
       "| ENSG00000268903 | 167.36425 | 138.06702 |  29.29723 | 108.76978 |\n",
       "| ENSG00000269981 | 148.45809 | 112.77862 |  35.67947 |  77.09916 |\n",
       "| ENSG00000279457 |  77.55630 |  19.56234 |  57.99396 | -38.43162 |\n",
       "| ENSG00000237094 | 113.96693 |  20.68110 |  93.28583 | -72.60473 |\n",
       "\n"
      ],
      "text/plain": [
       "                kTotal    kWithin   kOut      kDiff    \n",
       "ENSG00000227232  84.14433  17.86525  66.27908 -48.41383\n",
       "ENSG00000278267 187.79158  77.98923 109.80235 -31.81312\n",
       "ENSG00000268903 167.36425 138.06702  29.29723 108.76978\n",
       "ENSG00000269981 148.45809 112.77862  35.67947  77.09916\n",
       "ENSG00000279457  77.55630  19.56234  57.99396 -38.43162\n",
       "ENSG00000237094 113.96693  20.68110  93.28583 -72.60473"
      ]
     },
     "metadata": {},
     "output_type": "display_data"
    }
   ],
   "source": [
    "### Intramodular connectivity, module membership, and screening for intramodular hub genes\n",
    "\n",
    "# (1) Intramodular connectivity\n",
    "\n",
    "# moduleColors <- labels2colors(net$colors)\n",
    "connet=abs(cor(WGCNA_matrix,use=\"p\"))^6\n",
    "Alldegrees1=intramodularConnectivity(connet, moduleColors)\n",
    "head(Alldegrees1)"
   ]
  },
  {
   "cell_type": "code",
   "execution_count": 171,
   "metadata": {
    "collapsed": false
   },
   "outputs": [
    {
     "data": {
      "text/html": [
       "<strong>png:</strong> 2"
      ],
      "text/latex": [
       "\\textbf{png:} 2"
      ],
      "text/markdown": [
       "**png:** 2"
      ],
      "text/plain": [
       "png \n",
       "  2 "
      ]
     },
     "metadata": {},
     "output_type": "display_data"
    }
   ],
   "source": [
    "# (2) Relationship between gene significance and intramodular connectivity\n",
    "which.module=\"greenyellow\"\n",
    "CA= as.data.frame(design[,2]); # change specific \n",
    "names(CA) = \"TB\"\n",
    "GS1 = as.numeric(cor(CA,WGCNA_matrix, use=\"p\"))\n",
    "GeneSignificance=abs(GS1)\n",
    "colorlevels=unique(moduleColors)\n",
    "#sizeGrWindow(9,6)\n",
    "pdf(\"verboseScatterplot.pdf\")\n",
    "for (i in c(1:length(colorlevels)))\n",
    "{\n",
    "  whichmodule=colorlevels[[i]];\n",
    "  restrict1 = (moduleColors==whichmodule);\n",
    "  verboseScatterplot(Alldegrees1$kWithin[restrict1],\n",
    "                     GeneSignificance[restrict1], col=moduleColors[restrict1],\n",
    "                     main=whichmodule,\n",
    "                     xlab = \"Connectivity\", ylab = \"Gene Significance\", abline = TRUE)\n",
    "}\n",
    "dev.off()\n",
    "#restrict1 = (moduleColors==which.module)\n",
    "#verboseScatterplot(Alldegrees1$kWithin[restrict1],\n",
    "#                     GeneSignificance[restrict1], col=moduleColors[restrict1],\n",
    "#                        main=which.module,\n",
    "#                     xlab = \"Connectivity\", ylab = \"Gene Significance\", abline = TRUE)"
   ]
  },
  {
   "cell_type": "code",
   "execution_count": 172,
   "metadata": {
    "collapsed": false
   },
   "outputs": [],
   "source": [
    "###(3) Generalizing intramodular connectivity for all genes on the array\n",
    "datKME=signedKME(WGCNA_matrix, MEs, outputColumnName=\"MM.\")\n",
    "# Display the first few rows of the data frame\n",
    "#head(datKME)\n",
    "##Finding genes with high gene significance and high intramodular connectivity in\n",
    "# interesting modules\n",
    "# abs(GS1)> .9 可以根据实际情况调整参数\n",
    "# abs(datKME$MM.black)>.8 至少大于 >0.8\n",
    "#FilterGenes= abs(GS1)> .8 & abs(datKME$MM.pink)>.4\n",
    "#table(FilterGenes)\n",
    "greenyellow <- datKME[,\"MM.greenyellow\",drop=F]\n",
    "greenyellow <- greenyellow[order(greenyellow$MM.greenyellow,decreasing=T),,drop=F]"
   ]
  },
  {
   "cell_type": "code",
   "execution_count": 173,
   "metadata": {
    "collapsed": false
   },
   "outputs": [],
   "source": [
    "greenyellow$genename <- unname(mapIds(x = ensdb,keys =row.names(greenyellow),\n",
    "                                  column = \"GENENAME\",keytype = \"GENEID\",multiVals = \"first\"))\n",
    "greenyellow$type <- unname(mapIds(x = ensdb,keys =row.names(greenyellow),\n",
    "                                  column = \"GENEBIOTYPE\",keytype = \"GENEID\",multiVals = \"first\"))"
   ]
  },
  {
   "cell_type": "code",
   "execution_count": 174,
   "metadata": {
    "collapsed": false
   },
   "outputs": [
    {
     "name": "stdout",
     "output_type": "stream",
     "text": [
      "TOM calculation: adjacency..\n",
      "..will use 96 parallel threads.\n",
      " Fraction of slow calculations: 0.000000\n",
      "..connectivity..\n",
      "..matrix multiplication (system BLAS)..\n",
      "..normalization..\n",
      "..done.\n"
     ]
    }
   ],
   "source": [
    "TOM = TOMsimilarityFromExpr(WGCNA_matrix,power = 10)"
   ]
  },
  {
   "cell_type": "code",
   "execution_count": 175,
   "metadata": {
    "collapsed": true
   },
   "outputs": [],
   "source": [
    "mprobes = colnames(WGCNA_matrix)"
   ]
  },
  {
   "cell_type": "code",
   "execution_count": 176,
   "metadata": {
    "collapsed": true
   },
   "outputs": [],
   "source": [
    "TOM <- as.matrix(TOM)\n",
    "dissTOM = 1-TOM"
   ]
  },
  {
   "cell_type": "code",
   "execution_count": 177,
   "metadata": {
    "collapsed": false
   },
   "outputs": [],
   "source": [
    "# Transform dissTOM with a power to make moderately strong \n",
    "# connections more visible in the heatmap\n",
    "plotTOM = dissTOM^7\n",
    "# Set diagonal to NA for a nicer plot\n",
    "diag(plotTOM) = NA\n",
    "# Call the plot function\n",
    "\n",
    "#TOMplot(plotTOM, net$dendrograms, moduleColors, \n",
    "#        main = \"Network heatmap plot, all genes\")"
   ]
  },
  {
   "cell_type": "code",
   "execution_count": 178,
   "metadata": {
    "collapsed": false
   },
   "outputs": [],
   "source": [
    "mc='greenyellow'\n",
    "mcInds=which(match(moduleColors, gsub('^ME','',mc))==1)\n",
    "modProbes=mprobes[mcInds]\n",
    "modTOM = TOM[mcInds, mcInds];\n",
    "mcIndss <- !is.na(match(modProbes,row.names(greenyellow[greenyellow$type==\"protein_coding\",][1:50,])))\n",
    "modProbes=modProbes[mcIndss]\n",
    "modTOM = modTOM[mcIndss, mcIndss];"
   ]
  },
  {
   "cell_type": "code",
   "execution_count": 179,
   "metadata": {
    "collapsed": false
   },
   "outputs": [],
   "source": [
    "dimnames(modTOM) = list(modProbes, modProbes)\n",
    "#cyt = exportNetworkToCytoscape(modTOM,\n",
    "#                                 edgeFile = paste(\"edges-\", mc, \".txt\", sep=\"\"),\n",
    "#                                 nodeFile = paste(\"nodes-\", mc, \".txt\", sep=\"\"),\n",
    "#                                 weighted = TRUE,\n",
    "#                                 threshold = median(modTOM),\n",
    "#                                 nodeNames = modProbes,\n",
    "#                                 altNodeNames = greenyellow[greenyellow$type==\"protein_coding\",][1:50,\"genename\"],\n",
    "#                                 nodeAttr = moduleColors[mcInds][mcIndss]);"
   ]
  },
  {
   "cell_type": "code",
   "execution_count": 180,
   "metadata": {
    "collapsed": false
   },
   "outputs": [],
   "source": [
    "greenyellowexpr <- data.frame(TB=T_N_results[modProbes,\"log2FoldChange\",drop=T],\n",
    "                              AD=C_N_results[modProbes,\"log2FoldChange\",drop=T],\n",
    "                              SA=S_N_results[modProbes,\"log2FoldChange\",drop=T],row.names=modProbes)\n",
    "write.table(greenyellowexpr,\"greenyellow.txt\",quote=F,sep=\"\\t\")"
   ]
  },
  {
   "cell_type": "code",
   "execution_count": 181,
   "metadata": {
    "collapsed": true
   },
   "outputs": [],
   "source": [
    "pink <- datKME[,\"MM.pink\",drop=F]\n",
    "pink <- pink[order(pink$MM.pink,decreasing=T),,drop=F]\n",
    "pink$genename <- unname(mapIds(x = ensdb,keys =row.names(pink),\n",
    "                                  column = \"GENENAME\",keytype = \"GENEID\",multiVals = \"first\"))\n",
    "pink$type <- unname(mapIds(x = ensdb,keys =row.names(pink),\n",
    "                                  column = \"GENEBIOTYPE\",keytype = \"GENEID\",multiVals = \"first\"))"
   ]
  },
  {
   "cell_type": "code",
   "execution_count": 182,
   "metadata": {
    "collapsed": true
   },
   "outputs": [],
   "source": [
    "mc='pink'\n",
    "mcInds=which(match(moduleColors, gsub('^ME','',mc))==1)\n",
    "modProbes=mprobes[mcInds]\n",
    "modTOM = TOM[mcInds, mcInds];\n",
    "mcIndss <- !is.na(match(modProbes,row.names(pink[pink$type==\"protein_coding\",][1:50,])))\n",
    "modProbes=modProbes[mcIndss]\n",
    "modTOM = modTOM[mcIndss, mcIndss];\n",
    "dimnames(modTOM) = list(modProbes, modProbes)\n",
    "cyt = exportNetworkToCytoscape(modTOM,\n",
    "                                 edgeFile = paste(\"edges-\", mc, \".txt\", sep=\"\"),\n",
    "                                 nodeFile = paste(\"nodes-\", mc, \".txt\", sep=\"\"),\n",
    "                                 weighted = TRUE,\n",
    "                                 threshold = median(modTOM),\n",
    "                                 nodeNames = modProbes,\n",
    "                                 altNodeNames = pink[pink$type==\"protein_coding\",][1:50,\"genename\"],\n",
    "                                 nodeAttr = moduleColors[mcInds][mcIndss]);\n",
    "pinkexpr <- data.frame(TB=T_N_results[modProbes,\"log2FoldChange\",drop=T],\n",
    "                              AD=C_N_results[modProbes,\"log2FoldChange\",drop=T],\n",
    "                              SA=S_N_results[modProbes,\"log2FoldChange\",drop=T],row.names=modProbes)\n",
    "write.table(pinkexpr,\"pink.txt\",quote=F,sep=\"\\t\")"
   ]
  },
  {
   "cell_type": "code",
   "execution_count": 183,
   "metadata": {
    "collapsed": false
   },
   "outputs": [],
   "source": [
    "turquoise <- datKME[,\"MM.turquoise\",drop=F]\n",
    "turquoise <- turquoise[order(turquoise$MM.turquoise,decreasing=T),,drop=F]\n",
    "turquoise$genename <- unname(mapIds(x = ensdb,keys =row.names(turquoise),\n",
    "                                  column = \"GENENAME\",keytype = \"GENEID\",multiVals = \"first\"))\n",
    "turquoise$type <- unname(mapIds(x = ensdb,keys =row.names(turquoise),\n",
    "                                  column = \"GENEBIOTYPE\",keytype = \"GENEID\",multiVals = \"first\"))"
   ]
  },
  {
   "cell_type": "code",
   "execution_count": 184,
   "metadata": {
    "collapsed": true
   },
   "outputs": [],
   "source": [
    "mc='turquoise'\n",
    "mcInds=which(match(moduleColors, gsub('^ME','',mc))==1)\n",
    "modProbes=mprobes[mcInds]\n",
    "modTOM = TOM[mcInds, mcInds];\n",
    "mcIndss <- !is.na(match(modProbes,row.names(turquoise[turquoise$type==\"protein_coding\",][1:50,])))\n",
    "modProbes=modProbes[mcIndss]\n",
    "modTOM = modTOM[mcIndss, mcIndss];\n",
    "dimnames(modTOM) = list(modProbes, modProbes)\n",
    "cyt = exportNetworkToCytoscape(modTOM,\n",
    "                                 edgeFile = paste(\"edges-\", mc, \".txt\", sep=\"\"),\n",
    "                                 nodeFile = paste(\"nodes-\", mc, \".txt\", sep=\"\"),\n",
    "                                 weighted = TRUE,\n",
    "                                 threshold = median(modTOM),\n",
    "                                 nodeNames = modProbes,\n",
    "                                 altNodeNames = turquoise[turquoise$type==\"protein_coding\",][1:50,\"genename\"],\n",
    "                                 nodeAttr = moduleColors[mcInds][mcIndss]);\n",
    "turquoiseexpr <- data.frame(TB=T_N_results[modProbes,\"log2FoldChange\",drop=T],\n",
    "                              AD=C_N_results[modProbes,\"log2FoldChange\",drop=T],\n",
    "                              SA=S_N_results[modProbes,\"log2FoldChange\",drop=T],row.names=modProbes)\n",
    "write.table(turquoiseexpr,\"turquoise.txt\",quote=F,sep=\"\\t\")"
   ]
  },
  {
   "cell_type": "code",
   "execution_count": 185,
   "metadata": {
    "collapsed": true
   },
   "outputs": [],
   "source": [
    "mc='turquoise'\n",
    "mcInds=which(match(moduleColors, gsub('^ME','',mc))==1)\n",
    "modProbes=mprobes[mcInds]\n",
    "modTOM = TOM[mcInds, mcInds];"
   ]
  },
  {
   "cell_type": "code",
   "execution_count": 186,
   "metadata": {
    "collapsed": false
   },
   "outputs": [
    {
     "name": "stderr",
     "output_type": "stream",
     "text": [
      "Loading required package: GSEABase\n",
      "Loading required package: annotate\n",
      "Loading required package: XML\n",
      "Loading required package: graph\n",
      "\n",
      "Attaching package: 'graph'\n",
      "\n",
      "The following object is masked from 'package:XML':\n",
      "\n",
      "    addNode\n",
      "\n",
      "The following object is masked from 'package:stringr':\n",
      "\n",
      "    boundary\n",
      "\n"
     ]
    },
    {
     "data": {
      "text/html": [
       "<table>\n",
       "<caption>A data.frame: 6 × 3</caption>\n",
       "<thead>\n",
       "\t<tr><th scope=col>ont</th><th scope=col>gene</th><th scope=col>geneID</th></tr>\n",
       "\t<tr><th scope=col>&lt;fct&gt;</th><th scope=col>&lt;chr&gt;</th><th scope=col>&lt;chr&gt;</th></tr>\n",
       "</thead>\n",
       "<tbody>\n",
       "\t<tr><td>KEGG_ARACHIDONIC_ACID_METABOLISM</td><td>EPHX2  </td><td>ENSG00000120915</td></tr>\n",
       "\t<tr><td>KEGG_ARACHIDONIC_ACID_METABOLISM</td><td>CYP2E1 </td><td>ENSG00000130649</td></tr>\n",
       "\t<tr><td>KEGG_ARACHIDONIC_ACID_METABOLISM</td><td>ALOX5  </td><td>ENSG00000012779</td></tr>\n",
       "\t<tr><td>KEGG_ARACHIDONIC_ACID_METABOLISM</td><td>CYP4A11</td><td>ENSG00000187048</td></tr>\n",
       "\t<tr><td>KEGG_ARACHIDONIC_ACID_METABOLISM</td><td>CYP2J2 </td><td>ENSG00000134716</td></tr>\n",
       "\t<tr><td>KEGG_ARACHIDONIC_ACID_METABOLISM</td><td>GGT1   </td><td>ENSG00000100031</td></tr>\n",
       "</tbody>\n",
       "</table>\n"
      ],
      "text/latex": [
       "A data.frame: 6 × 3\n",
       "\\begin{tabular}{r|lll}\n",
       " ont & gene & geneID\\\\\n",
       " <fct> & <chr> & <chr>\\\\\n",
       "\\hline\n",
       "\t KEGG\\_ARACHIDONIC\\_ACID\\_METABOLISM & EPHX2   & ENSG00000120915\\\\\n",
       "\t KEGG\\_ARACHIDONIC\\_ACID\\_METABOLISM & CYP2E1  & ENSG00000130649\\\\\n",
       "\t KEGG\\_ARACHIDONIC\\_ACID\\_METABOLISM & ALOX5   & ENSG00000012779\\\\\n",
       "\t KEGG\\_ARACHIDONIC\\_ACID\\_METABOLISM & CYP4A11 & ENSG00000187048\\\\\n",
       "\t KEGG\\_ARACHIDONIC\\_ACID\\_METABOLISM & CYP2J2  & ENSG00000134716\\\\\n",
       "\t KEGG\\_ARACHIDONIC\\_ACID\\_METABOLISM & GGT1    & ENSG00000100031\\\\\n",
       "\\end{tabular}\n"
      ],
      "text/markdown": [
       "\n",
       "A data.frame: 6 × 3\n",
       "\n",
       "| ont &lt;fct&gt; | gene &lt;chr&gt; | geneID &lt;chr&gt; |\n",
       "|---|---|---|\n",
       "| KEGG_ARACHIDONIC_ACID_METABOLISM | EPHX2   | ENSG00000120915 |\n",
       "| KEGG_ARACHIDONIC_ACID_METABOLISM | CYP2E1  | ENSG00000130649 |\n",
       "| KEGG_ARACHIDONIC_ACID_METABOLISM | ALOX5   | ENSG00000012779 |\n",
       "| KEGG_ARACHIDONIC_ACID_METABOLISM | CYP4A11 | ENSG00000187048 |\n",
       "| KEGG_ARACHIDONIC_ACID_METABOLISM | CYP2J2  | ENSG00000134716 |\n",
       "| KEGG_ARACHIDONIC_ACID_METABOLISM | GGT1    | ENSG00000100031 |\n",
       "\n"
      ],
      "text/plain": [
       "  ont                              gene    geneID         \n",
       "1 KEGG_ARACHIDONIC_ACID_METABOLISM EPHX2   ENSG00000120915\n",
       "2 KEGG_ARACHIDONIC_ACID_METABOLISM CYP2E1  ENSG00000130649\n",
       "3 KEGG_ARACHIDONIC_ACID_METABOLISM ALOX5   ENSG00000012779\n",
       "4 KEGG_ARACHIDONIC_ACID_METABOLISM CYP4A11 ENSG00000187048\n",
       "5 KEGG_ARACHIDONIC_ACID_METABOLISM CYP2J2  ENSG00000134716\n",
       "6 KEGG_ARACHIDONIC_ACID_METABOLISM GGT1    ENSG00000100031"
      ]
     },
     "metadata": {},
     "output_type": "display_data"
    }
   ],
   "source": [
    "AA <- read.gmt(\"/data2/luj/GSEA/homo//KEGG_ARACHIDONIC_ACID_METABOLISM.gmt\")\n",
    "AA$geneID <- mapIds(x = ensdb,\n",
    "                            keys = AA$gene,\n",
    "                            column = \"GENEID\",\n",
    "                            keytype = \"SYMBOL\",\n",
    "                            multiVals = \"first\")\n",
    "head(AA)"
   ]
  },
  {
   "cell_type": "code",
   "execution_count": 187,
   "metadata": {
    "collapsed": false
   },
   "outputs": [
    {
     "data": {
      "text/html": [
       "<table>\n",
       "<caption>A data.frame: 8 × 3</caption>\n",
       "<thead>\n",
       "\t<tr><th></th><th scope=col>ont</th><th scope=col>gene</th><th scope=col>geneID</th></tr>\n",
       "\t<tr><th></th><th scope=col>&lt;fct&gt;</th><th scope=col>&lt;chr&gt;</th><th scope=col>&lt;chr&gt;</th></tr>\n",
       "</thead>\n",
       "<tbody>\n",
       "\t<tr><th scope=row>8</th><td>KEGG_ARACHIDONIC_ACID_METABOLISM</td><td>AKR1C3  </td><td>ENSG00000196139</td></tr>\n",
       "\t<tr><th scope=row>12</th><td>KEGG_ARACHIDONIC_ACID_METABOLISM</td><td>CYP2C18 </td><td>ENSG00000108242</td></tr>\n",
       "\t<tr><th scope=row>14</th><td>KEGG_ARACHIDONIC_ACID_METABOLISM</td><td>ALOX15B </td><td>ENSG00000179593</td></tr>\n",
       "\t<tr><th scope=row>19</th><td>KEGG_ARACHIDONIC_ACID_METABOLISM</td><td>PLA2G10 </td><td>ENSG00000069764</td></tr>\n",
       "\t<tr><th scope=row>34</th><td>KEGG_ARACHIDONIC_ACID_METABOLISM</td><td>CBR1    </td><td>ENSG00000159228</td></tr>\n",
       "\t<tr><th scope=row>39</th><td>KEGG_ARACHIDONIC_ACID_METABOLISM</td><td>LTA4H   </td><td>ENSG00000111144</td></tr>\n",
       "\t<tr><th scope=row>51</th><td>KEGG_ARACHIDONIC_ACID_METABOLISM</td><td>GGT7    </td><td>ENSG00000131067</td></tr>\n",
       "\t<tr><th scope=row>57</th><td>KEGG_ARACHIDONIC_ACID_METABOLISM</td><td>PLA2G12A</td><td>ENSG00000123739</td></tr>\n",
       "</tbody>\n",
       "</table>\n"
      ],
      "text/latex": [
       "A data.frame: 8 × 3\n",
       "\\begin{tabular}{r|lll}\n",
       "  & ont & gene & geneID\\\\\n",
       "  & <fct> & <chr> & <chr>\\\\\n",
       "\\hline\n",
       "\t8 & KEGG\\_ARACHIDONIC\\_ACID\\_METABOLISM & AKR1C3   & ENSG00000196139\\\\\n",
       "\t12 & KEGG\\_ARACHIDONIC\\_ACID\\_METABOLISM & CYP2C18  & ENSG00000108242\\\\\n",
       "\t14 & KEGG\\_ARACHIDONIC\\_ACID\\_METABOLISM & ALOX15B  & ENSG00000179593\\\\\n",
       "\t19 & KEGG\\_ARACHIDONIC\\_ACID\\_METABOLISM & PLA2G10  & ENSG00000069764\\\\\n",
       "\t34 & KEGG\\_ARACHIDONIC\\_ACID\\_METABOLISM & CBR1     & ENSG00000159228\\\\\n",
       "\t39 & KEGG\\_ARACHIDONIC\\_ACID\\_METABOLISM & LTA4H    & ENSG00000111144\\\\\n",
       "\t51 & KEGG\\_ARACHIDONIC\\_ACID\\_METABOLISM & GGT7     & ENSG00000131067\\\\\n",
       "\t57 & KEGG\\_ARACHIDONIC\\_ACID\\_METABOLISM & PLA2G12A & ENSG00000123739\\\\\n",
       "\\end{tabular}\n"
      ],
      "text/markdown": [
       "\n",
       "A data.frame: 8 × 3\n",
       "\n",
       "| <!--/--> | ont &lt;fct&gt; | gene &lt;chr&gt; | geneID &lt;chr&gt; |\n",
       "|---|---|---|---|\n",
       "| 8 | KEGG_ARACHIDONIC_ACID_METABOLISM | AKR1C3   | ENSG00000196139 |\n",
       "| 12 | KEGG_ARACHIDONIC_ACID_METABOLISM | CYP2C18  | ENSG00000108242 |\n",
       "| 14 | KEGG_ARACHIDONIC_ACID_METABOLISM | ALOX15B  | ENSG00000179593 |\n",
       "| 19 | KEGG_ARACHIDONIC_ACID_METABOLISM | PLA2G10  | ENSG00000069764 |\n",
       "| 34 | KEGG_ARACHIDONIC_ACID_METABOLISM | CBR1     | ENSG00000159228 |\n",
       "| 39 | KEGG_ARACHIDONIC_ACID_METABOLISM | LTA4H    | ENSG00000111144 |\n",
       "| 51 | KEGG_ARACHIDONIC_ACID_METABOLISM | GGT7     | ENSG00000131067 |\n",
       "| 57 | KEGG_ARACHIDONIC_ACID_METABOLISM | PLA2G12A | ENSG00000123739 |\n",
       "\n"
      ],
      "text/plain": [
       "   ont                              gene     geneID         \n",
       "8  KEGG_ARACHIDONIC_ACID_METABOLISM AKR1C3   ENSG00000196139\n",
       "12 KEGG_ARACHIDONIC_ACID_METABOLISM CYP2C18  ENSG00000108242\n",
       "14 KEGG_ARACHIDONIC_ACID_METABOLISM ALOX15B  ENSG00000179593\n",
       "19 KEGG_ARACHIDONIC_ACID_METABOLISM PLA2G10  ENSG00000069764\n",
       "34 KEGG_ARACHIDONIC_ACID_METABOLISM CBR1     ENSG00000159228\n",
       "39 KEGG_ARACHIDONIC_ACID_METABOLISM LTA4H    ENSG00000111144\n",
       "51 KEGG_ARACHIDONIC_ACID_METABOLISM GGT7     ENSG00000131067\n",
       "57 KEGG_ARACHIDONIC_ACID_METABOLISM PLA2G12A ENSG00000123739"
      ]
     },
     "metadata": {},
     "output_type": "display_data"
    }
   ],
   "source": [
    "AA[AA$geneID%in%modProbes,]"
   ]
  },
  {
   "cell_type": "code",
   "execution_count": 189,
   "metadata": {
    "collapsed": true
   },
   "outputs": [],
   "source": [
    "x <- turquoise[row.names(na.omit(turquoise[AA$geneID,])),]\n",
    "mcIndss <- !is.na(match(modProbes,row.names(na.omit(turquoise[AA$geneID,]))))\n",
    "modProbes=modProbes[mcIndss]\n",
    "modTOM = modTOM[mcIndss, mcIndss];\n",
    "dimnames(modTOM) = list(modProbes, modProbes)"
   ]
  },
  {
   "cell_type": "code",
   "execution_count": 190,
   "metadata": {
    "collapsed": false
   },
   "outputs": [],
   "source": [
    "cyt = exportNetworkToCytoscape(modTOM,\n",
    "                                 edgeFile = paste(\"edges-AA\", mc, \".txt\", sep=\"\"),\n",
    "                                 nodeFile = paste(\"nodes-AA\", mc, \".txt\", sep=\"\"),\n",
    "                                 weighted = TRUE,\n",
    "                                 threshold = median(modTOM),\n",
    "                                 nodeNames = modProbes,\n",
    "                                 altNodeNames = NA,\n",
    "                                 nodeAttr = moduleColors[mcInds][mcIndss]);\n",
    "turquoiseexpr <- data.frame(TB=T_N_results[row.names(na.omit(turquoise[AA$geneID,])),\"log2FoldChange\",drop=T],\n",
    "                              AD=C_N_results[row.names(na.omit(turquoise[AA$geneID,])),\"log2FoldChange\",drop=T],\n",
    "                              SA=S_N_results[row.names(na.omit(turquoise[AA$geneID,])),\"log2FoldChange\",drop=T],\n",
    "                            row.names=row.names(na.omit(turquoise[AA$geneID,])))\n",
    "write.table(turquoiseexpr,\"AAturquoise.txt\",quote=F,sep=\"\\t\")"
   ]
  },
  {
   "cell_type": "markdown",
   "metadata": {},
   "source": [
    "## TCGA"
   ]
  },
  {
   "cell_type": "code",
   "execution_count": 191,
   "metadata": {
    "collapsed": false
   },
   "outputs": [],
   "source": [
    "LUAD <- read.table(\"/data2/luj/TCGA/all_count-out/LUAD-515-count-out\",header=1,row.names=1,sep=\",\",check.names=F)"
   ]
  },
  {
   "cell_type": "code",
   "execution_count": 192,
   "metadata": {
    "collapsed": false
   },
   "outputs": [
    {
     "data": {
      "text/html": [
       "<table>\n",
       "<caption>A data.frame: 6 × 568</caption>\n",
       "<thead>\n",
       "\t<tr><th></th><th scope=col>TCGA-44-2665-11A-01R-1758-07</th><th scope=col>TCGA-38-4625-11A-01R-1758-07</th><th scope=col>TCGA-49-6745-11A-01R-1858-07</th><th scope=col>TCGA-44-6144-11A-01R-1755-07</th><th scope=col>TCGA-44-2668-11A-01R-1758-07</th><th scope=col>TCGA-38-4626-11A-01R-1758-07</th><th scope=col>TCGA-49-6743-11A-01R-1858-07</th><th scope=col>TCGA-50-5933-11A-01R-1755-07</th><th scope=col>TCGA-44-2662-11A-01R-1758-07</th><th scope=col>TCGA-44-6148-11A-01R-1858-07</th><th scope=col>⋯</th><th scope=col>TCGA-55-7995-01A-11R-2187-07</th><th scope=col>TCGA-44-5645-01A-01R-A278-07</th><th scope=col>TCGA-44-3918-01A-01R-A278-07</th><th scope=col>TCGA-44-2656-01A-02R-A278-07</th><th scope=col>TCGA-44-2662-01A-01R-A278-07</th><th scope=col>TCGA-44-6147-01A-11R-A278-07</th><th scope=col>TCGA-44-2666-01A-01R-A278-07</th><th scope=col>TCGA-44-6146-01A-11R-A278-07</th><th scope=col>TCGA-44-6775-01A-11R-A278-07</th><th scope=col>TCGA-44-2668-01A-01R-A278-07</th></tr>\n",
       "\t<tr><th></th><th scope=col>&lt;int&gt;</th><th scope=col>&lt;int&gt;</th><th scope=col>&lt;int&gt;</th><th scope=col>&lt;int&gt;</th><th scope=col>&lt;int&gt;</th><th scope=col>&lt;int&gt;</th><th scope=col>&lt;int&gt;</th><th scope=col>&lt;int&gt;</th><th scope=col>&lt;int&gt;</th><th scope=col>&lt;int&gt;</th><th scope=col>⋯</th><th scope=col>&lt;int&gt;</th><th scope=col>&lt;int&gt;</th><th scope=col>&lt;int&gt;</th><th scope=col>&lt;int&gt;</th><th scope=col>&lt;int&gt;</th><th scope=col>&lt;int&gt;</th><th scope=col>&lt;int&gt;</th><th scope=col>&lt;int&gt;</th><th scope=col>&lt;int&gt;</th><th scope=col>&lt;int&gt;</th></tr>\n",
       "</thead>\n",
       "<tbody>\n",
       "\t<tr><th scope=row>ENSG00000000003.13</th><td>1755</td><td> 2001</td><td>2193</td><td> 657</td><td>  988</td><td> 2383</td><td>1289</td><td>1117</td><td>1131</td><td>3163</td><td>⋯</td><td>4595</td><td>7086</td><td>4238</td><td>4228</td><td>3668</td><td>2183</td><td>1766</td><td>791</td><td>2487</td><td>1095</td></tr>\n",
       "\t<tr><th scope=row>ENSG00000000005.5</th><td>   2</td><td>    9</td><td>   3</td><td>   0</td><td>    2</td><td>    1</td><td> 108</td><td>   0</td><td>   7</td><td>   4</td><td>⋯</td><td>   0</td><td>   8</td><td>  10</td><td>   5</td><td>   5</td><td>   5</td><td>   2</td><td>  0</td><td>   2</td><td>   0</td></tr>\n",
       "\t<tr><th scope=row>ENSG00000000419.11</th><td>1392</td><td> 1993</td><td>1583</td><td> 936</td><td> 1287</td><td> 2787</td><td>1045</td><td>1198</td><td> 985</td><td>1158</td><td>⋯</td><td>2337</td><td>1660</td><td>3310</td><td>2081</td><td>1862</td><td>1432</td><td>1704</td><td>881</td><td>1141</td><td>1204</td></tr>\n",
       "\t<tr><th scope=row>ENSG00000000457.12</th><td> 695</td><td>  723</td><td> 569</td><td> 573</td><td>  483</td><td>  793</td><td> 410</td><td> 341</td><td> 404</td><td> 884</td><td>⋯</td><td>1456</td><td>1785</td><td>1839</td><td>2134</td><td> 704</td><td>1258</td><td>1099</td><td>722</td><td> 926</td><td> 562</td></tr>\n",
       "\t<tr><th scope=row>ENSG00000000460.15</th><td> 177</td><td>  185</td><td>  98</td><td> 108</td><td>  156</td><td>  194</td><td> 106</td><td>  85</td><td>  82</td><td> 182</td><td>⋯</td><td> 896</td><td> 428</td><td> 890</td><td> 697</td><td>1003</td><td> 456</td><td> 393</td><td>101</td><td> 433</td><td> 370</td></tr>\n",
       "\t<tr><th scope=row>ENSG00000000938.11</th><td>3878</td><td>12621</td><td>1631</td><td>4933</td><td>12472</td><td>17370</td><td>1654</td><td>3396</td><td>4468</td><td>3076</td><td>⋯</td><td>3091</td><td> 495</td><td> 405</td><td> 880</td><td>1275</td><td> 606</td><td> 248</td><td> 77</td><td> 743</td><td> 775</td></tr>\n",
       "</tbody>\n",
       "</table>\n"
      ],
      "text/latex": [
       "A data.frame: 6 × 568\n",
       "\\begin{tabular}{r|llllllllllllllllllllllllllllllllllllllllllllllllllllllllllllllllllllllllllllllllllllllllllllllllllllllllllllllllllllllllllllllllllllllllllllllllllllllllllllllllllllllllllllllllllllllllllllllllllllllllllllllllllllllllllllllllllllllllllllllllllllllllllllllllllllllllllllllllllllllllllllllllllllllllllllllllllllllllllllllllllllllllllllllllllllllllllllllllllllllllllllllllllllllllllllllllllllllllllllllllllllllllllllllllllllllllllllllllllllllllllllllllllllllllllllllllllllllllllllllllllllllllllllllllllllllllllllllllllllllllllllllllllllllllllllllllllllllllllllllllllllllll}\n",
       "  & TCGA-44-2665-11A-01R-1758-07 & TCGA-38-4625-11A-01R-1758-07 & TCGA-49-6745-11A-01R-1858-07 & TCGA-44-6144-11A-01R-1755-07 & TCGA-44-2668-11A-01R-1758-07 & TCGA-38-4626-11A-01R-1758-07 & TCGA-49-6743-11A-01R-1858-07 & TCGA-50-5933-11A-01R-1755-07 & TCGA-44-2662-11A-01R-1758-07 & TCGA-44-6148-11A-01R-1858-07 & TCGA-91-6847-11A-01R-1949-07 & TCGA-55-6984-11A-01R-1949-07 & TCGA-91-6829-11A-01R-1858-07 & TCGA-73-4676-11A-01R-1755-07 & TCGA-55-6979-11A-01R-1949-07 & TCGA-91-6831-11A-02R-1858-07 & TCGA-55-6982-11A-01R-1949-07 & TCGA-44-5645-11A-01R-1628-07 & TCGA-50-5939-11A-01R-1628-07 & TCGA-44-2661-11A-01R-1758-07 & TCGA-50-5932-11A-01R-1755-07 & TCGA-55-6981-11A-01R-1949-07 & TCGA-55-6969-11A-01R-1949-07 & TCGA-49-4490-11A-01R-1858-07 & TCGA-55-6968-11A-01R-1949-07 & TCGA-49-6742-11A-01R-1858-07 & TCGA-44-2655-11A-01R-1758-07 & TCGA-50-5930-11A-01R-1755-07 & TCGA-55-6972-11A-01R-1949-07 & TCGA-44-6146-11A-01R-1858-07 & TCGA-50-5935-11A-01R-1858-07 & TCGA-50-5936-11A-01R-1628-07 & TCGA-44-6777-11A-01R-1858-07 & TCGA-55-6971-11A-01R-1949-07 & TCGA-49-6744-11A-01R-1858-07 & TCGA-44-3396-11A-01R-1758-07 & TCGA-38-4627-11A-01R-1758-07 & TCGA-44-6145-11A-01R-1858-07 & TCGA-44-6778-11A-01R-1858-07 & TCGA-55-6978-11A-01R-1949-07 & TCGA-44-6776-11A-01R-1858-07 & TCGA-55-6980-11A-01R-1949-07 & TCGA-91-6828-11A-01R-1858-07 & TCGA-50-6595-11A-01R-1858-07 & TCGA-55-6985-11A-01R-1949-07 & TCGA-55-6970-11A-01R-1949-07 & TCGA-55-6983-11A-01R-1949-07 & TCGA-91-6849-11A-01R-1949-07 & TCGA-49-4512-11A-01R-1858-07 & TCGA-49-6761-11A-01R-1949-07 & TCGA-44-2657-11A-01R-1758-07 & TCGA-55-6986-11A-01R-1949-07 & TCGA-50-5931-11A-01R-1858-07 & TCGA-91-6835-11A-01R-1858-07 & TCGA-44-6147-11A-01R-1858-07 & TCGA-55-6975-11A-01R-1949-07 & TCGA-38-4632-11A-01R-1755-07 & TCGA-91-6836-11A-01R-1858-07 & TCGA-55-8089-01A-11R-2241-07 & TCGA-05-5420-01A-01R-1628-07 & TCGA-55-7281-01A-11R-2039-07 & TCGA-38-4626-01A-01R-1206-07 & TCGA-86-8671-01A-11R-2403-07 & TCGA-44-A47B-01A-11R-A24H-07 & TCGA-55-1594-01A-01R-0946-07 & TCGA-50-8460-01A-11R-2326-07 & TCGA-97-8552-01A-11R-2403-07 & TCGA-55-A490-01A-11R-A466-07 & TCGA-44-5644-01A-21R-2039-07 & TCGA-78-8640-01A-11R-2403-07 & TCGA-49-6767-01A-11R-1858-07 & TCGA-4B-A93V-01A-11R-A39D-07 & TCGA-MP-A4T9-01A-11R-A24X-07 & TCGA-55-6983-01A-11R-1949-07 & TCGA-44-7667-01A-31R-2066-07 & TCGA-75-7030-01A-11R-1949-07 & TCGA-NJ-A4YP-01A-11R-A262-07 & TCGA-86-8281-01A-11R-2287-07 & TCGA-97-7938-01A-11R-2170-07 & TCGA-55-8092-01A-11R-2241-07 & TCGA-05-4244-01A-01R-1107-07 & TCGA-75-5126-01A-01R-1755-07 & TCGA-49-4501-01A-01R-1206-07 & TCGA-44-A47A-01A-21R-A24H-07 & TCGA-62-A46O-01A-11R-A24H-07 & TCGA-49-AARQ-01A-11R-A41B-07 & TCGA-97-A4LX-01A-11R-A24X-07 & TCGA-55-7727-01A-11R-2170-07 & TCGA-78-7166-01A-12R-2066-07 & TCGA-44-6778-01A-11R-1858-07 & TCGA-50-6590-01A-12R-1858-07 & TCGA-91-7771-01A-11R-2170-07 & TCGA-38-4630-01A-01R-1206-07 & TCGA-55-A48X-01A-11R-A24H-07 & TCGA-50-5946-01A-11R-1755-07 & TCGA-69-8453-01A-12R-2326-07 & TCGA-71-6725-01A-11R-1858-07 & TCGA-67-6215-01A-11R-1755-07 & TCGA-69-8253-01A-11R-2287-07 & TCGA-49-6761-01A-31R-1949-07 & TCGA-75-5125-01A-01R-1755-07 & TCGA-86-8669-01A-11R-2403-07 & TCGA-78-7536-01A-11R-2066-07 & TCGA-97-7552-01A-11R-2039-07 & TCGA-55-6972-01A-11R-1949-07 & TCGA-05-4249-01A-01R-1107-07 & TCGA-49-4486-01A-01R-1206-07 & TCGA-55-7994-01A-11R-2187-07 & TCGA-35-3615-01A-01R-0946-07 & TCGA-55-8207-01A-11R-2241-07 & TCGA-L9-A443-01A-12R-A24H-07 & TCGA-55-8619-01A-11R-2403-07 & TCGA-55-8087-01A-11R-2241-07 & TCGA-35-4122-01A-01R-1107-07 & TCGA-78-7167-01A-11R-2066-07 & TCGA-MP-A4SW-01A-21R-A24X-07 & TCGA-97-7553-01A-21R-2039-07 & TCGA-78-7147-01A-11R-2039-07 & TCGA-69-7765-01A-11R-2170-07 & TCGA-44-7662-01A-11R-2066-07 & TCGA-44-2657-01A-01R-1107-07 & TCGA-80-5608-01A-31R-1949-07 & TCGA-91-6849-01A-11R-1949-07 & TCGA-86-7953-01A-11R-2187-07 & TCGA-55-8505-01A-11R-2403-07 & TCGA-99-AA5R-01A-11R-A39D-07 & TCGA-50-5933-01A-11R-1755-07 & TCGA-95-7947-01A-11R-2187-07 & TCGA-78-7163-01A-12R-2066-07 & TCGA-55-7570-01A-11R-2039-07 & TCGA-97-8171-01A-11R-2287-07 & TCGA-38-4631-01A-01R-1755-07 & TCGA-44-8119-01A-11R-2241-07 & TCGA-49-4487-01A-21R-1858-07 & TCGA-MP-A4TA-01A-21R-A24X-07 & TCGA-55-8301-01A-11R-2287-07 & TCGA-49-AAR4-01A-12R-A41B-07 & TCGA-73-7499-01A-11R-2187-07 & TCGA-86-8055-01A-11R-2241-07 & TCGA-50-8459-01A-11R-2326-07 & TCGA-53-7624-01A-11R-2066-07 & TCGA-64-5815-01A-01R-1628-07 & TCGA-44-7671-01A-11R-2066-07 & TCGA-NJ-A4YI-01A-11R-A262-07 & TCGA-67-6217-01A-11R-1755-07 & TCGA-91-6828-01A-11R-1858-07 & TCGA-64-5774-01A-01R-1628-07 & TCGA-55-6971-01A-11R-1949-07 & TCGA-44-4112-01A-01R-1107-07 & TCGA-75-6214-01A-41R-1949-07 & TCGA-55-7724-01A-11R-2170-07 & TCGA-97-7546-01A-11R-2039-07 & TCGA-86-8585-01A-11R-2403-07 & TCGA-62-A471-01A-12R-A24H-07 & TCGA-78-7153-01A-11R-2039-07 & TCGA-64-1677-01A-01R-0946-07 & TCGA-91-6836-01A-21R-1858-07 & TCGA-78-8662-01A-11R-2403-07 & TCGA-97-8176-01A-11R-2403-07 & TCGA-95-7039-01A-11R-1949-07 & TCGA-75-7025-01A-12R-1949-07 & TCGA-05-4417-01A-22R-1858-07 & TCGA-35-5375-01A-01R-1628-07 & TCGA-69-7764-01A-11R-2170-07 & TCGA-NJ-A4YG-01A-22R-A262-07 & TCGA-62-A470-01A-11R-A24H-07 & TCGA-91-6840-01A-11R-1949-07 & TCGA-64-1678-01A-01R-0946-07 & TCGA-86-8668-01A-11R-2403-07 & TCGA-44-3398-01A-01R-1107-07 & TCGA-97-A4M1-01A-11R-A24X-07 & TCGA-95-7562-01A-11R-2241-07 & TCGA-44-6777-01A-11R-1858-07 & TCGA-05-4430-01A-02R-1206-07 & TCGA-49-6744-01A-11R-1858-07 & TCGA-55-7910-01A-11R-2170-07 & TCGA-49-AAR2-01A-11R-A39D-07 & TCGA-97-A4M5-01A-11R-A24X-07 & TCGA-55-8085-01A-11R-2241-07 & TCGA-86-8674-01A-21R-2403-07 & TCGA-99-8033-01A-11R-2241-07 & TCGA-95-7043-01A-11R-1949-07 & TCGA-MP-A4TD-01A-32R-A262-07 & TCGA-49-4488-01A-01R-1755-07 & TCGA-86-7713-01A-11R-2066-07 & TCGA-86-8359-01A-11R-2326-07 & TCGA-MP-A4T7-01A-11R-A24X-07 & TCGA-78-7537-01A-11R-2066-07 & TCGA-MN-A4N5-01A-11R-A24X-07 & TCGA-MP-A4TE-01A-22R-A466-07 & TCGA-95-8494-01A-11R-2326-07 & TCGA-86-8673-01A-11R-2403-07 & TCGA-97-7941-01A-11R-2187-07 & TCGA-44-A4SS-01A-11R-A24X-07 & TCGA-69-7973-01A-11R-2187-07 & TCGA-55-6642-01A-11R-1858-07 & TCGA-80-5611-01A-01R-1628-07 & TCGA-38-4625-01A-01R-1206-07 & TCGA-L9-A50W-01A-12R-A39D-07 & TCGA-49-4505-01A-01R-1206-07 & TCGA-78-7539-01A-11R-2066-07 & TCGA-55-7725-01A-11R-2170-07 & TCGA-NJ-A55O-01A-11R-A262-07 & TCGA-49-6743-01A-11R-1858-07 & TCGA-J2-8194-01A-11R-2241-07 & TCGA-67-6216-01A-11R-1755-07 & TCGA-05-4402-01A-01R-1206-07 & TCGA-44-7661-01A-11R-2066-07 & TCGA-55-8506-01A-11R-2403-07 & TCGA-MP-A5C7-01A-11R-A262-07 & TCGA-50-5066-01A-01R-1628-07 & TCGA-05-5715-01A-01R-1628-07 & TCGA-64-5779-01A-01R-1628-07 & TCGA-49-6742-01A-11R-1858-07 & TCGA-78-7160-01A-11R-2039-07 & TCGA-44-A47G-01A-21R-A24H-07 & TCGA-L4-A4E5-01A-11R-A24X-07 & TCGA-97-8175-01A-11R-2287-07 & TCGA-91-6830-01A-11R-1949-07 & TCGA-67-3773-01A-01R-0946-07 & TCGA-91-A4BD-01A-11R-A24H-07 & TCGA-62-8397-01A-11R-2326-07 & TCGA-55-A48Z-01A-12R-A24X-07 & TCGA-73-4677-01A-01R-1206-07 & TCGA-69-7760-01A-11R-2170-07 & TCGA-55-A492-01A-11R-A24H-07 & TCGA-05-4426-01A-01R-1206-07 & TCGA-44-2659-01A-01R-0946-07 & TCGA-55-6975-01A-11R-1949-07 & TCGA-62-8402-01A-11R-2326-07 & TCGA-55-6980-01A-11R-1949-07 & TCGA-78-7220-01A-11R-2039-07 & TCGA-64-5781-01A-01R-1628-07 & TCGA-05-4405-01A-21R-1858-07 & TCGA-50-5941-01A-11R-1755-07 & TCGA-97-7554-01A-11R-2039-07 & TCGA-73-7498-01A-12R-2187-07 & TCGA-49-AARE-01A-11R-A41B-07 & TCGA-55-A494-01A-11R-A24X-07 & TCGA-55-A57B-01A-12R-A39D-07 & TCGA-49-4514-01A-21R-1858-07 & TCGA-50-5930-01A-11R-1755-07 & TCGA-55-6981-01A-11R-1949-07 & TCGA-99-8028-01A-11R-2241-07 & TCGA-38-4632-01A-01R-1755-07 & TCGA-78-7145-01A-11R-2039-07 & TCGA-86-7701-01A-11R-2170-07 & TCGA-64-1676-01A-01R-0946-07 & TCGA-MP-A4T6-01A-32R-A262-07 & TCGA-05-4250-01A-01R-1107-07 & TCGA-62-8399-01A-21R-2326-07 & TCGA-75-5147-01A-01R-1628-07 & TCGA-78-7542-01A-21R-2066-07 & TCGA-05-4434-01A-01R-1206-07 & TCGA-55-7726-01A-11R-2170-07 & TCGA-86-8074-01A-11R-2241-07 & TCGA-L9-A444-01A-21R-A24H-07 & TCGA-91-8496-01A-11R-2403-07 & TCGA-86-6562-01A-11R-1755-07 & TCGA-38-4629-01A-02R-1206-07 & TCGA-44-3396-01A-01R-1206-07 & TCGA-97-A4M7-01A-11R-A24X-07 & TCGA-55-8096-01A-11R-2241-07 & TCGA-62-A46S-01A-11R-A24H-07 & TCGA-50-6593-01A-11R-1755-07 & TCGA-MP-A4TC-01A-11R-A24X-07 & TCGA-62-A46R-01A-11R-A24H-07 & TCGA-44-3917-01A-01R-A278-07 & TCGA-55-7574-01A-11R-2039-07 & TCGA-50-6591-01A-11R-1755-07 & TCGA-95-7567-01A-11R-2066-07 & TCGA-95-7948-01A-11R-2187-07 & TCGA-55-8513-01A-11R-2403-07 & TCGA-MP-A4TI-01A-21R-A24X-07 & TCGA-50-5942-01A-21R-1755-07 & TCGA-53-A4EZ-01A-12R-A24X-07 & TCGA-44-6776-01A-11R-1858-07 & TCGA-55-7576-01A-11R-2066-07 & TCGA-05-4420-01A-01R-1206-07 & TCGA-55-8090-01A-11R-2241-07 & TCGA-64-1679-01A-21R-2066-07 & TCGA-69-A59K-01A-11R-A262-07 & TCGA-55-8621-01A-11R-2403-07 & TCGA-MP-A4TJ-01A-51R-A262-07 & TCGA-55-A4DF-01A-11R-A24H-07 & TCGA-50-5072-01A-21R-1858-07 & TCGA-MP-A4T4-01A-11R-A262-07 & TCGA-49-4506-01A-01R-1206-07 & TCGA-97-A4M2-01A-12R-A24X-07 & TCGA-53-7626-01A-12R-2066-07 & TCGA-78-7154-01A-11R-2039-07 & TCGA-75-5122-01A-01R-1755-07 & TCGA-78-7155-01A-11R-2039-07 & TCGA-55-6978-01A-11R-1949-07 & TCGA-75-6212-01A-11R-1755-07 & TCGA-49-4512-01A-21R-1858-07 & TCGA-44-2655-01A-01R-0946-07 & TCGA-50-5935-01A-11R-1755-07 & TCGA-97-8174-01A-11R-2287-07 & TCGA-62-A46V-01A-11R-A24H-07 & TCGA-55-7573-01A-11R-2039-07 & TCGA-55-A491-01A-11R-A24H-07 & TCGA-55-6712-01A-11R-1858-07 & TCGA-NJ-A55R-01A-11R-A262-07 & TCGA-55-8097-01A-11R-2241-07 & TCGA-91-A4BC-01A-11R-A24H-07 & TCGA-99-8032-01A-11R-2241-07 & TCGA-75-6207-01A-11R-1755-07 & TCGA-55-6986-01A-11R-1949-07 & TCGA-78-7150-01A-21R-2039-07 & TCGA-MP-A4TH-01A-31R-A262-07 & TCGA-97-8179-01A-11R-2287-07 & TCGA-44-7670-01A-11R-2066-07 & TCGA-91-6831-01A-11R-1858-07 & TCGA-55-8508-01A-11R-2403-07 & TCGA-55-6543-01A-11R-1755-07 & TCGA-95-A4VK-01A-11R-A262-07 & TCGA-05-4390-01A-02R-1755-07 & TCGA-50-5936-01A-11R-1628-07 & TCGA-73-4666-01A-01R-1206-07 & TCGA-97-7547-01A-11R-2039-07 & TCGA-86-6851-01A-11R-1949-07 & TCGA-50-6595-01A-12R-1858-07 & TCGA-49-AARN-01A-21R-A41B-07 & TCGA-MP-A4T8-01A-11R-A24X-07 & TCGA-50-6592-01A-11R-1755-07 & TCGA-55-7728-01A-11R-2187-07 & TCGA-69-7978-01A-11R-2187-07 & TCGA-86-8054-01A-11R-2241-07 & TCGA-93-A4JO-01A-21R-A24X-07 & TCGA-86-8358-01A-11R-2326-07 & TCGA-50-5051-01A-21R-1858-07 & TCGA-75-6211-01A-11R-1755-07 & TCGA-69-7979-01A-11R-2187-07 & TCGA-75-7031-01A-11R-1949-07 & TCGA-NJ-A4YF-01A-12R-A262-07 & TCGA-95-7944-01A-11R-2187-07 & TCGA-05-4384-01A-01R-1755-07 & TCGA-38-4627-01A-01R-1206-07 & TCGA-44-7660-01A-11R-2066-07 & TCGA-78-7540-01A-11R-2066-07 & TCGA-86-8279-01A-11R-2287-07 & TCGA-49-4510-01A-01R-1206-07 & TCGA-J2-A4AE-01A-21R-A24H-07 & TCGA-75-5146-01A-01R-1628-07 & TCGA-93-A4JQ-01A-11R-A24X-07 & TCGA-05-4424-01A-22R-1858-07 & TCGA-05-4398-01A-01R-1206-07 & TCGA-05-4425-01A-01R-1755-07 & TCGA-MP-A4SY-01A-21R-A24X-07 & TCGA-50-5931-01A-11R-1755-07 & TCGA-99-7458-01A-11R-2039-07 & TCGA-86-8280-01A-11R-2287-07 & TCGA-05-4389-01A-01R-1206-07 & TCGA-97-8547-01A-11R-2403-07 & TCGA-75-7027-01A-11R-1949-07 & TCGA-50-5055-01A-01R-1628-07 & TCGA-95-A4VP-01A-21R-A262-07 & TCGA-49-4490-01A-21R-1858-07 & TCGA-44-6145-01A-11R-1755-07 & TCGA-73-4668-01A-01R-1206-07 & TCGA-55-8204-01A-11R-2241-07 & TCGA-55-6987-01A-11R-1949-07 & TCGA-55-8507-01A-11R-2403-07 & TCGA-44-2661-01A-01R-1107-07 & TCGA-55-7283-01A-11R-2039-07 & TCGA-J2-A4AD-01A-11R-A24H-07 & TCGA-62-A472-01A-11R-A24H-07 & TCGA-49-AAR9-01A-21R-A41B-07 & TCGA-69-7763-01A-11R-2170-07 & TCGA-50-5045-01A-01R-1628-07 & TCGA-05-4432-01A-01R-1206-07 & TCGA-MP-A4SV-01A-11R-A24X-07 & TCGA-78-7143-01A-11R-2039-07 & TCGA-86-7955-01A-11R-2187-07 & TCGA-55-8615-01A-11R-2403-07 & TCGA-05-4395-01A-01R-1206-07 & TCGA-44-7672-01A-11R-2066-07 & TCGA-71-8520-01A-11R-2403-07 & TCGA-55-8091-01A-11R-2241-07 & TCGA-78-7146-01A-11R-2039-07 & TCGA-91-6829-01A-21R-1858-07 & TCGA-44-8120-01A-11R-2241-07 & TCGA-05-5428-01A-01R-1628-07 & TCGA-44-6774-01A-21R-1858-07 & TCGA-97-A4M6-01A-11R-A24X-07 & TCGA-55-8514-01A-11R-2403-07 & TCGA-55-8094-01A-11R-2241-07 & TCGA-J2-8192-01A-11R-2241-07 & TCGA-95-A4VN-01A-11R-A262-07 & TCGA-86-A4D0-01A-11R-A24H-07 & TCGA-97-7937-01A-11R-2170-07 & TCGA-55-8299-01A-11R-2287-07 & TCGA-55-6968-01A-11R-1949-07 & TCGA-55-7816-01A-11R-2170-07 & TCGA-69-7761-01A-11R-2170-07 & TCGA-86-A456-01A-11R-A24H-07 & TCGA-86-8073-01A-11R-2241-07 & TCGA-55-8620-01A-11R-2403-07 & TCGA-05-4418-01A-01R-1206-07 & TCGA-55-6970-01A-11R-1949-07 & TCGA-91-8497-01A-11R-2403-07 & TCGA-49-6745-01A-11R-1858-07 & TCGA-44-7669-01A-21R-2066-07 & TCGA-55-8614-01A-11R-2403-07 & TCGA-NJ-A7XG-01A-12R-A39D-07 & TCGA-44-6148-01A-11R-1755-07 & TCGA-NJ-A4YQ-01A-11R-A262-07 & TCGA-86-8278-01A-11R-2287-07 & TCGA-64-1680-01A-02R-0946-07 & TCGA-86-7954-01A-11R-2187-07 & TCGA-44-6779-01A-11R-1858-07 & TCGA-49-AARR-01A-11R-A41B-07 & TCGA-64-5775-01A-01R-1628-07 & TCGA-55-7815-01A-11R-2170-07 & TCGA-86-8672-01A-21R-2403-07 & TCGA-L9-A743-01A-43R-A39D-07 & TCGA-55-A493-01A-11R-A24H-07 & TCGA-55-6982-01A-11R-1949-07 & TCGA-67-3772-01A-01R-0946-07 & TCGA-86-8056-01A-11R-2241-07 & TCGA-86-7714-01A-12R-2170-07 & TCGA-73-4659-01A-01R-1206-07 & TCGA-86-A4P8-01A-11R-A24X-07 & TCGA-62-8398-01A-11R-2326-07 & TCGA-44-8117-01A-11R-2241-07 & TCGA-75-6206-01A-11R-1755-07 & TCGA-78-7149-01A-11R-2039-07 & TCGA-78-7159-01A-11R-2039-07 & TCGA-80-5607-01A-31R-1949-07 & TCGA-67-3770-01A-01R-0946-07 & TCGA-50-5068-01A-01R-1628-07 & TCGA-78-8648-01A-11R-2403-07 & TCGA-99-8025-01A-11R-2241-07 & TCGA-55-8511-01A-11R-2403-07 & TCGA-62-A46P-01A-11R-A24H-07 & TCGA-97-8172-01A-11R-2287-07 & TCGA-91-6847-01A-11R-1949-07 & TCGA-44-A479-01A-31R-A24H-07 & TCGA-L4-A4E6-01A-11R-A24H-07 & TCGA-49-4507-01A-01R-1206-07 & TCGA-MP-A4TF-01A-11R-A262-07 & TCGA-62-8394-01A-11R-2326-07 & TCGA-50-8457-01A-11R-2326-07 & TCGA-49-4494-01A-01R-1206-07 & TCGA-05-4382-01A-01R-1206-07 & TCGA-91-6848-01A-11R-1949-07 & TCGA-50-5049-01A-01R-1628-07 & TCGA-64-5778-01A-01R-1628-07 & TCGA-55-6985-01A-11R-1949-07 & TCGA-78-7535-01A-11R-2066-07 & TCGA-73-4658-01A-01R-1755-07 & TCGA-55-8510-01A-11R-2403-07 & TCGA-35-4123-01A-01R-1107-07 & TCGA-50-5932-01A-11R-1755-07 & TCGA-62-A46Y-01A-11R-A24H-07 & TCGA-55-6984-01A-11R-1949-07 & TCGA-05-5425-01A-02R-1628-07 & TCGA-97-A4M0-01A-11R-A24X-07 & TCGA-55-8302-01A-11R-2326-07 & TCGA-73-4662-01A-01R-1206-07 & TCGA-L9-A5IP-01A-21R-A39D-07 & TCGA-86-7711-01A-11R-2066-07 & TCGA-55-A48Y-01A-11R-A24H-07 & TCGA-MN-A4N4-01A-12R-A24X-07 & TCGA-05-5423-01A-01R-1628-07 & TCGA-55-7907-01A-11R-2170-07 & TCGA-05-4410-01A-21R-1858-07 & TCGA-44-A4SU-01A-11R-A24X-07 & TCGA-78-8660-01A-11R-2403-07 & TCGA-55-8512-01A-11R-2403-07 & TCGA-67-3774-01A-01R-0946-07 & TCGA-50-6597-01A-11R-1858-07 & TCGA-55-5899-01A-11R-1628-07 & TCGA-55-8203-01A-11R-2241-07 & TCGA-55-8205-01A-11R-2241-07 & TCGA-49-AAR0-01A-21R-A39D-07 & TCGA-69-7980-01A-11R-2187-07 & TCGA-05-4427-01A-21R-1858-07 & TCGA-55-1592-01A-01R-0946-07 & TCGA-55-8206-01A-11R-2241-07 & TCGA-05-4403-01A-01R-1206-07 & TCGA-97-8177-01A-11R-2287-07 & TCGA-55-7903-01A-11R-2170-07 & TCGA-73-A9RS-01A-11R-A41B-07 & TCGA-97-A4M3-01A-11R-A24X-07 & TCGA-05-4433-01A-22R-1858-07 & TCGA-MP-A4TK-01A-11R-A24X-07 & TCGA-55-8208-01A-11R-2241-07 & TCGA-78-7152-01A-11R-2039-07 & TCGA-38-7271-01A-11R-2039-07 & TCGA-55-A4DG-01A-11R-A24H-07 & TCGA-75-6205-01A-11R-1755-07 & TCGA-73-4676-01A-01R-1755-07 & TCGA-49-AAR3-01A-11R-A41B-07 & TCGA-44-7659-01A-11R-2066-07 & TCGA-78-7158-01A-11R-2039-07 & TCGA-05-4397-01A-01R-1206-07 & TCGA-05-4415-01A-22R-1858-07 & TCGA-55-7911-01A-11R-2170-07 & TCGA-44-2665-01A-01R-0946-07 & TCGA-55-6979-01A-11R-1949-07 & TCGA-49-AAQV-01A-11R-A39D-07 & TCGA-L9-A8F4-01A-11R-A39D-07 & TCGA-44-5643-01A-01R-1628-07 & TCGA-91-8499-01A-11R-2403-07 & TCGA-J2-A4AG-01A-11R-A24H-07 & TCGA-93-A4JN-01A-11R-A24X-07 & TCGA-L9-A7SV-01A-11R-A39D-07 & TCGA-55-7227-01A-11R-2039-07 & TCGA-86-8076-01A-31R-2241-07 & TCGA-91-6835-01A-11R-1858-07 & TCGA-69-8254-01A-11R-2287-07 & TCGA-05-4396-01A-21R-1858-07 & TCGA-95-8039-01A-11R-2241-07 & TCGA-44-3919-01A-02R-1107-07 & TCGA-55-8616-01A-11R-2403-07 & TCGA-O1-A52J-01A-11R-A262-07 & TCGA-49-AARO-01A-12R-A41B-07 & TCGA-38-4628-01A-01R-1206-07 & TCGA-38-6178-01A-11R-1755-07 & TCGA-78-7162-01A-21R-2066-07 & TCGA-50-5044-01A-21R-1858-07 & TCGA-83-5908-01A-21R-2287-07 & TCGA-S2-AA1A-01A-12R-A39D-07 & TCGA-75-6203-01A-11R-1755-07 & TCGA-78-8655-01A-11R-2403-07 & TCGA-50-6594-01A-11R-1755-07 & TCGA-53-7813-01A-11R-2170-07 & TCGA-50-6673-01A-11R-1949-07 & TCGA-55-1596-01A-01R-0946-07 & TCGA-NJ-A55A-01A-11R-A262-07 & TCGA-50-7109-01A-11R-2039-07 & TCGA-86-A4P7-01A-11R-A24X-07 & TCGA-50-5939-01A-11R-1628-07 & TCGA-93-8067-01A-11R-2287-07 & TCGA-38-A44F-01A-11R-A24H-07 & TCGA-78-7161-01A-11R-2039-07 & TCGA-69-7974-01A-11R-2187-07 & TCGA-78-7633-01A-11R-2066-07 & TCGA-50-5944-01A-11R-1755-07 & TCGA-93-7348-01A-21R-2039-07 & TCGA-73-4675-01A-01R-1206-07 & TCGA-MN-A4N1-01A-11R-A24X-07 & TCGA-55-7914-01A-11R-2170-07 & TCGA-93-A4JP-01A-11R-A24X-07 & TCGA-86-8075-01A-11R-2241-07 & TCGA-78-7148-01A-11R-2039-07 & TCGA-05-5429-01A-01R-1628-07 & TCGA-73-4670-01A-01R-1206-07 & TCGA-78-7156-01A-11R-2039-07 & TCGA-62-8395-01A-11R-2326-07 & TCGA-86-A4JF-01A-11R-A24X-07 & TCGA-93-7347-01A-11R-2187-07 & TCGA-69-8255-01A-11R-2287-07 & TCGA-67-3771-01A-01R-0946-07 & TCGA-05-4422-01A-01R-1206-07 & TCGA-64-1681-01A-11R-2066-07 & TCGA-55-7995-01A-11R-2187-07 & TCGA-44-5645-01A-01R-A278-07 & TCGA-44-3918-01A-01R-A278-07 & TCGA-44-2656-01A-02R-A278-07 & TCGA-44-2662-01A-01R-A278-07 & TCGA-44-6147-01A-11R-A278-07 & TCGA-44-2666-01A-01R-A278-07 & TCGA-44-6146-01A-11R-A278-07 & TCGA-44-6775-01A-11R-A278-07 & TCGA-44-2668-01A-01R-A278-07\\\\\n",
       "  & <int> & <int> & <int> & <int> & <int> & <int> & <int> & <int> & <int> & <int> & <int> & <int> & <int> & <int> & <int> & <int> & <int> & <int> & <int> & <int> & <int> & <int> & <int> & <int> & <int> & <int> & <int> & <int> & <int> & <int> & <int> & <int> & <int> & <int> & <int> & <int> & <int> & <int> & <int> & <int> & <int> & <int> & <int> & <int> & <int> & <int> & <int> & <int> & <int> & <int> & <int> & <int> & <int> & <int> & <int> & <int> & <int> & <int> & <int> & <int> & <int> & <int> & <int> & <int> & <int> & <int> & <int> & <int> & <int> & <int> & <int> & <int> & <int> & <int> & <int> & <int> & <int> & <int> & <int> & <int> & <int> & <int> & <int> & <int> & <int> & <int> & <int> & <int> & <int> & <int> & <int> & <int> & <int> & <int> & <int> & <int> & <int> & <int> & <int> & <int> & <int> & <int> & <int> & <int> & <int> & <int> & <int> & <int> & <int> & <int> & <int> & <int> & <int> & <int> & <int> & <int> & <int> & <int> & <int> & <int> & <int> & <int> & <int> & <int> & <int> & <int> & <int> & <int> & <int> & <int> & <int> & <int> & <int> & <int> & <int> & <int> & <int> & <int> & <int> & <int> & <int> & <int> & <int> & <int> & <int> & <int> & <int> & <int> & <int> & <int> & <int> & <int> & <int> & <int> & <int> & <int> & <int> & <int> & <int> & <int> & <int> & <int> & <int> & <int> & <int> & <int> & <int> & <int> & <int> & <int> & <int> & <int> & <int> & <int> & <int> & <int> & <int> & <int> & <int> & <int> & <int> & <int> & <int> & <int> & <int> & <int> & <int> & <int> & <int> & <int> & <int> & <int> & <int> & <int> & <int> & <int> & <int> & <int> & <int> & <int> & <int> & <int> & <int> & <int> & <int> & <int> & <int> & <int> & <int> & <int> & <int> & <int> & <int> & <int> & <int> & <int> & <int> & <int> & <int> & <int> & <int> & <int> & <int> & <int> & <int> & <int> & <int> & <int> & <int> & <int> & <int> & <int> & <int> & <int> & <int> & <int> & <int> & <int> & <int> & <int> & <int> & <int> & <int> & <int> & <int> & <int> & <int> & <int> & <int> & <int> & <int> & <int> & <int> & <int> & <int> & <int> & <int> & <int> & <int> & <int> & <int> & <int> & <int> & <int> & <int> & <int> & <int> & <int> & <int> & <int> & <int> & <int> & <int> & <int> & <int> & <int> & <int> & <int> & <int> & <int> & <int> & <int> & <int> & <int> & <int> & <int> & <int> & <int> & <int> & <int> & <int> & <int> & <int> & <int> & <int> & <int> & <int> & <int> & <int> & <int> & <int> & <int> & <int> & <int> & <int> & <int> & <int> & <int> & <int> & <int> & <int> & <int> & <int> & <int> & <int> & <int> & <int> & <int> & <int> & <int> & <int> & <int> & <int> & <int> & <int> & <int> & <int> & <int> & <int> & <int> & <int> & <int> & <int> & <int> & <int> & <int> & <int> & <int> & <int> & <int> & <int> & <int> & <int> & <int> & <int> & <int> & <int> & <int> & <int> & <int> & <int> & <int> & <int> & <int> & <int> & <int> & <int> & <int> & <int> & <int> & <int> & <int> & <int> & <int> & <int> & <int> & <int> & <int> & <int> & <int> & <int> & <int> & <int> & <int> & <int> & <int> & <int> & <int> & <int> & <int> & <int> & <int> & <int> & <int> & <int> & <int> & <int> & <int> & <int> & <int> & <int> & <int> & <int> & <int> & <int> & <int> & <int> & <int> & <int> & <int> & <int> & <int> & <int> & <int> & <int> & <int> & <int> & <int> & <int> & <int> & <int> & <int> & <int> & <int> & <int> & <int> & <int> & <int> & <int> & <int> & <int> & <int> & <int> & <int> & <int> & <int> & <int> & <int> & <int> & <int> & <int> & <int> & <int> & <int> & <int> & <int> & <int> & <int> & <int> & <int> & <int> & <int> & <int> & <int> & <int> & <int> & <int> & <int> & <int> & <int> & <int> & <int> & <int> & <int> & <int> & <int> & <int> & <int> & <int> & <int> & <int> & <int> & <int> & <int> & <int> & <int> & <int> & <int> & <int> & <int> & <int> & <int> & <int> & <int> & <int> & <int> & <int> & <int> & <int> & <int> & <int> & <int> & <int> & <int> & <int> & <int> & <int> & <int> & <int> & <int> & <int> & <int> & <int> & <int> & <int> & <int> & <int> & <int> & <int> & <int> & <int> & <int> & <int> & <int> & <int> & <int> & <int> & <int> & <int> & <int> & <int> & <int> & <int> & <int> & <int> & <int> & <int> & <int> & <int> & <int> & <int> & <int> & <int> & <int> & <int> & <int> & <int> & <int> & <int> & <int> & <int> & <int> & <int> & <int> & <int> & <int> & <int> & <int> & <int> & <int> & <int> & <int> & <int> & <int> & <int> & <int> & <int> & <int> & <int> & <int> & <int> & <int> & <int> & <int> & <int> & <int> & <int> & <int> & <int> & <int> & <int> & <int> & <int> & <int> & <int> & <int> & <int> & <int>\\\\\n",
       "\\hline\n",
       "\tENSG00000000003.13 & 1755 &  2001 & 2193 &  657 &   988 &  2383 & 1289 & 1117 & 1131 & 3163 & 1285 & 2068 &   786 &  824 &  516 &  349 &  962 & 1298 &  836 & 1404 &  622 &  841 &  518 & 1535 &  551 & 1696 & 2510 &  462 &  575 &  550 & 1201 &  725 &  692 &  711 & 1360 &  2630 & 1233 &  782 & 1035 & 1508 & 1205 &  624 & 1460 & 1569 & 2805 &  793 &  901 & 1313 & 1516 &  699 &  893 & 6858 &  580 & 2522 &  851 &  512 &  766 &  745 & 3554 & 3658 & 3616 &  2336 & 1823 & 2384 & 10082 & 2131 & 4135 &  735 & 1226 & 1003 & 9751 & 5130 & 7343 & 4875 & 2378 & 1548 & 4174 & 8358 & 2032 & 4044 & 5027 & 2057 & 8671 & 1688 & 5978 & 2411 & 2292 & 1812 & 2975 &  889 &  549 & 3682 & 13301 & 3722 & 3624 & 1692 & 4637 & 1982 & 2501 & 3976 & 3225 & 2217 & 4429 & 2524 & 1579 & 4415 & 4611 & 3848 & 4262 & 4246 & 2110 & 1025 & 4214 & 10840 & 3751 & 3453 & 5229 & 8134 & 2071 & 3528 & 2673 & 5382 & 1861 & 4534 & 1511 & 1433 & 3507 & 5327 & 9543 & 2350 & 3747 & 2580 & 6691 & 1708 & 2176 & 2130 & 1888 & 6991 & 8669 & 1809 & 2028 & 1146 & 3826 & 668 & 2132 & 1489 & 4901 & 1389 & 3038 & 4392 & 1684 & 3478 & 4478 & 4291 & 5555 & 2483 & 1546 & 2358 & 3032 & 1647 & 9446 & 2297 & 3716 &  858 & 1683 & 780 & 4836 & 3872 & 1379 & 8279 & 2637 & 10021 & 1734 & 6672 & 2797 &  928 & 2625 & 4024 & 3903 & 2357 & 2533 & 1484 & 3079 & 1860 & 8563 & 2097 & 1467 & 3201 & 6159 & 4560 & 1266 & 1764 & 11581 & 3645 & 4175 & 1678 & 3265 & 10139 & 3022 & 7902 & 4193 & 943 &  861 & 1094 & 6064 & 5035 & 13036 & 2153 & 1606 & 3435 & 3589 & 3210 & 1543 & 3275 & 1954 & 2296 & 1510 & 6182 & 2307 & 851 & 1452 & 1235 & 6871 & 4491 & 12581 & 3047 & 9505 & 1846 & 1595 & 6414 & 4441 & 2923 & 1832 & 2461 & 3362 & 2791 & 5063 & 5225 & 1315 & 5061 & 2265 & 1157 & 3008 & 2141 & 3416 & 3543 & 1104 & 5913 & 4748 & 5355 & 3030 & 15466 & 2336 & 3350 & 1192 & 8707 & 1053 & 4460 & 3155 & 7465 & 9095 & 3594 & 8052 & 5986 & 5495 & 2488 & 2738 & 2437 & 1000 & 2319 & 2555 & 3098 & 1436 & 1730 & 2032 & 4638 & 1391 & 4210 & 8853 & 3883 & 5835 & 1343 & 1580 & 1469 & 3959 & 2769 & 2178 & 2003 & 1466 & 3257 & 4150 & 1820 & 3915 & 4454 & 2661 & 1523 & 7734 & 2199 & 4437 & 2617 & 3096 & 5874 & 1863 & 3456 & 2828 & 1506 & 2730 & 2496 & 3432 & 3462 & 1097 & 6177 & 6123 & 1429 & 1441 & 4674 & 2269 & 2322 & 2537 & 4406 & 7348 & 2937 & 1331 & 1786 & 4779 & 3348 &  2007 & 3167 & 8706 & 3552 & 671 & 2658 & 3519 & 1694 & 1710 & 1271 & 1574 & 1347 & 10707 & 6649 & 1938 & 8501 & 6105 & 2559 & 2795 & 1313 & 3382 & 6086 & 1552 & 4011 & 1602 & 3357 & 7134 & 9168 & 1488 & 6770 & 2082 & 3653 & 3811 & 1407 & 8899 & 7284 & 4551 & 2605 & 4577 & 2540 & 3731 & 911 & 2863 & 1633 & 6388 & 3892 & 2415 & 4569 & 4297 & 2266 & 3136 & 4259 & 2592 & 3648 & 3453 & 2031 & 7874 & 2102 & 1413 & 7405 & 4944 & 3729 & 9626 & 1963 & 3106 & 4376 & 2154 & 1200 & 1135 & 1261 & 1959 & 3435 & 1102 & 7712 & 4040 &  769 & 2699 & 3365 & 3647 & 5157 & 4794 & 1578 & 8281 & 4330 & 9111 & 1968 & 3863 & 3591 & 2531 & 1334 & 2567 & 1845 & 2312 & 9772 & 2484 & 2244 & 5108 & 1161 & 4426 & 2262 & 1202 & 2377 & 4354 & 1914 & 3674 & 2904 &  752 & 3888 & 2390 & 1768 & 2232 & 12309 & 1898 &  790 & 2105 & 2441 & 6445 & 1823 & 9138 & 3898 & 1040 & 1647 & 5451 & 3959 & 4829 & 3672 & 2619 & 7053 & 4574 & 5481 & 853 & 2401 &  949 & 3029 & 6869 & 1117 & 4261 & 4135 & 3381 & 4494 & 1884 & 1594 & 8839 & 1494 & 3347 & 2709 & 1609 & 1147 & 4165 & 2171 & 1448 & 4926 & 1417 & 8300 & 5499 & 3786 & 5032 & 2927 &  584 & 1437 &  878 & 2181 & 2326 & 1234 & 1549 &  790 & 627 & 4720 & 1076 & 949 & 2804 & 7845 & 2631 & 1242 & 4259 & 3131 & 8591 & 2734 & 2660 & 13064 & 2631 & 3879 & 1702 & 2273 & 3284 & 3538 & 10224 & 1117 & 5571 & 6741 & 2729 & 2736 & 3659 & 3959 & 2188 & 2962 & 942 & 3134 & 4744 & 1793 & 3364 & 3833 & 1957 & 2928 & 6093 & 3019 & 2694 & 1185 & 1599 & 3461 & 2465 & 7114 & 3187 & 4693 & 3285 & 2383 & 5955 & 3507 & 2950 & 4901 & 11459 & 3324 & 2191 & 4537 & 2315 & 1556 & 1215 & 1388 & 3880 & 1061 & 4938 & 8563 & 4595 & 7086 & 4238 & 4228 & 3668 & 2183 & 1766 & 791 & 2487 & 1095\\\\\n",
       "\tENSG00000000005.5 &    2 &     9 &    3 &    0 &     2 &     1 &  108 &    0 &    7 &    4 &    0 &    5 &     2 &    1 &    0 &    0 &    1 &    3 &    6 &    8 &    1 &    0 &    1 &    2 &    1 &    4 &    7 &    0 &    1 &    1 &    7 &    0 &    2 &    1 &    2 &     1 &    1 &    2 &    3 &    3 &    2 &    0 &    2 &    1 &    0 &    0 &    1 &    1 &    2 &    0 &    1 &    3 &    1 &    4 &    1 &    2 &    1 &    0 &    1 &    0 &    1 &     0 &    1 &    8 &     1 &    0 &    0 &    0 &    0 &    0 &    0 &    1 &    4 &    0 &    1 &    1 &   20 &    1 &   15 &    1 &    0 &    4 &    8 &    0 &    0 &    1 &    0 &    0 &    0 &    0 &    0 &    3 &    78 &    0 &    2 &    1 &    0 &    4 &    2 &   10 &   18 &    0 &    0 &    3 &    0 &    0 &    0 &   19 &    0 &    1 &    0 &    1 &    1 &    36 &    0 &  334 &    8 &    6 &    1 &    0 &    5 &    0 &    1 &    0 &    0 &    1 &   17 &    9 &    1 &    0 &    0 &    2 &    0 &    0 &    1 &    2 &    1 &    0 &    3 &    1 &    1 &    8 &    7 & 107 &    0 &    0 &    0 &    0 &    7 &    2 &    1 &   15 &    0 &    0 &    3 &  189 &    2 &    2 &    0 &    0 &    5 &    3 &    0 &    0 &    7 &   0 &    3 &    0 &    0 &  129 &    5 &     0 &    3 &    1 &   17 &    0 &    0 &    3 &    0 &    1 &    0 &    0 &    1 &    0 &    0 &    2 &    0 &    2 &    0 &    4 &    2 &    0 &    13 &    0 &    0 &    1 &    1 &     0 &    0 &   44 &    0 &   2 &    0 &    0 &    0 &  921 &     6 &    4 &    1 &    1 &    1 &    0 &    0 &    0 &    1 &    0 &    0 &    2 &    1 &   1 &    0 &    0 &    0 &    0 &  8200 &    1 &    1 &   12 &    0 &    0 &    2 &    0 &    1 &    0 &    1 &   11 &    4 &    2 &    0 &    7 &    0 &    0 &    0 &    3 &    0 &    3 &    0 &    0 &    2 &    5 &    0 &    20 &    0 &    0 &    0 &    1 &    1 &    1 &    0 &    0 &    3 &    1 &    3 &    0 &    0 &    0 &    0 &    2 &    0 & 1300 &  108 &    0 &    0 &    1 &    0 &    0 &    1 &    1 &    2 &    0 &    1 &    0 &    1 &    1 &    0 &    1 &    0 &    3 &    0 &    0 &    0 &    1 &    8 &    0 &    2 &    1 &    4 &    2 &    1 &    1 &    2 &    2 &    1 &    3 &    1 &    0 &    0 &    8 &    6 &    0 &    0 &    5 &    0 &    0 &    0 &    1 &    1 &    0 &    0 &    7 &    2 &    0 &    0 &    0 &    1 &    1 &     2 &    3 &    0 &    0 &   0 &    1 &    1 &    0 &    0 &    0 &    0 &    0 &     3 &    0 &    0 &    3 &    0 &    0 &    1 &   12 &    0 &    3 &    0 &    2 &    2 &   11 &    7 &    1 &  126 &    0 &    5 &    0 &    3 &    0 &    0 &    2 &    3 &    0 &    0 &    3 &    2 &   0 &    0 &    0 &   31 &    0 &   48 &    3 &    0 &    0 &    0 &   16 &    0 &    2 &    1 &    0 &    0 &    0 &    1 &    4 &    2 &    0 &    3 &    0 &    0 &    0 &    0 &    1 &   26 &    2 &    0 &    0 &    1 &    1 &    0 &    7 &    3 &    0 &    2 &    0 &    9 &    0 &  632 &    1 &    3 &    0 &    2 &   13 &    0 &    1 &    1 &   19 &    2 &   22 &    2 &    2 &    1 &    2 &    0 &    0 &    0 &    3 &    1 &    6 &   18 &    2 &    0 &    3 &    0 &    0 &    5 &     1 &    0 &    3 &    0 &    1 &    4 &    4 &    4 &    0 &    1 &    0 &    0 &    0 &    0 &  188 &    0 &    0 &    0 &    1 &   0 &    0 &    0 &    0 &  151 &    0 &    0 &    0 &    0 &   12 &    4 &    2 &    2 &    2 &    8 &    0 &    0 &    0 &    0 &    0 &    1 &    0 &   86 &    7 &    0 &    3 &   13 &  125 &    1 &    0 &    0 &   24 &    0 &    1 &    0 &    0 &   0 &    0 &    1 &   0 &    3 &   19 &    0 &    0 & 1327 &    0 &    2 &    0 &    0 &     1 &  149 &    0 &    2 &   18 &    0 &    0 &    11 &    0 &    4 &    6 &    0 &    0 &    1 &    1 &    0 &    1 &   0 &    0 &    2 &    0 &    0 &    0 &    0 &    2 &    0 &    0 &    0 &    0 &    1 &    0 &    0 &    1 &   47 &    2 &    2 &    1 &    0 &    3 &    0 &    5 &     3 &    0 &    0 &    0 &    2 &    0 &    0 &    5 &    0 &    1 &    1 &    1 &    0 &    8 &   10 &    5 &    5 &    5 &    2 &   0 &    2 &    0\\\\\n",
       "\tENSG00000000419.11 & 1392 &  1993 & 1583 &  936 &  1287 &  2787 & 1045 & 1198 &  985 & 1158 &  692 & 1582 &   794 &  928 &  589 &  759 &  711 & 1111 &  831 & 1040 &  623 &  573 &  758 & 1691 &  710 &  985 & 1530 &  727 &  623 &  730 &  714 &  769 &  662 &  811 &  846 &  1674 & 1708 & 1003 & 1210 &  875 &  914 &  572 &  940 & 1590 & 1671 &  784 &  738 &  800 & 1310 &  567 &  946 & 2099 &  945 &  888 & 1249 &  668 & 1094 &  744 & 2673 & 1824 & 1170 &  2745 &  871 & 1295 &  6312 & 1169 & 1394 &  705 & 1132 & 1232 & 1646 & 1580 & 1480 & 1483 & 2769 &  394 & 3201 & 1966 & 1220 & 3945 & 1460 & 1413 & 3090 & 1068 & 1181 & 1439 & 1589 & 1121 & 1348 & 1001 & 1180 & 2099 &  3888 & 1286 & 2731 & 1107 & 2746 & 1203 & 3894 &  610 & 1559 &  893 & 3819 & 1300 & 1840 & 2019 & 2641 & 1633 & 2393 & 2307 & 1082 &  835 & 1804 &  3564 & 2053 &  869 & 1916 & 1790 & 1217 & 3109 & 1326 & 1275 &  679 & 1327 & 1169 & 1012 & 1530 & 3551 & 2531 & 2342 & 1597 & 1776 & 3414 & 1642 & 2362 & 1618 &  858 & 3809 & 2141 &  927 & 1424 &  554 & 1705 & 923 & 1030 &  548 & 1742 &  710 & 1932 & 4109 &  862 & 1747 & 1113 & 1074 & 1021 & 1759 & 2105 &  608 & 1068 & 1315 & 1708 &  655 & 2475 & 1004 &  990 & 587 & 1409 & 3160 &  621 & 2988 & 1592 &  2718 &  783 & 2483 & 1453 & 1794 &  592 & 1442 & 1823 &  917 & 3158 & 1280 & 1157 & 1272 & 2564 & 1883 & 1857 & 1087 & 2724 & 1533 & 1142 &  968 &  1552 & 1394 & 2496 &  734 & 1783 &  6725 & 1345 & 3037 & 1542 & 885 & 1051 & 1385 & 1474 &  641 &  2205 & 2190 & 1135 & 1709 & 2848 &  499 & 1387 &  921 &  738 &  857 & 1775 & 2357 & 1119 & 799 & 1279 &  411 & 1616 & 2262 &  1314 & 1347 & 2432 & 1673 &  829 & 2016 &  519 & 2740 & 1314 &  594 & 1350 & 1210 & 1974 & 1232 &  738 & 1291 & 1798 &  461 &  662 & 1897 & 1628 & 1429 &  693 & 2852 & 1465 & 2898 & 2158 &  3416 & 3124 & 2717 & 1570 & 3165 &  864 & 1066 & 1466 & 2977 & 4536 & 1228 & 2147 & 1086 &  621 & 1329 & 1642 & 1922 &  744 & 2040 & 3394 & 2399 &  630 &  758 &  837 & 1321 &  645 & 2414 & 3842 & 1524 & 1676 & 2233 & 1008 &  934 & 3187 & 1166 & 1593 & 1979 & 1034 & 1973 & 3632 & 1071 & 1193 & 2593 &  575 &  839 & 2765 & 1128 & 1735 & 1857 &  815 & 1230 &  818 & 2575 & 1332 & 1495 & 1996 & 1812 &  977 & 1484 &  754 & 2225 & 4446 & 1708 &  770 & 1418 &  819 & 1338 &  620 & 2351 & 1101 & 2196 & 1402 &  914 & 1501 & 2517 &   910 & 2071 & 3613 & 1991 & 895 &  606 & 1439 & 2855 &  707 & 3967 & 2684 &  910 &  2014 & 2342 & 2089 & 3593 & 2564 & 1373 & 1137 & 1360 & 1047 & 3738 & 1285 & 2171 & 1605 & 1452 & 1616 & 2224 &  509 & 2750 & 1008 &  960 &  635 & 1292 & 3925 & 2439 & 2194 & 1547 & 2094 & 1071 & 2160 & 731 & 1915 & 1596 & 2309 & 2960 & 1774 & 1206 & 3791 &  645 & 3206 & 1832 &  883 & 1802 & 1468 & 1262 & 2104 & 3790 &  664 & 1319 &  875 & 2184 & 2303 & 1108 & 1767 & 3232 & 1460 & 1817 & 1453 & 1563 & 1277 & 2945 & 1497 & 1581 & 2024 &  727 & 1159 & 2934 & 1129 & 1439 &  982 & 1072 & 2660 & 1338 & 3534 &  387 & 1152 & 1209 &  778 & 1264 & 1421 & 1318 &  594 & 2172 & 2477 &  716 & 2410 & 1245 & 1634 & 3906 &  818 &  963 & 1355 &  968 &  663 & 3182 &  694 & 1726 & 1032 & 1667 & 1630 &  4082 & 1959 &  973 & 1676 & 1632 & 1528 & 1001 & 2876 & 2832 & 1006 & 1570 & 2402 &  990 & 2173 &  982 &  832 & 2870 & 1564 & 1695 & 743 & 2246 & 1239 & 1159 & 2527 & 1185 & 2652 & 1123 & 2254 & 2828 &  926 &  488 & 1451 & 1231 & 1325 &  742 &  516 & 1400 & 2450 & 2342 & 1721 & 2029 & 1457 & 3251 & 1810 & 2492 & 2743 & 1938 & 1440 & 1201 &  743 & 1389 & 2246 &  342 &  770 & 1394 & 578 & 1574 &  893 & 905 & 1152 & 9407 &  868 & 1672 & 1804 & 1044 & 2333 & 1792 & 2268 &  2084 & 1057 & 2382 & 2124 &  935 & 1545 & 1098 &  2372 &  782 & 2226 & 1673 & 1166 & 1591 & 1127 & 3046 &  745 & 1391 & 709 & 2788 & 1034 &  740 &  900 & 1182 &  963 & 1078 & 2130 &  753 & 2007 & 1251 &  817 & 2688 & 1365 & 1910 & 2281 & 1724 & 1020 & 1115 & 1446 & 1629 & 1452 & 1685 &  2438 & 1115 & 1553 & 4372 &  959 & 1242 & 1364 & 1003 & 4759 & 1820 & 1217 & 2298 & 2337 & 1660 & 3310 & 2081 & 1862 & 1432 & 1704 & 881 & 1141 & 1204\\\\\n",
       "\tENSG00000000457.12 &  695 &   723 &  569 &  573 &   483 &   793 &  410 &  341 &  404 &  884 &  550 &  936 &   514 &  286 &  361 &  306 &  573 &  838 &  394 &  670 &  497 &  338 &  438 &  505 &  483 &  497 &  973 &  461 &  465 &  494 &  440 &  552 &  331 &  795 &  513 &  1028 &  436 &  388 &  588 &  433 &  474 &  425 &  441 & 1182 & 1098 &  444 &  408 &  477 &  469 &  381 &  660 & 1354 &  337 &  589 &  345 &  406 &  322 &  487 & 1320 &  806 &  426 &  1178 &  930 &  857 &   777 &  529 &  685 &  558 &  681 & 1041 &  457 &  798 &  777 & 1353 &  976 &  415 & 2467 & 2465 &  876 & 2142 & 1500 &  298 & 1963 & 1475 &  828 &  720 & 1010 &  687 & 1330 &  710 &  362 &  794 &  2723 & 1234 & 1510 &  753 & 1281 & 2049 & 1288 &  488 &  480 &  650 & 2349 & 1372 & 1103 & 1891 & 1867 & 1305 & 1636 & 1216 &  926 &  633 & 3291 &   630 & 2703 &  873 &  995 & 1241 &  899 & 1577 &  809 & 1098 &  495 & 1032 &  575 &  856 &  534 & 2040 &  970 &  954 & 3118 &  406 & 1528 &  476 &  920 & 1403 &  628 & 1619 & 1350 &  492 & 1078 &  301 & 1235 & 680 &  901 &  642 &  752 &  574 & 1431 & 1148 &  454 & 1104 &  523 &  810 &  682 &  380 &  471 &  573 &  697 &  407 & 1532 &  530 &  283 & 1044 &  963 & 438 &  546 &  493 &  493 & 1117 & 1144 &  1719 &  575 &  960 &  807 &  493 &  465 & 1005 & 1776 &  919 & 2106 &  456 &  841 &  689 & 2951 &  712 &  764 & 1398 & 1280 &  846 &  410 &  269 &  1505 &  837 & 1462 &  568 &  850 &  1173 & 1129 & 1290 & 1446 & 823 & 1056 &  687 & 1669 &  615 &  1834 &  959 &  661 & 2566 &  602 &  640 &  610 &  837 &  889 &  694 &  984 &  893 &  525 & 527 &  288 &  325 & 1213 & 1733 &   722 & 1415 & 1261 & 1503 &  419 &  788 &  396 & 1079 &  659 &  858 &  721 &  739 & 2270 &  794 & 1082 & 1257 &  310 &  190 &  411 &  622 &  473 &  611 &  374 &  609 & 2324 &  734 &  948 &  1721 & 1167 & 2289 &  341 & 1967 &  717 & 1422 & 1171 &  643 & 1169 &  953 & 1564 & 1228 &  460 &  734 &  994 & 1038 &  560 &  740 & 1696 & 1386 &  581 &  754 & 1038 &  893 &  731 & 2501 & 1177 &  964 &  896 & 1285 &  644 &  558 &  866 & 1287 &  922 & 1215 & 1078 & 1567 &  746 &  411 &  494 &  942 &  431 &  370 & 2658 & 1348 & 2179 & 1096 &  944 &  916 &  472 & 2396 & 1569 &  465 & 1027 &  993 &  501 &  744 & 1400 & 1398 &  726 &  636 &  649 &  639 & 1477 &  452 &  556 & 1586 & 1472 & 1916 &  345 &  658 &  903 &  782 &  1561 &  814 & 1193 & 1049 & 504 &  548 &  591 & 1138 &  545 &  453 &  861 &  986 &   724 & 1242 & 1159 & 2189 & 1052 &  747 &  833 & 1141 &  777 & 1572 &  503 &  872 &  987 & 1548 & 1659 & 1288 &  370 & 1362 &  461 &  652 &  449 &  757 &  971 &  841 & 1818 &  823 & 1211 &  784 & 1583 & 517 &  969 &  602 &  773 & 2014 & 1295 & 1400 &  877 &  648 & 1544 &  810 &  684 &  903 &  594 &  645 & 1076 &  806 &  316 & 1706 &  852 &  835 & 1646 & 1015 &  881 & 1666 &  859 &  584 &  956 & 1492 &  555 & 1207 &  239 & 1113 & 1640 &  667 &  555 & 1340 &  462 & 1016 &  984 & 1118 & 1564 &  705 & 1917 &  411 &  715 &  301 &  546 &  336 &  654 &  549 &  454 & 1162 &  873 &  492 & 1092 & 1005 & 1081 & 2717 &  797 &  856 &  776 &  279 &  507 &  851 &  365 & 1340 &  710 &  580 & 2955 &  1950 &  671 &  703 &  480 &  986 &  709 & 1070 &  942 & 1192 &  271 &  752 &  925 &  485 & 1012 &  563 &  607 & 1146 & 1384 & 1045 & 778 &  732 & 1512 &  538 & 3507 & 1161 & 1078 &  757 &  975 & 1145 &  490 &  733 & 1330 &  566 &  786 &  724 &  373 &  389 & 1941 &  733 &  866 & 1389 &  448 & 1934 & 2159 & 1565 & 1086 & 1353 &  544 &  779 &  812 &  807 &  931 &  433 &  617 & 1614 & 300 &  510 &  423 & 862 & 5322 & 2087 &  671 &  837 & 1566 &  618 & 1631 &  863 &  385 &   513 &  709 & 1467 &  946 &  611 & 1412 & 1255 &  3679 &  601 & 1320 & 1163 &  765 &  955 &  680 & 1540 &  423 & 1302 & 234 & 1439 &  893 &  546 &  988 &  465 &  717 &  518 &  780 &  598 &  529 &  786 &  410 & 1465 &  770 & 1179 & 1108 & 2305 &  752 &  863 & 1337 & 1017 & 1035 & 1202 &  1419 &  852 &  949 & 1236 & 1430 &  824 &  985 &  832 & 1355 &  697 & 3321 & 1110 & 1456 & 1785 & 1839 & 2134 &  704 & 1258 & 1099 & 722 &  926 &  562\\\\\n",
       "\tENSG00000000460.15 &  177 &   185 &   98 &  108 &   156 &   194 &  106 &   85 &   82 &  182 &   67 &  174 &   167 &   93 &   88 &   44 &   98 &  129 &  101 &  151 &   89 &  105 &   85 &  117 &  106 &   95 &  196 &   84 &   83 &   78 &   59 &   80 &   65 &  123 &  118 &   200 &  141 &   74 &  115 &  104 &   80 &   87 &   99 &  166 &  230 &   82 &   69 &   78 &   68 &   63 &  157 &  235 &   39 &  104 &  110 &   74 &   78 &   69 &  907 &  375 &  222 &   360 &  237 &  577 &   837 &  151 &  132 &  122 &  375 &  620 &  559 &  623 &  366 &  394 & 1146 &   82 & 1295 &  598 &  250 &  987 &  867 &  225 &  595 &  392 &  653 &  429 &  340 &  221 &  476 &  339 &  434 &  274 &  2937 &  515 & 1245 &  261 &  385 &  628 &  241 &  247 &  353 &  211 & 1886 &  222 &  210 &  519 &  389 &  818 &  411 &  469 &  330 &  143 &  491 &  1212 &  588 &  323 &  501 &  665 &  273 & 2033 &  275 &  526 &  105 & 1277 &  336 &  194 &  465 &  994 &  277 & 1154 &  726 &  529 &  808 &  600 & 1130 &  671 &  368 & 1269 &  595 &  120 &  929 &  138 &  344 & 228 &  223 &  183 &  597 &  151 &  572 &  765 &  163 &  440 &  350 &  691 &  253 &  261 &  460 &  349 &  425 &  270 &  363 &  185 &  451 &  398 &  292 & 170 &  437 &  598 &  156 &  491 &  308 &  1895 &  241 &  552 &  271 &  344 &  214 &  305 & 1042 &  261 & 1289 &  205 &  434 &  198 & 2023 &  265 &  462 &  267 &  827 &  334 &  344 &  287 &   261 &  542 & 1248 &  227 &  635 &  2273 &  195 &  225 &  533 & 164 &  280 &  653 &  268 &  313 &   807 &  668 &  325 &  529 &  482 &  260 &  336 &  260 &  506 &  254 &  412 &  526 &  257 & 108 &  131 &   39 &  508 &  391 &   356 &  228 &  459 &  320 &  351 &  405 &  113 &  866 &  280 &  324 &  259 &  416 &  452 &  437 &  398 &  344 &  162 &  101 &  213 &  208 &  511 &  536 &  204 &  310 &  598 &  785 &  735 &   970 & 1397 & 1044 &  253 & 1180 &  181 &  231 &  615 &  724 &  981 &  390 &  680 &  253 &  253 &  434 &  398 &  829 &  325 &  915 & 1026 &  317 &  129 &  542 &  148 &  445 &  138 & 1211 &  828 &  241 &  676 &  701 &  235 &  265 &  688 & 1000 &  426 &  771 &  230 &  451 &  577 &  288 &  911 &  971 &  155 &  123 &  577 &  386 &  453 &  625 &  312 &  629 &  215 &  656 &  303 &  339 &  527 &  445 &  125 &  846 &  253 &  712 &  882 &  568 &  299 &  179 &  327 &  543 &  346 & 1699 &  191 &  872 &  358 &  235 &  507 &  701 &   216 &  407 & 1621 &  526 & 744 &  203 &  397 & 1356 &  217 &  246 &  713 &  209 &   377 &  705 &  310 &  933 &  345 &  216 &  187 &  722 &  435 & 1377 &  220 &  569 &  577 &  356 &  506 &  851 &  147 & 1420 &  142 &  408 &  120 &  339 & 1026 &  612 &  938 &  527 &  359 &  373 &  689 & 129 &  857 &  133 &  359 & 1415 &  767 &  638 &  745 &  252 &  521 &  449 &  484 &  259 &  865 &  344 &  307 &  652 &  180 &  407 &  195 &  443 &  464 &  593 &  938 &  726 &  480 &  682 &  275 &  533 &  146 &  665 &  248 &  474 &  934 &  123 &  386 & 1413 &  329 &  295 &  173 &  375 &  563 &  163 & 1189 &  304 &  145 &  192 &  210 &  228 &  376 &  494 &  239 &  380 &  226 &  176 &  744 &  256 &  861 & 1365 &  175 &  203 &  618 &  188 &  108 &  278 &  161 &  524 &  394 &  119 &  469 &  1350 &  346 &  165 &  370 &  489 &  881 &  298 &  337 &  793 &  338 &  399 &  624 &  238 &  399 &  177 &  385 &  999 &  364 &  303 & 166 &  504 &  465 &  370 & 2071 &  733 & 1133 &  445 &  586 &  576 &  331 &  207 &  385 &  506 &  143 &  224 &   23 &  375 &  751 &  617 &  361 &  749 &  443 &  877 &  372 &  259 &  378 &  696 &  318 &  226 &  206 &  463 &  856 &  148 &  189 &  265 & 181 &  544 &  368 & 144 &  484 & 3073 &  775 &  510 &  426 &  545 &  777 &  652 &  403 &   708 &  339 & 1282 &  432 &  214 &  357 &  613 &   556 &  126 &  478 &  615 &  346 &  407 &  294 & 1025 &  157 &  227 & 200 & 1701 &  181 &  132 &  281 &  493 &  249 &  294 &  737 &  160 &  218 &  271 &  213 &  861 &  165 &  310 &  637 &  650 &  169 &  334 &  310 &  524 &  287 &  585 &   959 &  306 &  333 & 1270 &  168 &  219 &  787 &  221 &  790 &  382 &  844 &  521 &  896 &  428 &  890 &  697 & 1003 &  456 &  393 & 101 &  433 &  370\\\\\n",
       "\tENSG00000000938.11 & 3878 & 12621 & 1631 & 4933 & 12472 & 17370 & 1654 & 3396 & 4468 & 3076 & 1447 & 3119 & 10160 & 3390 & 3095 & 1526 & 2217 & 3595 & 2314 & 3275 & 1914 & 1582 & 2096 & 1397 & 3735 & 2126 & 3241 & 5567 & 2613 & 1549 & 1831 & 3599 & 2949 & 2923 & 2712 & 10003 & 3798 & 3617 & 4115 & 2147 & 2132 & 1490 & 2574 & 4171 & 7117 & 2432 & 1993 & 1855 & 1753 & 2492 & 2994 & 4942 & 2689 & 1069 & 4762 & 1320 & 2523 & 3121 & 3098 & 1544 & 1893 & 10348 & 2430 &  860 &   635 &  983 & 1775 & 1499 &  199 & 1042 &  653 &  578 & 1779 & 1042 &  495 &  438 & 1086 &  524 &  422 &  707 & 1978 & 1655 & 1277 & 1617 &  117 &  818 & 2329 &  244 &  436 & 1965 & 1066 & 1211 &   663 &  835 &  283 & 5625 & 1243 & 1665 & 1046 &  599 & 1221 &  635 & 1092 & 1551 &   38 & 1220 &  266 & 2437 &  687 & 2102 &  488 & 2601 & 1050 &  1703 &  357 & 1575 & 4402 &  520 &  620 & 1339 & 1135 &  990 & 1367 & 1809 &  348 & 3418 & 1357 &  974 &  110 &  301 &  473 &  350 & 1337 &  909 &  746 & 2034 & 1325 & 1544 & 1505 & 2678 &  328 &  844 &  408 & 846 &  543 &  706 &  245 & 1015 &  600 &  429 &  644 &  816 & 2014 &  375 &  200 &  307 &  437 &  242 &  647 &  286 & 1081 &  660 &  151 &  237 & 1203 & 405 &  409 &   69 &  515 & 1671 & 1408 &   893 & 2366 & 1625 & 1469 &  283 &  577 & 2123 & 1431 &  137 & 1349 &   81 &  666 &  584 &  494 &  662 & 1695 &  537 &  847 &  376 & 1044 &  534 &  1472 & 1320 &  551 &  282 & 1475 &  1879 &  679 & 1892 & 2139 & 592 & 1780 &  546 & 1067 &  654 &  1544 & 2469 &  538 &  263 &  541 & 1000 &  337 &  286 &  783 & 2262 &  350 & 1522 &  658 & 373 &  936 &  287 &  854 & 1158 &   146 &  386 & 1521 & 1011 &  114 & 1296 &  580 &  289 &  245 &  454 & 1198 &  770 & 1406 &  911 &  160 & 1275 &  276 &  440 &  343 & 2981 &  686 &  703 &  277 &  746 & 1491 & 1484 & 1089 &  1492 &  383 & 4122 &  326 & 1234 &  908 & 1441 &  590 & 2160 & 4645 & 1753 & 2656 &  857 & 1087 &  949 & 1167 &  126 &  833 &  116 &  814 &  242 & 3751 & 3028 &  241 &  788 &  185 & 1463 &  924 & 1474 & 1183 & 1694 & 2964 & 1338 & 1595 &  692 & 1637 &  580 & 6891 & 2735 &  306 & 2406 &  165 & 1907 &  465 &  703 & 1216 &  559 & 1551 &  421 &  537 &  941 &  540 &  680 & 1207 &  566 &  662 &  669 &  427 &  228 & 1108 &  725 &  495 &  558 &  697 & 1241 &  603 &  545 &  518 & 1954 &  537 & 2180 &  387 &  264 &  299 & 1305 & 11426 & 2709 &  548 & 1776 & 249 &  285 &  162 & 1003 &  501 &  495 & 1329 & 1053 &  1188 &  739 & 2442 &  798 & 1017 & 1589 &  398 & 1430 & 1070 & 3494 &  858 &  758 &  117 & 1327 & 1798 & 1605 &  511 &  597 &  770 & 1151 &  242 &  746 & 1233 &  739 & 4053 &  902 & 1776 &  667 &  358 & 404 &  106 &  748 & 2560 & 1834 & 1062 &  978 &  235 &  619 &  580 & 2597 &  328 & 1181 &  525 &  425 & 1158 &  254 &  372 & 1255 &  640 &  118 & 2037 & 1655 &  310 &  314 & 1320 &  955 & 4042 & 1200 & 1453 & 1938 &  637 & 1214 & 1098 & 1212 & 1064 & 1347 &  339 &  157 &  758 & 1080 & 1167 &  167 & 1758 &  317 & 1533 &  762 &  307 &  921 & 1787 & 1814 &  378 &  856 & 1902 &  335 & 2743 & 4584 &  908 &  762 & 1102 &  274 &  575 &  449 &  473 &  533 & 2683 &  605 &  725 &  370 & 1913 &   139 &  884 & 6822 &  567 &  387 &  533 & 1065 & 1031 & 4687 &  998 & 1738 &  872 &  557 & 3037 & 1653 & 2165 &  973 &  426 & 1265 & 318 & 1241 & 1174 & 1045 & 2272 &  361 & 1624 &  472 &  508 &  744 &  451 &  603 &  431 & 1229 & 1249 &  869 &  246 &  512 & 1376 & 3207 & 2324 & 1468 &  892 & 2964 & 3947 & 3787 & 2321 &  707 &  250 &  342 & 1956 & 1732 & 3833 &  399 &  917 &  498 & 963 &  744 &  813 & 491 &  392 & 1783 &  269 &  615 &  826 & 1253 &  784 & 1704 &  459 &   659 &  884 &  939 &  455 & 1119 & 1923 & 1734 &  1786 &  139 & 1697 & 1629 &  532 & 2864 & 1833 &  607 &  392 &  944 & 333 & 1121 &  789 & 2895 &  841 &  370 &  176 &  718 &  367 &  384 &  642 & 1891 &  790 &  814 & 1866 &  293 & 2675 &  430 &  561 &  423 & 1494 &  482 &  345 & 2582 &  1381 &  367 &  104 &  913 &  231 &  528 & 1232 & 1342 & 1504 &  907 &  860 & 1148 & 3091 &  495 &  405 &  880 & 1275 &  606 &  248 &  77 &  743 &  775\\\\\n",
       "\\end{tabular}\n"
      ],
      "text/markdown": [
       "\n",
       "A data.frame: 6 × 568\n",
       "\n",
       "| <!--/--> | TCGA-44-2665-11A-01R-1758-07 &lt;int&gt; | TCGA-38-4625-11A-01R-1758-07 &lt;int&gt; | TCGA-49-6745-11A-01R-1858-07 &lt;int&gt; | TCGA-44-6144-11A-01R-1755-07 &lt;int&gt; | TCGA-44-2668-11A-01R-1758-07 &lt;int&gt; | TCGA-38-4626-11A-01R-1758-07 &lt;int&gt; | TCGA-49-6743-11A-01R-1858-07 &lt;int&gt; | TCGA-50-5933-11A-01R-1755-07 &lt;int&gt; | TCGA-44-2662-11A-01R-1758-07 &lt;int&gt; | TCGA-44-6148-11A-01R-1858-07 &lt;int&gt; | ⋯ ⋯ | TCGA-55-7995-01A-11R-2187-07 &lt;int&gt; | TCGA-44-5645-01A-01R-A278-07 &lt;int&gt; | TCGA-44-3918-01A-01R-A278-07 &lt;int&gt; | TCGA-44-2656-01A-02R-A278-07 &lt;int&gt; | TCGA-44-2662-01A-01R-A278-07 &lt;int&gt; | TCGA-44-6147-01A-11R-A278-07 &lt;int&gt; | TCGA-44-2666-01A-01R-A278-07 &lt;int&gt; | TCGA-44-6146-01A-11R-A278-07 &lt;int&gt; | TCGA-44-6775-01A-11R-A278-07 &lt;int&gt; | TCGA-44-2668-01A-01R-A278-07 &lt;int&gt; |\n",
       "|---|---|---|---|---|---|---|---|---|---|---|---|---|---|---|---|---|---|---|---|---|---|\n",
       "| ENSG00000000003.13 | 1755 |  2001 | 2193 |  657 |   988 |  2383 | 1289 | 1117 | 1131 | 3163 | ⋯ | 4595 | 7086 | 4238 | 4228 | 3668 | 2183 | 1766 | 791 | 2487 | 1095 |\n",
       "| ENSG00000000005.5 |    2 |     9 |    3 |    0 |     2 |     1 |  108 |    0 |    7 |    4 | ⋯ |    0 |    8 |   10 |    5 |    5 |    5 |    2 |   0 |    2 |    0 |\n",
       "| ENSG00000000419.11 | 1392 |  1993 | 1583 |  936 |  1287 |  2787 | 1045 | 1198 |  985 | 1158 | ⋯ | 2337 | 1660 | 3310 | 2081 | 1862 | 1432 | 1704 | 881 | 1141 | 1204 |\n",
       "| ENSG00000000457.12 |  695 |   723 |  569 |  573 |   483 |   793 |  410 |  341 |  404 |  884 | ⋯ | 1456 | 1785 | 1839 | 2134 |  704 | 1258 | 1099 | 722 |  926 |  562 |\n",
       "| ENSG00000000460.15 |  177 |   185 |   98 |  108 |   156 |   194 |  106 |   85 |   82 |  182 | ⋯ |  896 |  428 |  890 |  697 | 1003 |  456 |  393 | 101 |  433 |  370 |\n",
       "| ENSG00000000938.11 | 3878 | 12621 | 1631 | 4933 | 12472 | 17370 | 1654 | 3396 | 4468 | 3076 | ⋯ | 3091 |  495 |  405 |  880 | 1275 |  606 |  248 |  77 |  743 |  775 |\n",
       "\n"
      ],
      "text/plain": [
       "                   TCGA-44-2665-11A-01R-1758-07 TCGA-38-4625-11A-01R-1758-07\n",
       "ENSG00000000003.13 1755                          2001                       \n",
       "ENSG00000000005.5     2                             9                       \n",
       "ENSG00000000419.11 1392                          1993                       \n",
       "ENSG00000000457.12  695                           723                       \n",
       "ENSG00000000460.15  177                           185                       \n",
       "ENSG00000000938.11 3878                         12621                       \n",
       "                   TCGA-49-6745-11A-01R-1858-07 TCGA-44-6144-11A-01R-1755-07\n",
       "ENSG00000000003.13 2193                          657                        \n",
       "ENSG00000000005.5     3                            0                        \n",
       "ENSG00000000419.11 1583                          936                        \n",
       "ENSG00000000457.12  569                          573                        \n",
       "ENSG00000000460.15   98                          108                        \n",
       "ENSG00000000938.11 1631                         4933                        \n",
       "                   TCGA-44-2668-11A-01R-1758-07 TCGA-38-4626-11A-01R-1758-07\n",
       "ENSG00000000003.13   988                         2383                       \n",
       "ENSG00000000005.5      2                            1                       \n",
       "ENSG00000000419.11  1287                         2787                       \n",
       "ENSG00000000457.12   483                          793                       \n",
       "ENSG00000000460.15   156                          194                       \n",
       "ENSG00000000938.11 12472                        17370                       \n",
       "                   TCGA-49-6743-11A-01R-1858-07 TCGA-50-5933-11A-01R-1755-07\n",
       "ENSG00000000003.13 1289                         1117                        \n",
       "ENSG00000000005.5   108                            0                        \n",
       "ENSG00000000419.11 1045                         1198                        \n",
       "ENSG00000000457.12  410                          341                        \n",
       "ENSG00000000460.15  106                           85                        \n",
       "ENSG00000000938.11 1654                         3396                        \n",
       "                   TCGA-44-2662-11A-01R-1758-07 TCGA-44-6148-11A-01R-1858-07 ⋯\n",
       "ENSG00000000003.13 1131                         3163                         ⋯\n",
       "ENSG00000000005.5     7                            4                         ⋯\n",
       "ENSG00000000419.11  985                         1158                         ⋯\n",
       "ENSG00000000457.12  404                          884                         ⋯\n",
       "ENSG00000000460.15   82                          182                         ⋯\n",
       "ENSG00000000938.11 4468                         3076                         ⋯\n",
       "                   TCGA-55-7995-01A-11R-2187-07 TCGA-44-5645-01A-01R-A278-07\n",
       "ENSG00000000003.13 4595                         7086                        \n",
       "ENSG00000000005.5     0                            8                        \n",
       "ENSG00000000419.11 2337                         1660                        \n",
       "ENSG00000000457.12 1456                         1785                        \n",
       "ENSG00000000460.15  896                          428                        \n",
       "ENSG00000000938.11 3091                          495                        \n",
       "                   TCGA-44-3918-01A-01R-A278-07 TCGA-44-2656-01A-02R-A278-07\n",
       "ENSG00000000003.13 4238                         4228                        \n",
       "ENSG00000000005.5    10                            5                        \n",
       "ENSG00000000419.11 3310                         2081                        \n",
       "ENSG00000000457.12 1839                         2134                        \n",
       "ENSG00000000460.15  890                          697                        \n",
       "ENSG00000000938.11  405                          880                        \n",
       "                   TCGA-44-2662-01A-01R-A278-07 TCGA-44-6147-01A-11R-A278-07\n",
       "ENSG00000000003.13 3668                         2183                        \n",
       "ENSG00000000005.5     5                            5                        \n",
       "ENSG00000000419.11 1862                         1432                        \n",
       "ENSG00000000457.12  704                         1258                        \n",
       "ENSG00000000460.15 1003                          456                        \n",
       "ENSG00000000938.11 1275                          606                        \n",
       "                   TCGA-44-2666-01A-01R-A278-07 TCGA-44-6146-01A-11R-A278-07\n",
       "ENSG00000000003.13 1766                         791                         \n",
       "ENSG00000000005.5     2                           0                         \n",
       "ENSG00000000419.11 1704                         881                         \n",
       "ENSG00000000457.12 1099                         722                         \n",
       "ENSG00000000460.15  393                         101                         \n",
       "ENSG00000000938.11  248                          77                         \n",
       "                   TCGA-44-6775-01A-11R-A278-07 TCGA-44-2668-01A-01R-A278-07\n",
       "ENSG00000000003.13 2487                         1095                        \n",
       "ENSG00000000005.5     2                            0                        \n",
       "ENSG00000000419.11 1141                         1204                        \n",
       "ENSG00000000457.12  926                          562                        \n",
       "ENSG00000000460.15  433                          370                        \n",
       "ENSG00000000938.11  743                          775                        "
      ]
     },
     "metadata": {},
     "output_type": "display_data"
    }
   ],
   "source": [
    "head(LUAD)"
   ]
  },
  {
   "cell_type": "code",
   "execution_count": 193,
   "metadata": {
    "collapsed": false
   },
   "outputs": [],
   "source": [
    "LUAD_info <- data.frame(row.names=colnames(LUAD),label = \n",
    "                        unlist(lapply(colnames(LUAD),function(x)gsub(\"[A-Z]\",\"\",unlist(strsplit(x,'-'))[4]))))"
   ]
  },
  {
   "cell_type": "code",
   "execution_count": 194,
   "metadata": {
    "collapsed": false
   },
   "outputs": [],
   "source": [
    "LUAD_info$Group <- ifelse(LUAD_info$label==\"11\",\"Control\",\"Cancer\")"
   ]
  },
  {
   "cell_type": "code",
   "execution_count": 195,
   "metadata": {
    "collapsed": false
   },
   "outputs": [],
   "source": [
    "LUAD_info$name <- unname(lapply(strsplit(row.names(LUAD_info),\"-\"),function(x)paste(x[1],x[2],x[3],sep=\"-\")))"
   ]
  },
  {
   "cell_type": "code",
   "execution_count": 196,
   "metadata": {
    "collapsed": false
   },
   "outputs": [
    {
     "data": {
      "text/html": [
       "<table>\n",
       "<caption>A data.frame: 6 × 3</caption>\n",
       "<thead>\n",
       "\t<tr><th></th><th scope=col>label</th><th scope=col>Group</th><th scope=col>name</th></tr>\n",
       "\t<tr><th></th><th scope=col>&lt;fct&gt;</th><th scope=col>&lt;chr&gt;</th><th scope=col>&lt;list&gt;</th></tr>\n",
       "</thead>\n",
       "<tbody>\n",
       "\t<tr><th scope=row>TCGA-44-2665-11A-01R-1758-07</th><td>11</td><td>Control</td><td>TCGA-44-2665</td></tr>\n",
       "\t<tr><th scope=row>TCGA-38-4625-11A-01R-1758-07</th><td>11</td><td>Control</td><td>TCGA-38-4625</td></tr>\n",
       "\t<tr><th scope=row>TCGA-49-6745-11A-01R-1858-07</th><td>11</td><td>Control</td><td>TCGA-49-6745</td></tr>\n",
       "\t<tr><th scope=row>TCGA-44-6144-11A-01R-1755-07</th><td>11</td><td>Control</td><td>TCGA-44-6144</td></tr>\n",
       "\t<tr><th scope=row>TCGA-44-2668-11A-01R-1758-07</th><td>11</td><td>Control</td><td>TCGA-44-2668</td></tr>\n",
       "\t<tr><th scope=row>TCGA-38-4626-11A-01R-1758-07</th><td>11</td><td>Control</td><td>TCGA-38-4626</td></tr>\n",
       "</tbody>\n",
       "</table>\n"
      ],
      "text/latex": [
       "A data.frame: 6 × 3\n",
       "\\begin{tabular}{r|lll}\n",
       "  & label & Group & name\\\\\n",
       "  & <fct> & <chr> & <list>\\\\\n",
       "\\hline\n",
       "\tTCGA-44-2665-11A-01R-1758-07 & 11 & Control & TCGA-44-2665\\\\\n",
       "\tTCGA-38-4625-11A-01R-1758-07 & 11 & Control & TCGA-38-4625\\\\\n",
       "\tTCGA-49-6745-11A-01R-1858-07 & 11 & Control & TCGA-49-6745\\\\\n",
       "\tTCGA-44-6144-11A-01R-1755-07 & 11 & Control & TCGA-44-6144\\\\\n",
       "\tTCGA-44-2668-11A-01R-1758-07 & 11 & Control & TCGA-44-2668\\\\\n",
       "\tTCGA-38-4626-11A-01R-1758-07 & 11 & Control & TCGA-38-4626\\\\\n",
       "\\end{tabular}\n"
      ],
      "text/markdown": [
       "\n",
       "A data.frame: 6 × 3\n",
       "\n",
       "| <!--/--> | label &lt;fct&gt; | Group &lt;chr&gt; | name &lt;list&gt; |\n",
       "|---|---|---|---|\n",
       "| TCGA-44-2665-11A-01R-1758-07 | 11 | Control | TCGA-44-2665 |\n",
       "| TCGA-38-4625-11A-01R-1758-07 | 11 | Control | TCGA-38-4625 |\n",
       "| TCGA-49-6745-11A-01R-1858-07 | 11 | Control | TCGA-49-6745 |\n",
       "| TCGA-44-6144-11A-01R-1755-07 | 11 | Control | TCGA-44-6144 |\n",
       "| TCGA-44-2668-11A-01R-1758-07 | 11 | Control | TCGA-44-2668 |\n",
       "| TCGA-38-4626-11A-01R-1758-07 | 11 | Control | TCGA-38-4626 |\n",
       "\n"
      ],
      "text/plain": [
       "                             label Group   name        \n",
       "TCGA-44-2665-11A-01R-1758-07 11    Control TCGA-44-2665\n",
       "TCGA-38-4625-11A-01R-1758-07 11    Control TCGA-38-4625\n",
       "TCGA-49-6745-11A-01R-1858-07 11    Control TCGA-49-6745\n",
       "TCGA-44-6144-11A-01R-1755-07 11    Control TCGA-44-6144\n",
       "TCGA-44-2668-11A-01R-1758-07 11    Control TCGA-44-2668\n",
       "TCGA-38-4626-11A-01R-1758-07 11    Control TCGA-38-4626"
      ]
     },
     "metadata": {},
     "output_type": "display_data"
    }
   ],
   "source": [
    "head(LUAD_info)"
   ]
  },
  {
   "cell_type": "code",
   "execution_count": 197,
   "metadata": {
    "collapsed": false
   },
   "outputs": [
    {
     "name": "stderr",
     "output_type": "stream",
     "text": [
      "Warning message in DESeqDataSet(se, design = design, ignoreRank):\n",
      "\"some variables in design formula are characters, converting to factors\""
     ]
    }
   ],
   "source": [
    "library(edgeR)\n",
    "library(DESeq2)\n",
    "LUAD_data <- LUAD[ which( apply( cpm(DGEList(counts = LUAD)), 1,function(y) sum(y>=minCounts)) >= NminSamples ) , ] \n",
    "\n",
    "# - countData : count dataframe\n",
    "# - colData : sample metadata in the dataframe with row names as sampleID's\n",
    "# - design : The design of the comparisons to use. \n",
    "#            Use (~) before the name of the column variable to compare\n",
    "#metadata$Group <- factor(metadata$Group , levels = c(\"Cancer\",\"Control\"))\n",
    "LUAD_ddsMat <- DESeqDataSetFromMatrix(countData = LUAD_data,\n",
    "                                 colData = LUAD_info,\n",
    "                                 design = ~Group)\n",
    "LUAD_ddss <- estimateSizeFactors(LUAD_ddsMat)"
   ]
  },
  {
   "cell_type": "code",
   "execution_count": 198,
   "metadata": {
    "collapsed": true
   },
   "outputs": [],
   "source": [
    "C_N_T_N_results_sig_up <- intersect(row.names(C_N_results_sig[C_N_results_sig$log2FoldChange>0,]),\n",
    "                                 row.names(T_N_results_sig[T_N_results_sig$log2FoldChange>0,]))\n",
    "C_N_T_N_results_sig_down <- intersect(row.names(C_N_results_sig[C_N_results_sig$log2FoldChange<0,]),\n",
    "                                 row.names(T_N_results_sig[T_N_results_sig$log2FoldChange<0,]))\n",
    "C_N_T_N_results_sig <- union(C_N_T_N_results_sig_up,C_N_T_N_results_sig_down)"
   ]
  },
  {
   "cell_type": "code",
   "execution_count": 199,
   "metadata": {
    "collapsed": false
   },
   "outputs": [
    {
     "name": "stderr",
     "output_type": "stream",
     "text": [
      "estimating size factors\n",
      "estimating dispersions\n",
      "gene-wise dispersion estimates: 12 workers\n",
      "mean-dispersion relationship\n",
      "final dispersion estimates, fitting model and testing: 12 workers\n",
      "-- replacing outliers and refitting for 3858 genes\n",
      "-- DESeq argument 'minReplicatesForReplace' = 7 \n",
      "-- original counts are preserved in counts(dds)\n",
      "estimating dispersions\n",
      "fitting model and testing\n"
     ]
    }
   ],
   "source": [
    "library(BiocParallel)\n",
    "register(MulticoreParam(12))\n",
    "LUAD_ddsMats <- DESeq(LUAD_ddsMat,parallel = TRUE)"
   ]
  },
  {
   "cell_type": "code",
   "execution_count": 200,
   "metadata": {
    "collapsed": false
   },
   "outputs": [],
   "source": [
    "## Get results from testing with FDR adjust pvalues\n",
    "LUAD_results <- results(LUAD_ddsMats,contrast=c(\"Group\",\"Cancer\",\"Control\"),pAdjustMethod =\"fdr\",alpha=0.01)"
   ]
  },
  {
   "cell_type": "code",
   "execution_count": 201,
   "metadata": {
    "collapsed": true
   },
   "outputs": [],
   "source": [
    "row.names(LUAD_results) <- sapply(strsplit(row.names(LUAD_results),\"\\\\.\"), function(x) x[1])"
   ]
  },
  {
   "cell_type": "code",
   "execution_count": 202,
   "metadata": {
    "collapsed": false
   },
   "outputs": [
    {
     "data": {
      "text/plain": [
       "log2 fold change (MLE): Group Cancer vs Control \n",
       "Wald test p-value: Group Cancer vs Control \n",
       "DataFrame with 6 rows and 6 columns\n",
       "                   baseMean log2FoldChange      lfcSE       stat       pvalue\n",
       "                  <numeric>      <numeric>  <numeric>  <numeric>    <numeric>\n",
       "ENSG00000000003 3118.859623      1.1256973 0.10239303  10.993886 4.089313e-28\n",
       "ENSG00000000005    6.028182      1.4496427 0.47134586   3.075539 2.101223e-03\n",
       "ENSG00000000419 1548.991376      0.2611962 0.07680336   3.400843 6.717841e-04\n",
       "ENSG00000000457  889.641950      0.4111904 0.06341482   6.484137 8.924120e-11\n",
       "ENSG00000000460  414.833437      1.7034451 0.09650977  17.650494 1.008708e-69\n",
       "ENSG00000000938 1374.894131     -2.1059980 0.13650535 -15.427953 1.061850e-53\n",
       "                        padj\n",
       "                   <numeric>\n",
       "ENSG00000000003 4.524441e-27\n",
       "ENSG00000000005 3.359775e-03\n",
       "ENSG00000000419 1.142114e-03\n",
       "ENSG00000000457 2.922497e-10\n",
       "ENSG00000000460 8.818098e-68\n",
       "ENSG00000000938 4.495643e-52"
      ]
     },
     "metadata": {},
     "output_type": "display_data"
    }
   ],
   "source": [
    "head(LUAD_results)"
   ]
  },
  {
   "cell_type": "code",
   "execution_count": 203,
   "metadata": {
    "collapsed": false
   },
   "outputs": [],
   "source": [
    "# Add gene full name\n",
    "LUAD_results$description <- mapIds(x = ensdb,\n",
    "                            keys = row.names(LUAD_results),\n",
    "                            column = \"DESCRIPTION\",\n",
    "                            keytype = \"GENEID\",\n",
    "                            multiVals = \"first\")\n",
    "    \n",
    "# Add ENTREZ ID\n",
    "LUAD_results$entrez <- mapIds(x = ensdb,\n",
    "                         keys = row.names(LUAD_results),\n",
    "                         column = \"ENTREZID\",\n",
    "                         keytype = \"GENEID\",\n",
    "                         multiVals = \"first\")\n",
    "# Add GENENAME\n",
    "LUAD_results$genename<- mapIds(x = ensdb,\n",
    "                              keys = row.names(LUAD_results),\n",
    "                              column = \"GENENAME\",\n",
    "                              keytype = \"GENEID\",\n",
    "                              multiVals = \"first\")\n",
    "# Add GENEBIOTYPE\n",
    "LUAD_results$type<- mapIds(x = ensdb,\n",
    "                          keys = row.names(LUAD_results),\n",
    "                          column = \"GENEBIOTYPE\",\n",
    "                          keytype = \"GENEID\",\n",
    "                          multiVals = \"first\")"
   ]
  },
  {
   "cell_type": "code",
   "execution_count": 204,
   "metadata": {
    "collapsed": true
   },
   "outputs": [],
   "source": [
    "write.table(LUAD_results,\"TCGA_Cancer-Control.xls\",sep = \"\\t\",quote = F)"
   ]
  },
  {
   "cell_type": "code",
   "execution_count": 205,
   "metadata": {
    "collapsed": false
   },
   "outputs": [],
   "source": [
    "LUAD_results_sig <- subset(LUAD_results, padj < 0.1 &abs(log2FoldChange)>1)\n",
    "LUAD_results_sig <- LUAD_results_sig[order(LUAD_results_sig$log2FoldChange,decreasing = T),]\n",
    "LUAD_results_sig <- subset(LUAD_results_sig,LUAD_results_sig$type==\"protein_coding\")\n",
    "#head(LUAD_results_sig)\n",
    "#dim(LUAD_results_sig)"
   ]
  },
  {
   "cell_type": "code",
   "execution_count": 206,
   "metadata": {
    "collapsed": false
   },
   "outputs": [
    {
     "data": {
      "text/html": [
       "164"
      ],
      "text/latex": [
       "164"
      ],
      "text/markdown": [
       "164"
      ],
      "text/plain": [
       "[1] 164"
      ]
     },
     "metadata": {},
     "output_type": "display_data"
    }
   ],
   "source": [
    "LUAD_self <- intersect(C_N_T_N_results_sig,row.names(LUAD_results_sig))\n",
    "LUAD_self_up <- intersect(row.names(subset(LUAD_results_sig,log2FoldChange>0)),C_N_T_N_results_sig_up)\n",
    "length(LUAD_self_up)"
   ]
  },
  {
   "cell_type": "code",
   "execution_count": 207,
   "metadata": {
    "collapsed": false
   },
   "outputs": [
    {
     "data": {
      "text/html": [
       "98"
      ],
      "text/latex": [
       "98"
      ],
      "text/markdown": [
       "98"
      ],
      "text/plain": [
       "[1] 98"
      ]
     },
     "metadata": {},
     "output_type": "display_data"
    }
   ],
   "source": [
    "LUAD_self_down <- intersect(row.names(subset(LUAD_results_sig,log2FoldChange<0)),C_N_T_N_results_sig_down)\n",
    "length(LUAD_self_down)"
   ]
  },
  {
   "cell_type": "code",
   "execution_count": 208,
   "metadata": {
    "collapsed": false
   },
   "outputs": [
    {
     "data": {
      "text/html": [
       "'ENSG00000064787'"
      ],
      "text/latex": [
       "'ENSG00000064787'"
      ],
      "text/markdown": [
       "'ENSG00000064787'"
      ],
      "text/plain": [
       "[1] \"ENSG00000064787\""
      ]
     },
     "metadata": {},
     "output_type": "display_data"
    }
   ],
   "source": [
    "setdiff(LUAD_self,union(LUAD_self_down,LUAD_self_up))"
   ]
  },
  {
   "cell_type": "code",
   "execution_count": 209,
   "metadata": {
    "collapsed": true
   },
   "outputs": [],
   "source": [
    "LUAD_stat <- read.table(\"/data2/luj/TCGA/INFO.clinical/LUAD-515.clinical\",header=TRUE,\n",
    "                        sep=\"\\t\",row.names=1,stringsAsFactors=F)"
   ]
  },
  {
   "cell_type": "code",
   "execution_count": 210,
   "metadata": {
    "collapsed": false
   },
   "outputs": [
    {
     "data": {
      "text/html": [
       "<table>\n",
       "<caption>A data.frame: 6 × 27</caption>\n",
       "<thead>\n",
       "\t<tr><th></th><th scope=col>submitter_id</th><th scope=col>project_id</th><th scope=col>gender</th><th scope=col>year_of_birth</th><th scope=col>race</th><th scope=col>ethnicity</th><th scope=col>year_of_death</th><th scope=col>classification_of_tumor</th><th scope=col>last_known_disease_status</th><th scope=col>primary_diagnosis</th><th scope=col>⋯</th><th scope=col>tumor_grade</th><th scope=col>tissue_or_organ_of_origin</th><th scope=col>days_to_birth</th><th scope=col>progression_or_recurrence</th><th scope=col>prior_malignancy</th><th scope=col>site_of_resection_or_biopsy</th><th scope=col>days_to_last_follow_up</th><th scope=col>therapeutic_agents</th><th scope=col>treatment_intent_type</th><th scope=col>treatment_or_therapy</th></tr>\n",
       "\t<tr><th></th><th scope=col>&lt;chr&gt;</th><th scope=col>&lt;chr&gt;</th><th scope=col>&lt;chr&gt;</th><th scope=col>&lt;chr&gt;</th><th scope=col>&lt;chr&gt;</th><th scope=col>&lt;chr&gt;</th><th scope=col>&lt;chr&gt;</th><th scope=col>&lt;chr&gt;</th><th scope=col>&lt;chr&gt;</th><th scope=col>&lt;chr&gt;</th><th scope=col>⋯</th><th scope=col>&lt;chr&gt;</th><th scope=col>&lt;chr&gt;</th><th scope=col>&lt;chr&gt;</th><th scope=col>&lt;chr&gt;</th><th scope=col>&lt;chr&gt;</th><th scope=col>&lt;chr&gt;</th><th scope=col>&lt;chr&gt;</th><th scope=col>&lt;chr&gt;</th><th scope=col>&lt;chr&gt;</th><th scope=col>&lt;chr&gt;</th></tr>\n",
       "</thead>\n",
       "<tbody>\n",
       "\t<tr><th scope=row>9c7875ad-ab71-4d48-b2e3-e4c7a46393e9</th><td>TCGA-49-6745</td><td>TCGA-LUAD</td><td>male  </td><td>1929</td><td>white                    </td><td>not reported          </td><td>--</td><td>not reported</td><td>not reported</td><td>Papillary adenocarcinoma, NOS     </td><td>⋯</td><td>not reported</td><td>Upper lobe, lung </td><td>-30133.0</td><td>not reported</td><td>not reported</td><td>Upper lobe, lung </td><td>522.0</td><td>--</td><td>--</td><td>--</td></tr>\n",
       "\t<tr><th scope=row>6bffe800-ec2b-4638-9333-97fe85dcd91c</th><td>TCGA-49-6767</td><td>TCGA-LUAD</td><td>female</td><td>1964</td><td>white                    </td><td>not reported          </td><td>--</td><td>not reported</td><td>not reported</td><td>Adenocarcinoma, NOS               </td><td>⋯</td><td>not reported</td><td>Middle lobe, lung</td><td>-17108.0</td><td>not reported</td><td>not reported</td><td>Middle lobe, lung</td><td>677.0</td><td>--</td><td>--</td><td>--</td></tr>\n",
       "\t<tr><th scope=row>243c6fd6-5516-46e5-bcef-292d93d7b7d3</th><td>TCGA-69-7764</td><td>TCGA-LUAD</td><td>male  </td><td>1935</td><td>white                    </td><td>not hispanic or latino</td><td>--</td><td>not reported</td><td>not reported</td><td>Adenocarcinoma with mixed subtypes</td><td>⋯</td><td>not reported</td><td>Upper lobe, lung </td><td>-27693.0</td><td>not reported</td><td>not reported</td><td>Upper lobe, lung </td><td>414.0</td><td>--</td><td>--</td><td>--</td></tr>\n",
       "\t<tr><th scope=row>1c58d9b8-17a2-4fc6-9898-fe6f47bd2c2a</th><td>TCGA-64-5779</td><td>TCGA-LUAD</td><td>male  </td><td>1948</td><td>white                    </td><td>not hispanic or latino</td><td>--</td><td>not reported</td><td>not reported</td><td>Acinar cell carcinoma             </td><td>⋯</td><td>not reported</td><td>Lower lobe, lung </td><td>-22305.0</td><td>not reported</td><td>not reported</td><td>Lower lobe, lung </td><td>864.0</td><td>--</td><td>--</td><td>--</td></tr>\n",
       "\t<tr><th scope=row>01e9888d-b5b9-48f1-8ba6-8a89af108a04</th><td>TCGA-NJ-A7XG</td><td>TCGA-LUAD</td><td>male  </td><td>1964</td><td>black or african american</td><td>not hispanic or latino</td><td>--</td><td>not reported</td><td>not reported</td><td>Adenocarcinoma, NOS               </td><td>⋯</td><td>not reported</td><td>Upper lobe, lung </td><td>-18127.0</td><td>not reported</td><td>not reported</td><td>Upper lobe, lung </td><td>617.0</td><td>--</td><td>--</td><td>--</td></tr>\n",
       "\t<tr><th scope=row>7782ceaa-da49-4232-8b3f-534971adaad8</th><td>TCGA-73-7499</td><td>TCGA-LUAD</td><td>female</td><td>1929</td><td>white                    </td><td>not hispanic or latino</td><td>--</td><td>not reported</td><td>not reported</td><td>Adenocarcinoma with mixed subtypes</td><td>⋯</td><td>not reported</td><td>Upper lobe, lung </td><td>-29683.0</td><td>not reported</td><td>not reported</td><td>Upper lobe, lung </td><td>715.0</td><td>--</td><td>--</td><td>--</td></tr>\n",
       "</tbody>\n",
       "</table>\n"
      ],
      "text/latex": [
       "A data.frame: 6 × 27\n",
       "\\begin{tabular}{r|lllllllllllllllllllllllllll}\n",
       "  & submitter\\_id & project\\_id & gender & year\\_of\\_birth & race & ethnicity & year\\_of\\_death & classification\\_of\\_tumor & last\\_known\\_disease\\_status & primary\\_diagnosis & tumor\\_stage & age\\_at\\_diagnosis & vital\\_status & morphology & days\\_to\\_death & days\\_to\\_last\\_known\\_disease\\_status & days\\_to\\_recurrence & tumor\\_grade & tissue\\_or\\_organ\\_of\\_origin & days\\_to\\_birth & progression\\_or\\_recurrence & prior\\_malignancy & site\\_of\\_resection\\_or\\_biopsy & days\\_to\\_last\\_follow\\_up & therapeutic\\_agents & treatment\\_intent\\_type & treatment\\_or\\_therapy\\\\\n",
       "  & <chr> & <chr> & <chr> & <chr> & <chr> & <chr> & <chr> & <chr> & <chr> & <chr> & <chr> & <chr> & <chr> & <chr> & <chr> & <chr> & <chr> & <chr> & <chr> & <chr> & <chr> & <chr> & <chr> & <chr> & <chr> & <chr> & <chr>\\\\\n",
       "\\hline\n",
       "\t9c7875ad-ab71-4d48-b2e3-e4c7a46393e9 & TCGA-49-6745 & TCGA-LUAD & male   & 1929 & white                     & not reported           & -- & not reported & not reported & Papillary adenocarcinoma, NOS      & stage iiia & 30133 & alive & 8260/3 & --     & -- & -- & not reported & Upper lobe, lung  & -30133.0 & not reported & not reported & Upper lobe, lung  & 522.0 & -- & -- & --\\\\\n",
       "\t6bffe800-ec2b-4638-9333-97fe85dcd91c & TCGA-49-6767 & TCGA-LUAD & female & 1964 & white                     & not reported           & -- & not reported & not reported & Adenocarcinoma, NOS                & stage iib  & 17108 & alive & 8140/3 & --     & -- & -- & not reported & Middle lobe, lung & -17108.0 & not reported & not reported & Middle lobe, lung & 677.0 & -- & -- & --\\\\\n",
       "\t243c6fd6-5516-46e5-bcef-292d93d7b7d3 & TCGA-69-7764 & TCGA-LUAD & male   & 1935 & white                     & not hispanic or latino & -- & not reported & not reported & Adenocarcinoma with mixed subtypes & stage ia   & 27693 & alive & 8255/3 & --     & -- & -- & not reported & Upper lobe, lung  & -27693.0 & not reported & not reported & Upper lobe, lung  & 414.0 & -- & -- & --\\\\\n",
       "\t1c58d9b8-17a2-4fc6-9898-fe6f47bd2c2a & TCGA-64-5779 & TCGA-LUAD & male   & 1948 & white                     & not hispanic or latino & -- & not reported & not reported & Acinar cell carcinoma              & stage iiia & 22305 & alive & 8550/3 & --     & -- & -- & not reported & Lower lobe, lung  & -22305.0 & not reported & not reported & Lower lobe, lung  & 864.0 & -- & -- & --\\\\\n",
       "\t01e9888d-b5b9-48f1-8ba6-8a89af108a04 & TCGA-NJ-A7XG & TCGA-LUAD & male   & 1964 & black or african american & not hispanic or latino & -- & not reported & not reported & Adenocarcinoma, NOS                & stage iiia & 18127 & alive & 8140/3 & --     & -- & -- & not reported & Upper lobe, lung  & -18127.0 & not reported & not reported & Upper lobe, lung  & 617.0 & -- & -- & --\\\\\n",
       "\t7782ceaa-da49-4232-8b3f-534971adaad8 & TCGA-73-7499 & TCGA-LUAD & female & 1929 & white                     & not hispanic or latino & -- & not reported & not reported & Adenocarcinoma with mixed subtypes & stage ib   & 29683 & dead  & 8255/3 & 1531.0 & -- & -- & not reported & Upper lobe, lung  & -29683.0 & not reported & not reported & Upper lobe, lung  & 715.0 & -- & -- & --\\\\\n",
       "\\end{tabular}\n"
      ],
      "text/markdown": [
       "\n",
       "A data.frame: 6 × 27\n",
       "\n",
       "| <!--/--> | submitter_id &lt;chr&gt; | project_id &lt;chr&gt; | gender &lt;chr&gt; | year_of_birth &lt;chr&gt; | race &lt;chr&gt; | ethnicity &lt;chr&gt; | year_of_death &lt;chr&gt; | classification_of_tumor &lt;chr&gt; | last_known_disease_status &lt;chr&gt; | primary_diagnosis &lt;chr&gt; | ⋯ ⋯ | tumor_grade &lt;chr&gt; | tissue_or_organ_of_origin &lt;chr&gt; | days_to_birth &lt;chr&gt; | progression_or_recurrence &lt;chr&gt; | prior_malignancy &lt;chr&gt; | site_of_resection_or_biopsy &lt;chr&gt; | days_to_last_follow_up &lt;chr&gt; | therapeutic_agents &lt;chr&gt; | treatment_intent_type &lt;chr&gt; | treatment_or_therapy &lt;chr&gt; |\n",
       "|---|---|---|---|---|---|---|---|---|---|---|---|---|---|---|---|---|---|---|---|---|---|\n",
       "| 9c7875ad-ab71-4d48-b2e3-e4c7a46393e9 | TCGA-49-6745 | TCGA-LUAD | male   | 1929 | white                     | not reported           | -- | not reported | not reported | Papillary adenocarcinoma, NOS      | ⋯ | not reported | Upper lobe, lung  | -30133.0 | not reported | not reported | Upper lobe, lung  | 522.0 | -- | -- | -- |\n",
       "| 6bffe800-ec2b-4638-9333-97fe85dcd91c | TCGA-49-6767 | TCGA-LUAD | female | 1964 | white                     | not reported           | -- | not reported | not reported | Adenocarcinoma, NOS                | ⋯ | not reported | Middle lobe, lung | -17108.0 | not reported | not reported | Middle lobe, lung | 677.0 | -- | -- | -- |\n",
       "| 243c6fd6-5516-46e5-bcef-292d93d7b7d3 | TCGA-69-7764 | TCGA-LUAD | male   | 1935 | white                     | not hispanic or latino | -- | not reported | not reported | Adenocarcinoma with mixed subtypes | ⋯ | not reported | Upper lobe, lung  | -27693.0 | not reported | not reported | Upper lobe, lung  | 414.0 | -- | -- | -- |\n",
       "| 1c58d9b8-17a2-4fc6-9898-fe6f47bd2c2a | TCGA-64-5779 | TCGA-LUAD | male   | 1948 | white                     | not hispanic or latino | -- | not reported | not reported | Acinar cell carcinoma              | ⋯ | not reported | Lower lobe, lung  | -22305.0 | not reported | not reported | Lower lobe, lung  | 864.0 | -- | -- | -- |\n",
       "| 01e9888d-b5b9-48f1-8ba6-8a89af108a04 | TCGA-NJ-A7XG | TCGA-LUAD | male   | 1964 | black or african american | not hispanic or latino | -- | not reported | not reported | Adenocarcinoma, NOS                | ⋯ | not reported | Upper lobe, lung  | -18127.0 | not reported | not reported | Upper lobe, lung  | 617.0 | -- | -- | -- |\n",
       "| 7782ceaa-da49-4232-8b3f-534971adaad8 | TCGA-73-7499 | TCGA-LUAD | female | 1929 | white                     | not hispanic or latino | -- | not reported | not reported | Adenocarcinoma with mixed subtypes | ⋯ | not reported | Upper lobe, lung  | -29683.0 | not reported | not reported | Upper lobe, lung  | 715.0 | -- | -- | -- |\n",
       "\n"
      ],
      "text/plain": [
       "                                     submitter_id project_id gender\n",
       "9c7875ad-ab71-4d48-b2e3-e4c7a46393e9 TCGA-49-6745 TCGA-LUAD  male  \n",
       "6bffe800-ec2b-4638-9333-97fe85dcd91c TCGA-49-6767 TCGA-LUAD  female\n",
       "243c6fd6-5516-46e5-bcef-292d93d7b7d3 TCGA-69-7764 TCGA-LUAD  male  \n",
       "1c58d9b8-17a2-4fc6-9898-fe6f47bd2c2a TCGA-64-5779 TCGA-LUAD  male  \n",
       "01e9888d-b5b9-48f1-8ba6-8a89af108a04 TCGA-NJ-A7XG TCGA-LUAD  male  \n",
       "7782ceaa-da49-4232-8b3f-534971adaad8 TCGA-73-7499 TCGA-LUAD  female\n",
       "                                     year_of_birth race                     \n",
       "9c7875ad-ab71-4d48-b2e3-e4c7a46393e9 1929          white                    \n",
       "6bffe800-ec2b-4638-9333-97fe85dcd91c 1964          white                    \n",
       "243c6fd6-5516-46e5-bcef-292d93d7b7d3 1935          white                    \n",
       "1c58d9b8-17a2-4fc6-9898-fe6f47bd2c2a 1948          white                    \n",
       "01e9888d-b5b9-48f1-8ba6-8a89af108a04 1964          black or african american\n",
       "7782ceaa-da49-4232-8b3f-534971adaad8 1929          white                    \n",
       "                                     ethnicity              year_of_death\n",
       "9c7875ad-ab71-4d48-b2e3-e4c7a46393e9 not reported           --           \n",
       "6bffe800-ec2b-4638-9333-97fe85dcd91c not reported           --           \n",
       "243c6fd6-5516-46e5-bcef-292d93d7b7d3 not hispanic or latino --           \n",
       "1c58d9b8-17a2-4fc6-9898-fe6f47bd2c2a not hispanic or latino --           \n",
       "01e9888d-b5b9-48f1-8ba6-8a89af108a04 not hispanic or latino --           \n",
       "7782ceaa-da49-4232-8b3f-534971adaad8 not hispanic or latino --           \n",
       "                                     classification_of_tumor\n",
       "9c7875ad-ab71-4d48-b2e3-e4c7a46393e9 not reported           \n",
       "6bffe800-ec2b-4638-9333-97fe85dcd91c not reported           \n",
       "243c6fd6-5516-46e5-bcef-292d93d7b7d3 not reported           \n",
       "1c58d9b8-17a2-4fc6-9898-fe6f47bd2c2a not reported           \n",
       "01e9888d-b5b9-48f1-8ba6-8a89af108a04 not reported           \n",
       "7782ceaa-da49-4232-8b3f-534971adaad8 not reported           \n",
       "                                     last_known_disease_status\n",
       "9c7875ad-ab71-4d48-b2e3-e4c7a46393e9 not reported             \n",
       "6bffe800-ec2b-4638-9333-97fe85dcd91c not reported             \n",
       "243c6fd6-5516-46e5-bcef-292d93d7b7d3 not reported             \n",
       "1c58d9b8-17a2-4fc6-9898-fe6f47bd2c2a not reported             \n",
       "01e9888d-b5b9-48f1-8ba6-8a89af108a04 not reported             \n",
       "7782ceaa-da49-4232-8b3f-534971adaad8 not reported             \n",
       "                                     primary_diagnosis                  ⋯\n",
       "9c7875ad-ab71-4d48-b2e3-e4c7a46393e9 Papillary adenocarcinoma, NOS      ⋯\n",
       "6bffe800-ec2b-4638-9333-97fe85dcd91c Adenocarcinoma, NOS                ⋯\n",
       "243c6fd6-5516-46e5-bcef-292d93d7b7d3 Adenocarcinoma with mixed subtypes ⋯\n",
       "1c58d9b8-17a2-4fc6-9898-fe6f47bd2c2a Acinar cell carcinoma              ⋯\n",
       "01e9888d-b5b9-48f1-8ba6-8a89af108a04 Adenocarcinoma, NOS                ⋯\n",
       "7782ceaa-da49-4232-8b3f-534971adaad8 Adenocarcinoma with mixed subtypes ⋯\n",
       "                                     tumor_grade  tissue_or_organ_of_origin\n",
       "9c7875ad-ab71-4d48-b2e3-e4c7a46393e9 not reported Upper lobe, lung         \n",
       "6bffe800-ec2b-4638-9333-97fe85dcd91c not reported Middle lobe, lung        \n",
       "243c6fd6-5516-46e5-bcef-292d93d7b7d3 not reported Upper lobe, lung         \n",
       "1c58d9b8-17a2-4fc6-9898-fe6f47bd2c2a not reported Lower lobe, lung         \n",
       "01e9888d-b5b9-48f1-8ba6-8a89af108a04 not reported Upper lobe, lung         \n",
       "7782ceaa-da49-4232-8b3f-534971adaad8 not reported Upper lobe, lung         \n",
       "                                     days_to_birth progression_or_recurrence\n",
       "9c7875ad-ab71-4d48-b2e3-e4c7a46393e9 -30133.0      not reported             \n",
       "6bffe800-ec2b-4638-9333-97fe85dcd91c -17108.0      not reported             \n",
       "243c6fd6-5516-46e5-bcef-292d93d7b7d3 -27693.0      not reported             \n",
       "1c58d9b8-17a2-4fc6-9898-fe6f47bd2c2a -22305.0      not reported             \n",
       "01e9888d-b5b9-48f1-8ba6-8a89af108a04 -18127.0      not reported             \n",
       "7782ceaa-da49-4232-8b3f-534971adaad8 -29683.0      not reported             \n",
       "                                     prior_malignancy\n",
       "9c7875ad-ab71-4d48-b2e3-e4c7a46393e9 not reported    \n",
       "6bffe800-ec2b-4638-9333-97fe85dcd91c not reported    \n",
       "243c6fd6-5516-46e5-bcef-292d93d7b7d3 not reported    \n",
       "1c58d9b8-17a2-4fc6-9898-fe6f47bd2c2a not reported    \n",
       "01e9888d-b5b9-48f1-8ba6-8a89af108a04 not reported    \n",
       "7782ceaa-da49-4232-8b3f-534971adaad8 not reported    \n",
       "                                     site_of_resection_or_biopsy\n",
       "9c7875ad-ab71-4d48-b2e3-e4c7a46393e9 Upper lobe, lung           \n",
       "6bffe800-ec2b-4638-9333-97fe85dcd91c Middle lobe, lung          \n",
       "243c6fd6-5516-46e5-bcef-292d93d7b7d3 Upper lobe, lung           \n",
       "1c58d9b8-17a2-4fc6-9898-fe6f47bd2c2a Lower lobe, lung           \n",
       "01e9888d-b5b9-48f1-8ba6-8a89af108a04 Upper lobe, lung           \n",
       "7782ceaa-da49-4232-8b3f-534971adaad8 Upper lobe, lung           \n",
       "                                     days_to_last_follow_up therapeutic_agents\n",
       "9c7875ad-ab71-4d48-b2e3-e4c7a46393e9 522.0                  --                \n",
       "6bffe800-ec2b-4638-9333-97fe85dcd91c 677.0                  --                \n",
       "243c6fd6-5516-46e5-bcef-292d93d7b7d3 414.0                  --                \n",
       "1c58d9b8-17a2-4fc6-9898-fe6f47bd2c2a 864.0                  --                \n",
       "01e9888d-b5b9-48f1-8ba6-8a89af108a04 617.0                  --                \n",
       "7782ceaa-da49-4232-8b3f-534971adaad8 715.0                  --                \n",
       "                                     treatment_intent_type treatment_or_therapy\n",
       "9c7875ad-ab71-4d48-b2e3-e4c7a46393e9 --                    --                  \n",
       "6bffe800-ec2b-4638-9333-97fe85dcd91c --                    --                  \n",
       "243c6fd6-5516-46e5-bcef-292d93d7b7d3 --                    --                  \n",
       "1c58d9b8-17a2-4fc6-9898-fe6f47bd2c2a --                    --                  \n",
       "01e9888d-b5b9-48f1-8ba6-8a89af108a04 --                    --                  \n",
       "7782ceaa-da49-4232-8b3f-534971adaad8 --                    --                  "
      ]
     },
     "metadata": {},
     "output_type": "display_data"
    }
   ],
   "source": [
    "head(LUAD_stat)"
   ]
  },
  {
   "cell_type": "code",
   "execution_count": 211,
   "metadata": {
    "collapsed": false
   },
   "outputs": [],
   "source": [
    "LUAD_stat_sur <- LUAD_stat[,c(\"submitter_id\",\"vital_status\",\"days_to_death\",\"days_to_last_follow_up\")]\n",
    "row.names(LUAD_stat_sur) <- LUAD_stat$submitter_id\n",
    "LUAD_stat_sur <- LUAD_stat_sur[,-1]\n",
    "LUAD_stat_sur[LUAD_stat_sur==\"--\"]<- 0\n",
    "LUAD_stat_sur$OS <- ceiling(as.numeric(\n",
    "    LUAD_stat_sur$days_to_death)/30+as.numeric(LUAD_stat_sur$days_to_last_follow_up)/30)#\n",
    "LUAD_stat_sur <- LUAD_stat_sur[LUAD_stat_sur$OS>0,]\n",
    "LUAD_stat_sur$vital_status <- ifelse(LUAD_stat_sur$vital_status==\"alive\",0,1)\n",
    "#LUAD_stat_sur$vital_status <- as.factor(LUAD_stat_sur$vital_status)"
   ]
  },
  {
   "cell_type": "code",
   "execution_count": 212,
   "metadata": {
    "collapsed": false
   },
   "outputs": [
    {
     "data": {
      "text/html": [
       "<table>\n",
       "<caption>A data.frame: 6 × 4</caption>\n",
       "<thead>\n",
       "\t<tr><th></th><th scope=col>vital_status</th><th scope=col>days_to_death</th><th scope=col>days_to_last_follow_up</th><th scope=col>OS</th></tr>\n",
       "\t<tr><th></th><th scope=col>&lt;dbl&gt;</th><th scope=col>&lt;chr&gt;</th><th scope=col>&lt;chr&gt;</th><th scope=col>&lt;dbl&gt;</th></tr>\n",
       "</thead>\n",
       "<tbody>\n",
       "\t<tr><th scope=row>TCGA-49-6745</th><td>0</td><td>0     </td><td>522.0</td><td>18</td></tr>\n",
       "\t<tr><th scope=row>TCGA-49-6767</th><td>0</td><td>0     </td><td>677.0</td><td>23</td></tr>\n",
       "\t<tr><th scope=row>TCGA-69-7764</th><td>0</td><td>0     </td><td>414.0</td><td>14</td></tr>\n",
       "\t<tr><th scope=row>TCGA-64-5779</th><td>0</td><td>0     </td><td>864.0</td><td>29</td></tr>\n",
       "\t<tr><th scope=row>TCGA-NJ-A7XG</th><td>0</td><td>0     </td><td>617.0</td><td>21</td></tr>\n",
       "\t<tr><th scope=row>TCGA-73-7499</th><td>1</td><td>1531.0</td><td>715.0</td><td>75</td></tr>\n",
       "</tbody>\n",
       "</table>\n"
      ],
      "text/latex": [
       "A data.frame: 6 × 4\n",
       "\\begin{tabular}{r|llll}\n",
       "  & vital\\_status & days\\_to\\_death & days\\_to\\_last\\_follow\\_up & OS\\\\\n",
       "  & <dbl> & <chr> & <chr> & <dbl>\\\\\n",
       "\\hline\n",
       "\tTCGA-49-6745 & 0 & 0      & 522.0 & 18\\\\\n",
       "\tTCGA-49-6767 & 0 & 0      & 677.0 & 23\\\\\n",
       "\tTCGA-69-7764 & 0 & 0      & 414.0 & 14\\\\\n",
       "\tTCGA-64-5779 & 0 & 0      & 864.0 & 29\\\\\n",
       "\tTCGA-NJ-A7XG & 0 & 0      & 617.0 & 21\\\\\n",
       "\tTCGA-73-7499 & 1 & 1531.0 & 715.0 & 75\\\\\n",
       "\\end{tabular}\n"
      ],
      "text/markdown": [
       "\n",
       "A data.frame: 6 × 4\n",
       "\n",
       "| <!--/--> | vital_status &lt;dbl&gt; | days_to_death &lt;chr&gt; | days_to_last_follow_up &lt;chr&gt; | OS &lt;dbl&gt; |\n",
       "|---|---|---|---|---|\n",
       "| TCGA-49-6745 | 0 | 0      | 522.0 | 18 |\n",
       "| TCGA-49-6767 | 0 | 0      | 677.0 | 23 |\n",
       "| TCGA-69-7764 | 0 | 0      | 414.0 | 14 |\n",
       "| TCGA-64-5779 | 0 | 0      | 864.0 | 29 |\n",
       "| TCGA-NJ-A7XG | 0 | 0      | 617.0 | 21 |\n",
       "| TCGA-73-7499 | 1 | 1531.0 | 715.0 | 75 |\n",
       "\n"
      ],
      "text/plain": [
       "             vital_status days_to_death days_to_last_follow_up OS\n",
       "TCGA-49-6745 0            0             522.0                  18\n",
       "TCGA-49-6767 0            0             677.0                  23\n",
       "TCGA-69-7764 0            0             414.0                  14\n",
       "TCGA-64-5779 0            0             864.0                  29\n",
       "TCGA-NJ-A7XG 0            0             617.0                  21\n",
       "TCGA-73-7499 1            1531.0        715.0                  75"
      ]
     },
     "metadata": {},
     "output_type": "display_data"
    }
   ],
   "source": [
    "head(LUAD_stat_sur)"
   ]
  },
  {
   "cell_type": "code",
   "execution_count": 213,
   "metadata": {
    "collapsed": true
   },
   "outputs": [],
   "source": [
    "LUAD_rpkm <- read.table(\"/data2/luj/TCGA/all_fpkm-out/LUAD-515-fpkm-out\",header=TRUE,row.names=1,sep=\",\",check.names=F)"
   ]
  },
  {
   "cell_type": "code",
   "execution_count": 214,
   "metadata": {
    "collapsed": false
   },
   "outputs": [
    {
     "data": {
      "text/html": [
       "<table>\n",
       "<caption>A data.frame: 6 × 568</caption>\n",
       "<thead>\n",
       "\t<tr><th></th><th scope=col>TCGA-44-6147-11A-01R-1858-07</th><th scope=col>TCGA-49-6761-11A-01R-1949-07</th><th scope=col>TCGA-50-5936-11A-01R-1628-07</th><th scope=col>TCGA-44-5645-11A-01R-1628-07</th><th scope=col>TCGA-91-6835-11A-01R-1858-07</th><th scope=col>TCGA-55-6982-11A-01R-1949-07</th><th scope=col>TCGA-91-6828-11A-01R-1858-07</th><th scope=col>TCGA-44-6778-11A-01R-1858-07</th><th scope=col>TCGA-55-6978-11A-01R-1949-07</th><th scope=col>TCGA-44-2662-11A-01R-1758-07</th><th scope=col>⋯</th><th scope=col>TCGA-44-7672-01A-11R-2066-07</th><th scope=col>TCGA-44-2662-01A-01R-A278-07</th><th scope=col>TCGA-44-2656-01A-02R-A278-07</th><th scope=col>TCGA-44-6147-01A-11R-A278-07</th><th scope=col>TCGA-44-2666-01A-01R-A278-07</th><th scope=col>TCGA-44-3918-01A-01R-A278-07</th><th scope=col>TCGA-44-2668-01A-01R-A278-07</th><th scope=col>TCGA-44-5645-01A-01R-A278-07</th><th scope=col>TCGA-44-6775-01A-11R-A278-07</th><th scope=col>TCGA-44-6146-01A-11R-A278-07</th></tr>\n",
       "\t<tr><th></th><th scope=col>&lt;dbl&gt;</th><th scope=col>&lt;dbl&gt;</th><th scope=col>&lt;dbl&gt;</th><th scope=col>&lt;dbl&gt;</th><th scope=col>&lt;dbl&gt;</th><th scope=col>&lt;dbl&gt;</th><th scope=col>&lt;dbl&gt;</th><th scope=col>&lt;dbl&gt;</th><th scope=col>&lt;dbl&gt;</th><th scope=col>&lt;dbl&gt;</th><th scope=col>⋯</th><th scope=col>&lt;dbl&gt;</th><th scope=col>&lt;dbl&gt;</th><th scope=col>&lt;dbl&gt;</th><th scope=col>&lt;dbl&gt;</th><th scope=col>&lt;dbl&gt;</th><th scope=col>&lt;dbl&gt;</th><th scope=col>&lt;dbl&gt;</th><th scope=col>&lt;dbl&gt;</th><th scope=col>&lt;dbl&gt;</th><th scope=col>&lt;dbl&gt;</th></tr>\n",
       "</thead>\n",
       "<tbody>\n",
       "\t<tr><th scope=row>ENSG00000242268.2</th><td>0.1522374</td><td> 0.000000</td><td> 0.07915873</td><td> 0.1205325</td><td>0.28671522</td><td> 0.238118817</td><td>0.1570054</td><td> 0.1089609</td><td>0.145981603</td><td> 0.02477072</td><td>⋯</td><td> 0.00000000</td><td>0.000000000</td><td>0.000000000</td><td>0.1652038</td><td>0.15240685</td><td>0.10936823</td><td>0.00000000</td><td>0.163980017</td><td>0.04226003</td><td>0.4652002</td></tr>\n",
       "\t<tr><th scope=row>ENSG00000270112.3</th><td>0.0000000</td><td> 0.000000</td><td> 0.00000000</td><td> 0.0000000</td><td>0.01136647</td><td> 0.006607948</td><td>0.0000000</td><td> 0.0000000</td><td>0.006751804</td><td> 0.00000000</td><td>⋯</td><td> 0.00339889</td><td>0.009375992</td><td>0.007892751</td><td>0.0286532</td><td>0.03700714</td><td>0.03035038</td><td>0.04097167</td><td>0.009101099</td><td>0.00000000</td><td>0.0000000</td></tr>\n",
       "\t<tr><th scope=row>ENSG00000167578.15</th><td>2.7564375</td><td> 4.714069</td><td> 3.29050578</td><td> 4.4886630</td><td>3.67853575</td><td> 3.907761432</td><td>3.8932327</td><td> 3.5566587</td><td>4.431606462</td><td> 4.40462072</td><td>⋯</td><td> 4.25415609</td><td>1.029731361</td><td>0.989932863</td><td>1.0204076</td><td>0.88639469</td><td>0.78894022</td><td>0.98515689</td><td>1.585070749</td><td>1.26511743</td><td>2.1707669</td></tr>\n",
       "\t<tr><th scope=row>ENSG00000273842.1</th><td>0.0000000</td><td> 0.000000</td><td> 0.00000000</td><td> 0.0000000</td><td>0.00000000</td><td> 0.000000000</td><td>0.0000000</td><td> 0.0000000</td><td>0.000000000</td><td> 0.00000000</td><td>⋯</td><td> 0.00000000</td><td>0.000000000</td><td>0.000000000</td><td>0.0000000</td><td>0.00000000</td><td>0.00000000</td><td>0.00000000</td><td>0.000000000</td><td>0.00000000</td><td>0.0000000</td></tr>\n",
       "\t<tr><th scope=row>ENSG00000078237.5</th><td>4.7840732</td><td> 4.404867</td><td> 3.84848095</td><td> 2.8945932</td><td>3.25154379</td><td> 4.608304089</td><td>3.8811196</td><td> 3.7704388</td><td>4.617197390</td><td> 2.35620945</td><td>⋯</td><td> 5.04561367</td><td>5.586466023</td><td>3.366714093</td><td>3.4823693</td><td>2.97100093</td><td>5.64255154</td><td>8.47254071</td><td>4.906598905</td><td>5.42921883</td><td>4.1791844</td></tr>\n",
       "\t<tr><th scope=row>ENSG00000146083.10</th><td>7.3599545</td><td>10.856777</td><td>10.54545271</td><td>12.2772744</td><td>9.53613948</td><td>13.847745102</td><td>7.7106042</td><td>11.1441717</td><td>9.473501088</td><td>10.12973738</td><td>⋯</td><td>13.64943491</td><td>3.822898401</td><td>2.094283725</td><td>3.9840835</td><td>3.79017801</td><td>2.51978470</td><td>5.55614940</td><td>4.558296822</td><td>4.08720211</td><td>4.1432406</td></tr>\n",
       "</tbody>\n",
       "</table>\n"
      ],
      "text/latex": [
       "A data.frame: 6 × 568\n",
       "\\begin{tabular}{r|llllllllllllllllllllllllllllllllllllllllllllllllllllllllllllllllllllllllllllllllllllllllllllllllllllllllllllllllllllllllllllllllllllllllllllllllllllllllllllllllllllllllllllllllllllllllllllllllllllllllllllllllllllllllllllllllllllllllllllllllllllllllllllllllllllllllllllllllllllllllllllllllllllllllllllllllllllllllllllllllllllllllllllllllllllllllllllllllllllllllllllllllllllllllllllllllllllllllllllllllllllllllllllllllllllllllllllllllllllllllllllllllllllllllllllllllllllllllllllllllllllllllllllllllllllllllllllllllllllllllllllllllllllllllllllllllllllllllllllllllllllllll}\n",
       "  & TCGA-44-6147-11A-01R-1858-07 & TCGA-49-6761-11A-01R-1949-07 & TCGA-50-5936-11A-01R-1628-07 & TCGA-44-5645-11A-01R-1628-07 & TCGA-91-6835-11A-01R-1858-07 & TCGA-55-6982-11A-01R-1949-07 & TCGA-91-6828-11A-01R-1858-07 & TCGA-44-6778-11A-01R-1858-07 & TCGA-55-6978-11A-01R-1949-07 & TCGA-44-2662-11A-01R-1758-07 & TCGA-44-2665-11A-01R-1758-07 & TCGA-55-6983-11A-01R-1949-07 & TCGA-73-4676-11A-01R-1755-07 & TCGA-50-5930-11A-01R-1755-07 & TCGA-55-6979-11A-01R-1949-07 & TCGA-55-6971-11A-01R-1949-07 & TCGA-55-6968-11A-01R-1949-07 & TCGA-55-6980-11A-01R-1949-07 & TCGA-38-4625-11A-01R-1758-07 & TCGA-50-5932-11A-01R-1755-07 & TCGA-55-6984-11A-01R-1949-07 & TCGA-50-5933-11A-01R-1755-07 & TCGA-44-2655-11A-01R-1758-07 & TCGA-55-6969-11A-01R-1949-07 & TCGA-44-2668-11A-01R-1758-07 & TCGA-44-3396-11A-01R-1758-07 & TCGA-44-6776-11A-01R-1858-07 & TCGA-49-4512-11A-01R-1858-07 & TCGA-50-5939-11A-01R-1628-07 & TCGA-38-4626-11A-01R-1758-07 & TCGA-55-6972-11A-01R-1949-07 & TCGA-50-5935-11A-01R-1858-07 & TCGA-44-6777-11A-01R-1858-07 & TCGA-55-6970-11A-01R-1949-07 & TCGA-44-2661-11A-01R-1758-07 & TCGA-38-4627-11A-01R-1758-07 & TCGA-50-6595-11A-01R-1858-07 & TCGA-49-4490-11A-01R-1858-07 & TCGA-44-6145-11A-01R-1858-07 & TCGA-38-4632-11A-01R-1755-07 & TCGA-49-6743-11A-01R-1858-07 & TCGA-44-2657-11A-01R-1758-07 & TCGA-91-6847-11A-01R-1949-07 & TCGA-44-6146-11A-01R-1858-07 & TCGA-49-6745-11A-01R-1858-07 & TCGA-91-6829-11A-01R-1858-07 & TCGA-49-6744-11A-01R-1858-07 & TCGA-49-6742-11A-01R-1858-07 & TCGA-91-6849-11A-01R-1949-07 & TCGA-91-6831-11A-02R-1858-07 & TCGA-91-6836-11A-01R-1858-07 & TCGA-55-6985-11A-01R-1949-07 & TCGA-44-6148-11A-01R-1858-07 & TCGA-55-6986-11A-01R-1949-07 & TCGA-55-6975-11A-01R-1949-07 & TCGA-50-5931-11A-01R-1858-07 & TCGA-44-6144-11A-01R-1755-07 & TCGA-55-6981-11A-01R-1949-07 & TCGA-44-A4SU-01A-11R-A24X-07 & TCGA-93-A4JP-01A-11R-A24X-07 & TCGA-38-4629-01A-02R-1206-07 & TCGA-75-7025-01A-12R-1949-07 & TCGA-MP-A4TC-01A-11R-A24X-07 & TCGA-44-6145-01A-11R-1755-07 & TCGA-97-7941-01A-11R-2187-07 & TCGA-78-8655-01A-11R-2403-07 & TCGA-55-8206-01A-11R-2241-07 & TCGA-MN-A4N4-01A-12R-A24X-07 & TCGA-55-7728-01A-11R-2187-07 & TCGA-91-6847-01A-11R-1949-07 & TCGA-55-8507-01A-11R-2403-07 & TCGA-95-8039-01A-11R-2241-07 & TCGA-78-7159-01A-11R-2039-07 & TCGA-55-8096-01A-11R-2241-07 & TCGA-55-8203-01A-11R-2241-07 & TCGA-69-7765-01A-11R-2170-07 & TCGA-69-7764-01A-11R-2170-07 & TCGA-49-AAQV-01A-11R-A39D-07 & TCGA-86-8074-01A-11R-2241-07 & TCGA-50-6673-01A-11R-1949-07 & TCGA-75-7027-01A-11R-1949-07 & TCGA-55-7281-01A-11R-2039-07 & TCGA-05-4390-01A-02R-1755-07 & TCGA-MP-A4TD-01A-32R-A262-07 & TCGA-44-8120-01A-11R-2241-07 & TCGA-L9-A50W-01A-12R-A39D-07 & TCGA-73-7498-01A-12R-2187-07 & TCGA-64-5774-01A-01R-1628-07 & TCGA-73-7499-01A-11R-2187-07 & TCGA-78-8640-01A-11R-2403-07 & TCGA-55-A48Z-01A-12R-A24X-07 & TCGA-L9-A8F4-01A-11R-A39D-07 & TCGA-99-8025-01A-11R-2241-07 & TCGA-55-7576-01A-11R-2066-07 & TCGA-97-A4M1-01A-11R-A24X-07 & TCGA-55-7573-01A-11R-2039-07 & TCGA-73-4666-01A-01R-1206-07 & TCGA-55-6543-01A-11R-1755-07 & TCGA-05-4397-01A-01R-1206-07 & TCGA-38-4627-01A-01R-1206-07 & TCGA-MP-A4SW-01A-21R-A24X-07 & TCGA-95-8494-01A-11R-2326-07 & TCGA-99-8033-01A-11R-2241-07 & TCGA-38-7271-01A-11R-2039-07 & TCGA-86-8279-01A-11R-2287-07 & TCGA-55-8614-01A-11R-2403-07 & TCGA-97-A4M7-01A-11R-A24X-07 & TCGA-MP-A4TE-01A-22R-A466-07 & TCGA-75-5122-01A-01R-1755-07 & TCGA-NJ-A4YQ-01A-11R-A262-07 & TCGA-50-5942-01A-21R-1755-07 & TCGA-44-3919-01A-02R-1107-07 & TCGA-95-A4VK-01A-11R-A262-07 & TCGA-69-7974-01A-11R-2187-07 & TCGA-05-4410-01A-21R-1858-07 & TCGA-83-5908-01A-21R-2287-07 & TCGA-50-6595-01A-12R-1858-07 & TCGA-62-8402-01A-11R-2326-07 & TCGA-91-6840-01A-11R-1949-07 & TCGA-44-A47G-01A-21R-A24H-07 & TCGA-55-7283-01A-11R-2039-07 & TCGA-44-5644-01A-21R-2039-07 & TCGA-MP-A4T9-01A-11R-A24X-07 & TCGA-86-7955-01A-11R-2187-07 & TCGA-97-7546-01A-11R-2039-07 & TCGA-62-A46V-01A-11R-A24H-07 & TCGA-75-6205-01A-11R-1755-07 & TCGA-05-4420-01A-01R-1206-07 & TCGA-MP-A4SV-01A-11R-A24X-07 & TCGA-69-7979-01A-11R-2187-07 & TCGA-97-8175-01A-11R-2287-07 & TCGA-49-4505-01A-01R-1206-07 & TCGA-NJ-A55O-01A-11R-A262-07 & TCGA-80-5611-01A-01R-1628-07 & TCGA-44-2661-01A-01R-1107-07 & TCGA-44-6777-01A-11R-1858-07 & TCGA-55-6978-01A-11R-1949-07 & TCGA-55-8094-01A-11R-2241-07 & TCGA-49-AARR-01A-11R-A41B-07 & TCGA-78-7154-01A-11R-2039-07 & TCGA-NJ-A55A-01A-11R-A262-07 & TCGA-64-5778-01A-01R-1628-07 & TCGA-MN-A4N1-01A-11R-A24X-07 & TCGA-78-7535-01A-11R-2066-07 & TCGA-55-A490-01A-11R-A466-07 & TCGA-50-5944-01A-11R-1755-07 & TCGA-55-8513-01A-11R-2403-07 & TCGA-55-A4DF-01A-11R-A24H-07 & TCGA-NJ-A4YP-01A-11R-A262-07 & TCGA-55-7725-01A-11R-2170-07 & TCGA-44-7662-01A-11R-2066-07 & TCGA-86-7953-01A-11R-2187-07 & TCGA-91-8496-01A-11R-2403-07 & TCGA-MP-A4T6-01A-32R-A262-07 & TCGA-78-7160-01A-11R-2039-07 & TCGA-44-3917-01A-01R-A278-07 & TCGA-64-5781-01A-01R-1628-07 & TCGA-99-7458-01A-11R-2039-07 & TCGA-49-AAR9-01A-21R-A41B-07 & TCGA-62-A46R-01A-11R-A24H-07 & TCGA-MP-A4T7-01A-11R-A24X-07 & TCGA-05-4424-01A-22R-1858-07 & TCGA-05-4382-01A-01R-1206-07 & TCGA-73-4677-01A-01R-1206-07 & TCGA-05-5425-01A-02R-1628-07 & TCGA-55-7910-01A-11R-2170-07 & TCGA-44-7659-01A-11R-2066-07 & TCGA-55-8204-01A-11R-2241-07 & TCGA-86-8669-01A-11R-2403-07 & TCGA-73-4658-01A-01R-1755-07 & TCGA-69-7980-01A-11R-2187-07 & TCGA-50-7109-01A-11R-2039-07 & TCGA-44-6148-01A-11R-1755-07 & TCGA-55-7994-01A-11R-2187-07 & TCGA-55-8085-01A-11R-2241-07 & TCGA-67-6216-01A-11R-1755-07 & TCGA-53-7624-01A-11R-2066-07 & TCGA-55-8616-01A-11R-2403-07 & TCGA-55-8089-01A-11R-2241-07 & TCGA-55-6970-01A-11R-1949-07 & TCGA-86-7954-01A-11R-2187-07 & TCGA-62-A470-01A-11R-A24H-07 & TCGA-55-6986-01A-11R-1949-07 & TCGA-55-6984-01A-11R-1949-07 & TCGA-55-7815-01A-11R-2170-07 & TCGA-97-A4M2-01A-12R-A24X-07 & TCGA-55-6712-01A-11R-1858-07 & TCGA-55-8514-01A-11R-2403-07 & TCGA-55-8208-01A-11R-2241-07 & TCGA-95-7043-01A-11R-1949-07 & TCGA-44-6779-01A-11R-1858-07 & TCGA-55-8508-01A-11R-2403-07 & TCGA-NJ-A4YI-01A-11R-A262-07 & TCGA-44-7670-01A-11R-2066-07 & TCGA-55-6983-01A-11R-1949-07 & TCGA-80-5608-01A-31R-1949-07 & TCGA-64-5815-01A-01R-1628-07 & TCGA-75-5126-01A-01R-1755-07 & TCGA-75-6206-01A-11R-1755-07 & TCGA-86-7701-01A-11R-2170-07 & TCGA-55-A4DG-01A-11R-A24H-07 & TCGA-05-4395-01A-01R-1206-07 & TCGA-49-6744-01A-11R-1858-07 & TCGA-38-4630-01A-01R-1206-07 & TCGA-73-4659-01A-01R-1206-07 & TCGA-69-8253-01A-11R-2287-07 & TCGA-78-7150-01A-21R-2039-07 & TCGA-L4-A4E6-01A-11R-A24H-07 & TCGA-53-7813-01A-11R-2170-07 & TCGA-91-6828-01A-11R-1858-07 & TCGA-44-A4SS-01A-11R-A24X-07 & TCGA-78-7158-01A-11R-2039-07 & TCGA-64-1681-01A-11R-2066-07 & TCGA-38-4628-01A-01R-1206-07 & TCGA-50-5931-01A-11R-1755-07 & TCGA-97-8176-01A-11R-2403-07 & TCGA-93-A4JO-01A-21R-A24X-07 & TCGA-50-5933-01A-11R-1755-07 & TCGA-78-7146-01A-11R-2039-07 & TCGA-05-4417-01A-22R-1858-07 & TCGA-MN-A4N5-01A-11R-A24X-07 & TCGA-62-8397-01A-11R-2326-07 & TCGA-75-6212-01A-11R-1755-07 & TCGA-86-8054-01A-11R-2241-07 & TCGA-62-A46P-01A-11R-A24H-07 & TCGA-80-5607-01A-31R-1949-07 & TCGA-78-7537-01A-11R-2066-07 & TCGA-55-8511-01A-11R-2403-07 & TCGA-64-1677-01A-01R-0946-07 & TCGA-86-A4P8-01A-11R-A24X-07 & TCGA-91-6835-01A-11R-1858-07 & TCGA-97-A4M0-01A-11R-A24X-07 & TCGA-NJ-A55R-01A-11R-A262-07 & TCGA-MP-A4TA-01A-21R-A24X-07 & TCGA-L9-A443-01A-12R-A24H-07 & TCGA-44-2659-01A-01R-0946-07 & TCGA-97-7553-01A-21R-2039-07 & TCGA-44-7667-01A-31R-2066-07 & TCGA-55-8302-01A-11R-2326-07 & TCGA-95-A4VP-01A-21R-A262-07 & TCGA-69-7978-01A-11R-2187-07 & TCGA-50-6594-01A-11R-1755-07 & TCGA-55-7816-01A-11R-2170-07 & TCGA-99-AA5R-01A-11R-A39D-07 & TCGA-05-4405-01A-21R-1858-07 & TCGA-78-7143-01A-11R-2039-07 & TCGA-67-3770-01A-01R-0946-07 & TCGA-55-7724-01A-11R-2170-07 & TCGA-55-8620-01A-11R-2403-07 & TCGA-55-8621-01A-11R-2403-07 & TCGA-64-1679-01A-21R-2066-07 & TCGA-99-8028-01A-11R-2241-07 & TCGA-55-6968-01A-11R-1949-07 & TCGA-78-7167-01A-11R-2066-07 & TCGA-35-5375-01A-01R-1628-07 & TCGA-97-8171-01A-11R-2287-07 & TCGA-38-6178-01A-11R-1755-07 & TCGA-55-7903-01A-11R-2170-07 & TCGA-62-8398-01A-11R-2326-07 & TCGA-69-7973-01A-11R-2187-07 & TCGA-55-8090-01A-11R-2241-07 & TCGA-55-8615-01A-11R-2403-07 & TCGA-75-6203-01A-11R-1755-07 & TCGA-86-6851-01A-11R-1949-07 & TCGA-95-7948-01A-11R-2187-07 & TCGA-50-6590-01A-12R-1858-07 & TCGA-62-8395-01A-11R-2326-07 & TCGA-97-A4M3-01A-11R-A24X-07 & TCGA-44-7661-01A-11R-2066-07 & TCGA-44-8117-01A-11R-2241-07 & TCGA-55-8092-01A-11R-2241-07 & TCGA-91-A4BC-01A-11R-A24H-07 & TCGA-78-7152-01A-11R-2039-07 & TCGA-86-8278-01A-11R-2287-07 & TCGA-55-8619-01A-11R-2403-07 & TCGA-73-4670-01A-01R-1206-07 & TCGA-95-7944-01A-11R-2187-07 & TCGA-J2-A4AD-01A-11R-A24H-07 & TCGA-50-5932-01A-11R-1755-07 & TCGA-69-8254-01A-11R-2287-07 & TCGA-73-A9RS-01A-11R-A41B-07 & TCGA-55-6975-01A-11R-1949-07 & TCGA-97-7937-01A-11R-2170-07 & TCGA-78-8660-01A-11R-2403-07 & TCGA-38-4631-01A-01R-1755-07 & TCGA-67-3771-01A-01R-0946-07 & TCGA-64-1680-01A-02R-0946-07 & TCGA-55-6987-01A-11R-1949-07 & TCGA-38-4625-01A-01R-1206-07 & TCGA-50-8460-01A-11R-2326-07 & TCGA-49-4514-01A-21R-1858-07 & TCGA-78-7161-01A-11R-2039-07 & TCGA-S2-AA1A-01A-12R-A39D-07 & TCGA-78-7540-01A-11R-2066-07 & TCGA-05-4422-01A-01R-1206-07 & TCGA-78-7153-01A-11R-2039-07 & TCGA-55-A492-01A-11R-A24H-07 & TCGA-53-7626-01A-12R-2066-07 & TCGA-L9-A444-01A-21R-A24H-07 & TCGA-86-8076-01A-31R-2241-07 & TCGA-91-6848-01A-11R-1949-07 & TCGA-78-7633-01A-11R-2066-07 & TCGA-91-8497-01A-11R-2403-07 & TCGA-55-A48X-01A-11R-A24H-07 & TCGA-97-A4M6-01A-11R-A24X-07 & TCGA-J2-A4AE-01A-21R-A24H-07 & TCGA-78-7220-01A-11R-2039-07 & TCGA-64-5775-01A-01R-1628-07 & TCGA-91-8499-01A-11R-2403-07 & TCGA-50-5072-01A-21R-1858-07 & TCGA-75-5146-01A-01R-1628-07 & TCGA-44-A47A-01A-21R-A24H-07 & TCGA-91-7771-01A-11R-2170-07 & TCGA-38-4626-01A-01R-1206-07 & TCGA-73-4676-01A-01R-1755-07 & TCGA-93-7347-01A-11R-2187-07 & TCGA-55-A493-01A-11R-A24H-07 & TCGA-05-4403-01A-01R-1206-07 & TCGA-MP-A4TK-01A-11R-A24X-07 & TCGA-86-A4P7-01A-11R-A24X-07 & TCGA-35-4122-01A-01R-1107-07 & TCGA-97-7547-01A-11R-2039-07 & TCGA-05-4434-01A-01R-1206-07 & TCGA-78-7156-01A-11R-2039-07 & TCGA-97-8174-01A-11R-2287-07 & TCGA-97-7552-01A-11R-2039-07 & TCGA-05-4425-01A-01R-1755-07 & TCGA-55-8505-01A-11R-2403-07 & TCGA-69-8255-01A-11R-2287-07 & TCGA-05-4432-01A-01R-1206-07 & TCGA-75-6214-01A-41R-1949-07 & TCGA-73-4675-01A-01R-1206-07 & TCGA-97-8177-01A-11R-2287-07 & TCGA-44-7660-01A-11R-2066-07 & TCGA-05-5429-01A-01R-1628-07 & TCGA-44-6774-01A-21R-1858-07 & TCGA-97-A4M5-01A-11R-A24X-07 & TCGA-69-7761-01A-11R-2170-07 & TCGA-50-5051-01A-21R-1858-07 & TCGA-4B-A93V-01A-11R-A39D-07 & TCGA-86-8280-01A-11R-2287-07 & TCGA-50-5935-01A-11R-1755-07 & TCGA-95-7567-01A-11R-2066-07 & TCGA-49-AAR0-01A-21R-A39D-07 & TCGA-55-A491-01A-11R-A24H-07 & TCGA-67-3772-01A-01R-0946-07 & TCGA-MP-A4TF-01A-11R-A262-07 & TCGA-05-4398-01A-01R-1206-07 & TCGA-55-6980-01A-11R-1949-07 & TCGA-78-7148-01A-11R-2039-07 & TCGA-50-5946-01A-11R-1755-07 & TCGA-55-7574-01A-11R-2039-07 & TCGA-50-6597-01A-11R-1858-07 & TCGA-93-A4JQ-01A-11R-A24X-07 & TCGA-50-6592-01A-11R-1755-07 & TCGA-MP-A5C7-01A-11R-A262-07 & TCGA-78-7155-01A-11R-2039-07 & TCGA-91-6831-01A-11R-1858-07 & TCGA-44-5643-01A-01R-1628-07 & TCGA-44-4112-01A-01R-1107-07 & TCGA-55-7911-01A-11R-2170-07 & TCGA-78-7147-01A-11R-2039-07 & TCGA-50-8457-01A-11R-2326-07 & TCGA-05-4430-01A-02R-1206-07 & TCGA-95-A4VN-01A-11R-A262-07 & TCGA-44-A47B-01A-11R-A24H-07 & TCGA-86-8585-01A-11R-2403-07 & TCGA-64-1678-01A-01R-0946-07 & TCGA-05-4402-01A-01R-1206-07 & TCGA-05-4433-01A-22R-1858-07 & TCGA-50-6591-01A-11R-1755-07 & TCGA-44-7671-01A-11R-2066-07 & TCGA-MP-A4T8-01A-11R-A24X-07 & TCGA-55-8512-01A-11R-2403-07 & TCGA-95-7562-01A-11R-2241-07 & TCGA-O1-A52J-01A-11R-A262-07 & TCGA-69-A59K-01A-11R-A262-07 & TCGA-55-8301-01A-11R-2287-07 & TCGA-55-8091-01A-11R-2241-07 & TCGA-67-6217-01A-11R-1755-07 & TCGA-91-6829-01A-21R-1858-07 & TCGA-73-4668-01A-01R-1206-07 & TCGA-62-8399-01A-21R-2326-07 & TCGA-49-6761-01A-31R-1949-07 & TCGA-50-5930-01A-11R-1755-07 & TCGA-49-4501-01A-01R-1206-07 & TCGA-78-7539-01A-11R-2066-07 & TCGA-49-AARO-01A-12R-A41B-07 & TCGA-MP-A4TI-01A-21R-A24X-07 & TCGA-50-5049-01A-01R-1628-07 & TCGA-49-AAR2-01A-11R-A39D-07 & TCGA-44-2655-01A-01R-0946-07 & TCGA-95-7947-01A-11R-2187-07 & TCGA-50-5066-01A-01R-1628-07 & TCGA-86-8358-01A-11R-2326-07 & TCGA-86-8073-01A-11R-2241-07 & TCGA-99-8032-01A-11R-2241-07 & TCGA-78-7149-01A-11R-2039-07 & TCGA-L9-A5IP-01A-21R-A39D-07 & TCGA-49-4486-01A-01R-1206-07 & TCGA-69-7763-01A-11R-2170-07 & TCGA-86-7713-01A-11R-2066-07 & TCGA-97-7938-01A-11R-2170-07 & TCGA-49-AARQ-01A-11R-A41B-07 & TCGA-05-4418-01A-01R-1206-07 & TCGA-49-6743-01A-11R-1858-07 & TCGA-49-4487-01A-21R-1858-07 & TCGA-44-6776-01A-11R-1858-07 & TCGA-55-6979-01A-11R-1949-07 & TCGA-L9-A743-01A-43R-A39D-07 & TCGA-64-5779-01A-01R-1628-07 & TCGA-97-7554-01A-11R-2039-07 & TCGA-50-5044-01A-21R-1858-07 & TCGA-49-4494-01A-01R-1206-07 & TCGA-55-6971-01A-11R-1949-07 & TCGA-L9-A7SV-01A-11R-A39D-07 & TCGA-86-7711-01A-11R-2066-07 & TCGA-86-A4JF-01A-11R-A24X-07 & TCGA-53-A4EZ-01A-12R-A24X-07 & TCGA-91-6836-01A-21R-1858-07 & TCGA-05-5715-01A-01R-1628-07 & TCGA-91-6830-01A-11R-1949-07 & TCGA-86-8673-01A-11R-2403-07 & TCGA-86-6562-01A-11R-1755-07 & TCGA-49-4507-01A-01R-1206-07 & TCGA-49-4490-01A-21R-1858-07 & TCGA-L4-A4E5-01A-11R-A24X-07 & TCGA-55-A57B-01A-12R-A39D-07 & TCGA-49-6742-01A-11R-1858-07 & TCGA-MP-A4T4-01A-11R-A262-07 & TCGA-55-7907-01A-11R-2170-07 & TCGA-75-5125-01A-01R-1755-07 & TCGA-67-6215-01A-11R-1755-07 & TCGA-55-8506-01A-11R-2403-07 & TCGA-44-2657-01A-01R-1107-07 & TCGA-49-4506-01A-01R-1206-07 & TCGA-J2-8192-01A-11R-2241-07 & TCGA-05-4427-01A-21R-1858-07 & TCGA-NJ-A7XG-01A-12R-A39D-07 & TCGA-MP-A4TJ-01A-51R-A262-07 & TCGA-55-A494-01A-11R-A24X-07 & TCGA-97-8172-01A-11R-2287-07 & TCGA-05-4426-01A-01R-1206-07 & TCGA-49-4512-01A-21R-1858-07 & TCGA-44-6778-01A-11R-1858-07 & TCGA-55-7570-01A-11R-2039-07 & TCGA-49-AARN-01A-21R-A41B-07 & TCGA-05-4244-01A-01R-1107-07 & TCGA-67-3773-01A-01R-0946-07 & TCGA-05-5420-01A-01R-1628-07 & TCGA-69-7760-01A-11R-2170-07 & TCGA-86-8359-01A-11R-2326-07 & TCGA-55-6972-01A-11R-1949-07 & TCGA-J2-A4AG-01A-11R-A24H-07 & TCGA-55-5899-01A-11R-1628-07 & TCGA-05-4384-01A-01R-1755-07 & TCGA-62-A46S-01A-11R-A24H-07 & TCGA-49-6767-01A-11R-1858-07 & TCGA-91-6849-01A-11R-1949-07 & TCGA-55-7914-01A-11R-2170-07 & TCGA-44-2665-01A-01R-0946-07 & TCGA-50-5941-01A-11R-1755-07 & TCGA-73-4662-01A-01R-1206-07 & TCGA-49-AARE-01A-11R-A41B-07 & TCGA-49-AAR4-01A-12R-A41B-07 & TCGA-95-7039-01A-11R-1949-07 & TCGA-44-7669-01A-21R-2066-07 & TCGA-64-1676-01A-01R-0946-07 & TCGA-55-7995-01A-11R-2187-07 & TCGA-05-4396-01A-21R-1858-07 & TCGA-44-3396-01A-01R-1206-07 & TCGA-93-A4JN-01A-11R-A24X-07 & TCGA-05-5423-01A-01R-1628-07 & TCGA-86-8674-01A-21R-2403-07 & TCGA-55-8087-01A-11R-2241-07 & TCGA-86-8671-01A-11R-2403-07 & TCGA-86-7714-01A-12R-2170-07 & TCGA-97-8547-01A-11R-2403-07 & TCGA-50-5068-01A-01R-1628-07 & TCGA-38-A44F-01A-11R-A24H-07 & TCGA-62-A472-01A-11R-A24H-07 & TCGA-55-8207-01A-11R-2241-07 & TCGA-35-4123-01A-01R-1107-07 & TCGA-86-8668-01A-11R-2403-07 & TCGA-78-7536-01A-11R-2066-07 & TCGA-86-A456-01A-11R-A24H-07 & TCGA-49-6745-01A-11R-1858-07 & TCGA-55-7727-01A-11R-2170-07 & TCGA-78-7145-01A-11R-2039-07 & TCGA-NJ-A4YG-01A-22R-A262-07 & TCGA-MP-A4SY-01A-21R-A24X-07 & TCGA-55-6642-01A-11R-1858-07 & TCGA-05-4249-01A-01R-1107-07 & TCGA-55-8205-01A-11R-2241-07 & TCGA-86-8056-01A-11R-2241-07 & TCGA-55-8510-01A-11R-2403-07 & TCGA-78-7542-01A-21R-2066-07 & TCGA-62-A46Y-01A-11R-A24H-07 & TCGA-55-1596-01A-01R-0946-07 & TCGA-97-8552-01A-11R-2403-07 & TCGA-86-A4D0-01A-11R-A24H-07 & TCGA-67-3774-01A-01R-0946-07 & TCGA-05-4250-01A-01R-1107-07 & TCGA-91-A4BD-01A-11R-A24H-07 & TCGA-55-6985-01A-11R-1949-07 & TCGA-55-6981-01A-11R-1949-07 & TCGA-78-8648-01A-11R-2403-07 & TCGA-86-8672-01A-21R-2403-07 & TCGA-55-A48Y-01A-11R-A24H-07 & TCGA-J2-8194-01A-11R-2241-07 & TCGA-71-8520-01A-11R-2403-07 & TCGA-49-4488-01A-01R-1755-07 & TCGA-50-5045-01A-01R-1628-07 & TCGA-86-8281-01A-11R-2287-07 & TCGA-50-5055-01A-01R-1628-07 & TCGA-NJ-A4YF-01A-12R-A262-07 & TCGA-71-6725-01A-11R-1858-07 & TCGA-49-4510-01A-01R-1206-07 & TCGA-75-6211-01A-11R-1755-07 & TCGA-38-4632-01A-01R-1755-07 & TCGA-97-A4LX-01A-11R-A24X-07 & TCGA-75-5147-01A-01R-1628-07 & TCGA-55-7726-01A-11R-2170-07 & TCGA-55-6982-01A-11R-1949-07 & TCGA-93-8067-01A-11R-2287-07 & TCGA-44-3398-01A-01R-1107-07 & TCGA-78-7162-01A-21R-2066-07 & TCGA-69-8453-01A-12R-2326-07 & TCGA-49-AAR3-01A-11R-A41B-07 & TCGA-44-8119-01A-11R-2241-07 & TCGA-62-A471-01A-12R-A24H-07 & TCGA-50-5939-01A-11R-1628-07 & TCGA-55-1592-01A-01R-0946-07 & TCGA-62-A46O-01A-11R-A24H-07 & TCGA-75-7031-01A-11R-1949-07 & TCGA-75-6207-01A-11R-1755-07 & TCGA-50-6593-01A-11R-1755-07 & TCGA-55-7227-01A-11R-2039-07 & TCGA-93-7348-01A-21R-2039-07 & TCGA-97-8179-01A-11R-2287-07 & TCGA-44-A479-01A-31R-A24H-07 & TCGA-35-3615-01A-01R-0946-07 & TCGA-05-4389-01A-01R-1206-07 & TCGA-05-5428-01A-01R-1628-07 & TCGA-55-1594-01A-01R-0946-07 & TCGA-55-8299-01A-11R-2287-07 & TCGA-55-8097-01A-11R-2241-07 & TCGA-05-4415-01A-22R-1858-07 & TCGA-86-8055-01A-11R-2241-07 & TCGA-62-8394-01A-11R-2326-07 & TCGA-MP-A4TH-01A-31R-A262-07 & TCGA-75-7030-01A-11R-1949-07 & TCGA-78-8662-01A-11R-2403-07 & TCGA-50-5936-01A-11R-1628-07 & TCGA-86-8075-01A-11R-2241-07 & TCGA-78-7166-01A-12R-2066-07 & TCGA-50-8459-01A-11R-2326-07 & TCGA-78-7163-01A-12R-2066-07 & TCGA-44-7672-01A-11R-2066-07 & TCGA-44-2662-01A-01R-A278-07 & TCGA-44-2656-01A-02R-A278-07 & TCGA-44-6147-01A-11R-A278-07 & TCGA-44-2666-01A-01R-A278-07 & TCGA-44-3918-01A-01R-A278-07 & TCGA-44-2668-01A-01R-A278-07 & TCGA-44-5645-01A-01R-A278-07 & TCGA-44-6775-01A-11R-A278-07 & TCGA-44-6146-01A-11R-A278-07\\\\\n",
       "  & <dbl> & <dbl> & <dbl> & <dbl> & <dbl> & <dbl> & <dbl> & <dbl> & <dbl> & <dbl> & <dbl> & <dbl> & <dbl> & <dbl> & <dbl> & <dbl> & <dbl> & <dbl> & <dbl> & <dbl> & <dbl> & <dbl> & <dbl> & <dbl> & <dbl> & <dbl> & <dbl> & <dbl> & <dbl> & <dbl> & <dbl> & <dbl> & <dbl> & <dbl> & <dbl> & <dbl> & <dbl> & <dbl> & <dbl> & <dbl> & <dbl> & <dbl> & <dbl> & <dbl> & <dbl> & <dbl> & <dbl> & <dbl> & <dbl> & <dbl> & <dbl> & <dbl> & <dbl> & <dbl> & <dbl> & <dbl> & <dbl> & <dbl> & <dbl> & <dbl> & <dbl> & <dbl> & <dbl> & <dbl> & <dbl> & <dbl> & <dbl> & <dbl> & <dbl> & <dbl> & <dbl> & <dbl> & <dbl> & <dbl> & <dbl> & <dbl> & <dbl> & <dbl> & <dbl> & <dbl> & <dbl> & <dbl> & <dbl> & <dbl> & <dbl> & <dbl> & <dbl> & <dbl> & <dbl> & <dbl> & <dbl> & <dbl> & <dbl> & <dbl> & <dbl> & <dbl> & <dbl> & <dbl> & <dbl> & <dbl> & <dbl> & <dbl> & <dbl> & <dbl> & <dbl> & <dbl> & <dbl> & <dbl> & <dbl> & <dbl> & <dbl> & <dbl> & <dbl> & <dbl> & <dbl> & <dbl> & <dbl> & <dbl> & <dbl> & <dbl> & <dbl> & <dbl> & <dbl> & <dbl> & <dbl> & <dbl> & <dbl> & <dbl> & <dbl> & <dbl> & <dbl> & <dbl> & <dbl> & <dbl> & <dbl> & <dbl> & <dbl> & <dbl> & <dbl> & <dbl> & <dbl> & <dbl> & <dbl> & <dbl> & <dbl> & <dbl> & <dbl> & <dbl> & <dbl> & <dbl> & <dbl> & <dbl> & <dbl> & <dbl> & <dbl> & <dbl> & <dbl> & <dbl> & <dbl> & <dbl> & <dbl> & <dbl> & <dbl> & <dbl> & <dbl> & <dbl> & <dbl> & <dbl> & <dbl> & <dbl> & <dbl> & <dbl> & <dbl> & <dbl> & <dbl> & <dbl> & <dbl> & <dbl> & <dbl> & <dbl> & <dbl> & <dbl> & <dbl> & <dbl> & <dbl> & <dbl> & <dbl> & <dbl> & <dbl> & <dbl> & <dbl> & <dbl> & <dbl> & <dbl> & <dbl> & <dbl> & <dbl> & <dbl> & <dbl> & <dbl> & <dbl> & <dbl> & <dbl> & <dbl> & <dbl> & <dbl> & <dbl> & <dbl> & <dbl> & <dbl> & <dbl> & <dbl> & <dbl> & <dbl> & <dbl> & <dbl> & <dbl> & <dbl> & <dbl> & <dbl> & <dbl> & <dbl> & <dbl> & <dbl> & <dbl> & <dbl> & <dbl> & <dbl> & <dbl> & <dbl> & <dbl> & <dbl> & <dbl> & <dbl> & <dbl> & <dbl> & <dbl> & <dbl> & <dbl> & <dbl> & <dbl> & <dbl> & <dbl> & <dbl> & <dbl> & <dbl> & <dbl> & <dbl> & <dbl> & <dbl> & <dbl> & <dbl> & <dbl> & <dbl> & <dbl> & <dbl> & <dbl> & <dbl> & <dbl> & <dbl> & <dbl> & <dbl> & <dbl> & <dbl> & <dbl> & <dbl> & <dbl> & <dbl> & <dbl> & <dbl> & <dbl> & <dbl> & <dbl> & <dbl> & <dbl> & <dbl> & <dbl> & <dbl> & <dbl> & <dbl> & <dbl> & <dbl> & <dbl> & <dbl> & <dbl> & <dbl> & <dbl> & <dbl> & <dbl> & <dbl> & <dbl> & <dbl> & <dbl> & <dbl> & <dbl> & <dbl> & <dbl> & <dbl> & <dbl> & <dbl> & <dbl> & <dbl> & <dbl> & <dbl> & <dbl> & <dbl> & <dbl> & <dbl> & <dbl> & <dbl> & <dbl> & <dbl> & <dbl> & <dbl> & <dbl> & <dbl> & <dbl> & <dbl> & <dbl> & <dbl> & <dbl> & <dbl> & <dbl> & <dbl> & <dbl> & <dbl> & <dbl> & <dbl> & <dbl> & <dbl> & <dbl> & <dbl> & <dbl> & <dbl> & <dbl> & <dbl> & <dbl> & <dbl> & <dbl> & <dbl> & <dbl> & <dbl> & <dbl> & <dbl> & <dbl> & <dbl> & <dbl> & <dbl> & <dbl> & <dbl> & <dbl> & <dbl> & <dbl> & <dbl> & <dbl> & <dbl> & <dbl> & <dbl> & <dbl> & <dbl> & <dbl> & <dbl> & <dbl> & <dbl> & <dbl> & <dbl> & <dbl> & <dbl> & <dbl> & <dbl> & <dbl> & <dbl> & <dbl> & <dbl> & <dbl> & <dbl> & <dbl> & <dbl> & <dbl> & <dbl> & <dbl> & <dbl> & <dbl> & <dbl> & <dbl> & <dbl> & <dbl> & <dbl> & <dbl> & <dbl> & <dbl> & <dbl> & <dbl> & <dbl> & <dbl> & <dbl> & <dbl> & <dbl> & <dbl> & <dbl> & <dbl> & <dbl> & <dbl> & <dbl> & <dbl> & <dbl> & <dbl> & <dbl> & <dbl> & <dbl> & <dbl> & <dbl> & <dbl> & <dbl> & <dbl> & <dbl> & <dbl> & <dbl> & <dbl> & <dbl> & <dbl> & <dbl> & <dbl> & <dbl> & <dbl> & <dbl> & <dbl> & <dbl> & <dbl> & <dbl> & <dbl> & <dbl> & <dbl> & <dbl> & <dbl> & <dbl> & <dbl> & <dbl> & <dbl> & <dbl> & <dbl> & <dbl> & <dbl> & <dbl> & <dbl> & <dbl> & <dbl> & <dbl> & <dbl> & <dbl> & <dbl> & <dbl> & <dbl> & <dbl> & <dbl> & <dbl> & <dbl> & <dbl> & <dbl> & <dbl> & <dbl> & <dbl> & <dbl> & <dbl> & <dbl> & <dbl> & <dbl> & <dbl> & <dbl> & <dbl> & <dbl> & <dbl> & <dbl> & <dbl> & <dbl> & <dbl> & <dbl> & <dbl> & <dbl> & <dbl> & <dbl> & <dbl> & <dbl> & <dbl> & <dbl> & <dbl> & <dbl> & <dbl> & <dbl> & <dbl> & <dbl> & <dbl> & <dbl> & <dbl> & <dbl> & <dbl> & <dbl> & <dbl> & <dbl> & <dbl> & <dbl> & <dbl> & <dbl> & <dbl> & <dbl> & <dbl> & <dbl> & <dbl> & <dbl> & <dbl> & <dbl> & <dbl> & <dbl> & <dbl> & <dbl> & <dbl> & <dbl> & <dbl> & <dbl> & <dbl> & <dbl> & <dbl> & <dbl> & <dbl> & <dbl> & <dbl> & <dbl> & <dbl> & <dbl> & <dbl> & <dbl> & <dbl> & <dbl> & <dbl> & <dbl> & <dbl> & <dbl> & <dbl> & <dbl> & <dbl> & <dbl> & <dbl> & <dbl> & <dbl> & <dbl> & <dbl> & <dbl> & <dbl> & <dbl> & <dbl> & <dbl> & <dbl> & <dbl> & <dbl> & <dbl> & <dbl> & <dbl> & <dbl> & <dbl> & <dbl> & <dbl> & <dbl> & <dbl> & <dbl> & <dbl> & <dbl> & <dbl> & <dbl>\\\\\n",
       "\\hline\n",
       "\tENSG00000242268.2 & 0.1522374 &  0.000000 &  0.07915873 &  0.1205325 & 0.28671522 &  0.238118817 & 0.1570054 &  0.1089609 & 0.145981603 &  0.02477072 & 0.02009722 & 0.05083294 & 0.000000000 & 0.000000000 &  0.05827204 & 0.15776295 & 0.046509016 &  0.000000 & 0.02021474 & 0.000000 & 0.303251262 & 0.03243071 &  0.075395296 &  0.097309326 & 0.021962553 &  0.106219037 & 0.130738181 & 0.000000000 &  0.07642484 & 0.020342749 &  0.05099914 & 0.1794644 & 0.04427433 &  0.486394970 &  0.08339281 & 0.03128832 &  0.08970794 & 0.000000 & 0.03889657 & 0.04784841 & 0.07989516 &  0.03255771 & 0.09419419 &  0.09279315 & 0.03728883 & 0.189327093 & 0.08143177 & 0.06748726 & 0.235116646 & 0.06782377 & 0.1908045 & 0.24093626 &  0.37690799 & 0.901603890 & 0.00000 & 0.000000 & 0.000000 &  0.34983240 &  0.2712889 &  0.1577427 & 0.000000 &  0.34045509 & 0.000000 &  0.04206189 &  0.042659819 &  0.086223250 &  0.139009556 &  0.000000 &  0.399893181 &  0.069963728 & 0.000000 &  0.037876162 &  0.00000000 & 0.01886010 &  0.000000000 & 0.00000000 &  0.04202003 &  0.02138109 &  0.000000 &  0.000000000 &  0.01768137 &  0.03149661 &  0.000000000 &  0.000000 &  0.039184509 &  0.049010229 &  0.08955314 &  0.000000000 &  0.000000000 &  0.00000000 &  0.000000000 &  0.027684672 &  0.021399857 &  0.01610997 &  0.27154714 &  0.1279127 &  0.291391376 &  0.071511690 & 0.0000000 & 0.000000000 &  0.1137062 &  0.000000 &  0.01885622 &  0.000000 &  0.000000 &  0.07995649 &  0.29275833 &  0.000000 &  0.000000 &  0.000000000 &  0.03732206 &  0.1434491 &  0.000000 &  0.094864307 & 0.000000 &  0.07435254 &  0.000000 &  0.00000000 &  0.000000 &  0.03522569 &  0.000000000 &  0.000000 &  0.168501167 & 0.000000000 & 0.121664779 & 0.06357259 &  0.000000 & 0.000000000 &  0.000000000 &  0.01998295 & 0.000000000 &  0.000000 &  0.06909431 &  0.000000000 & 0.05387949 & 0.000000 & 0.04510411 & 0.000000 &  1.60712293 & 0.03237315 &  2.73085322 &  0.032984215 & 0.000000 & 0.000000 &  0.00000000 &  0.07503265 &  0.613179 & 0.44352838 &  0.000000 & 0.000000000 & 0.01920979 &  0.063257495 & 0.08250658 & 0.000000 &  0.07628301 & 0.05030539 &  0.000000000 &  0.04270977 &  0.000000 & 0.09991489 &  0.05447714 & 0.000000 & 0.01547102 & 0.000000 &  0.000000 &  0.000000000 &  0.14375214 & 0.10237570 &  0.000000 & 0.000000 &  0.102139335 &  0.000000 &  0.071344481 &  0.1704473 &  0.000000 &  0.000000000 &  0.000000 & 0.06763183 & 0.02104711 &  0.000000 &  0.01826758 & 0.1550558 &  0.000000 &  0.045706711 & 0.00000000 &  0.0892622 & 0.04695388 & 0.00000000 & 0.103917033 & 0.000000000 &  0.000000 &  0.000000 &  0.00000000 &  0.062372758 &  0.02053882 &  0.020670169 &  0.000000 &  0.000000 &  0.000000 &  0.000000000 &  0.1067953 &  0.000000 &  0.000000 &  0.05939330 &  0.039218703 &  0.01644891 &  0.000000 & 0.126304309 &  0.000000 &  0.000000 &  0.000000 &  0.000000 & 0.089850960 & 0.000000 &  0.000000000 &  0.000000000 &  0.06687142 & 0.000000 &  0.0000000 & 0.000000 &  0.025253579 & 0.00000000 &  0.00000000 &  0.000000000 & 0.000000 &  0.1023838 &  0.000000 &  0.000000 & 0.06119736 &  0.258102188 &  0.000000000 &  0.000000 &  0.07240485 &  0.000000 & 0.1426089 &  0.059552297 &  0.02707012 &  0.000000000 &  0.1057473 &  0.0304771 &  0.000000 &  0.000000 &  0.04844043 &  0.06780380 &  0.000000000 &  0.02966873 & 0.2549878 & 0.000000 &  1.242815474 &  0.332104015 &  0.000000000 &  0.10412590 & 0.17075636 &  0.0176985 & 0.000000 &  0.000000 &  0.00000000 &  0.030112143 &  0.000000 &  0.000000 &  0.05354261 &  0.03366107 & 0.000000 &  0.000000 &  0.06552143 &  0.00000000 &  0.030975964 &  0.08970923 & 0.040144786 & 0.000000 &  0.000000000 &  0.08496873 &  0.000000 &  0.049194348 &  0.140349227 &  0.01488488 &  0.000000 & 0.02608502 &  0.000000 &  0.062581964 &  0.000000000 &  0.000000 & 0.000000 &  0.03684426 & 0.04800841 &  0.0000000 & 0.04083225 &  0.03746253 & 0.000000000 &  0.000000000 &  0.000000 & 0.000000000 &  0.04191365 &  0.229326388 &  0.000000 &  0.127972304 &  0.000000 &  0.000000 &  0.000000000 &  0.02387063 &  0.00000000 &  0.01668781 &  0.130955686 &  0.5398087 &  0.000000000 &  0.3624315 &  0.06242798 & 0.000000 &  0.1278341 &  0.000000 & 0.000000 &  0.03284233 &  0.069741886 & 0.00000000 & 0.000000 &  0.024080438 &  0.000000 &  0.000000 &  0.000000 &  0.67029696 & 0.000000 &  0.024736576 &  0.07230660 &  0.000000 &  0.047640766 &  0.1704455 & 0.000000 &  0.07546551 & 0.000000000 &  0.000000000 &  0.000000 &  0.05228845 &  0.000000 &  0.00000000 & 0.000000 & 0.00000000 &  0.3950144 &  0.034359684 &  0.000000 &  0.02848105 &  0.02379178 &  0.000000 &  0.000000 &  0.1502319 &  0.000000000 & 0.027288 &  0.00000000 &  0.01372188 & 0.00000000 &  0.000000 &  0.021180972 &  0.000000 & 0.000000 &  0.027306 &  0.000000000 &  0.02358438 &  0.07856122 & 0.000000 &  0.07649558 &  0.050238720 &  0.00000000 &  0.000000 &  0.02857378 & 0.059336347 &  0.02982365 &  0.000000000 &  0.04335489 & 0.000000 & 0.014841817 &  0.04400846 &  0.19737603 &  0.03834852 &  0.02759836 &  0.76293767 &  0.000000000 &  0.3848995 &  0.000000000 &  0.000000 &  0.11509460 &  0.07213096 &  0.000000000 &  0.000000000 &  0.02680065 &  0.00000000 &  0.000000 & 0.000000 &  0.000000 & 0.11089058 &  0.097886885 & 0.000000 & 0.000000 & 0.000000000 &  0.000000000 & 0.09594996 &  0.2439150 &  0.053869777 &  0.00000000 & 0.000000 &  0.000000 & 0.000000 &  0.03520942 &  0.000000 &  0.07668404 &  0.000000 &  0.000000 & 0.000000000 &  0.053842438 &  0.000000 & 0.094938237 &  0.030980686 & 0.000000 &  0.000000 & 0.000000 & 0.000000 &  0.05470811 &  0.0000000 & 0.130556836 & 0.02782439 &  0.000000000 &  0.000000 & 0.000000000 &  0.2539753 &  0.000000 & 1.002441 &  0.000000 &  0.05181044 &  0.1782495 & 0.09373632 &  0.000000 &  0.03245418 & 0.04982333 & 0.07181392 &  0.000000 & 0.000000 &  0.2104473 & 0.000000 &  0.000000 &  0.000000000 &  0.22152178 &  0.24692827 &  0.000000000 &  0.246002376 &  0.000000000 &  0.000000 &  0.04367918 &  0.00000000 &  0.05151174 &  0.06429812 & 0.000000 & 0.05167494 &  0.03357870 &  0.000000 &  0.0601926 &  0.000000 & 0.03981028 &  0.1236402 &  0.1367813 &  0.000000 & 0.000000 &  0.00000000 &  0.000000 &  0.000000 &  0.000000 &  0.079503807 &  0.1277293 &  0.000000 &  0.10689756 & 0.000000 &  0.000000000 &  0.148772639 &  0.0150943 &  0.02928547 & 0.000000 &  0.000000000 &  0.2863571 &  0.000000 &  0.000000 & 0.00000000 & 0.0490185 &  0.2903608 &  0.000000 &  0.06229615 & 0.000000 &  0.00000000 &  0.000000 &  0.000000 &  0.03229292 &  0.00000000 &  0.000000 &  0.000000 &  0.192699935 &  0.000000 &  0.042933738 &  0.02196602 &  0.000000 &  0.076235861 & 0.000000 &  0.2993176 & 0.000000 &  0.9161106 &  0.00000000 &  0.03628534 &  0.02136779 & 0.137291901 &  0.137065427 & 0.168272 & 0.04522226 &  0.000000 & 0.03236776 &  0.000000 & 0.000000 &  0.000000 & 0.07560115 &  0.000000 &  0.000000 &  0.0000000 & 0.000000 &  0.000000 & 0.000000 & 0.000000 &  0.059298067 &  0.03977726 & 0.000000 &  0.000000 &  0.034224291 & 0.022783419 &  0.000000 &  0.115263557 &  0.000000 & 0.015739664 &  0.000000 &  0.00000000 & 0.00000000 & 0.000000 &  0.05547119 &  0.033724189 & 0.246972666 &  0.037240318 &  0.000000000 &  0.000000 &  0.07814683 &  0.000000 &  0.00000000 & 0.000000 & 0.000000 &  0.000000 &  0.3328237 & 0.000000 &  0.000000000 & 0.000000 &  0.1149859 & 0.05660825 & 0.000000 &  0.000000 &  0.01929117 &  0.000000 & 0.000000 & 0.000000000 &  0.00000000 & 0.000000000 & 0.000000000 & 0.1652038 & 0.15240685 & 0.10936823 & 0.00000000 & 0.163980017 & 0.04226003 & 0.4652002\\\\\n",
       "\tENSG00000270112.3 & 0.0000000 &  0.000000 &  0.00000000 &  0.0000000 & 0.01136647 &  0.006607948 & 0.0000000 &  0.0000000 & 0.006751804 &  0.00000000 & 0.00000000 & 0.00000000 & 0.006322466 & 0.005938836 &  0.00000000 & 0.01094506 & 0.006453274 &  0.000000 & 0.00000000 & 0.000000 & 0.006011011 & 0.00000000 &  0.002615334 &  0.006750989 & 0.003047374 &  0.002456371 & 0.006046779 & 0.006065796 &  0.00000000 & 0.002822621 &  0.00000000 & 0.0000000 & 0.00000000 &  0.006748885 &  0.00000000 & 0.00000000 &  0.00000000 & 0.000000 & 0.00000000 & 0.00000000 & 0.00000000 &  0.00000000 & 0.00000000 &  0.00000000 & 0.00000000 & 0.005253947 & 0.00000000 & 0.00000000 & 0.006524636 & 0.00000000 & 0.0000000 & 0.02340147 &  0.01120654 & 0.005004016 & 0.00000 & 0.000000 & 0.000000 &  0.01618012 &  0.0000000 &  0.0000000 & 0.000000 &  0.03779138 & 0.000000 &  0.00000000 &  0.008878778 &  0.005981875 &  0.002755431 &  0.000000 &  0.002920339 &  0.006471793 & 0.000000 &  0.005255438 &  0.01359885 & 0.02093519 &  0.008459675 & 0.01548649 &  0.00000000 &  0.00000000 &  0.000000 &  0.004958001 &  0.00000000 &  0.00000000 &  0.005866919 &  0.000000 &  0.002718488 &  0.003400162 &  0.00000000 &  0.004575277 &  0.003272695 &  0.02660172 &  0.004371392 &  0.003841336 &  0.005938596 &  0.00223531 &  0.01674579 &  0.0000000 &  0.002378322 &  0.004961237 & 0.0019725 & 0.005826152 &  0.0000000 &  0.000000 &  0.00000000 &  0.000000 &  0.000000 &  0.00000000 &  0.02954265 &  0.000000 &  0.000000 &  0.005628406 &  0.00000000 &  0.0000000 &  0.000000 &  0.002632545 & 0.000000 &  0.00000000 &  0.000000 &  0.01378728 &  0.000000 &  0.00000000 &  0.004280829 &  0.000000 &  0.003896679 & 0.008348327 & 0.004220344 & 0.02646270 &  0.000000 & 0.002217778 &  0.008403141 &  0.00000000 & 0.008856475 &  0.000000 &  0.00000000 &  0.005393678 & 0.00000000 & 0.000000 & 0.00000000 & 0.000000 &  0.03795633 & 0.00000000 &  0.07750525 &  0.004576665 & 0.000000 & 0.000000 &  0.00431271 &  0.00000000 &  0.000000 & 0.03516627 &  0.000000 & 0.008253313 & 0.00000000 &  0.005851452 & 0.00000000 & 0.000000 &  0.00000000 & 0.00000000 &  0.005574505 &  0.02074141 &  0.000000 & 0.00000000 &  0.00000000 & 0.000000 & 0.00000000 & 0.000000 &  0.000000 &  0.007629532 &  0.01329738 & 0.01420495 &  0.000000 & 0.000000 &  0.002834431 &  0.000000 &  0.004949637 &  0.0000000 &  0.000000 &  0.004903472 &  0.000000 & 0.00000000 & 0.00000000 &  0.000000 &  0.00000000 & 0.0000000 &  0.000000 &  0.006341951 & 0.04197391 &  0.0000000 & 0.00000000 & 0.01111182 & 0.003604705 & 0.006932371 &  0.000000 &  0.000000 &  0.01203987 &  0.005769612 &  0.00000000 &  0.005736103 &  0.000000 &  0.000000 &  0.000000 &  0.009640471 &  0.0000000 &  0.000000 &  0.000000 &  0.04326529 &  0.001813907 &  0.00000000 &  0.000000 & 0.004381281 &  0.000000 &  0.000000 &  0.000000 &  0.000000 & 0.003116777 & 0.000000 &  0.005802033 &  0.005311706 &  0.00000000 & 0.000000 &  0.0000000 & 0.000000 &  0.007008029 & 0.08327476 &  0.01238961 &  0.003051842 & 0.000000 &  0.0000000 &  0.000000 &  0.000000 & 0.00000000 &  0.003979166 &  0.008775734 &  0.000000 &  0.09644547 &  0.000000 & 0.0000000 &  0.005508714 &  0.00000000 &  0.003162207 &  0.0000000 &  0.0000000 &  0.000000 &  0.000000 &  0.00000000 &  0.01411199 &  0.006391225 &  0.00000000 & 0.0000000 & 0.000000 &  0.005562729 &  0.004608049 &  0.007251664 &  0.00361195 & 0.09477195 &  0.0000000 & 0.000000 &  0.000000 &  0.01538308 &  0.008356311 &  0.000000 &  0.000000 &  0.00000000 &  0.00000000 & 0.000000 &  0.000000 &  0.00000000 &  0.01560467 &  0.004298013 &  0.00000000 & 0.002785108 & 0.000000 &  0.003235223 &  0.00000000 &  0.000000 &  0.002275291 &  0.004868475 &  0.00000000 &  0.000000 & 0.00000000 &  0.000000 &  0.006512585 &  0.008540202 &  0.000000 & 0.000000 &  0.00000000 & 0.00000000 &  0.0186594 & 0.00000000 &  0.00000000 & 0.002005205 &  0.009296043 &  0.000000 & 0.002900878 &  0.00000000 &  0.002651647 &  0.000000 &  0.004439141 &  0.000000 &  0.000000 &  0.006110384 &  0.03312126 &  0.05748513 &  0.00000000 &  0.006056839 &  0.0000000 &  0.004352755 &  0.0000000 &  0.00000000 & 0.000000 &  0.0000000 &  0.000000 & 0.000000 &  0.00000000 &  0.009676908 & 0.00725568 & 0.000000 &  0.006682475 &  0.000000 &  0.000000 &  0.000000 &  0.01328655 & 0.000000 &  0.006864557 &  0.01203933 &  0.000000 &  0.002203436 &  0.0000000 & 0.000000 &  0.00000000 & 0.002059528 &  0.002614427 &  0.000000 &  0.00000000 &  0.000000 &  0.01060273 & 0.000000 & 0.00762226 &  0.0000000 &  0.009535031 &  0.000000 &  0.00000000 &  0.00000000 &  0.000000 &  0.000000 &  0.0000000 &  0.009164754 & 0.000000 &  0.00655877 &  0.00000000 & 0.01509699 &  0.000000 &  0.005877854 &  0.000000 & 0.000000 &  0.000000 &  0.003827897 &  0.00000000 &  0.00000000 & 0.000000 &  0.00000000 &  0.003485391 &  0.00452855 &  0.000000 &  0.00000000 & 0.005488738 &  0.00000000 &  0.007744401 &  0.00000000 & 0.000000 & 0.002059349 &  0.00000000 &  0.02190924 &  0.00266049 &  0.00000000 &  0.05523132 &  0.002922578 &  0.0000000 &  0.007915306 &  0.000000 &  0.01277579 &  0.00500420 &  0.004830839 &  0.002123762 &  0.00000000 &  0.01208043 &  0.000000 & 0.000000 &  0.000000 & 0.03077284 &  0.004527372 & 0.000000 & 0.000000 & 0.002170106 &  0.006382861 & 0.00000000 &  0.2910582 &  0.007474603 &  0.01617464 & 0.000000 &  0.000000 & 0.000000 &  0.00000000 &  0.000000 &  0.00000000 &  0.000000 &  0.000000 & 0.004924814 &  0.007470809 &  0.000000 & 0.006586491 &  0.004298669 & 0.000000 &  0.000000 & 0.000000 & 0.000000 &  0.00000000 &  0.0000000 & 0.005175764 & 0.06563228 &  0.006999711 &  0.000000 & 0.006605541 &  0.0000000 &  0.000000 & 0.000000 &  0.000000 &  0.00000000 &  0.0000000 & 0.00000000 &  0.000000 &  0.00000000 & 0.00000000 & 0.00000000 &  0.000000 & 0.000000 &  0.0000000 & 0.000000 &  0.000000 &  0.004996734 &  0.01536843 &  0.02055725 &  0.004062511 &  0.002438115 &  0.004435587 &  0.000000 &  0.01818188 &  0.00817575 &  0.02144225 &  0.00000000 & 0.000000 & 0.00000000 &  0.01397746 &  0.000000 &  0.0000000 &  0.000000 & 0.00000000 &  0.0000000 &  0.0000000 &  0.000000 & 0.000000 &  0.01866383 &  0.000000 &  0.000000 &  0.000000 &  0.003677135 &  0.0000000 &  0.000000 &  0.03263123 & 0.000000 &  0.005406721 &  0.006880892 &  0.0000000 &  0.01219035 & 0.000000 &  0.005020521 &  0.0000000 &  0.000000 &  0.000000 & 0.01925166 & 0.0000000 &  0.0000000 &  0.000000 &  0.00000000 & 0.000000 &  0.01334616 &  0.000000 &  0.000000 &  0.00000000 &  0.01700987 &  0.000000 &  0.000000 &  0.007639351 &  0.000000 &  0.008935789 &  0.00000000 &  0.000000 &  0.005288984 & 0.000000 &  0.0000000 & 0.000000 &  0.0000000 &  0.01228539 &  0.00000000 &  0.00000000 & 0.006349896 &  0.006339421 & 0.000000 & 0.00000000 &  0.000000 & 0.00000000 &  0.000000 & 0.000000 &  0.000000 & 0.00000000 &  0.000000 &  0.000000 &  0.1835074 & 0.000000 &  0.000000 & 0.000000 & 0.000000 &  0.008227795 &  0.01655766 & 0.000000 &  0.000000 &  0.004748729 & 0.003161272 &  0.000000 &  0.003998296 &  0.000000 & 0.004367857 &  0.000000 &  0.00632498 & 0.01261848 & 0.000000 &  0.00000000 &  0.004679338 & 0.005711374 &  0.005167212 &  0.005216496 &  0.000000 &  0.00000000 &  0.000000 &  0.01212135 & 0.000000 & 0.000000 &  0.000000 &  0.0000000 & 0.000000 &  0.002892291 & 0.000000 &  0.0000000 & 0.00000000 & 0.000000 &  0.000000 &  0.00000000 &  0.000000 & 0.000000 & 0.003126604 &  0.00339889 & 0.009375992 & 0.007892751 & 0.0286532 & 0.03700714 & 0.03035038 & 0.04097167 & 0.009101099 & 0.00000000 & 0.0000000\\\\\n",
       "\tENSG00000167578.15 & 2.7564375 &  4.714069 &  3.29050578 &  4.4886630 & 3.67853575 &  3.907761432 & 3.8932327 &  3.5566587 & 4.431606462 &  4.40462072 & 4.34558331 & 4.37276943 & 4.273068601 & 5.163895912 &  4.39267851 & 4.60906655 & 5.728630158 &  4.848013 & 5.54850269 & 2.867156 & 4.242260573 & 3.33368278 &  3.348215665 &  5.422578859 & 4.135006990 &  3.492700636 & 3.780238439 & 4.044409911 &  2.77027908 & 7.080433933 &  5.24240573 & 3.0260973 & 3.82455129 &  3.859532350 &  3.40384714 & 5.13471770 &  3.70070876 & 4.260021 & 4.33503628 & 3.66732462 & 3.14821831 &  5.82449702 & 4.62896113 &  3.21299510 & 4.68710265 & 6.978893832 & 2.76086184 & 3.18263219 & 3.926334524 & 2.82544471 & 3.9313137 & 4.18863120 &  3.67047306 & 4.341301736 & 3.40655 & 3.523836 & 4.507357 &  4.91041941 &  4.2346735 &  4.1201293 & 2.112074 &  5.22699885 & 5.064524 &  3.80031352 &  4.427486775 &  3.514194218 &  3.771098904 &  5.352491 & 10.874466466 &  2.224847743 & 4.449465 &  2.903005298 &  2.31538660 & 3.03730488 &  3.166621720 & 2.01281161 &  6.06232615 &  3.81731413 &  2.195573 &  2.487390394 &  3.35128624 &  5.58354842 &  2.043595153 &  5.789316 &  2.706488050 &  4.861187347 &  5.06788458 &  2.146716155 &  5.172364255 &  3.24311717 &  7.522422265 &  5.461974097 &  6.985256987 &  3.09412140 &  6.71445584 &  4.6981449 &  2.608934362 &  2.759839026 & 3.3199900 & 2.252779885 & 11.8216007 &  3.346838 &  5.87612978 &  3.867668 &  4.778547 &  4.39070196 &  6.57551954 &  2.856818 &  6.058717 &  5.596246407 &  1.83074344 &  3.0600122 &  4.392632 &  2.617503085 & 5.089686 &  2.63258727 &  2.005349 &  3.24942375 &  5.319136 &  4.71999192 &  2.092019657 &  3.825209 &  4.421390158 & 1.678209566 & 2.194107016 & 2.93496418 &  3.685138 & 1.882266848 &  4.237633314 &  5.14612862 & 3.414913006 &  3.877126 &  6.58537006 &  3.091530983 & 4.68828218 & 2.089034 & 2.76152405 & 2.834518 &  5.83974863 & 2.39949431 &  4.93602334 &  8.506190991 & 4.243276 & 7.930125 &  3.18382064 &  2.21238632 &  5.197304 & 3.39940791 &  3.106209 & 1.630504100 & 2.88229827 &  3.247443010 & 4.41170242 & 5.264792 &  2.99900556 & 0.70762324 &  6.723637751 &  1.84855094 &  4.137747 & 3.47160040 &  5.89465673 & 2.468971 & 3.65775359 & 2.942939 &  4.398309 &  2.875715514 &  3.33559483 & 3.07861685 &  3.825419 & 2.850719 &  5.072825168 &  3.977303 &  3.994982853 &  2.5167173 &  2.645132 &  3.237556840 &  4.630582 & 5.18971687 & 3.63243029 &  3.226049 &  3.90384210 & 3.6211861 &  2.895497 &  4.088411328 & 0.90560223 &  7.8556181 & 2.53183597 & 9.49578665 & 4.647627934 & 7.757735040 &  1.693418 &  5.061761 &  8.97439576 &  3.280761655 &  4.07067280 &  5.919533194 &  2.726783 &  3.390186 &  3.048307 &  2.343094894 &  3.6914049 &  1.742802 &  3.405385 &  3.29899056 &  2.930461572 &  3.61604521 &  3.945664 & 6.890273801 &  3.302245 &  2.440538 &  4.609188 &  1.823187 & 6.927105063 & 5.120064 &  4.057069423 &  3.362118241 &  8.18847931 & 1.765156 &  0.9924681 & 3.569843 &  5.064314338 & 3.81524567 &  2.43960905 &  1.443821064 & 6.392606 &  3.0280839 &  5.817673 &  3.168293 & 3.90686951 &  5.595892603 &  4.351389933 &  6.466853 &  4.98797169 &  4.845268 & 6.0116147 &  2.899714319 &  3.52468487 &  1.639884168 &  4.3607888 & 11.0089911 &  3.495700 &  1.958196 &  2.50279645 &  6.73749720 &  3.115052390 &  2.52542163 & 3.5316165 & 1.614724 &  5.928594468 &  4.240336459 &  2.130081117 &  7.56288084 & 3.97245999 &  3.4853948 & 5.393523 &  2.369620 &  2.38924765 &  4.637591332 &  2.836543 &  2.871457 &  3.90419969 &  4.01863720 & 3.527385 &  4.673304 &  4.03718740 &  2.27155192 &  4.541593972 &  5.22016446 & 2.436167547 & 2.416109 &  9.847841882 &  5.30185878 &  3.230728 &  3.158334602 &  5.283594063 &  2.47496627 &  4.889338 & 3.05301443 &  2.999160 &  3.518427323 &  3.651859408 &  1.823773 & 4.491743 &  4.76411106 & 5.31592231 &  2.9749132 & 3.05593692 &  3.63473128 & 2.246549292 &  4.790615425 &  6.731237 & 2.590216906 &  7.12031600 &  4.845638811 &  4.114870 &  2.140537509 & 12.996114 &  3.497561 &  5.360709958 &  3.50844302 &  1.84918653 &  3.67759069 &  5.140545635 &  4.1251764 &  4.967166988 &  4.6406328 &  4.29503551 & 1.132913 &  3.4964688 &  2.413628 & 6.310329 &  6.61576570 &  2.836175927 & 4.74346913 & 2.201702 &  4.290562839 &  6.201552 &  3.643510 &  3.231620 &  6.54487498 & 5.047545 &  2.739055885 &  3.42685918 &  3.747139 &  4.479062884 &  3.2121415 & 2.294268 &  3.67455909 & 2.106650347 &  4.414033672 &  1.631150 &  6.28019201 &  7.051707 &  4.48328356 & 3.553873 & 2.28847270 &  4.1364973 &  4.895185910 &  3.936153 &  2.84550059 &  4.32065245 &  4.947763 &  4.558791 &  7.4667946 &  4.800382856 & 4.030403 &  4.65441443 &  3.29122931 & 3.65947963 &  3.625490 &  2.601273004 &  4.805763 & 5.419683 &  4.914524 &  2.646804487 &  2.37754799 &  0.92798820 & 2.170354 &  3.27636964 &  4.339772996 &  3.66099845 &  3.431153 &  2.58680880 & 3.477739908 &  4.10910293 &  5.883317997 &  7.25569484 & 2.796189 & 3.262749383 &  3.71428281 &  2.29230925 &  5.85767120 &  2.46864056 &  5.16255809 &  2.484241605 &  4.2875827 &  2.993716862 &  3.462242 &  3.17985022 &  3.56422555 &  1.262026813 &  2.671967685 &  4.59157722 &  3.57987080 &  3.362187 & 4.628645 &  4.046131 & 4.51289249 &  5.137010261 & 4.706786 & 5.626232 & 3.023609303 &  6.234395361 & 5.26030952 &  2.0938151 &  3.445549461 &  3.16178508 & 4.644685 &  4.305949 & 6.084688 &  4.47652349 &  2.144795 &  1.98449414 & 10.871583 &  4.194652 & 2.086687726 &  7.515512620 &  5.524107 & 5.281888920 &  4.503176890 & 3.219144 &  2.160897 & 4.315204 & 6.066374 &  4.07469112 &  4.0027454 & 3.033898495 & 8.19918429 &  8.224292296 &  2.055132 & 2.403900281 &  2.6015532 &  7.410933 & 2.946055 & 10.344096 &  4.55029090 &  4.1092773 & 4.82621835 &  4.104807 &  4.36618774 & 6.58611970 & 3.20535989 &  2.945541 & 6.796508 &  3.7648522 & 2.544793 &  2.501696 &  1.805431595 &  4.64410817 &  5.19233015 &  3.907295665 &  5.406089441 &  1.510436263 &  8.675537 &  3.85191145 &  2.45996319 &  3.79946517 &  3.83039535 & 4.019439 & 5.70327547 &  2.14368082 &  5.308441 &  6.2634244 &  6.700812 & 3.22355085 &  4.0432461 &  6.1371946 &  2.754947 & 4.760566 &  2.50461481 &  2.803673 &  3.150509 &  3.583154 &  8.855947330 &  7.6552147 &  1.908284 &  2.87626930 & 4.317424 & 10.818415526 &  2.021171586 &  3.6149647 &  4.83771792 & 5.603055 &  5.461655087 &  3.4014695 &  5.906459 &  2.057613 & 2.65230849 & 5.1448883 &  8.3912935 &  4.372388 &  2.59142712 & 2.953318 &  2.41980595 &  2.227219 &  4.988816 &  2.36442931 &  1.24910610 &  2.701879 &  4.038230 &  2.248923400 &  1.416386 &  2.504758826 &  3.15324279 &  2.437625 &  5.774329102 & 2.381957 &  4.7447577 & 2.837305 &  5.8484950 &  2.76771326 &  3.40272988 &  2.46622409 & 6.198070831 &  4.317485528 & 4.187781 & 4.53440160 &  4.840728 & 2.18895531 &  3.006604 & 3.372389 &  2.836682 & 6.68062968 &  4.453958 &  5.857539 &  3.4140774 & 5.271575 &  5.810779 & 4.434064 & 7.988543 &  4.801531796 &  2.23094149 & 1.803564 &  2.374251 &  3.551998100 & 3.241819469 &  3.107315 &  6.002151390 &  4.039225 & 3.721269063 &  5.888672 &  1.22488529 & 4.51341617 & 3.957672 &  3.54130774 &  1.088648013 & 2.998968741 &  3.129624528 &  4.596831137 &  6.004731 &  4.49567563 &  3.989388 &  3.78892675 & 4.068486 & 3.549393 &  2.635078 &  5.5643503 & 1.266062 &  2.417146772 & 4.514213 &  6.2780069 & 3.15450450 & 5.876521 &  2.770514 &  2.82145008 &  5.129061 & 4.449557 & 4.169367609 &  4.25415609 & 1.029731361 & 0.989932863 & 1.0204076 & 0.88639469 & 0.78894022 & 0.98515689 & 1.585070749 & 1.26511743 & 2.1707669\\\\\n",
       "\tENSG00000273842.1 & 0.0000000 &  0.000000 &  0.00000000 &  0.0000000 & 0.00000000 &  0.000000000 & 0.0000000 &  0.0000000 & 0.000000000 &  0.00000000 & 0.00000000 & 0.00000000 & 0.000000000 & 0.000000000 &  0.00000000 & 0.00000000 & 0.000000000 &  0.000000 & 0.00000000 & 0.000000 & 0.000000000 & 0.00000000 &  0.000000000 &  0.000000000 & 0.000000000 &  0.000000000 & 0.000000000 & 0.000000000 &  0.00000000 & 0.000000000 &  0.00000000 & 0.0000000 & 0.00000000 &  0.000000000 &  0.00000000 & 0.00000000 &  0.00000000 & 0.000000 & 0.00000000 & 0.00000000 & 0.00000000 &  0.00000000 & 0.00000000 &  0.00000000 & 0.00000000 & 0.000000000 & 0.00000000 & 0.00000000 & 0.000000000 & 0.00000000 & 0.0000000 & 0.00000000 &  0.00000000 & 0.000000000 & 0.00000 & 0.000000 & 0.000000 &  0.00000000 &  0.0000000 &  0.0000000 & 0.000000 &  0.00000000 & 0.000000 &  0.00000000 &  0.000000000 &  0.000000000 &  0.000000000 &  0.000000 &  0.000000000 &  0.000000000 & 0.000000 &  0.000000000 &  0.00000000 & 0.00000000 &  0.000000000 & 0.00000000 &  0.00000000 &  0.00000000 &  0.000000 &  0.000000000 &  0.00000000 &  0.00000000 &  0.000000000 &  0.000000 &  0.000000000 &  0.000000000 &  0.00000000 &  0.000000000 &  0.000000000 &  0.00000000 &  0.000000000 &  0.000000000 &  0.000000000 &  0.00000000 &  0.00000000 &  0.0000000 &  0.000000000 &  0.000000000 & 0.0000000 & 0.000000000 &  0.0000000 &  0.000000 &  0.00000000 &  0.000000 &  0.000000 &  0.00000000 &  0.00000000 &  0.000000 &  0.000000 &  0.000000000 &  0.00000000 &  0.0000000 &  0.000000 &  0.000000000 & 0.000000 &  0.00000000 &  0.000000 &  0.00000000 &  0.000000 &  0.00000000 &  0.000000000 &  0.000000 &  0.000000000 & 0.000000000 & 0.000000000 & 0.00000000 &  0.000000 & 0.000000000 &  0.000000000 &  0.00000000 & 0.000000000 &  0.000000 &  0.00000000 &  0.000000000 & 0.00000000 & 0.000000 & 0.00000000 & 0.000000 &  0.00000000 & 0.00000000 &  0.00000000 &  0.000000000 & 0.000000 & 0.000000 &  0.00000000 &  0.00000000 &  0.000000 & 0.00000000 &  0.000000 & 0.000000000 & 0.00000000 &  0.000000000 & 0.00000000 & 0.000000 &  0.00000000 & 0.00000000 &  0.000000000 &  0.00000000 &  0.000000 & 0.00000000 &  0.00000000 & 0.000000 & 0.00000000 & 0.000000 &  0.000000 &  0.000000000 &  0.00000000 & 0.00000000 &  0.000000 & 0.000000 &  0.000000000 &  0.000000 &  0.000000000 &  0.0000000 &  0.000000 &  0.000000000 &  0.000000 & 0.00000000 & 0.00000000 &  0.000000 &  0.00000000 & 0.0000000 &  0.000000 &  0.000000000 & 0.00000000 &  0.0000000 & 0.00000000 & 0.00000000 & 0.000000000 & 0.000000000 &  0.000000 &  0.000000 &  0.00000000 &  0.000000000 &  0.00000000 &  0.000000000 &  0.000000 &  0.000000 &  0.000000 &  0.000000000 &  0.0000000 &  0.000000 &  0.000000 &  0.00000000 &  0.000000000 &  0.00000000 &  0.000000 & 0.000000000 &  0.000000 &  0.000000 &  0.000000 &  0.000000 & 0.000000000 & 0.000000 &  0.000000000 &  0.000000000 &  0.00000000 & 0.000000 &  0.0000000 & 0.000000 &  0.000000000 & 0.00000000 &  0.00000000 &  0.000000000 & 0.000000 &  0.0000000 &  0.000000 &  0.000000 & 0.00000000 &  0.000000000 &  0.000000000 &  0.000000 &  0.00000000 &  0.000000 & 0.0000000 &  0.000000000 &  0.00000000 &  0.000000000 &  0.0000000 &  0.0000000 &  0.000000 &  0.000000 &  0.00000000 &  0.00000000 &  0.000000000 &  0.00000000 & 0.0000000 & 0.000000 &  0.000000000 &  0.000000000 &  0.000000000 &  0.00000000 & 0.00000000 &  0.0000000 & 0.000000 &  0.000000 &  0.00000000 &  0.000000000 &  0.000000 &  0.000000 &  0.00000000 &  0.00000000 & 0.000000 &  0.000000 &  0.00000000 &  0.00000000 &  0.000000000 &  0.00000000 & 0.000000000 & 0.000000 &  0.000000000 &  0.00000000 &  0.000000 &  0.000000000 &  0.000000000 &  0.00000000 &  0.000000 & 0.00000000 &  0.000000 &  0.000000000 &  0.000000000 &  0.000000 & 0.000000 &  0.00000000 & 0.00000000 &  0.0000000 & 0.00000000 &  0.00000000 & 0.000000000 &  0.000000000 &  0.000000 & 0.000000000 &  0.00000000 &  0.000000000 &  0.000000 &  0.000000000 &  0.000000 &  0.000000 &  0.000000000 &  0.00000000 &  0.00000000 &  0.00000000 &  0.000000000 &  0.0000000 &  0.000000000 &  0.0000000 &  0.00000000 & 0.000000 &  0.0000000 &  0.000000 & 0.000000 &  0.00000000 &  0.000000000 & 0.00000000 & 0.000000 &  0.000000000 &  0.000000 &  0.000000 &  0.000000 &  0.00000000 & 0.000000 &  0.000000000 &  0.00000000 &  0.000000 &  0.000000000 &  0.0000000 & 0.000000 &  0.00000000 & 0.000000000 &  0.000000000 &  0.000000 &  0.00000000 &  0.000000 &  0.00000000 & 0.000000 & 0.00000000 &  0.0000000 &  0.000000000 &  0.000000 &  0.00000000 &  0.00000000 &  0.000000 &  0.000000 &  0.0000000 &  0.000000000 & 0.000000 &  0.00000000 &  0.00000000 & 0.00000000 &  0.000000 &  0.000000000 &  0.000000 & 0.000000 &  0.000000 &  0.000000000 &  0.00000000 &  0.00000000 & 0.000000 &  0.00000000 &  0.000000000 &  0.00000000 &  0.000000 &  0.00000000 & 0.000000000 &  0.00000000 &  0.000000000 &  0.00000000 & 0.000000 & 0.000000000 &  0.00000000 &  0.00000000 &  0.00000000 &  0.00000000 &  0.00000000 &  0.000000000 &  0.0000000 &  0.000000000 &  0.000000 &  0.00000000 &  0.00000000 &  0.000000000 &  0.000000000 &  0.00000000 &  0.00000000 &  0.000000 & 0.000000 &  0.000000 & 0.00000000 &  0.000000000 & 0.000000 & 0.000000 & 0.000000000 &  0.000000000 & 0.00000000 &  0.0000000 &  0.000000000 &  0.00000000 & 0.000000 &  0.000000 & 0.000000 &  0.00000000 &  0.000000 &  0.00000000 &  0.000000 &  0.000000 & 0.000000000 &  0.000000000 &  0.000000 & 0.000000000 &  0.000000000 & 0.000000 &  0.000000 & 0.000000 & 0.000000 &  0.00000000 &  0.0000000 & 0.000000000 & 0.00000000 &  0.000000000 &  0.000000 & 0.000000000 &  0.0000000 &  0.000000 & 0.000000 &  0.000000 &  0.00000000 &  0.0000000 & 0.00000000 &  0.000000 &  0.00000000 & 0.00000000 & 0.00000000 &  0.000000 & 0.000000 &  0.0000000 & 0.000000 &  0.000000 &  0.000000000 &  0.00000000 &  0.00000000 &  0.000000000 &  0.000000000 &  0.000000000 &  0.000000 &  0.00000000 &  0.00000000 &  0.00000000 &  0.00000000 & 0.000000 & 0.00000000 &  0.00000000 &  0.000000 &  0.0000000 &  0.000000 & 0.00000000 &  0.0000000 &  0.0000000 &  0.000000 & 0.000000 &  0.00000000 &  0.000000 &  0.000000 &  0.000000 &  0.000000000 &  0.0000000 &  0.000000 &  0.00000000 & 0.000000 &  0.000000000 &  0.000000000 &  0.0000000 &  0.00000000 & 0.000000 &  0.000000000 &  0.0000000 &  0.000000 &  0.000000 & 0.00000000 & 0.0000000 &  0.0000000 &  0.000000 &  0.00000000 & 0.000000 &  0.00000000 &  0.000000 &  0.000000 &  0.00000000 &  0.00000000 &  0.000000 &  0.000000 &  0.000000000 &  0.000000 &  0.000000000 &  0.00000000 &  0.000000 &  0.000000000 & 0.000000 &  0.0000000 & 0.000000 &  0.0000000 &  0.00000000 &  0.00000000 &  0.00000000 & 0.000000000 &  0.000000000 & 0.000000 & 0.00000000 &  0.000000 & 0.00000000 &  0.000000 & 0.000000 &  0.000000 & 0.00000000 &  0.000000 &  0.000000 &  0.0000000 & 0.000000 &  0.000000 & 0.000000 & 0.000000 &  0.000000000 &  0.00000000 & 0.000000 &  0.000000 &  0.000000000 & 0.000000000 &  0.000000 &  0.000000000 &  0.000000 & 0.000000000 &  0.000000 &  0.00000000 & 0.00000000 & 0.000000 &  0.00000000 &  0.000000000 & 0.000000000 &  0.000000000 &  0.000000000 &  0.000000 &  0.00000000 &  0.000000 &  0.00000000 & 0.000000 & 0.000000 &  0.000000 &  0.0000000 & 0.000000 &  0.000000000 & 0.000000 &  0.0000000 & 0.00000000 & 0.000000 &  0.000000 &  0.00000000 &  0.000000 & 0.000000 & 0.000000000 &  0.00000000 & 0.000000000 & 0.000000000 & 0.0000000 & 0.00000000 & 0.00000000 & 0.00000000 & 0.000000000 & 0.00000000 & 0.0000000\\\\\n",
       "\tENSG00000078237.5 & 4.7840732 &  4.404867 &  3.84848095 &  2.8945932 & 3.25154379 &  4.608304089 & 3.8811196 &  3.7704388 & 4.617197390 &  2.35620945 & 3.50235424 & 5.10986276 & 4.452020134 & 3.809937396 &  4.94069002 & 3.67752596 & 4.839060759 &  2.310935 & 4.48188192 & 3.699462 & 4.039385346 & 3.98362429 &  2.656169047 &  3.736736049 & 5.313005209 &  4.640187219 & 3.500479117 & 3.963258257 &  3.59889446 & 7.209731199 &  3.16218277 & 3.7092082 & 4.66894314 &  5.220660797 &  4.49175418 & 5.14399440 &  3.32895681 & 4.537688 & 4.15664491 & 6.54049587 & 4.52228271 &  3.98393043 & 3.58392827 &  3.39985739 & 3.97607719 & 8.528675105 & 3.74860917 & 3.74070990 & 3.975905707 & 6.30808138 & 4.9294838 & 5.78326713 &  2.33321027 & 2.884118403 & 4.00554 & 3.737950 & 4.839706 &  3.91647184 &  2.0814073 &  3.0132708 & 4.615084 &  2.70269311 & 3.225672 &  4.48502452 &  2.058974834 &  4.637458869 &  4.244320894 &  6.231372 &  3.554180584 &  2.930391683 & 3.311288 &  7.565898034 &  6.91326212 & 4.97000761 &  5.627603830 & 2.50778926 &  2.62517473 &  1.97854620 &  3.181588 &  3.759775640 &  6.69423744 &  3.22530304 &  4.826403272 &  3.382161 &  2.540058328 &  1.801446127 &  3.10867612 &  5.227553222 &  2.941557319 &  6.89835967 &  2.508399406 &  2.464329590 &  3.447904251 &  6.55712666 &  2.49439710 &  3.3947842 &  6.119156517 &  5.660139653 & 2.6543696 & 3.994055363 &  5.3945549 &  2.617240 &  4.53497467 &  3.302068 &  2.958933 &  3.21121985 &  4.73186835 &  5.689921 &  6.465995 &  2.839088465 &  0.92916259 &  6.4061654 &  4.696793 &  5.066563608 & 4.658567 &  2.32256376 &  6.320420 &  6.42561597 &  2.927222 &  5.25355683 &  2.601355053 &  7.269828 &  3.383679570 & 4.079184712 & 4.614850118 & 2.63532886 &  6.797925 & 8.059856767 &  7.453327475 &  2.91454857 & 4.357459813 &  5.205145 &  7.69202704 &  3.122398916 & 5.58694506 & 4.790082 & 5.46620632 & 4.024311 &  2.69039625 & 8.22682826 &  3.14861553 &  2.587455127 & 4.222213 & 2.246955 &  1.77391906 &  1.78869592 &  4.630634 & 6.78591508 &  4.184426 & 3.450662850 & 4.29516458 &  3.387404319 & 3.55586160 & 2.755619 &  5.35697024 & 6.66367572 &  4.010259981 &  4.60927866 &  3.963769 & 3.72336928 &  4.42701135 & 4.059616 & 5.59213491 & 3.572438 &  4.357442 &  3.499810107 &  3.57882427 & 5.44008462 &  5.645000 & 7.239206 &  4.586708229 &  6.409351 &  2.304004277 &  5.0991123 &  3.586316 &  4.780831537 &  7.253628 & 2.71623586 & 5.64024881 &  4.572009 &  5.01551659 & 4.3518734 &  2.908720 &  5.195717571 & 5.52759554 &  4.2837787 & 3.80461521 & 1.96552580 & 5.759953045 & 8.953309480 &  3.456810 &  4.053658 &  4.47335730 &  5.639958121 &  5.15671911 &  4.743061910 &  5.131950 &  5.551470 &  3.810762 &  9.709402486 &  1.3795424 &  9.012599 &  3.733112 &  2.92241340 &  8.222478419 &  3.77443523 & 13.021190 & 5.866172920 &  4.441219 &  3.776086 &  4.436113 &  2.805587 & 2.917481180 & 6.087908 &  3.957878677 &  6.239801292 &  4.27983727 & 4.769496 &  5.1965366 & 8.215149 &  2.823254878 & 2.11437450 &  4.95982114 &  9.603259116 & 3.370055 &  3.2102037 &  2.293672 &  2.835680 & 3.39207085 &  4.600341598 &  4.760896738 &  2.455051 &  3.86703715 &  7.559059 & 3.6006031 &  3.538663266 &  5.83014961 &  5.684497264 &  2.6078269 &  4.2089248 &  4.921041 &  2.772015 &  2.75323662 &  2.81072901 &  4.132612814 &  4.09728799 & 4.1682026 & 5.359560 &  3.182598545 &  4.570797108 &  4.463941214 &  4.35921727 & 3.85006730 &  2.6603365 & 6.338286 &  1.802484 &  3.58033141 &  5.601277049 &  7.644086 &  7.355899 &  4.57323206 &  5.91356911 & 5.264797 &  6.586953 &  1.82613260 & 15.27601717 &  4.314194493 &  4.32630176 & 4.780323766 & 2.097744 &  6.489329019 &  3.71186582 &  5.531873 &  3.169669555 &  2.950212252 &  6.34865131 &  4.409135 & 3.25316394 &  9.083035 &  4.126569415 &  3.267035535 &  6.815756 & 4.188146 &  3.72964296 & 7.04721528 &  4.4639529 & 2.12900426 &  6.18106954 & 4.921573281 &  2.163605529 &  2.679436 & 4.944656588 &  3.62262560 &  2.930934867 &  3.967479 &  2.892923370 &  3.151452 &  5.025476 &  3.495928207 &  4.81029127 &  8.33169515 &  3.03753405 &  2.973180688 &  2.7337525 &  2.895569961 &  3.8560648 &  6.53201529 & 9.950534 &  6.0648233 &  8.194295 & 4.139943 &  6.36367745 &  8.149049821 & 5.18284013 & 2.201461 &  4.671589110 &  6.729272 &  3.957647 &  3.567926 &  3.46345966 & 8.245752 &  1.835890913 &  8.05643385 &  2.367140 &  2.532488331 &  5.2575162 & 6.055434 & 10.52822562 & 4.012548715 &  3.668666964 &  2.177657 &  3.08656944 &  3.729883 &  4.06203286 & 5.474775 & 3.78032070 &  4.8490640 &  4.301268717 &  3.098167 &  3.61218465 &  4.28590454 &  1.964547 &  5.865550 &  3.4014124 &  2.838894067 & 4.890085 &  6.21709784 &  8.69512268 & 4.20371891 &  4.665021 &  2.367952805 &  2.965959 & 2.445592 &  3.123253 &  5.377935508 &  3.62815683 &  8.39536958 & 5.384432 & 15.25331492 &  4.684349324 &  9.42847686 &  1.979440 &  1.76499561 & 4.440967994 &  4.05564089 &  2.831514736 &  4.96910441 & 7.590103 & 5.877123927 &  4.17578133 &  2.12314710 &  3.57568584 &  3.00112748 &  2.97608127 &  4.897546237 &  2.8093484 &  6.645484946 &  4.768187 &  5.27660981 &  4.25221882 &  4.947151006 &  2.832757051 &  3.09063022 &  4.19192626 &  3.381053 & 3.832664 &  3.976351 & 4.37546408 &  5.870190926 & 5.774898 & 1.644592 & 5.208760465 &  3.792274268 & 4.00003085 &  3.1164312 &  3.618523655 &  4.95553277 & 2.635837 &  3.296886 & 3.574044 &  4.25879021 &  4.542676 &  2.32335139 &  2.340068 & 10.157993 & 4.368158777 &  3.477583841 &  3.770391 & 4.559893245 &  4.016523482 & 4.319842 &  2.962006 & 7.942949 & 5.798815 &  5.79493342 &  0.7555029 & 5.716527384 & 4.58103787 &  2.819904050 &  2.669206 & 4.807885763 &  5.5593954 &  3.341645 & 5.859826 &  2.699778 &  2.60406153 &  4.1585662 & 3.24728303 &  4.525065 &  4.29140241 & 5.16049667 & 5.00096207 &  4.610763 & 4.425712 &  4.1320903 & 9.174949 &  6.180831 &  3.670736747 &  3.17370436 &  4.33803063 &  2.785010563 &  2.909514891 &  3.337337631 &  3.742715 &  5.92956101 &  5.77086528 &  2.80681903 &  5.85936018 & 3.307892 & 9.43020672 &  3.83283742 &  3.203790 &  3.0536344 &  3.280411 & 4.39453887 &  4.9172496 &  3.1996769 &  5.348892 & 5.194152 &  2.21144525 &  3.716142 &  5.512880 &  3.128727 &  1.923292565 &  3.0499262 &  3.198320 &  6.49758938 & 2.841907 &  5.843487701 &  3.284514027 &  3.9528298 &  2.99200002 & 4.362732 &  2.702422200 &  1.5827474 &  4.598819 &  2.679730 & 3.88872480 & 5.1807513 &  7.6635121 &  5.086974 &  3.43346664 & 7.867045 &  4.49558979 &  5.352377 &  8.057209 &  6.95499633 &  4.26127797 &  4.211401 &  3.511467 &  6.187506478 &  3.578979 &  3.710792899 &  7.40326869 &  4.755163 &  3.733237064 & 3.497798 &  3.4938867 & 7.772578 &  2.4786808 &  5.54542716 &  3.71567643 &  2.93084383 & 4.116637630 &  5.397527407 & 7.298283 & 3.83424323 &  3.568067 & 7.06994188 &  6.226519 & 3.372449 &  3.962217 & 5.86544526 &  5.938464 &  6.227905 &  1.9258508 & 3.414882 &  3.199304 & 9.145100 & 7.816900 &  5.410678870 &  6.59568279 & 8.663033 &  5.944506 &  3.930642301 & 8.417203229 &  3.601871 &  5.610567081 &  4.715833 & 4.206858557 &  3.408491 &  2.94421222 & 4.86561720 & 2.890164 &  3.81729123 &  7.770173712 & 5.056145119 &  3.411129402 &  4.291334750 &  4.599068 &  8.36026290 &  5.366262 &  6.05784703 & 5.216598 & 8.476805 &  3.906669 &  2.5519872 & 8.917552 &  4.915333954 & 2.582524 &  3.7471226 & 2.65907101 & 3.113884 &  6.956088 &  5.99430213 &  3.179917 & 3.542117 & 2.704400422 &  5.04561367 & 5.586466023 & 3.366714093 & 3.4823693 & 2.97100093 & 5.64255154 & 8.47254071 & 4.906598905 & 5.42921883 & 4.1791844\\\\\n",
       "\tENSG00000146083.10 & 7.3599545 & 10.856777 & 10.54545271 & 12.2772744 & 9.53613948 & 13.847745102 & 7.7106042 & 11.1441717 & 9.473501088 & 10.12973738 & 9.83705605 & 7.65188491 & 5.047149961 & 7.624101859 & 11.43243839 & 9.57343794 & 9.696390208 & 11.453711 & 6.90997758 & 9.356186 & 9.385098442 & 7.92071434 & 11.176653301 & 10.735745919 & 7.678240334 & 10.366302366 & 7.451075378 & 3.301286954 & 10.68935048 & 6.992011150 & 11.95037763 & 9.4101499 & 9.34157170 & 11.086281959 & 11.93941407 & 4.86682632 & 11.62446866 & 3.659029 & 7.55308203 & 5.54001714 & 7.34124996 & 13.43666955 & 9.64766467 & 11.29092578 & 4.89742002 & 7.846838646 & 8.49882985 & 8.99905708 & 9.839008542 & 7.32532621 & 8.5686716 & 9.49923112 & 10.43198940 & 9.586247603 & 9.91821 & 8.644250 & 8.120048 & 12.13380685 & 13.1019127 & 11.1469679 & 5.030295 & 12.02067125 & 8.500264 & 13.31214180 & 15.858637053 & 14.266291707 & 15.845791266 & 12.434623 & 14.470785890 & 13.527309680 & 8.811197 & 21.969779970 & 12.32291283 & 8.76781399 & 16.728910339 & 7.63508993 & 25.20095726 & 14.97136923 & 12.727411 & 13.989410055 & 14.44792721 & 14.94263804 & 10.926379331 & 20.032203 & 12.733269180 & 12.569435329 & 22.24496955 & 13.480337537 & 11.926617978 & 26.91155986 & 15.306158421 & 12.936225423 & 12.420878017 & 17.57543958 & 12.26658512 & 22.6670570 & 14.261975537 & 12.966926759 & 8.4063132 & 4.640413501 & 14.6557413 & 12.835910 & 18.48053114 & 14.617212 & 16.227334 & 11.22844829 & 13.27075472 & 11.952881 & 12.756923 & 16.883433000 & 10.69778265 & 13.5678549 & 18.300939 & 10.657585854 & 9.476092 & 10.88139338 & 11.102053 & 11.18903902 & 10.495509 & 11.83346683 & 15.867582181 & 14.453598 & 10.973663307 & 9.305967395 & 9.477600317 & 9.02730781 & 15.626810 & 8.771927889 & 21.681763399 & 15.71697467 & 8.401819462 & 19.878460 & 18.71704933 & 11.839481406 & 8.90463316 & 7.961115 & 9.41197661 & 7.130155 & 10.49179052 & 9.18179197 & 13.85043924 & 13.422361194 & 7.367044 & 7.424530 & 34.98150636 & 19.76566753 & 13.437021 & 8.77474223 & 14.813793 & 7.252597165 & 8.28457912 & 18.536457693 & 6.23055863 & 9.419980 & 18.13338890 & 2.15815470 & 11.828193045 & 10.75267545 & 12.868529 & 5.73616205 & 20.67879255 & 9.246771 & 9.10193185 & 9.705393 & 10.289851 & 18.161334825 & 12.29216221 & 8.20615360 & 31.988041 & 9.214442 & 15.977226649 & 14.387725 & 10.864781217 & 14.0421038 & 20.179647 & 13.853282638 & 11.795150 & 7.28762888 & 9.36737583 & 27.888000 & 18.46503518 & 8.5582060 & 16.672856 & 14.064342638 & 4.36391434 & 17.0757335 & 9.17068917 & 7.65991628 & 9.740798954 & 6.555600190 & 13.003360 & 20.138556 & 13.52437413 & 12.870717793 & 14.13169054 & 10.151207660 & 15.948508 & 11.478670 & 20.560490 & 13.021105333 & 17.2324729 & 12.105852 & 14.405988 & 28.44561078 & 13.289643102 & 20.11176083 & 11.476809 & 9.957845107 & 12.228070 & 19.631187 & 15.308118 & 17.469074 & 8.492741313 & 8.021077 & 22.948653286 & 24.774136898 & 14.86016467 & 9.302535 & 12.5142462 & 9.865930 & 16.935335508 & 8.91194222 & 10.20970654 & 22.450462352 & 9.947348 & 13.3633434 & 12.079776 & 13.021238 & 6.83994062 & 17.476264303 & 18.465970339 & 26.635686 & 14.50670909 & 21.573360 & 7.3434758 & 16.833168620 & 10.96478512 & 14.385663370 & 22.2190757 & 14.4016142 & 16.011686 & 12.199570 & 10.87988268 & 13.91912683 & 10.076960395 & 16.75507479 & 7.1840782 & 4.890489 & 14.101486143 & 11.193958960 & 11.298114590 & 13.25765565 & 9.10348612 & 14.5129869 & 4.960669 & 14.738551 & 18.12814147 & 13.432144057 & 13.049457 & 16.369529 & 13.34339876 & 11.65410366 & 7.594679 & 19.324933 & 12.52319805 &  9.28281132 & 17.703146291 & 23.69565339 & 8.777451848 & 7.187746 & 14.907945396 & 19.09492043 & 15.914877 & 15.600344667 & 16.729764256 & 11.03879764 & 11.625526 & 8.89370247 & 14.023113 & 15.898997715 & 12.106349109 & 10.831236 & 8.482345 & 13.15365966 & 7.36521950 & 11.2180757 & 9.43484780 & 19.60339382 & 5.668727113 & 10.690160159 & 13.470857 & 7.726114191 & 13.46501766 & 10.917111058 & 25.768955 & 17.132631392 &  7.124525 & 11.222008 & 11.501334812 & 16.62176085 & 12.40788852 & 10.51069393 & 16.832510126 & 17.8004541 & 18.727462367 & 15.5850663 & 16.76632450 & 8.507793 & 10.7065166 & 16.609420 & 9.212165 & 10.74855308 & 13.761454118 & 7.51237706 & 6.247212 & 14.716806701 & 18.981811 & 10.915454 & 13.304377 & 14.17402310 & 4.545905 & 12.377859307 & 14.50697868 & 14.328584 & 19.065873664 & 18.1952040 & 8.791360 &  9.11626081 & 9.633700373 & 12.439669566 & 18.818228 & 19.79333348 & 14.208330 & 12.89255263 & 6.162867 & 8.70334283 & 19.0210826 & 12.495087387 & 20.411936 & 12.37587125 & 11.32909060 & 12.717058 & 14.622048 & 14.5486023 & 18.522281816 & 4.648505 & 24.51866979 & 12.46045959 & 9.67688806 & 15.860682 & 12.174268912 & 16.351953 & 5.263550 & 24.614281 & 15.292666410 & 10.18007882 & 16.18659561 & 9.006308 & 18.08316330 & 18.360965127 & 14.35799870 & 15.965876 & 19.58126733 & 8.229755607 & 14.12276072 & 11.489347685 & 14.89608180 & 4.785966 & 9.660790513 & 15.23656895 & 17.18782535 & 13.48384220 & 14.54379852 & 13.02825369 & 10.545005096 & 11.2535250 & 12.487116092 & 16.152064 & 10.66943253 & 11.39624486 & 11.468753804 & 11.506655354 & 15.97920193 & 16.37675905 & 10.825032 & 8.330157 & 13.300046 & 9.31990231 & 16.032407565 & 8.332877 & 7.517736 & 9.676157730 & 12.135386464 & 2.81043525 & 14.6009393 & 11.325597240 & 13.13428829 & 9.733809 & 18.195588 & 7.972194 & 17.03532302 & 13.312359 & 10.90837245 &  3.938851 & 10.640991 & 9.354377615 & 14.892761176 & 10.433463 & 9.706008952 & 11.573311489 & 8.263941 & 11.063269 & 5.627184 & 5.507459 & 15.85278628 & 11.3945949 & 6.939283637 & 9.36457888 & 14.659237959 & 19.584748 & 6.640674415 & 14.3620778 & 14.633162 & 7.316668 & 10.440776 & 24.05999863 & 19.1512749 & 9.13337102 & 15.197940 & 12.20110895 & 7.70615438 & 7.72025066 & 14.553350 & 6.557250 & 15.7178839 & 7.646984 & 10.661934 & 11.961983713 & 23.84563564 & 14.47156721 & 15.565192345 & 16.963608557 & 34.532570098 & 11.521005 & 15.37460923 & 10.72491872 & 14.44840620 & 14.71983882 & 6.715997 & 5.18575384 & 14.12340451 & 14.679785 & 16.8530768 & 14.741341 & 9.56325964 & 21.9668097 & 15.2981376 & 13.031806 & 9.492590 & 13.09367597 & 11.248178 & 11.564781 & 12.830937 & 10.784237278 & 13.3628320 & 12.730433 & 23.09368784 & 3.207992 & 11.574830680 & 15.831844491 & 12.5687536 & 14.82672420 & 5.677423 & 18.042010401 & 14.4857905 & 18.364251 & 12.034413 & 9.38114653 & 4.0644652 & 10.7813109 & 18.864537 & 12.89658768 & 4.684553 & 16.13797753 & 17.224566 & 10.746532 & 11.16827377 & 10.80304521 & 11.467628 & 17.204660 & 34.010857541 & 11.977844 & 15.044899463 & 10.69116549 & 31.935259 & 10.887652738 & 6.894919 & 11.9173877 & 7.665855 & 11.5699918 & 17.37840122 & 11.42930512 & 12.66762689 & 7.445700411 & 13.399638870 & 9.745013 & 9.98405217 & 19.512975 & 8.39663250 & 19.882258 & 9.927662 & 11.648129 & 7.20116508 & 14.915613 & 11.782377 & 26.0229760 & 7.188392 & 12.200565 & 8.367373 & 6.029224 & 14.947565399 & 16.95259711 & 6.582902 & 10.331405 & 22.277171650 & 6.067514189 & 11.166268 & 11.979162293 & 10.855335 & 6.487911594 & 15.640224 & 16.42262473 & 7.71174446 & 9.783979 & 15.66335841 & 22.966947537 & 8.411251946 & 12.033754921 & 13.171910643 & 17.138899 & 11.20958251 & 16.225011 & 10.37219638 & 4.094425 & 9.704615 & 14.335295 & 16.4789582 & 9.067037 & 13.100225116 & 8.425633 & 20.0818560 & 9.96985318 & 8.164417 & 19.252270 & 11.90841238 & 12.398784 & 9.339271 & 9.443832737 & 13.64943491 & 3.822898401 & 2.094283725 & 3.9840835 & 3.79017801 & 2.51978470 & 5.55614940 & 4.558296822 & 4.08720211 & 4.1432406\\\\\n",
       "\\end{tabular}\n"
      ],
      "text/markdown": [
       "\n",
       "A data.frame: 6 × 568\n",
       "\n",
       "| <!--/--> | TCGA-44-6147-11A-01R-1858-07 &lt;dbl&gt; | TCGA-49-6761-11A-01R-1949-07 &lt;dbl&gt; | TCGA-50-5936-11A-01R-1628-07 &lt;dbl&gt; | TCGA-44-5645-11A-01R-1628-07 &lt;dbl&gt; | TCGA-91-6835-11A-01R-1858-07 &lt;dbl&gt; | TCGA-55-6982-11A-01R-1949-07 &lt;dbl&gt; | TCGA-91-6828-11A-01R-1858-07 &lt;dbl&gt; | TCGA-44-6778-11A-01R-1858-07 &lt;dbl&gt; | TCGA-55-6978-11A-01R-1949-07 &lt;dbl&gt; | TCGA-44-2662-11A-01R-1758-07 &lt;dbl&gt; | ⋯ ⋯ | TCGA-44-7672-01A-11R-2066-07 &lt;dbl&gt; | TCGA-44-2662-01A-01R-A278-07 &lt;dbl&gt; | TCGA-44-2656-01A-02R-A278-07 &lt;dbl&gt; | TCGA-44-6147-01A-11R-A278-07 &lt;dbl&gt; | TCGA-44-2666-01A-01R-A278-07 &lt;dbl&gt; | TCGA-44-3918-01A-01R-A278-07 &lt;dbl&gt; | TCGA-44-2668-01A-01R-A278-07 &lt;dbl&gt; | TCGA-44-5645-01A-01R-A278-07 &lt;dbl&gt; | TCGA-44-6775-01A-11R-A278-07 &lt;dbl&gt; | TCGA-44-6146-01A-11R-A278-07 &lt;dbl&gt; |\n",
       "|---|---|---|---|---|---|---|---|---|---|---|---|---|---|---|---|---|---|---|---|---|---|\n",
       "| ENSG00000242268.2 | 0.1522374 |  0.000000 |  0.07915873 |  0.1205325 | 0.28671522 |  0.238118817 | 0.1570054 |  0.1089609 | 0.145981603 |  0.02477072 | ⋯ |  0.00000000 | 0.000000000 | 0.000000000 | 0.1652038 | 0.15240685 | 0.10936823 | 0.00000000 | 0.163980017 | 0.04226003 | 0.4652002 |\n",
       "| ENSG00000270112.3 | 0.0000000 |  0.000000 |  0.00000000 |  0.0000000 | 0.01136647 |  0.006607948 | 0.0000000 |  0.0000000 | 0.006751804 |  0.00000000 | ⋯ |  0.00339889 | 0.009375992 | 0.007892751 | 0.0286532 | 0.03700714 | 0.03035038 | 0.04097167 | 0.009101099 | 0.00000000 | 0.0000000 |\n",
       "| ENSG00000167578.15 | 2.7564375 |  4.714069 |  3.29050578 |  4.4886630 | 3.67853575 |  3.907761432 | 3.8932327 |  3.5566587 | 4.431606462 |  4.40462072 | ⋯ |  4.25415609 | 1.029731361 | 0.989932863 | 1.0204076 | 0.88639469 | 0.78894022 | 0.98515689 | 1.585070749 | 1.26511743 | 2.1707669 |\n",
       "| ENSG00000273842.1 | 0.0000000 |  0.000000 |  0.00000000 |  0.0000000 | 0.00000000 |  0.000000000 | 0.0000000 |  0.0000000 | 0.000000000 |  0.00000000 | ⋯ |  0.00000000 | 0.000000000 | 0.000000000 | 0.0000000 | 0.00000000 | 0.00000000 | 0.00000000 | 0.000000000 | 0.00000000 | 0.0000000 |\n",
       "| ENSG00000078237.5 | 4.7840732 |  4.404867 |  3.84848095 |  2.8945932 | 3.25154379 |  4.608304089 | 3.8811196 |  3.7704388 | 4.617197390 |  2.35620945 | ⋯ |  5.04561367 | 5.586466023 | 3.366714093 | 3.4823693 | 2.97100093 | 5.64255154 | 8.47254071 | 4.906598905 | 5.42921883 | 4.1791844 |\n",
       "| ENSG00000146083.10 | 7.3599545 | 10.856777 | 10.54545271 | 12.2772744 | 9.53613948 | 13.847745102 | 7.7106042 | 11.1441717 | 9.473501088 | 10.12973738 | ⋯ | 13.64943491 | 3.822898401 | 2.094283725 | 3.9840835 | 3.79017801 | 2.51978470 | 5.55614940 | 4.558296822 | 4.08720211 | 4.1432406 |\n",
       "\n"
      ],
      "text/plain": [
       "                   TCGA-44-6147-11A-01R-1858-07 TCGA-49-6761-11A-01R-1949-07\n",
       "ENSG00000242268.2  0.1522374                     0.000000                   \n",
       "ENSG00000270112.3  0.0000000                     0.000000                   \n",
       "ENSG00000167578.15 2.7564375                     4.714069                   \n",
       "ENSG00000273842.1  0.0000000                     0.000000                   \n",
       "ENSG00000078237.5  4.7840732                     4.404867                   \n",
       "ENSG00000146083.10 7.3599545                    10.856777                   \n",
       "                   TCGA-50-5936-11A-01R-1628-07 TCGA-44-5645-11A-01R-1628-07\n",
       "ENSG00000242268.2   0.07915873                   0.1205325                  \n",
       "ENSG00000270112.3   0.00000000                   0.0000000                  \n",
       "ENSG00000167578.15  3.29050578                   4.4886630                  \n",
       "ENSG00000273842.1   0.00000000                   0.0000000                  \n",
       "ENSG00000078237.5   3.84848095                   2.8945932                  \n",
       "ENSG00000146083.10 10.54545271                  12.2772744                  \n",
       "                   TCGA-91-6835-11A-01R-1858-07 TCGA-55-6982-11A-01R-1949-07\n",
       "ENSG00000242268.2  0.28671522                    0.238118817                \n",
       "ENSG00000270112.3  0.01136647                    0.006607948                \n",
       "ENSG00000167578.15 3.67853575                    3.907761432                \n",
       "ENSG00000273842.1  0.00000000                    0.000000000                \n",
       "ENSG00000078237.5  3.25154379                    4.608304089                \n",
       "ENSG00000146083.10 9.53613948                   13.847745102                \n",
       "                   TCGA-91-6828-11A-01R-1858-07 TCGA-44-6778-11A-01R-1858-07\n",
       "ENSG00000242268.2  0.1570054                     0.1089609                  \n",
       "ENSG00000270112.3  0.0000000                     0.0000000                  \n",
       "ENSG00000167578.15 3.8932327                     3.5566587                  \n",
       "ENSG00000273842.1  0.0000000                     0.0000000                  \n",
       "ENSG00000078237.5  3.8811196                     3.7704388                  \n",
       "ENSG00000146083.10 7.7106042                    11.1441717                  \n",
       "                   TCGA-55-6978-11A-01R-1949-07 TCGA-44-2662-11A-01R-1758-07 ⋯\n",
       "ENSG00000242268.2  0.145981603                   0.02477072                  ⋯\n",
       "ENSG00000270112.3  0.006751804                   0.00000000                  ⋯\n",
       "ENSG00000167578.15 4.431606462                   4.40462072                  ⋯\n",
       "ENSG00000273842.1  0.000000000                   0.00000000                  ⋯\n",
       "ENSG00000078237.5  4.617197390                   2.35620945                  ⋯\n",
       "ENSG00000146083.10 9.473501088                  10.12973738                  ⋯\n",
       "                   TCGA-44-7672-01A-11R-2066-07 TCGA-44-2662-01A-01R-A278-07\n",
       "ENSG00000242268.2   0.00000000                  0.000000000                 \n",
       "ENSG00000270112.3   0.00339889                  0.009375992                 \n",
       "ENSG00000167578.15  4.25415609                  1.029731361                 \n",
       "ENSG00000273842.1   0.00000000                  0.000000000                 \n",
       "ENSG00000078237.5   5.04561367                  5.586466023                 \n",
       "ENSG00000146083.10 13.64943491                  3.822898401                 \n",
       "                   TCGA-44-2656-01A-02R-A278-07 TCGA-44-6147-01A-11R-A278-07\n",
       "ENSG00000242268.2  0.000000000                  0.1652038                   \n",
       "ENSG00000270112.3  0.007892751                  0.0286532                   \n",
       "ENSG00000167578.15 0.989932863                  1.0204076                   \n",
       "ENSG00000273842.1  0.000000000                  0.0000000                   \n",
       "ENSG00000078237.5  3.366714093                  3.4823693                   \n",
       "ENSG00000146083.10 2.094283725                  3.9840835                   \n",
       "                   TCGA-44-2666-01A-01R-A278-07 TCGA-44-3918-01A-01R-A278-07\n",
       "ENSG00000242268.2  0.15240685                   0.10936823                  \n",
       "ENSG00000270112.3  0.03700714                   0.03035038                  \n",
       "ENSG00000167578.15 0.88639469                   0.78894022                  \n",
       "ENSG00000273842.1  0.00000000                   0.00000000                  \n",
       "ENSG00000078237.5  2.97100093                   5.64255154                  \n",
       "ENSG00000146083.10 3.79017801                   2.51978470                  \n",
       "                   TCGA-44-2668-01A-01R-A278-07 TCGA-44-5645-01A-01R-A278-07\n",
       "ENSG00000242268.2  0.00000000                   0.163980017                 \n",
       "ENSG00000270112.3  0.04097167                   0.009101099                 \n",
       "ENSG00000167578.15 0.98515689                   1.585070749                 \n",
       "ENSG00000273842.1  0.00000000                   0.000000000                 \n",
       "ENSG00000078237.5  8.47254071                   4.906598905                 \n",
       "ENSG00000146083.10 5.55614940                   4.558296822                 \n",
       "                   TCGA-44-6775-01A-11R-A278-07 TCGA-44-6146-01A-11R-A278-07\n",
       "ENSG00000242268.2  0.04226003                   0.4652002                   \n",
       "ENSG00000270112.3  0.00000000                   0.0000000                   \n",
       "ENSG00000167578.15 1.26511743                   2.1707669                   \n",
       "ENSG00000273842.1  0.00000000                   0.0000000                   \n",
       "ENSG00000078237.5  5.42921883                   4.1791844                   \n",
       "ENSG00000146083.10 4.08720211                   4.1432406                   "
      ]
     },
     "metadata": {},
     "output_type": "display_data"
    }
   ],
   "source": [
    "head(LUAD_rpkm)"
   ]
  },
  {
   "cell_type": "code",
   "execution_count": 215,
   "metadata": {
    "collapsed": true
   },
   "outputs": [],
   "source": [
    "row.names(LUAD_rpkm) <- sapply(strsplit(row.names(LUAD_rpkm),\"\\\\.\"), function(x) x[1])"
   ]
  },
  {
   "cell_type": "code",
   "execution_count": 216,
   "metadata": {
    "collapsed": true
   },
   "outputs": [],
   "source": [
    "raw_exprSet <- as.data.frame(t(LUAD_rpkm[LUAD_self,row.names(LUAD_info[LUAD_info$Group==\"Cancer\",])]))\n",
    "name <- LUAD_info[LUAD_info$Group==\"Cancer\"&LUAD_info$name %in% row.names(LUAD_stat_sur)&LUAD_info$label==\"01\",]\n",
    "exprSet <- raw_exprSet[row.names(name),]\n",
    "row.names(exprSet) <- unname(lapply(strsplit(row.names(exprSet),\"-\"),function(x)paste(x[1],x[2],x[3],sep=\"-\")))\n",
    "exprSet <- cbind(exprSet,LUAD_stat_sur[unlist(name$name),c(\"OS\",\"vital_status\")])"
   ]
  },
  {
   "cell_type": "code",
   "execution_count": 217,
   "metadata": {
    "collapsed": true
   },
   "outputs": [],
   "source": [
    "LUAD_rpkm_sur <- as.data.frame(t(LUAD_rpkm[,row.names(name)]))\n",
    "row.names(LUAD_rpkm_sur) <- unname(lapply(strsplit(row.names(LUAD_rpkm_sur),\"-\"),function(x)paste(x[1],x[2],x[3],sep=\"-\")))\n",
    "LUAD_rpkm_sur <- cbind(LUAD_rpkm_sur,LUAD_stat_sur[unlist(name$name),c(\"OS\",\"vital_status\")])"
   ]
  },
  {
   "cell_type": "code",
   "execution_count": 218,
   "metadata": {
    "collapsed": false
   },
   "outputs": [
    {
     "name": "stderr",
     "output_type": "stream",
     "text": [
      "Loading required package: ggpubr\n",
      "Loading required package: magrittr\n",
      "\n",
      "Attaching package: 'magrittr'\n",
      "\n",
      "The following object is masked from 'package:AnnotationFilter':\n",
      "\n",
      "    not\n",
      "\n",
      "\n",
      "Attaching package: 'ggpubr'\n",
      "\n",
      "The following object is masked from 'package:dendextend':\n",
      "\n",
      "    rotate\n",
      "\n",
      "The following object is masked from 'package:VennDiagram':\n",
      "\n",
      "    rotate\n",
      "\n"
     ]
    }
   ],
   "source": [
    "#detach(\"package:WGCNA\", unload=TRUE)\n",
    "#detach(\"package:survMisc\",unload=TRUE)\n",
    "#detach(\"package:survminer\",unload=TRUE)\n",
    "#detach(\"package:genefilter\",unload=TRUE)\n",
    "#detach(\"package:Hmisc\",unload=TRUE)\n",
    "library(survival)\n",
    "library(survminer)"
   ]
  },
  {
   "cell_type": "markdown",
   "metadata": {},
   "source": [
    "##### BRCA1"
   ]
  },
  {
   "cell_type": "code",
   "execution_count": 219,
   "metadata": {
    "collapsed": false
   },
   "outputs": [
    {
     "data": {
      "text/html": [
       "<strong>png:</strong> 2"
      ],
      "text/latex": [
       "\\textbf{png:} 2"
      ],
      "text/markdown": [
       "**png:** 2"
      ],
      "text/plain": [
       "png \n",
       "  2 "
      ]
     },
     "metadata": {},
     "output_type": "display_data"
    }
   ],
   "source": [
    "my.surv <- survival::Surv(LUAD_rpkm_sur$OS, LUAD_rpkm_sur$vital_status)\n",
    "group <- as.factor(ifelse(LUAD_rpkm_sur[,\"ENSG00000012048\"]> median(LUAD_rpkm_sur[,\"ENSG00000012048\"]),\"high\",\"low\"))\n",
    "kmfit <- survival::survfit(my.surv ~ group,data = LUAD_rpkm_sur)\n",
    "data.survdiff <- survival::survdiff(my.surv ~ group)\n",
    "p.value <- 1 - pchisq(data.survdiff$chisq, length(data.survdiff$n) - 1)\n",
    "pdf(\"BRCA1.pdf\")\n",
    "survminer::ggsurvplot(kmfit, conf.int = TRUE,\n",
    "                        legend.title = \"Expression\",palette= c(\"red\",\"blue\"),\n",
    "                        pval = round(p.value,4), ggtheme = theme_bw(),xlab=c(\"Month\"))\n",
    "dev.off()\n",
    "HR = (data.survdiff$obs[2]/data.survdiff$exp[2])/(data.survdiff$obs[1]/data.survdiff$exp[1])\n",
    "up95 = exp(log(HR) + qnorm(0.975)*sqrt(1/data.survdiff$exp[2]+1/data.survdiff$exp[1]))\n",
    "low95 = exp(log(HR) - qnorm(0.975)*sqrt(1/data.survdiff$exp[2]+1/data.survdiff$exp[1]))"
   ]
  },
  {
   "cell_type": "markdown",
   "metadata": {},
   "source": [
    "##### PCNA"
   ]
  },
  {
   "cell_type": "code",
   "execution_count": 220,
   "metadata": {
    "collapsed": false
   },
   "outputs": [
    {
     "data": {
      "text/html": [
       "<strong>png:</strong> 2"
      ],
      "text/latex": [
       "\\textbf{png:} 2"
      ],
      "text/markdown": [
       "**png:** 2"
      ],
      "text/plain": [
       "png \n",
       "  2 "
      ]
     },
     "metadata": {},
     "output_type": "display_data"
    }
   ],
   "source": [
    "my.surv <- survival::Surv(LUAD_rpkm_sur$OS, LUAD_rpkm_sur$vital_status)\n",
    "group <- as.factor(ifelse(LUAD_rpkm_sur[,\"ENSG00000132646\"]> median(LUAD_rpkm_sur[,\"ENSG00000132646\"]),\"high\",\"low\"))\n",
    "kmfit <- survival::survfit(my.surv ~ group,data = LUAD_rpkm_sur)\n",
    "data.survdiff <- survival::survdiff(my.surv ~ group)\n",
    "p.value <- 1 - pchisq(data.survdiff$chisq, length(data.survdiff$n) - 1)\n",
    "pdf(\"PCNA.pdf\")\n",
    "survminer::ggsurvplot(kmfit, conf.int = TRUE,\n",
    "                        legend.title = \"Expression\",palette= c(\"red\",\"blue\"),\n",
    "                        pval = round(p.value,4), ggtheme = theme_bw(),xlab=c(\"Month\"))\n",
    "dev.off()\n",
    "HR = (data.survdiff$obs[2]/data.survdiff$exp[2])/(data.survdiff$obs[1]/data.survdiff$exp[1])\n",
    "up95 = exp(log(HR) + qnorm(0.975)*sqrt(1/data.survdiff$exp[2]+1/data.survdiff$exp[1]))\n",
    "low95 = exp(log(HR) - qnorm(0.975)*sqrt(1/data.survdiff$exp[2]+1/data.survdiff$exp[1]))"
   ]
  },
  {
   "cell_type": "code",
   "execution_count": 221,
   "metadata": {
    "collapsed": false
   },
   "outputs": [],
   "source": [
    "options(scipen=10)\n",
    "log_rank_p <- apply(exprSet[,1:(ncol(exprSet)-2)], 2, function(value){\n",
    "  group <- as.factor(ifelse(value > median(value),\"high\",\"low\"))\n",
    "  kmfit <- survival::survfit(my.surv ~ group,data = exprSet)\n",
    "  data.survdiff <- survival::survdiff(my.surv ~ group)\n",
    "  p.value <- 1 - pchisq(data.survdiff$chisq, length(data.survdiff$n) - 1)\n",
    "HR = (data.survdiff$obs[2]/data.survdiff$exp[2])/(data.survdiff$obs[1]/data.survdiff$exp[1])\n",
    "    up95 = exp(log(HR) + qnorm(0.975)*sqrt(1/data.survdiff$exp[2]+1/data.survdiff$exp[1]))\n",
    "    low95 = exp(log(HR) - qnorm(0.975)*sqrt(1/data.survdiff$exp[2]+1/data.survdiff$exp[1]))\n",
    "  gg <- survminer::ggsurvplot(kmfit, conf.int = F,\n",
    "                        legend.title = \"Expression\",palette= c(\"red\",\"blue\"),\n",
    "                        pval = round(p.value,4), ggtheme = theme_bw(),xlab=c(\"Month\"))\n",
    " return(list(list(p.value,HR,low95,up95),gg))\n",
    "})"
   ]
  },
  {
   "cell_type": "code",
   "execution_count": 222,
   "metadata": {
    "collapsed": false
   },
   "outputs": [],
   "source": [
    "data <- data.frame()\n",
    "#pdf(\"surival.pdf\",paper='a4r')\n",
    "for (i in names(log_rank_p)){\n",
    "    p <- log_rank_p[i][[1]][[1]][1]\n",
    "    HR <- log_rank_p[i][[1]][[1]][2]\n",
    "    low95 <- log_rank_p[i][[1]][[1]][3]\n",
    "    up95 <- log_rank_p[i][[1]][[1]][4]\n",
    "    if (p<0.05){\n",
    "    #gg <- log_rank_p[i][[1]][[2]]\n",
    "    title <- unname(mapIds(x = ensdb,keys =i,\n",
    "                column = \"GENENAME\",keytype = \"GENEID\",multiVals = \"first\"))\n",
    "    #print(gg+ggtitle(title))\n",
    "    data[i,\"ID\"] <- title\n",
    "    data[i,\"p\"] <- p\n",
    "    data[i,\"HR\"] <- HR\n",
    "    data[i,\"low95\"] <- low95\n",
    "    data[i,\"up95\"] <- up95\n",
    "    }\n",
    "    \n",
    "}\n",
    "#dev.off()"
   ]
  },
  {
   "cell_type": "code",
   "execution_count": 223,
   "metadata": {
    "collapsed": false
   },
   "outputs": [],
   "source": [
    "write.table(data,\"survival.table.csv\",sep=\",\",quote=FALSE)"
   ]
  },
  {
   "cell_type": "code",
   "execution_count": 224,
   "metadata": {
    "collapsed": true
   },
   "outputs": [],
   "source": [
    "datas <- cbind(data,LUAD_results_sig[row.names(data),\"log2FoldChange\"])\n",
    "datas <- cbind(datas,C_N_results_sig[row.names(data),c(\"log2FoldChange\",\"description\")])\n",
    "datas <- cbind(datas,T_N_results_sig[row.names(data),c(\"log2FoldChange\")])"
   ]
  },
  {
   "cell_type": "code",
   "execution_count": 225,
   "metadata": {
    "collapsed": false
   },
   "outputs": [],
   "source": [
    "write.table(datas,\"KM.xls\",sep = \"\\t\",quote = F)"
   ]
  },
  {
   "cell_type": "code",
   "execution_count": 226,
   "metadata": {
    "collapsed": false
   },
   "outputs": [],
   "source": [
    "name <- unname(mapIds(x = ensdb,keys =LUAD_self,\n",
    "                column = \"GENENAME\",keytype = \"GENEID\",multiVals = \"first\"))\n",
    "mat <- rpkmdata[LUAD_self,orders]\n",
    "row.names(mat) <- name\n",
    "# Choose which column variables you want to annotate the columns by.\n",
    "annotation_col = data.frame(\n",
    "  Group = as.character(metadata$Group), \n",
    "  row.names = as.character(metadata$sampleid)\n",
    ")\n",
    "\n",
    "# Specify colors you want to annotate the columns by.\n",
    "ann_colors = list(\n",
    "  Group = c(Control = \"lightblue\", Cancer = \"pink\",TB=\"darkgreen\")\n",
    ")\n",
    "# Make Heatmap with pheatmap function.\n",
    "## See more in documentation for customization\n",
    "pheatmap(mat = mat, \n",
    "         color = colorRampPalette(c(\"blue\",\"white\",\"red\"))(255), \n",
    "         #color = colorRampPalette(rev(c(\"#D73027\", \"#FC8D59\", \"#FEE090\", \"#FFFFBF\", \n",
    "         #\"#E0F3F8\", \"#91BFDB\", \"#4575B4\")))(75),\n",
    "         scale = \"row\", # Scale genes to Z-score (how many standard deviations)\n",
    "         annotation_col = annotation_col, # Add multiple annotations to the samples\n",
    "         annotation_colors = ann_colors,# Change the default colors of the annotations\n",
    "         #fontsize = 6.5, # Make fonts smaller\n",
    "         #cellwidth = 55, # Make the cells wider\n",
    "         #cluster_cols=F,\n",
    "         cluster_rows=hclust(dist(cor(t(mat)),method = \"manhattan\")),\n",
    "         #cluster_rows=F,\n",
    "         #show_rownames=T,\n",
    "         height=15,fontsize = 4,filename=\"T_N-C_N_intersect.pdf\",\n",
    "         width=15)"
   ]
  },
  {
   "cell_type": "code",
   "execution_count": 227,
   "metadata": {
    "collapsed": true
   },
   "outputs": [],
   "source": [
    "# Convert all samples to rlog\n",
    "LUAD_ddsMat_rlog <- vst(LUAD_ddss, blind = FALSE)"
   ]
  },
  {
   "cell_type": "code",
   "execution_count": 228,
   "metadata": {
    "collapsed": false
   },
   "outputs": [
    {
     "data": {
      "image/png": "[encoded data removed]",
      "text/plain": [
       "plot without title"
      ]
     },
     "metadata": {},
     "output_type": "display_data"
    }
   ],
   "source": [
    "pcaData <- plotPCA(LUAD_ddsMat_rlog, intgroup = c(\"Group\"), ntop = 2000,returnData = F) \n",
    "ggplot(pcaData$data, aes(PC1, PC2, fill=Group,labels=Group))+\n",
    "    theme_bw() + # remove default ggplot2 theme\n",
    "    #geom_point(aes(shape=group),size = 5) + # Increase point size\n",
    "    #geom_point(colour=\"black\",size = 4,stroke = 4) + # Increase point size\n",
    "    geom_point(size = 4, alpha = 1, shape = 21, colour = \"black\")+\n",
    "    #scale_x_continuous(limits = c(-200, 200)) + # change limits to fix figure dimensions\n",
    "    scale_shape_manual(values=seq(1,30))+\n",
    "    xlab(pcaData$labels$x)+ylab(pcaData$labels$y)"
   ]
  },
  {
   "cell_type": "markdown",
   "metadata": {},
   "source": [
    "### For TB"
   ]
  },
  {
   "cell_type": "code",
   "execution_count": 229,
   "metadata": {
    "collapsed": false
   },
   "outputs": [],
   "source": [
    "LUAD_self <- intersect(row.names(T_N_results_sig),row.names(LUAD_results_sig))"
   ]
  },
  {
   "cell_type": "code",
   "execution_count": 230,
   "metadata": {
    "collapsed": true
   },
   "outputs": [],
   "source": [
    "exprSet <- as.data.frame(t(LUAD_rpkm[LUAD_self,row.names(LUAD_info[LUAD_info$Group==\"Cancer\",])]))\n",
    "name <- LUAD_info[LUAD_info$Group==\"Cancer\"&LUAD_info$name %in% row.names(LUAD_stat_sur)&LUAD_info$label==\"01\",]\n",
    "exprSet <- exprSet[row.names(name),]\n",
    "row.names(exprSet) <- unname(lapply(strsplit(row.names(exprSet),\"-\"),function(x)paste(x[1],x[2],x[3],sep=\"-\")))\n",
    "exprSet <- cbind(exprSet,LUAD_stat_sur[unlist(name$name),c(\"OS\",\"vital_status\")])"
   ]
  },
  {
   "cell_type": "code",
   "execution_count": 232,
   "metadata": {
    "collapsed": true
   },
   "outputs": [],
   "source": [
    "options(scipen=10)\n",
    "exprSet_data <- exprSet[,1:(ncol(exprSet)-2)]\n",
    "log_rank_p <- apply(exprSet_data, 2, function(value){\n",
    "    group <- ifelse(value > median(value),\"high\",\"low\")\n",
    "    my.surv <- Surv(exprSet$OS, exprSet$vital_status)\n",
    "    kmfit <- survfit(my.surv ~ group,data = exprSet)\n",
    "    data.survdiff <- survdiff(my.surv ~ group)\n",
    "    p.value <- 1 - pchisq(data.survdiff$chisq, length(data.survdiff$n) - 1)\n",
    "    HR = (data.survdiff$obs[2]/data.survdiff$exp[2])/(data.survdiff$obs[1]/data.survdiff$exp[1])\n",
    "    up95 = exp(log(HR) + qnorm(0.975)*sqrt(1/data.survdiff$exp[2]+1/data.survdiff$exp[1]))\n",
    "    low95 = exp(log(HR) - qnorm(0.975)*sqrt(1/data.survdiff$exp[2]+1/data.survdiff$exp[1]))\n",
    "    gg <- ggsurvplot(kmfit, conf.int = TRUE,legend.title = \"Expression\",palette= c(\"red\",\"blue\"),\n",
    "                    pval = round(p.value,4), ggtheme = theme_bw(),xlab=c(\"Month\"))\n",
    "    return(list(p.value,gg))\n",
    "})"
   ]
  },
  {
   "cell_type": "code",
   "execution_count": 233,
   "metadata": {
    "collapsed": false
   },
   "outputs": [
    {
     "data": {
      "text/html": [
       "<strong>png:</strong> 2"
      ],
      "text/latex": [
       "\\textbf{png:} 2"
      ],
      "text/markdown": [
       "**png:** 2"
      ],
      "text/plain": [
       "png \n",
       "  2 "
      ]
     },
     "metadata": {},
     "output_type": "display_data"
    }
   ],
   "source": [
    "data <- data.frame()\n",
    "pdf(\"surival-TB.pdf\",paper='a4r')\n",
    "for (i in names(log_rank_p)){\n",
    "    p <- log_rank_p[i][[1]][[1]]\n",
    "    if (p<0.05){\n",
    "    gg <- log_rank_p[i][[1]][[2]]\n",
    "    title <- unname(mapIds(x = ensdb,keys =i,\n",
    "                column = \"GENENAME\",keytype = \"GENEID\",multiVals = \"first\"))\n",
    "    print(gg+ggtitle(title))\n",
    "    data[i,\"ID\"] <- title\n",
    "    data[i,\"p\"] <- p\n",
    "    }\n",
    "    \n",
    "}\n",
    "dev.off()"
   ]
  },
  {
   "cell_type": "code",
   "execution_count": 234,
   "metadata": {
    "collapsed": true
   },
   "outputs": [],
   "source": [
    "datas <- cbind(data,LUAD_results_sig[row.names(data),\"log2FoldChange\"])\n",
    "datas <- cbind(datas,T_N_results_sig[row.names(data),c(\"log2FoldChange\",\"description\")])\n",
    "datas <- cbind(datas,T_N_results_sig[row.names(data),c(\"log2FoldChange\")])"
   ]
  },
  {
   "cell_type": "code",
   "execution_count": 235,
   "metadata": {
    "collapsed": true
   },
   "outputs": [],
   "source": [
    "write.table(datas,\"KM-TB.xls\",sep = \"\\t\",quote = F)"
   ]
  },
  {
   "cell_type": "code",
   "execution_count": 236,
   "metadata": {
    "collapsed": true
   },
   "outputs": [],
   "source": [
    "T_TCGA_genes <- unname(mapIds(x = ensdb,keys =row.names(datas),\n",
    "                column = \"ENTREZID\",keytype = \"GENEID\",multiVals = \"first\"))\n",
    "T_TCGA_BP <- enrichGO(gene = T_TCGA_genes,\n",
    "                 OrgDb         = org.Hs.eg.db,\n",
    "                 keyType       = 'ENTREZID',\n",
    "                 ont           = \"BP\",\n",
    "                 pAdjustMethod = \"BH\",\n",
    "                 qvalueCutoff  = 0.1)\n",
    "T_TCGA_CC <- enrichGO(gene = T_TCGA_genes,\n",
    "                 OrgDb         = org.Hs.eg.db,\n",
    "                 keyType       = 'ENTREZID',\n",
    "                 ont           = \"CC\",\n",
    "                 pAdjustMethod = \"BH\",\n",
    "                 qvalueCutoff  = 0.1)\n",
    "T_TCGA_MF <- enrichGO(gene = T_TCGA_genes,\n",
    "                 OrgDb         = org.Hs.eg.db,\n",
    "                 keyType       = 'ENTREZID',\n",
    "                 ont           = \"MF\",\n",
    "                 pAdjustMethod = \"BH\",\n",
    "                 qvalueCutoff  = 0.1)"
   ]
  },
  {
   "cell_type": "code",
   "execution_count": 237,
   "metadata": {
    "collapsed": true
   },
   "outputs": [],
   "source": [
    "T_TCGA_KEGG <- enrichKEGG(gene = T_TCGA_genes,\n",
    "                       organism     = 'hsa',\n",
    "                       pAdjustMethod = \"BH\",\n",
    "                       pvalueCutoff = 0.5,\n",
    "                       qvalueCutoff  = 1, use_internal_data=F)"
   ]
  },
  {
   "cell_type": "code",
   "execution_count": 238,
   "metadata": {
    "collapsed": true
   },
   "outputs": [],
   "source": [
    "T_TCGA_reactome <- enrichPathway(gene=T_TCGA_genes,qvalueCutoff=1, organism = \"human\")"
   ]
  },
  {
   "cell_type": "code",
   "execution_count": 239,
   "metadata": {
    "collapsed": false
   },
   "outputs": [],
   "source": [
    "KM_data <- read.table(\"KM.xls\",row.names=1,stringsAsFactors = F,header=F,skip=1,sep=\"\\t\")\n",
    "T_TCGA_expr <- KM_data[,c(3,4,6)]\n",
    "row.names(T_TCGA_expr)<- KM_data[,1]\n",
    "colnames(T_TCGA_expr) <- c(\"LUAD\",\"TB\",\"Cancer\")"
   ]
  },
  {
   "cell_type": "code",
   "execution_count": 241,
   "metadata": {
    "collapsed": false
   },
   "outputs": [],
   "source": [
    "test <- t(apply(as.matrix(T_TCGA_expr[,c(\"TB\",\"Cancer\",\"LUAD\")]),1,scale,center=F))\n",
    "pheatmap(mat = test , \n",
    "         color = colorRampPalette(c(\"blue\",\"white\",\"red\"))(255),\n",
    "         scale = \"none\", # Scale genes to Z-score (how many standard deviations)\n",
    "         #cluster_rows=hclust(dist(cor(t(mat)),method = \"manhattan\")),\n",
    "         cluster_cols=F,\n",
    "         show_rownames=T,display_numbers = F,\n",
    "         fontsize = 8,filename=\"T_TCGA_heatmap.pdf\",cellwidth=12,cellheight=8,\n",
    "         )"
   ]
  }
 ],
 "metadata": {
  "anaconda-cloud": {},
  "kernelspec": {
   "display_name": "R3.4",
   "language": "R",
   "name": "ir34"
  },
  "language_info": {
   "codemirror_mode": "r",
   "file_extension": ".r",
   "mimetype": "text/x-r-source",
   "name": "R",
   "pygments_lexer": "r",
   "version": "3.4.4"
  }
 },
 "nbformat": 4,
 "nbformat_minor": 1
}
